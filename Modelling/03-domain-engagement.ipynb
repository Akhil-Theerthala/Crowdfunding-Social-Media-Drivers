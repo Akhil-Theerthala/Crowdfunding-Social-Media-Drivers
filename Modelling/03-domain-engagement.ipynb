{
 "cells": [
  {
   "cell_type": "code",
   "execution_count": 47,
   "metadata": {
    "ExecuteTime": {
     "end_time": "2024-03-17T01:39:57.039090Z",
     "start_time": "2024-03-17T01:39:56.960651Z"
    }
   },
   "outputs": [
    {
     "data": {
      "text/plain": "   collected  goal_amount  num_backers    category  pledge_types  donate  \\\n2  12.960635    10.819778     6.823286      design           4.0     0.0   \n4  11.866416     9.903488     6.954639      comics           8.0     0.0   \n5  10.374272    10.308953     5.318120  film_Video          13.0     0.0   \n6   9.542446     8.804775     5.556828      comics          16.0     0.0   \n8  11.346304     9.210340     7.051856       games          27.0     0.0   \n\n   project_we_love  success  start_month  start_day  population country  \\\n2              1.0        1            6          1    684451.0      WA   \n4              1.0        1            6          1    105319.0      CA   \n5              1.0        1            6          1   8175133.0      NY   \n6              1.0        1            6          1   3971883.0      CA   \n8              1.0        1            6          4    621849.0      MD   \n\n   Person  Team  num_projects  num_backed            verified fb_page_name  \\\n2       0     1             7          16         Marc Barros  Kickstarter   \n4       1     0             3          88         Adam Lawson  Kickstarter   \n5       1     0             1           2     Julia Greenberg  Kickstarter   \n6       0     1             4          23   Donold Wooldridge  Kickstarter   \n8       1     0             5          21     Amanda Coronado  Kickstarter   \n\n   fb_likes_at_posting  fb_followers_at_posting  fb_likes  fb_comments  \\\n2              1589901                  1588019        10            2   \n4              1589930                  1588019         4            1   \n5              1589715                  1587803         3            1   \n6              1589715                  1587803         3            5   \n8              1589543                  1587618         9            3   \n\n   fb_shares  fb_post_views  fb_readability  fb_readability_lix  \\\n2          1             12        4.836818           33.727273   \n4          0              5        6.933333           29.111111   \n5          0              4       15.900000           61.666667   \n6          1              5       14.239500           45.000000   \n8          1             11        3.083867           20.333333   \n\n   fb_entropy_scores  fb_perplexity_scores   fb_fear  fb_anger  fb_anticip  \\\n2           0.719996              2.054425  0.000024  0.000011    0.000037   \n4           0.625279              1.868768  0.000057  0.000018    0.000070   \n5           0.284582              1.329206  0.285714  0.000047    0.000050   \n6           0.570874              1.769813  0.200000  0.200000    0.000072   \n8           0.466686              1.594701  0.000036  0.000051    0.000068   \n\n   fb_trust  fb_surprise  fb_positive  fb_negative  fb_sadness  fb_disgust  \\\n2  0.000062     0.000093     1.000000     0.000029    0.000020    0.000028   \n4  0.000098     0.000096     0.000032     0.000036    0.000013    0.000020   \n5  0.000100     0.000088     0.285714     0.142857    0.000096    0.000082   \n6  0.000028     0.000076     0.000049     0.400000    0.200000    0.000072   \n8  0.000010     0.000083     1.000000     0.000015    0.000030    0.000068   \n\n     fb_joy fb_entities_identified  fb_post_sponsored  fb_post_age  \\\n2  0.000062                PRODUCT                  0            2   \n4  0.000074        CARDINAL,PERSON                  0            8   \n5  0.142857             PERSON,GPE                  0            9   \n6  0.000036            WORK_OF_ART                  0           10   \n8  0.000067        PERSON,CARDINAL                  0           14   \n\n   fb_page_age  fb_positive_reactions  fb_negative_reactions  fb_topic_0  \\\n2         4839                      2                      0    0.000064   \n4         4839                      0                      1    0.000026   \n5         4839                      0                      1    0.000019   \n6         4839                      1                      1    0.000043   \n8         4839                      1                      1    0.000018   \n\n   fb_topic_1  fb_topic_2  fb_topic_3  fb_topic_4  fb_topic_5  fb_topic_6  \\\n2    0.000036    0.000074    0.242741    0.000100    0.000050    0.450027   \n4    0.000060    0.939369    0.000080    0.000065    0.000032    0.000011   \n5    0.154496    0.000084    0.081168    0.000079    0.126198    0.000052   \n6    0.000028    0.162778    0.000097    0.000045    0.000027    0.059113   \n8    0.000018    0.073925    0.798958    0.000098    0.000041    0.000093   \n\n   fb_topic_7  fb_topic_8  fb_topic_9  fb_topic_10  collection_ratio  \\\n2    0.075764    0.085070    0.000038     0.116083          8.506720   \n4    0.000050    0.000082    0.000096     0.000015          7.120150   \n5    0.156902    0.294644    0.163853     0.000095          1.067500   \n6    0.062181    0.060710    0.626484     0.000060          2.091059   \n8    0.000046    0.000022    0.000042     0.102862          8.465200   \n\n          region  fb_type_link  fb_type_photo  fb_type_video  \\\n2  North America             1              0              0   \n4  North America             1              0              0   \n5  North America             1              0              0   \n6  North America             1              0              0   \n8  North America             1              0              0   \n\n   duration_<1 week  duration_1-2 weeks  duration_2 weeks - 1 month  \\\n2                 0                   0                           1   \n4                 0                   0                           0   \n5                 0                   0                           1   \n6                 0                   0                           0   \n8                 0                   0                           1   \n\n   duration_1-2 months  fb_entity_ORG  fb_entity_PERSON  fb_entity_DATE  \\\n2                    0              0                 0               0   \n4                    1              0                 1               0   \n5                    0              0                 1               0   \n6                    1              0                 0               0   \n8                    0              0                 1               0   \n\n   fb_entity_CARDINAL  fb_entity_GPE  fb_entity_PRODUCT  \\\n2                   0              0                  1   \n4                   1              0                  0   \n5                   0              1                  0   \n6                   0              0                  0   \n8                   1              0                  0   \n\n   fb_entity_WORK_OF_ART  fb_entity_ORDINAL  fb_entity_MONEY  fb_entity_TIME  \\\n2                      0                  0                0               0   \n4                      0                  0                0               0   \n5                      0                  0                0               0   \n6                      1                  0                0               0   \n8                      0                  0                0               0   \n\n   fb_entity_NORP  \n2               0  \n4               0  \n5               0  \n6               0  \n8               0  ",
      "text/html": "<div>\n<style scoped>\n    .dataframe tbody tr th:only-of-type {\n        vertical-align: middle;\n    }\n\n    .dataframe tbody tr th {\n        vertical-align: top;\n    }\n\n    .dataframe thead th {\n        text-align: right;\n    }\n</style>\n<table border=\"1\" class=\"dataframe\">\n  <thead>\n    <tr style=\"text-align: right;\">\n      <th></th>\n      <th>collected</th>\n      <th>goal_amount</th>\n      <th>num_backers</th>\n      <th>category</th>\n      <th>pledge_types</th>\n      <th>donate</th>\n      <th>project_we_love</th>\n      <th>success</th>\n      <th>start_month</th>\n      <th>start_day</th>\n      <th>population</th>\n      <th>country</th>\n      <th>Person</th>\n      <th>Team</th>\n      <th>num_projects</th>\n      <th>num_backed</th>\n      <th>verified</th>\n      <th>fb_page_name</th>\n      <th>fb_likes_at_posting</th>\n      <th>fb_followers_at_posting</th>\n      <th>fb_likes</th>\n      <th>fb_comments</th>\n      <th>fb_shares</th>\n      <th>fb_post_views</th>\n      <th>fb_readability</th>\n      <th>fb_readability_lix</th>\n      <th>fb_entropy_scores</th>\n      <th>fb_perplexity_scores</th>\n      <th>fb_fear</th>\n      <th>fb_anger</th>\n      <th>fb_anticip</th>\n      <th>fb_trust</th>\n      <th>fb_surprise</th>\n      <th>fb_positive</th>\n      <th>fb_negative</th>\n      <th>fb_sadness</th>\n      <th>fb_disgust</th>\n      <th>fb_joy</th>\n      <th>fb_entities_identified</th>\n      <th>fb_post_sponsored</th>\n      <th>fb_post_age</th>\n      <th>fb_page_age</th>\n      <th>fb_positive_reactions</th>\n      <th>fb_negative_reactions</th>\n      <th>fb_topic_0</th>\n      <th>fb_topic_1</th>\n      <th>fb_topic_2</th>\n      <th>fb_topic_3</th>\n      <th>fb_topic_4</th>\n      <th>fb_topic_5</th>\n      <th>fb_topic_6</th>\n      <th>fb_topic_7</th>\n      <th>fb_topic_8</th>\n      <th>fb_topic_9</th>\n      <th>fb_topic_10</th>\n      <th>collection_ratio</th>\n      <th>region</th>\n      <th>fb_type_link</th>\n      <th>fb_type_photo</th>\n      <th>fb_type_video</th>\n      <th>duration_&lt;1 week</th>\n      <th>duration_1-2 weeks</th>\n      <th>duration_2 weeks - 1 month</th>\n      <th>duration_1-2 months</th>\n      <th>fb_entity_ORG</th>\n      <th>fb_entity_PERSON</th>\n      <th>fb_entity_DATE</th>\n      <th>fb_entity_CARDINAL</th>\n      <th>fb_entity_GPE</th>\n      <th>fb_entity_PRODUCT</th>\n      <th>fb_entity_WORK_OF_ART</th>\n      <th>fb_entity_ORDINAL</th>\n      <th>fb_entity_MONEY</th>\n      <th>fb_entity_TIME</th>\n      <th>fb_entity_NORP</th>\n    </tr>\n  </thead>\n  <tbody>\n    <tr>\n      <th>2</th>\n      <td>12.960635</td>\n      <td>10.819778</td>\n      <td>6.823286</td>\n      <td>design</td>\n      <td>4.0</td>\n      <td>0.0</td>\n      <td>1.0</td>\n      <td>1</td>\n      <td>6</td>\n      <td>1</td>\n      <td>684451.0</td>\n      <td>WA</td>\n      <td>0</td>\n      <td>1</td>\n      <td>7</td>\n      <td>16</td>\n      <td>Marc Barros</td>\n      <td>Kickstarter</td>\n      <td>1589901</td>\n      <td>1588019</td>\n      <td>10</td>\n      <td>2</td>\n      <td>1</td>\n      <td>12</td>\n      <td>4.836818</td>\n      <td>33.727273</td>\n      <td>0.719996</td>\n      <td>2.054425</td>\n      <td>0.000024</td>\n      <td>0.000011</td>\n      <td>0.000037</td>\n      <td>0.000062</td>\n      <td>0.000093</td>\n      <td>1.000000</td>\n      <td>0.000029</td>\n      <td>0.000020</td>\n      <td>0.000028</td>\n      <td>0.000062</td>\n      <td>PRODUCT</td>\n      <td>0</td>\n      <td>2</td>\n      <td>4839</td>\n      <td>2</td>\n      <td>0</td>\n      <td>0.000064</td>\n      <td>0.000036</td>\n      <td>0.000074</td>\n      <td>0.242741</td>\n      <td>0.000100</td>\n      <td>0.000050</td>\n      <td>0.450027</td>\n      <td>0.075764</td>\n      <td>0.085070</td>\n      <td>0.000038</td>\n      <td>0.116083</td>\n      <td>8.506720</td>\n      <td>North America</td>\n      <td>1</td>\n      <td>0</td>\n      <td>0</td>\n      <td>0</td>\n      <td>0</td>\n      <td>1</td>\n      <td>0</td>\n      <td>0</td>\n      <td>0</td>\n      <td>0</td>\n      <td>0</td>\n      <td>0</td>\n      <td>1</td>\n      <td>0</td>\n      <td>0</td>\n      <td>0</td>\n      <td>0</td>\n      <td>0</td>\n    </tr>\n    <tr>\n      <th>4</th>\n      <td>11.866416</td>\n      <td>9.903488</td>\n      <td>6.954639</td>\n      <td>comics</td>\n      <td>8.0</td>\n      <td>0.0</td>\n      <td>1.0</td>\n      <td>1</td>\n      <td>6</td>\n      <td>1</td>\n      <td>105319.0</td>\n      <td>CA</td>\n      <td>1</td>\n      <td>0</td>\n      <td>3</td>\n      <td>88</td>\n      <td>Adam Lawson</td>\n      <td>Kickstarter</td>\n      <td>1589930</td>\n      <td>1588019</td>\n      <td>4</td>\n      <td>1</td>\n      <td>0</td>\n      <td>5</td>\n      <td>6.933333</td>\n      <td>29.111111</td>\n      <td>0.625279</td>\n      <td>1.868768</td>\n      <td>0.000057</td>\n      <td>0.000018</td>\n      <td>0.000070</td>\n      <td>0.000098</td>\n      <td>0.000096</td>\n      <td>0.000032</td>\n      <td>0.000036</td>\n      <td>0.000013</td>\n      <td>0.000020</td>\n      <td>0.000074</td>\n      <td>CARDINAL,PERSON</td>\n      <td>0</td>\n      <td>8</td>\n      <td>4839</td>\n      <td>0</td>\n      <td>1</td>\n      <td>0.000026</td>\n      <td>0.000060</td>\n      <td>0.939369</td>\n      <td>0.000080</td>\n      <td>0.000065</td>\n      <td>0.000032</td>\n      <td>0.000011</td>\n      <td>0.000050</td>\n      <td>0.000082</td>\n      <td>0.000096</td>\n      <td>0.000015</td>\n      <td>7.120150</td>\n      <td>North America</td>\n      <td>1</td>\n      <td>0</td>\n      <td>0</td>\n      <td>0</td>\n      <td>0</td>\n      <td>0</td>\n      <td>1</td>\n      <td>0</td>\n      <td>1</td>\n      <td>0</td>\n      <td>1</td>\n      <td>0</td>\n      <td>0</td>\n      <td>0</td>\n      <td>0</td>\n      <td>0</td>\n      <td>0</td>\n      <td>0</td>\n    </tr>\n    <tr>\n      <th>5</th>\n      <td>10.374272</td>\n      <td>10.308953</td>\n      <td>5.318120</td>\n      <td>film_Video</td>\n      <td>13.0</td>\n      <td>0.0</td>\n      <td>1.0</td>\n      <td>1</td>\n      <td>6</td>\n      <td>1</td>\n      <td>8175133.0</td>\n      <td>NY</td>\n      <td>1</td>\n      <td>0</td>\n      <td>1</td>\n      <td>2</td>\n      <td>Julia Greenberg</td>\n      <td>Kickstarter</td>\n      <td>1589715</td>\n      <td>1587803</td>\n      <td>3</td>\n      <td>1</td>\n      <td>0</td>\n      <td>4</td>\n      <td>15.900000</td>\n      <td>61.666667</td>\n      <td>0.284582</td>\n      <td>1.329206</td>\n      <td>0.285714</td>\n      <td>0.000047</td>\n      <td>0.000050</td>\n      <td>0.000100</td>\n      <td>0.000088</td>\n      <td>0.285714</td>\n      <td>0.142857</td>\n      <td>0.000096</td>\n      <td>0.000082</td>\n      <td>0.142857</td>\n      <td>PERSON,GPE</td>\n      <td>0</td>\n      <td>9</td>\n      <td>4839</td>\n      <td>0</td>\n      <td>1</td>\n      <td>0.000019</td>\n      <td>0.154496</td>\n      <td>0.000084</td>\n      <td>0.081168</td>\n      <td>0.000079</td>\n      <td>0.126198</td>\n      <td>0.000052</td>\n      <td>0.156902</td>\n      <td>0.294644</td>\n      <td>0.163853</td>\n      <td>0.000095</td>\n      <td>1.067500</td>\n      <td>North America</td>\n      <td>1</td>\n      <td>0</td>\n      <td>0</td>\n      <td>0</td>\n      <td>0</td>\n      <td>1</td>\n      <td>0</td>\n      <td>0</td>\n      <td>1</td>\n      <td>0</td>\n      <td>0</td>\n      <td>1</td>\n      <td>0</td>\n      <td>0</td>\n      <td>0</td>\n      <td>0</td>\n      <td>0</td>\n      <td>0</td>\n    </tr>\n    <tr>\n      <th>6</th>\n      <td>9.542446</td>\n      <td>8.804775</td>\n      <td>5.556828</td>\n      <td>comics</td>\n      <td>16.0</td>\n      <td>0.0</td>\n      <td>1.0</td>\n      <td>1</td>\n      <td>6</td>\n      <td>1</td>\n      <td>3971883.0</td>\n      <td>CA</td>\n      <td>0</td>\n      <td>1</td>\n      <td>4</td>\n      <td>23</td>\n      <td>Donold Wooldridge</td>\n      <td>Kickstarter</td>\n      <td>1589715</td>\n      <td>1587803</td>\n      <td>3</td>\n      <td>5</td>\n      <td>1</td>\n      <td>5</td>\n      <td>14.239500</td>\n      <td>45.000000</td>\n      <td>0.570874</td>\n      <td>1.769813</td>\n      <td>0.200000</td>\n      <td>0.200000</td>\n      <td>0.000072</td>\n      <td>0.000028</td>\n      <td>0.000076</td>\n      <td>0.000049</td>\n      <td>0.400000</td>\n      <td>0.200000</td>\n      <td>0.000072</td>\n      <td>0.000036</td>\n      <td>WORK_OF_ART</td>\n      <td>0</td>\n      <td>10</td>\n      <td>4839</td>\n      <td>1</td>\n      <td>1</td>\n      <td>0.000043</td>\n      <td>0.000028</td>\n      <td>0.162778</td>\n      <td>0.000097</td>\n      <td>0.000045</td>\n      <td>0.000027</td>\n      <td>0.059113</td>\n      <td>0.062181</td>\n      <td>0.060710</td>\n      <td>0.626484</td>\n      <td>0.000060</td>\n      <td>2.091059</td>\n      <td>North America</td>\n      <td>1</td>\n      <td>0</td>\n      <td>0</td>\n      <td>0</td>\n      <td>0</td>\n      <td>0</td>\n      <td>1</td>\n      <td>0</td>\n      <td>0</td>\n      <td>0</td>\n      <td>0</td>\n      <td>0</td>\n      <td>0</td>\n      <td>1</td>\n      <td>0</td>\n      <td>0</td>\n      <td>0</td>\n      <td>0</td>\n    </tr>\n    <tr>\n      <th>8</th>\n      <td>11.346304</td>\n      <td>9.210340</td>\n      <td>7.051856</td>\n      <td>games</td>\n      <td>27.0</td>\n      <td>0.0</td>\n      <td>1.0</td>\n      <td>1</td>\n      <td>6</td>\n      <td>4</td>\n      <td>621849.0</td>\n      <td>MD</td>\n      <td>1</td>\n      <td>0</td>\n      <td>5</td>\n      <td>21</td>\n      <td>Amanda Coronado</td>\n      <td>Kickstarter</td>\n      <td>1589543</td>\n      <td>1587618</td>\n      <td>9</td>\n      <td>3</td>\n      <td>1</td>\n      <td>11</td>\n      <td>3.083867</td>\n      <td>20.333333</td>\n      <td>0.466686</td>\n      <td>1.594701</td>\n      <td>0.000036</td>\n      <td>0.000051</td>\n      <td>0.000068</td>\n      <td>0.000010</td>\n      <td>0.000083</td>\n      <td>1.000000</td>\n      <td>0.000015</td>\n      <td>0.000030</td>\n      <td>0.000068</td>\n      <td>0.000067</td>\n      <td>PERSON,CARDINAL</td>\n      <td>0</td>\n      <td>14</td>\n      <td>4839</td>\n      <td>1</td>\n      <td>1</td>\n      <td>0.000018</td>\n      <td>0.000018</td>\n      <td>0.073925</td>\n      <td>0.798958</td>\n      <td>0.000098</td>\n      <td>0.000041</td>\n      <td>0.000093</td>\n      <td>0.000046</td>\n      <td>0.000022</td>\n      <td>0.000042</td>\n      <td>0.102862</td>\n      <td>8.465200</td>\n      <td>North America</td>\n      <td>1</td>\n      <td>0</td>\n      <td>0</td>\n      <td>0</td>\n      <td>0</td>\n      <td>1</td>\n      <td>0</td>\n      <td>0</td>\n      <td>1</td>\n      <td>0</td>\n      <td>1</td>\n      <td>0</td>\n      <td>0</td>\n      <td>0</td>\n      <td>0</td>\n      <td>0</td>\n      <td>0</td>\n      <td>0</td>\n    </tr>\n  </tbody>\n</table>\n</div>"
     },
     "execution_count": 47,
     "metadata": {},
     "output_type": "execute_result"
    }
   ],
   "source": [
    "import os\n",
    "import warnings\n",
    "import joblib\n",
    "import pandas as pd \n",
    "import numpy as np\n",
    "import matplotlib.pyplot as plt\n",
    "import seaborn as sns\n",
    "import xgboost as xgb\n",
    "from tqdm import tqdm\n",
    "from sklearn.model_selection import train_test_split\n",
    "from sklearn.metrics import mean_squared_error, mean_squared_log_error, r2_score, accuracy_score, confusion_matrix, classification_report\n",
    "from sklearn.model_selection import ParameterGrid\n",
    "from joblib import Parallel, delayed \n",
    "from sklearn import ensemble, linear_model, svm\n",
    "from sklearn.preprocessing import RobustScaler, MinMaxScaler\n",
    "from sklearn.inspection import permutation_importance, PartialDependenceDisplay\n",
    "from sklearn.model_selection import RandomizedSearchCV, GridSearchCV\n",
    "from lazy_test import *\n",
    "from success_utils import *\n",
    "\n",
    "warnings.filterwarnings('ignore')\n",
    "pd.set_option('display.max_columns', None)\n",
    "pd.set_option('display.max_rows', None)\n",
    "\n",
    "# Create a dictionary to group countries by region\n",
    "region_groups = {\n",
    "    \"North America\": [\"HI\", \"Mexico\", \"NV\", \"OK\", \"NM\",\"CA\", \"NY\", \"MD\", \"DC\", \"WA\", \"CO\", \"MN\", \"TX\", \"SC\", \"GA\", \"KY\", \"PA\", \"MI\", \"OH\", \"OR\", \"NC\", \"IL\", \"AZ\", \"TN\", \"NJ\", \"UT\", \"VA\", \"ND\", \"VT\", \"IA\", \"ND\", \"VT\", \"LA\", \"CT\", \"RI\"],\n",
    "    \"Europe\": [\"Martinique\", \"AL\", \"Cayman Islands\", \"Russia\", \"ME\", \"UK\", \"DE\", \"Poland\", \"Denmark\", \"Netherlands\", \"Norway\", \"Liechtenstein\", \"Austria\", \"Belgium\", \"Czech Republic\", \"Iceland\", \"Ireland\", \"France\", \"Spain\", \"Sweden\", \"Switzerland\", \"Italy\", \"Slovenia\", \"Greece\"],\n",
    "    \"Asia\": [\"MO\", \"IN\", \"Japan\", \"China\", \"Hong Kong\", \"India\", \"Viet Nam\", \"Taiwan\", \"Afghanistan\", \"Israel\",\"Sri Lanka\", \"Jordan\"],\n",
    "    \"South America\": [\"Colombia\", \"Brazil\"],\n",
    "    \"Africa\": [\"WI\", \"SD\", \"MA\", \"Ghana\", \"Ethiopia\", \"Liberia\", \"Rwanda\"],\n",
    "    \"Oceania\": [\"AU\", \"NZ\"],\n",
    "    \"Other\": [ \"United Arab Emirates\", \"Svalbard and Jan Mayen\"]\n",
    "}\n",
    "\n",
    "noticable_entities = ['ORG', 'PERSON', 'DATE',\n",
    "                        'CARDINAL', 'GPE', 'PRODUCT', \n",
    "                        'WORK_OF_ART','ORDINAL', 'MONEY',\n",
    "                        'TIME', 'NORP']\n",
    "\n",
    "\n",
    "data_path = '/home/theerthala/Documents/repos/Crowdfunding-Social-Media-Drivers/Data/Kickstarter_only/final_data.csv'\n",
    "success_data = pd.read_csv(data_path)\n",
    "success_data['collection_ratio'] = success_data.collected.apply(decode_amount)/success_data.goal_amount.apply(decode_amount)\n",
    "\n",
    "\n",
    "bins = [0, 7, 14, 30, 60]\n",
    "labels = ['<1 week', '1-2 weeks', '2 weeks - 1 month', '1-2 months']\n",
    "success_data['duration'] = pd.cut(success_data['duration'], bins=bins, labels=labels)\n",
    "success_data= success_data[success_data.donate != 1].reset_index(drop=True)\n",
    "\n",
    "\n",
    "success_weights = (1-success_data.success.value_counts()/len(success_data)).values\n",
    "\n",
    "\n",
    "def get_region(country):\n",
    "    for region, countries in region_groups.items():\n",
    "        if country in countries:\n",
    "            return region\n",
    "    return \"Other\"\n",
    "\n",
    "success_data['region'] = success_data.country.str.strip().apply(get_region)\n",
    "success_data.num_backers = success_data.num_backers.str.replace(',', '').astype(int)\n",
    "success_data = success_data[success_data.region == 'North America']\n",
    "\n",
    "success_data = pd.get_dummies(\n",
    "                    success_data,\n",
    "                    columns=['fb_type', \n",
    "                              'duration'])\n",
    "\n",
    "\n",
    "for entity in noticable_entities:\n",
    "    success_data[f'fb_entity_{entity}'] = success_data.fb_entities_identified.fillna('None').str.split(',').apply(lambda entity_list: entity in entity_list).astype(int)\n",
    "\n",
    "bool_cols = success_data.dtypes[success_data.dtypes == 'bool'].index.tolist()\n",
    "success_data[bool_cols] = success_data[bool_cols].astype(int)\n",
    "\n",
    "#ecoding the number of backers\n",
    "success_data.num_backers = encode_targets(success_data.num_backers)\n",
    "success_data.population = np.exp(success_data.population)\n",
    "\n",
    "\n",
    "success_data.head()"
   ]
  },
  {
   "cell_type": "code",
   "execution_count": 48,
   "metadata": {
    "ExecuteTime": {
     "end_time": "2024-03-17T01:39:57.092423Z",
     "start_time": "2024-03-17T01:39:57.086995Z"
    }
   },
   "outputs": [],
   "source": [
    "dropping_columns = ['collected', 'verified', 'donate', 'project_we_love', 'Team' ,'country', 'fb_page_name', 'region', 'fb_entities_identified', 'population', 'category']\n",
    "\n",
    "success_data.drop(columns=dropping_columns, axis=1, inplace=True)\n",
    "success_data = success_data[success_data.collection_ratio < 10].reset_index(drop=True)\n",
    "success_data.pledge_types = success_data.pledge_types.astype(int)\n",
    "success_data.num_projects = success_data.num_projects.astype(int)\n",
    "success_data.num_backed = success_data.num_backed.astype(int)\n"
   ]
  },
  {
   "cell_type": "code",
   "execution_count": 49,
   "metadata": {
    "ExecuteTime": {
     "end_time": "2024-03-17T01:39:57.097767Z",
     "start_time": "2024-03-17T01:39:57.093217Z"
    }
   },
   "outputs": [],
   "source": [
    "#identify and list all the boolean features disguised as int in the dataset\n",
    "bool_features = []\n",
    "for col in success_data.columns:\n",
    "    if success_data[col].nunique() == 2:\n",
    "        bool_features.append(col)\n",
    "\n",
    "bool_features.remove('success')"
   ]
  },
  {
   "cell_type": "code",
   "execution_count": 50,
   "metadata": {
    "ExecuteTime": {
     "end_time": "2024-03-17T01:39:57.103332Z",
     "start_time": "2024-03-17T01:39:57.101286Z"
    }
   },
   "outputs": [],
   "source": [
    "entity_features = [x for x in bool_features if 'fb_entity' in x]\n",
    "duration_features = [x for x in bool_features if 'duration' in x]\n",
    "region_features = [x for x in bool_features if 'region' in x]\n"
   ]
  },
  {
   "cell_type": "code",
   "execution_count": 51,
   "metadata": {
    "ExecuteTime": {
     "end_time": "2024-03-17T01:39:57.106069Z",
     "start_time": "2024-03-17T01:39:57.104185Z"
    }
   },
   "outputs": [],
   "source": [
    "# from sklearn.decomposition import PCA, TruncatedSVD\n",
    "# def save_embedding_info(loadings, entity_features, name):\n",
    "#     # Create a dataframe to store the loadings\n",
    "#     loadings_df = pd.DataFrame(loadings, columns=entity_features)\n",
    "\n",
    "#     plt.figure(figsize=(20, 10))\n",
    "#     sns.heatmap(loadings_df, cmap='RdBu', center=0, annot=True)\n",
    "#     save_path = '/workspaces/Crowdfunding-Social-Media-Drivers/Modelling/02_success_engagement/heatmaps for embeddings'\n",
    "#     plt.savefig(save_path + f'/{name}.png', bbox_inches='tight')\n",
    "\n",
    "# def try_svd(df, cols):\n",
    "#     for i in range(1, len(cols)):\n",
    "#         svd = TruncatedSVD(n_components=i)\n",
    "#         svd.fit(df[cols])\n",
    "#         evr = svd.explained_variance_ratio_.sum()\n",
    "#         print(f'Explained variance ratio for {i} components: {svd.explained_variance_ratio_.sum()}')\n",
    "#         if evr > 0.8:\n",
    "#             return svd, i\n",
    "\n",
    "# def append_embeddings(embeddings, df, col):\n",
    "#     for i in range(embeddings.shape[1]):\n",
    "#         df[f'{col}_embedding_{i}'] = embeddings[:,i]\n",
    "#     return df\n",
    "\n",
    "# svd, n_components = try_svd(success_data, entity_features)\n",
    "# embddings = svd.fit_transform(success_data[entity_features])\n",
    "# loadings = svd.components_\n",
    "# save_embedding_info(loadings, entity_features, 'fb_entities')\n",
    "\n",
    "# success_data = append_embeddings(embddings, success_data, 'fb_entities')\n",
    "\n",
    "# svd, n_components = try_svd(success_data, region_features)\n",
    "# embddings = svd.fit_transform(success_data[region_features])\n",
    "# loadings = svd.components_\n",
    "# save_embedding_info(loadings, region_features, 'region')\n",
    "\n",
    "# success_data = append_embeddings(embddings, success_data, 'region')\n",
    "\n",
    "# svd, n_components = try_svd(success_data, categories)\n",
    "# embddings = svd.fit_transform(success_data[categories])\n",
    "# loadings = svd.components_\n",
    "# save_embedding_info(loadings, categories, 'categories')\n",
    "\n",
    "# success_data = append_embeddings(embddings, success_data, 'categories')\n",
    "\n",
    "# success_data.drop(columns=entity_features + region_features + categories, axis=1, inplace=True)"
   ]
  },
  {
   "cell_type": "code",
   "execution_count": 52,
   "metadata": {
    "ExecuteTime": {
     "end_time": "2024-03-17T01:39:57.111784Z",
     "start_time": "2024-03-17T01:39:57.106854Z"
    }
   },
   "outputs": [],
   "source": [
    "success_data.num_backers = np.exp(success_data.num_backers)\n",
    "target_cols = [\n",
    "    'success',\n",
    "    'collection_ratio',\n",
    "    'num_backers'\n",
    "]\n",
    "emotion_cols = ['fb_fear','fb_anger', 'fb_anticip', 'fb_trust', 'fb_surprise', 'fb_positive', 'fb_negative', 'fb_sadness', 'fb_disgust', 'fb_joy']\n",
    "success_data['fb_emotionality'] = success_data[emotion_cols].sum(axis=1)\n",
    "\n",
    "fb_cols = success_data.columns[success_data.columns.str.startswith('fb')].tolist()\n",
    "common_features= success_data.columns[~success_data.columns.str.startswith('fb')].tolist()\n",
    "common_features = [feature for feature in common_features if feature not in target_cols]\n",
    "\n",
    "engagement_features = [ 'fb_likes', 'fb_comments', 'fb_shares','fb_positive_reactions','fb_negative_reactions']\n",
    "post_fb_features = [feature for feature in fb_cols if feature not in engagement_features]\n"
   ]
  },
  {
   "cell_type": "code",
   "execution_count": 53,
   "metadata": {
    "ExecuteTime": {
     "end_time": "2024-03-17T01:39:57.116180Z",
     "start_time": "2024-03-17T01:39:57.112904Z"
    }
   },
   "outputs": [],
   "source": [
    "domain_page_features = success_data[common_features]\n",
    "domain_engagement_features = success_data[common_features + engagement_features]\n",
    "domain_post_features = success_data[common_features + post_fb_features]\n",
    "\n",
    "targets = success_data[target_cols]"
   ]
  },
  {
   "cell_type": "code",
   "execution_count": 54,
   "metadata": {
    "ExecuteTime": {
     "end_time": "2024-03-17T01:39:57.141833Z",
     "start_time": "2024-03-17T01:39:57.123848Z"
    }
   },
   "outputs": [],
   "source": [
    "pd.concat([domain_page_features, targets], axis=1).to_csv('/home/theerthala/Documents/repos/Crowdfunding-Social-Media-Drivers/Data/final_datasets/domain_only.csv', index=False)\n",
    "pd.concat([domain_engagement_features, targets], axis=1).to_csv('/home/theerthala/Documents/repos/Crowdfunding-Social-Media-Drivers/Data/final_datasets/domain_engagement.csv', index=False)\n",
    "pd.concat([domain_post_features, targets], axis=1).to_csv('/home/theerthala/Documents/repos/Crowdfunding-Social-Media-Drivers/Data/final_datasets/domain_post.csv', index=False)"
   ]
  },
  {
   "cell_type": "code",
   "execution_count": 55,
   "metadata": {
    "ExecuteTime": {
     "end_time": "2024-03-17T01:39:57.145260Z",
     "start_time": "2024-03-17T01:39:57.142875Z"
    }
   },
   "outputs": [
    {
     "name": "stdout",
     "output_type": "stream",
     "text": [
      "['goal_amount', 'pledge_types', 'start_month', 'start_day', 'Person', 'num_projects', 'num_backed', 'duration_<1 week', 'duration_1-2 weeks', 'duration_2 weeks - 1 month', 'duration_1-2 months']\n"
     ]
    }
   ],
   "source": [
    "print(common_features)"
   ]
  },
  {
   "cell_type": "markdown",
   "metadata": {},
   "source": [
    "## Modelling"
   ]
  },
  {
   "cell_type": "code",
   "execution_count": 56,
   "metadata": {
    "ExecuteTime": {
     "end_time": "2024-03-17T01:39:57.198055Z",
     "start_time": "2024-03-17T01:39:57.193151Z"
    }
   },
   "outputs": [],
   "source": [
    "working_data = 'domain_engagement'\n",
    "domain_post = pd.read_csv(f'/home/theerthala/Documents/repos/Crowdfunding-Social-Media-Drivers/Data/final_datasets/{working_data}.csv')"
   ]
  },
  {
   "cell_type": "code",
   "execution_count": 57,
   "metadata": {
    "ExecuteTime": {
     "end_time": "2024-03-17T01:39:57.214309Z",
     "start_time": "2024-03-17T01:39:57.209398Z"
    }
   },
   "outputs": [
    {
     "data": {
      "text/plain": "   success  collection_ratio  num_backers\n0        1          8.506720        919.0\n1        1          7.120150       1048.0\n2        1          1.067500        204.0\n3        1          2.091059        259.0\n4        1          8.465200       1155.0",
      "text/html": "<div>\n<style scoped>\n    .dataframe tbody tr th:only-of-type {\n        vertical-align: middle;\n    }\n\n    .dataframe tbody tr th {\n        vertical-align: top;\n    }\n\n    .dataframe thead th {\n        text-align: right;\n    }\n</style>\n<table border=\"1\" class=\"dataframe\">\n  <thead>\n    <tr style=\"text-align: right;\">\n      <th></th>\n      <th>success</th>\n      <th>collection_ratio</th>\n      <th>num_backers</th>\n    </tr>\n  </thead>\n  <tbody>\n    <tr>\n      <th>0</th>\n      <td>1</td>\n      <td>8.506720</td>\n      <td>919.0</td>\n    </tr>\n    <tr>\n      <th>1</th>\n      <td>1</td>\n      <td>7.120150</td>\n      <td>1048.0</td>\n    </tr>\n    <tr>\n      <th>2</th>\n      <td>1</td>\n      <td>1.067500</td>\n      <td>204.0</td>\n    </tr>\n    <tr>\n      <th>3</th>\n      <td>1</td>\n      <td>2.091059</td>\n      <td>259.0</td>\n    </tr>\n    <tr>\n      <th>4</th>\n      <td>1</td>\n      <td>8.465200</td>\n      <td>1155.0</td>\n    </tr>\n  </tbody>\n</table>\n</div>"
     },
     "execution_count": 57,
     "metadata": {},
     "output_type": "execute_result"
    }
   ],
   "source": [
    "domain_post.loc[:,target_cols].head()"
   ]
  },
  {
   "cell_type": "code",
   "execution_count": 58,
   "metadata": {
    "ExecuteTime": {
     "end_time": "2024-03-17T01:39:57.250995Z",
     "start_time": "2024-03-17T01:39:57.244968Z"
    }
   },
   "outputs": [],
   "source": [
    "# Split the data into training and testing sets\n",
    "X_train, X_test, y_train, y_test = train_test_split(domain_post.drop(target_cols, axis=1), domain_post[target_cols], test_size=0.15, random_state=42, stratify=domain_post.success)\n",
    "\n",
    "X_train = X_train.reset_index(drop=True).values\n",
    "X_test = X_test.reset_index(drop=True).values\n",
    "y_train = y_train.reset_index(drop=True).values\n",
    "y_test = y_test.reset_index(drop=True).values"
   ]
  },
  {
   "cell_type": "markdown",
   "metadata": {},
   "source": [
    "* y[:, 0] => Success (Boolean)\n",
    "* y[:,1] => Collection Ratio\n",
    "* y[:,2] => Number of Backers\n"
   ]
  },
  {
   "cell_type": "code",
   "execution_count": 59,
   "metadata": {
    "ExecuteTime": {
     "end_time": "2024-03-17T01:39:59.596603Z",
     "start_time": "2024-03-17T01:39:57.270633Z"
    }
   },
   "outputs": [
    {
     "name": "stderr",
     "output_type": "stream",
     "text": [
      "Training models: 100%|██████████| 40/40 [00:02<00:00, 19.83it/s]\n",
      "Evaluating models: 100%|██████████| 40/40 [00:00<00:00, 138.54it/s]"
     ]
    },
    {
     "name": "stdout",
     "output_type": "stream",
     "text": [
      "All models were trained successfully.\n",
      "All models were evaluated successfully.\n"
     ]
    },
    {
     "name": "stderr",
     "output_type": "stream",
     "text": [
      "\n"
     ]
    },
    {
     "data": {
      "text/plain": "                             Insample RMSE  Insample MAE  Insample R2  \\\nRandomForestRegressor                0.744         0.492        0.860   \nLasso                                1.917         1.298        0.067   \nLassoLars                            1.917         1.298        0.067   \nElasticNet                           1.904         1.281        0.081   \nBayesianRidge                        1.899         1.275        0.085   \nOrthogonalMatchingPursuitCV          1.936         1.317        0.049   \nOrthogonalMatchingPursuit            1.936         1.317        0.049   \nElasticNetCV                         1.882         1.255        0.102   \nLassoCV                              1.881         1.254        0.102   \nLarsCV                               1.881         1.254        0.103   \n\n                             Insample EV Score  Outsample RMSE  Outsample MAE  \\\nRandomForestRegressor                    0.860           1.772          1.226   \nLasso                                    0.067           1.776          1.265   \nLassoLars                                0.067           1.776          1.265   \nElasticNet                               0.081           1.779          1.253   \nBayesianRidge                            0.085           1.786          1.255   \nOrthogonalMatchingPursuitCV              0.049           1.788          1.282   \nOrthogonalMatchingPursuit                0.049           1.788          1.282   \nElasticNetCV                             0.102           1.789          1.251   \nLassoCV                                  0.102           1.789          1.252   \nLarsCV                                   0.103           1.790          1.253   \n\n                             Outsample R2  Outsample EV Score  \nRandomForestRegressor               0.094               0.094  \nLasso                               0.091               0.095  \nLassoLars                           0.091               0.095  \nElasticNet                          0.087               0.091  \nBayesianRidge                       0.080               0.085  \nOrthogonalMatchingPursuitCV         0.078               0.082  \nOrthogonalMatchingPursuit           0.078               0.082  \nElasticNetCV                        0.077               0.080  \nLassoCV                             0.077               0.080  \nLarsCV                              0.076               0.079  ",
      "text/html": "<div>\n<style scoped>\n    .dataframe tbody tr th:only-of-type {\n        vertical-align: middle;\n    }\n\n    .dataframe tbody tr th {\n        vertical-align: top;\n    }\n\n    .dataframe thead th {\n        text-align: right;\n    }\n</style>\n<table border=\"1\" class=\"dataframe\">\n  <thead>\n    <tr style=\"text-align: right;\">\n      <th></th>\n      <th>Insample RMSE</th>\n      <th>Insample MAE</th>\n      <th>Insample R2</th>\n      <th>Insample EV Score</th>\n      <th>Outsample RMSE</th>\n      <th>Outsample MAE</th>\n      <th>Outsample R2</th>\n      <th>Outsample EV Score</th>\n    </tr>\n  </thead>\n  <tbody>\n    <tr>\n      <th>RandomForestRegressor</th>\n      <td>0.744</td>\n      <td>0.492</td>\n      <td>0.860</td>\n      <td>0.860</td>\n      <td>1.772</td>\n      <td>1.226</td>\n      <td>0.094</td>\n      <td>0.094</td>\n    </tr>\n    <tr>\n      <th>Lasso</th>\n      <td>1.917</td>\n      <td>1.298</td>\n      <td>0.067</td>\n      <td>0.067</td>\n      <td>1.776</td>\n      <td>1.265</td>\n      <td>0.091</td>\n      <td>0.095</td>\n    </tr>\n    <tr>\n      <th>LassoLars</th>\n      <td>1.917</td>\n      <td>1.298</td>\n      <td>0.067</td>\n      <td>0.067</td>\n      <td>1.776</td>\n      <td>1.265</td>\n      <td>0.091</td>\n      <td>0.095</td>\n    </tr>\n    <tr>\n      <th>ElasticNet</th>\n      <td>1.904</td>\n      <td>1.281</td>\n      <td>0.081</td>\n      <td>0.081</td>\n      <td>1.779</td>\n      <td>1.253</td>\n      <td>0.087</td>\n      <td>0.091</td>\n    </tr>\n    <tr>\n      <th>BayesianRidge</th>\n      <td>1.899</td>\n      <td>1.275</td>\n      <td>0.085</td>\n      <td>0.085</td>\n      <td>1.786</td>\n      <td>1.255</td>\n      <td>0.080</td>\n      <td>0.085</td>\n    </tr>\n    <tr>\n      <th>OrthogonalMatchingPursuitCV</th>\n      <td>1.936</td>\n      <td>1.317</td>\n      <td>0.049</td>\n      <td>0.049</td>\n      <td>1.788</td>\n      <td>1.282</td>\n      <td>0.078</td>\n      <td>0.082</td>\n    </tr>\n    <tr>\n      <th>OrthogonalMatchingPursuit</th>\n      <td>1.936</td>\n      <td>1.317</td>\n      <td>0.049</td>\n      <td>0.049</td>\n      <td>1.788</td>\n      <td>1.282</td>\n      <td>0.078</td>\n      <td>0.082</td>\n    </tr>\n    <tr>\n      <th>ElasticNetCV</th>\n      <td>1.882</td>\n      <td>1.255</td>\n      <td>0.102</td>\n      <td>0.102</td>\n      <td>1.789</td>\n      <td>1.251</td>\n      <td>0.077</td>\n      <td>0.080</td>\n    </tr>\n    <tr>\n      <th>LassoCV</th>\n      <td>1.881</td>\n      <td>1.254</td>\n      <td>0.102</td>\n      <td>0.102</td>\n      <td>1.789</td>\n      <td>1.252</td>\n      <td>0.077</td>\n      <td>0.080</td>\n    </tr>\n    <tr>\n      <th>LarsCV</th>\n      <td>1.881</td>\n      <td>1.254</td>\n      <td>0.103</td>\n      <td>0.103</td>\n      <td>1.790</td>\n      <td>1.253</td>\n      <td>0.076</td>\n      <td>0.079</td>\n    </tr>\n  </tbody>\n</table>\n</div>"
     },
     "execution_count": 59,
     "metadata": {},
     "output_type": "execute_result"
    }
   ],
   "source": [
    "reg_test = RegressionModels(X_train, X_test, y_train[:,1], y_test[:,1], decode=False)\n",
    "reg_test.run_evaluation()\n",
    "print(reg_test.not_trained_)\n",
    "print(reg_test.not_evaluated_)\n",
    "reg_test.top_10_socres.to_csv(\"/home/theerthala/Documents/repos/Crowdfunding-Social-Media-Drivers/Results/03 - Domain Engagement/collection_ratio/lazy_scores.csv\")\n",
    "reg_test.top_10_socres"
   ]
  },
  {
   "cell_type": "code",
   "outputs": [
    {
     "name": "stderr",
     "output_type": "stream",
     "text": [
      "Training models: 100%|██████████| 40/40 [00:02<00:00, 19.78it/s] \n",
      "Evaluating models: 100%|██████████| 40/40 [00:00<00:00, 127.22it/s]"
     ]
    },
    {
     "name": "stdout",
     "output_type": "stream",
     "text": [
      "All models were trained successfully.\n",
      "All models were evaluated successfully.\n"
     ]
    },
    {
     "name": "stderr",
     "output_type": "stream",
     "text": [
      "\n"
     ]
    },
    {
     "data": {
      "text/plain": "                               Insample RMSE  Insample MAE  Insample R2  \\\nGradientBoostingRegressor            600.234       339.008        0.920   \nRandomForestRegressor                637.779       256.259        0.910   \nXGBRegressor                          10.779         6.878        1.000   \nPoissonRegressor                    1728.229       735.600        0.338   \nLars                                1904.853       918.676        0.196   \nLinearRegression                    1899.613       860.947        0.200   \nRidge                               1899.618       860.248        0.200   \nLassoLars                           1899.649       860.429        0.200   \nLasso                               1899.649       860.429        0.200   \nHistGradientBoostingRegressor       1468.415       409.144        0.522   \n\n                               Insample EV Score  Outsample RMSE  \\\nGradientBoostingRegressor                  0.920        2381.774   \nRandomForestRegressor                      0.910        2470.909   \nXGBRegressor                               1.000        2627.020   \nPoissonRegressor                           0.338        2641.296   \nLars                                       0.196        2682.288   \nLinearRegression                           0.200        2731.763   \nRidge                                      0.200        2732.549   \nLassoLars                                  0.200        2732.644   \nLasso                                      0.200        2732.645   \nHistGradientBoostingRegressor              0.522        2736.883   \n\n                               Outsample MAE  Outsample R2  Outsample EV Score  \nGradientBoostingRegressor            906.305         0.450               0.451  \nRandomForestRegressor                956.475         0.408               0.408  \nXGBRegressor                         975.051         0.331               0.335  \nPoissonRegressor                    1027.980         0.323               0.345  \nLars                                1113.223         0.302               0.317  \nLinearRegression                    1081.053         0.276               0.292  \nRidge                               1080.856         0.276               0.291  \nLassoLars                           1081.803         0.276               0.291  \nLasso                               1081.802         0.276               0.291  \nHistGradientBoostingRegressor       1037.050         0.273               0.282  ",
      "text/html": "<div>\n<style scoped>\n    .dataframe tbody tr th:only-of-type {\n        vertical-align: middle;\n    }\n\n    .dataframe tbody tr th {\n        vertical-align: top;\n    }\n\n    .dataframe thead th {\n        text-align: right;\n    }\n</style>\n<table border=\"1\" class=\"dataframe\">\n  <thead>\n    <tr style=\"text-align: right;\">\n      <th></th>\n      <th>Insample RMSE</th>\n      <th>Insample MAE</th>\n      <th>Insample R2</th>\n      <th>Insample EV Score</th>\n      <th>Outsample RMSE</th>\n      <th>Outsample MAE</th>\n      <th>Outsample R2</th>\n      <th>Outsample EV Score</th>\n    </tr>\n  </thead>\n  <tbody>\n    <tr>\n      <th>GradientBoostingRegressor</th>\n      <td>600.234</td>\n      <td>339.008</td>\n      <td>0.920</td>\n      <td>0.920</td>\n      <td>2381.774</td>\n      <td>906.305</td>\n      <td>0.450</td>\n      <td>0.451</td>\n    </tr>\n    <tr>\n      <th>RandomForestRegressor</th>\n      <td>637.779</td>\n      <td>256.259</td>\n      <td>0.910</td>\n      <td>0.910</td>\n      <td>2470.909</td>\n      <td>956.475</td>\n      <td>0.408</td>\n      <td>0.408</td>\n    </tr>\n    <tr>\n      <th>XGBRegressor</th>\n      <td>10.779</td>\n      <td>6.878</td>\n      <td>1.000</td>\n      <td>1.000</td>\n      <td>2627.020</td>\n      <td>975.051</td>\n      <td>0.331</td>\n      <td>0.335</td>\n    </tr>\n    <tr>\n      <th>PoissonRegressor</th>\n      <td>1728.229</td>\n      <td>735.600</td>\n      <td>0.338</td>\n      <td>0.338</td>\n      <td>2641.296</td>\n      <td>1027.980</td>\n      <td>0.323</td>\n      <td>0.345</td>\n    </tr>\n    <tr>\n      <th>Lars</th>\n      <td>1904.853</td>\n      <td>918.676</td>\n      <td>0.196</td>\n      <td>0.196</td>\n      <td>2682.288</td>\n      <td>1113.223</td>\n      <td>0.302</td>\n      <td>0.317</td>\n    </tr>\n    <tr>\n      <th>LinearRegression</th>\n      <td>1899.613</td>\n      <td>860.947</td>\n      <td>0.200</td>\n      <td>0.200</td>\n      <td>2731.763</td>\n      <td>1081.053</td>\n      <td>0.276</td>\n      <td>0.292</td>\n    </tr>\n    <tr>\n      <th>Ridge</th>\n      <td>1899.618</td>\n      <td>860.248</td>\n      <td>0.200</td>\n      <td>0.200</td>\n      <td>2732.549</td>\n      <td>1080.856</td>\n      <td>0.276</td>\n      <td>0.291</td>\n    </tr>\n    <tr>\n      <th>LassoLars</th>\n      <td>1899.649</td>\n      <td>860.429</td>\n      <td>0.200</td>\n      <td>0.200</td>\n      <td>2732.644</td>\n      <td>1081.803</td>\n      <td>0.276</td>\n      <td>0.291</td>\n    </tr>\n    <tr>\n      <th>Lasso</th>\n      <td>1899.649</td>\n      <td>860.429</td>\n      <td>0.200</td>\n      <td>0.200</td>\n      <td>2732.645</td>\n      <td>1081.802</td>\n      <td>0.276</td>\n      <td>0.291</td>\n    </tr>\n    <tr>\n      <th>HistGradientBoostingRegressor</th>\n      <td>1468.415</td>\n      <td>409.144</td>\n      <td>0.522</td>\n      <td>0.522</td>\n      <td>2736.883</td>\n      <td>1037.050</td>\n      <td>0.273</td>\n      <td>0.282</td>\n    </tr>\n  </tbody>\n</table>\n</div>"
     },
     "execution_count": 60,
     "metadata": {},
     "output_type": "execute_result"
    }
   ],
   "source": [
    "reg_test = RegressionModels(X_train, X_test, y_train[:,2], y_test[:,2], decode=False)\n",
    "reg_test.run_evaluation()\n",
    "print(reg_test.not_trained_)\n",
    "print(reg_test.not_evaluated_)\n",
    "reg_test.top_10_socres.to_csv(\"/home/theerthala/Documents/repos/Crowdfunding-Social-Media-Drivers/Results/03 - Domain Engagement/num_backers/lazy_scores.csv\")\n",
    "reg_test.top_10_socres"
   ],
   "metadata": {
    "collapsed": false,
    "ExecuteTime": {
     "end_time": "2024-03-17T01:40:01.958925Z",
     "start_time": "2024-03-17T01:39:59.602700Z"
    }
   },
   "execution_count": 60
  },
  {
   "cell_type": "code",
   "execution_count": 61,
   "metadata": {
    "ExecuteTime": {
     "end_time": "2024-03-17T01:40:03.972864Z",
     "start_time": "2024-03-17T01:40:01.960631Z"
    }
   },
   "outputs": [
    {
     "name": "stderr",
     "output_type": "stream",
     "text": [
      "Training models: 100%|██████████| 28/28 [00:01<00:00, 15.35it/s] \n",
      "Evaluating models: 100%|██████████| 27/27 [00:00<00:00, 154.30it/s]"
     ]
    },
    {
     "name": "stdout",
     "output_type": "stream",
     "text": [
      "The modelsNu-Support Vector Machine could not be trained.\n",
      "The modelsKernel Ridge could not be evaluated.\n"
     ]
    },
    {
     "name": "stderr",
     "output_type": "stream",
     "text": [
      "\n"
     ]
    },
    {
     "data": {
      "text/plain": "                                   Accuracy  Precision    Recall  F1 Score  \\\nGaussian Naive Bayes               0.301205   1.000000  0.226667  0.369565   \nEasy Ensemble Classifier           0.626506   0.958333  0.613333  0.747967   \nLinear Support Vector Machine      0.180723   0.818182  0.120000  0.209302   \nMultinomial Naive Bayes            0.554217   0.931818  0.546667  0.689076   \nBalanced Random Forest Classifier  0.698795   0.931034  0.720000  0.812030   \nRUSBoost Classifier                0.746988   0.897059  0.813333  0.853147   \nBalanced Bagging Classifier        0.674699   0.887097  0.733333  0.802920   \nGaussian Process                   0.807229   0.904110  0.880000  0.891892   \nDecision Tree                      0.855422   0.909091  0.933333  0.921053   \nXGBoost                            0.891566   0.902439  0.986667  0.942675   \n\n                                    ROC AUC  Class-0 Acc  Class-1 Acc  \nGaussian Naive Bayes               0.613333        1.000     0.226667  \nEasy Ensemble Classifier           0.681667        0.750     0.613333  \nLinear Support Vector Machine      0.435000        0.750     0.120000  \nMultinomial Naive Bayes            0.585833        0.625     0.546667  \nBalanced Random Forest Classifier  0.610000        0.500     0.720000  \nRUSBoost Classifier                0.469167        0.125     0.813333  \nBalanced Bagging Classifier        0.429167        0.125     0.733333  \nGaussian Process                   0.502500        0.125     0.880000  \nDecision Tree                      0.529167        0.125     0.933333  \nXGBoost                            0.493333        0.000     0.986667  ",
      "text/html": "<div>\n<style scoped>\n    .dataframe tbody tr th:only-of-type {\n        vertical-align: middle;\n    }\n\n    .dataframe tbody tr th {\n        vertical-align: top;\n    }\n\n    .dataframe thead th {\n        text-align: right;\n    }\n</style>\n<table border=\"1\" class=\"dataframe\">\n  <thead>\n    <tr style=\"text-align: right;\">\n      <th></th>\n      <th>Accuracy</th>\n      <th>Precision</th>\n      <th>Recall</th>\n      <th>F1 Score</th>\n      <th>ROC AUC</th>\n      <th>Class-0 Acc</th>\n      <th>Class-1 Acc</th>\n    </tr>\n  </thead>\n  <tbody>\n    <tr>\n      <th>Gaussian Naive Bayes</th>\n      <td>0.301205</td>\n      <td>1.000000</td>\n      <td>0.226667</td>\n      <td>0.369565</td>\n      <td>0.613333</td>\n      <td>1.000</td>\n      <td>0.226667</td>\n    </tr>\n    <tr>\n      <th>Easy Ensemble Classifier</th>\n      <td>0.626506</td>\n      <td>0.958333</td>\n      <td>0.613333</td>\n      <td>0.747967</td>\n      <td>0.681667</td>\n      <td>0.750</td>\n      <td>0.613333</td>\n    </tr>\n    <tr>\n      <th>Linear Support Vector Machine</th>\n      <td>0.180723</td>\n      <td>0.818182</td>\n      <td>0.120000</td>\n      <td>0.209302</td>\n      <td>0.435000</td>\n      <td>0.750</td>\n      <td>0.120000</td>\n    </tr>\n    <tr>\n      <th>Multinomial Naive Bayes</th>\n      <td>0.554217</td>\n      <td>0.931818</td>\n      <td>0.546667</td>\n      <td>0.689076</td>\n      <td>0.585833</td>\n      <td>0.625</td>\n      <td>0.546667</td>\n    </tr>\n    <tr>\n      <th>Balanced Random Forest Classifier</th>\n      <td>0.698795</td>\n      <td>0.931034</td>\n      <td>0.720000</td>\n      <td>0.812030</td>\n      <td>0.610000</td>\n      <td>0.500</td>\n      <td>0.720000</td>\n    </tr>\n    <tr>\n      <th>RUSBoost Classifier</th>\n      <td>0.746988</td>\n      <td>0.897059</td>\n      <td>0.813333</td>\n      <td>0.853147</td>\n      <td>0.469167</td>\n      <td>0.125</td>\n      <td>0.813333</td>\n    </tr>\n    <tr>\n      <th>Balanced Bagging Classifier</th>\n      <td>0.674699</td>\n      <td>0.887097</td>\n      <td>0.733333</td>\n      <td>0.802920</td>\n      <td>0.429167</td>\n      <td>0.125</td>\n      <td>0.733333</td>\n    </tr>\n    <tr>\n      <th>Gaussian Process</th>\n      <td>0.807229</td>\n      <td>0.904110</td>\n      <td>0.880000</td>\n      <td>0.891892</td>\n      <td>0.502500</td>\n      <td>0.125</td>\n      <td>0.880000</td>\n    </tr>\n    <tr>\n      <th>Decision Tree</th>\n      <td>0.855422</td>\n      <td>0.909091</td>\n      <td>0.933333</td>\n      <td>0.921053</td>\n      <td>0.529167</td>\n      <td>0.125</td>\n      <td>0.933333</td>\n    </tr>\n    <tr>\n      <th>XGBoost</th>\n      <td>0.891566</td>\n      <td>0.902439</td>\n      <td>0.986667</td>\n      <td>0.942675</td>\n      <td>0.493333</td>\n      <td>0.000</td>\n      <td>0.986667</td>\n    </tr>\n  </tbody>\n</table>\n</div>"
     },
     "execution_count": 61,
     "metadata": {},
     "output_type": "execute_result"
    }
   ],
   "source": [
    "cls_test = ClassificationModels(X_train, X_test, y_train[:,0], y_test[:,0])\n",
    "cls_test.run_evaluation()\n",
    "print(cls_test.not_trained_)\n",
    "print(cls_test.not_evaluated_)\n",
    "cls_test.top_10_socres.to_csv(\"/home/theerthala/Documents/repos/Crowdfunding-Social-Media-Drivers/Results/03 - Domain Engagement/success/lazy_scores.csv\")\n",
    "cls_test.top_10_socres"
   ]
  },
  {
   "cell_type": "markdown",
   "metadata": {},
   "source": [
    "#### Classification Notes\n",
    "> For the success model, based on the overall f1 scores, Balance RandomForest clssifier, Balanced Bagging Classifier are more suitable"
   ]
  },
  {
   "cell_type": "markdown",
   "metadata": {},
   "source": [
    "## Further Finetuning of the topk models"
   ]
  },
  {
   "cell_type": "markdown",
   "metadata": {},
   "source": [
    "### Collection Ratio"
   ]
  },
  {
   "cell_type": "code",
   "outputs": [
    {
     "name": "stdout",
     "output_type": "stream",
     "text": [
      "In-sample RMSE, R2: 1.87, 0.11134964209032583\n",
      "Out-sample RMSE, R2: 1.83, 0.03228931724211459\n"
     ]
    }
   ],
   "source": [
    "lars = linear_model.Lars(random_state=42)\n",
    "lars.fit(X_train, y_train[:,1])\n",
    "\n",
    "in_y_pred = lars.predict(X_train)\n",
    "out_y_pred = lars.predict(X_test)\n",
    "\n",
    "print(f'In-sample RMSE, R2: {np.sqrt(mean_squared_error(y_train[:,1], in_y_pred)):.2f}, {r2_score(y_train[:,1], in_y_pred)}')\n",
    "print(f'Out-sample RMSE, R2: {np.sqrt(mean_squared_error(y_test[:,1], out_y_pred)):.2f}, {r2_score(y_test[:,1], out_y_pred)}')\n"
   ],
   "metadata": {
    "collapsed": false,
    "ExecuteTime": {
     "end_time": "2024-03-17T01:12:42.794196Z",
     "start_time": "2024-03-17T01:12:42.781689Z"
    }
   },
   "execution_count": 24
  },
  {
   "cell_type": "code",
   "outputs": [
    {
     "name": "stdout",
     "output_type": "stream",
     "text": [
      "In-sample RMSE, R2: 1.92, 0.06746576616619737\n",
      "Out-sample RMSE, R2: 1.78, 0.09056455344699266\n"
     ]
    }
   ],
   "source": [
    "lassolars = linear_model.LassoLars(random_state=42)\n",
    "lassolars.fit(X_train, y_train[:,1])\n",
    "\n",
    "in_y_pred = lassolars.predict(X_train)\n",
    "out_y_pred = lassolars.predict(X_test)\n",
    "\n",
    "print(f'In-sample RMSE, R2: {np.sqrt(mean_squared_error(y_train[:,1], in_y_pred)):.2f}, {r2_score(y_train[:,1], in_y_pred)}')\n",
    "print(f'Out-sample RMSE, R2: {np.sqrt(mean_squared_error(y_test[:,1], out_y_pred)):.2f}, {r2_score(y_test[:,1], out_y_pred)}')"
   ],
   "metadata": {
    "collapsed": false,
    "ExecuteTime": {
     "end_time": "2024-03-17T01:13:06.692597Z",
     "start_time": "2024-03-17T01:13:06.686851Z"
    }
   },
   "execution_count": 25
  },
  {
   "cell_type": "code",
   "outputs": [
    {
     "name": "stdout",
     "output_type": "stream",
     "text": [
      "In-sample RMSE, R2: 1.88, 0.10273262146209139\n",
      "Out-sample RMSE, R2: 1.79, 0.07553288376438494\n"
     ]
    }
   ],
   "source": [
    "lassolars_cv = linear_model.LassoLarsCV(cv=50)\n",
    "lassolars_cv.fit(X_train, y_train[:,1])\n",
    "\n",
    "in_y_pred = lassolars_cv.predict(X_train)\n",
    "out_y_pred = lassolars_cv.predict(X_test)\n",
    "\n",
    "print(f'In-sample RMSE, R2: {np.sqrt(mean_squared_error(y_train[:,1], in_y_pred)):.2f}, {r2_score(y_train[:,1], in_y_pred)}')\n",
    "print(f'Out-sample RMSE, R2: {np.sqrt(mean_squared_error(y_test[:,1], out_y_pred)):.2f}, {r2_score(y_test[:,1], out_y_pred)}')"
   ],
   "metadata": {
    "collapsed": false,
    "ExecuteTime": {
     "end_time": "2024-03-17T01:14:01.474696Z",
     "start_time": "2024-03-17T01:14:01.374506Z"
    }
   },
   "execution_count": 30
  },
  {
   "cell_type": "code",
   "outputs": [
    {
     "name": "stdout",
     "output_type": "stream",
     "text": [
      "In-sample RMSE, R2: 1.92, 0.0674658247083868\n",
      "Out-sample RMSE, R2: 1.78, 0.09056467133005774\n"
     ]
    }
   ],
   "source": [
    "lasso = linear_model.Lasso(random_state=42)\n",
    "lasso.fit(X_train, y_train[:,1])\n",
    "\n",
    "in_y_pred = lasso.predict(X_train)\n",
    "out_y_pred = lasso.predict(X_test)\n",
    "\n",
    "print(f'In-sample RMSE, R2: {np.sqrt(mean_squared_error(y_train[:,1], in_y_pred)):.2f}, {r2_score(y_train[:,1], in_y_pred)}')\n",
    "print(f'Out-sample RMSE, R2: {np.sqrt(mean_squared_error(y_test[:,1], out_y_pred)):.2f}, {r2_score(y_test[:,1], out_y_pred)}')"
   ],
   "metadata": {
    "collapsed": false,
    "ExecuteTime": {
     "end_time": "2024-03-17T01:14:10.729134Z",
     "start_time": "2024-03-17T01:14:10.717541Z"
    }
   },
   "execution_count": 31
  },
  {
   "cell_type": "code",
   "execution_count": 46,
   "metadata": {
    "ExecuteTime": {
     "end_time": "2024-03-17T01:23:26.855623Z",
     "start_time": "2024-03-17T01:23:26.847444Z"
    }
   },
   "outputs": [
    {
     "data": {
      "text/plain": "['/home/theerthala/Documents/repos/Crowdfunding-Social-Media-Drivers/Modelling/final_models/03_domain_engagement/collection_ratio.pkl']"
     },
     "execution_count": 46,
     "metadata": {},
     "output_type": "execute_result"
    }
   ],
   "source": [
    "joblib.dump(lasso, '/home/theerthala/Documents/repos/Crowdfunding-Social-Media-Drivers/Modelling/final_models/03_domain_engagement/collection_ratio.pkl')"
   ]
  },
  {
   "cell_type": "markdown",
   "metadata": {},
   "source": [
    "### Number of Backers"
   ]
  },
  {
   "cell_type": "code",
   "execution_count": 34,
   "metadata": {
    "ExecuteTime": {
     "end_time": "2024-03-17T01:16:06.539631Z",
     "start_time": "2024-03-17T01:16:06.520761Z"
    }
   },
   "outputs": [
    {
     "name": "stdout",
     "output_type": "stream",
     "text": [
      "In-sample RMSE, R2: 1728.23, 0.3381106304125575\n",
      "Out-sample RMSE, R2: 2641.30, 0.32335332849315834\n"
     ]
    }
   ],
   "source": [
    "poisson = linear_model.PoissonRegressor()\n",
    "poisson.fit(X_train, y_train[:,2])\n",
    "\n",
    "in_y_pred = poisson.predict(X_train)\n",
    "out_y_pred = poisson.predict(X_test)\n",
    "\n",
    "print(f'In-sample RMSE, R2: {np.sqrt(mean_squared_error(y_train[:,2], in_y_pred)):.2f}, {r2_score(y_train[:,2], in_y_pred)}')\n",
    "print(f'Out-sample RMSE, R2: {np.sqrt(mean_squared_error(y_test[:,2], out_y_pred)):.2f}, {r2_score(y_test[:,2], out_y_pred)}')"
   ]
  },
  {
   "cell_type": "code",
   "execution_count": 45,
   "metadata": {
    "ExecuteTime": {
     "end_time": "2024-03-17T01:23:17.988677Z",
     "start_time": "2024-03-17T01:23:17.981302Z"
    }
   },
   "outputs": [
    {
     "data": {
      "text/plain": "['/home/theerthala/Documents/repos/Crowdfunding-Social-Media-Drivers/Modelling/final_models/03_domain_engagement/num_backers.pkl']"
     },
     "execution_count": 45,
     "metadata": {},
     "output_type": "execute_result"
    }
   ],
   "source": [
    "joblib.dump(poisson, '/home/theerthala/Documents/repos/Crowdfunding-Social-Media-Drivers/Modelling/final_models/03_domain_engagement/num_backers.pkl')"
   ]
  },
  {
   "cell_type": "markdown",
   "metadata": {},
   "source": [
    "### Success"
   ]
  },
  {
   "cell_type": "code",
   "outputs": [
    {
     "name": "stdout",
     "output_type": "stream",
     "text": [
      "Overall In-sample Accuracy: 0.6545064377682404\n",
      "Overall Out-sample Accuracy: 0.6265060240963856 \n",
      "\n",
      "In-sample Class 0 Accuracy: 1.0\n",
      "Out-sample Class 0 Accuracy: 0.75 \n",
      "\n",
      "Out-sample Class 1 Accuracy: 0.6133333333333333\n",
      "In-sample Class 1 Accuracy: 0.6166666666666667\n"
     ]
    }
   ],
   "source": [
    "easy_ensemble = EasyEnsembleClassifier(random_state=42)\n",
    "easy_ensemble.fit(X_train, y_train[:,0])\n",
    "\n",
    "y_pred_in = easy_ensemble.predict(X_train)\n",
    "y_pred_out = easy_ensemble.predict(X_test)\n",
    "\n",
    "def get_class_wise_acc(y_true, y_pred):\n",
    "    cm = confusion_matrix(y_true, y_pred)\n",
    "    return cm[0,0]/cm[0].sum(), cm[1,1]/cm[1].sum()\n",
    "\n",
    "in_class_0_acc, in_class_1_acc = get_class_wise_acc(y_train[:,0], y_pred_in)\n",
    "out_class_0_acc, out_class_1_acc = get_class_wise_acc(y_test[:,0], y_pred_out)\n",
    "\n",
    "print(f'Overall In-sample Accuracy: {accuracy_score(y_train[:,0], y_pred_in)}')\n",
    "print(f'Overall Out-sample Accuracy: {accuracy_score(y_test[:,0], y_pred_out)} \\n')\n",
    "\n",
    "print(f'In-sample Class 0 Accuracy: {in_class_0_acc}')\n",
    "print(f'Out-sample Class 0 Accuracy: {out_class_0_acc} \\n')\n",
    "\n",
    "print(f'Out-sample Class 1 Accuracy: {out_class_1_acc}')\n",
    "print(f'In-sample Class 1 Accuracy: {in_class_1_acc}')\n"
   ],
   "metadata": {
    "collapsed": false,
    "ExecuteTime": {
     "end_time": "2024-03-17T01:19:17.206087Z",
     "start_time": "2024-03-17T01:19:16.766307Z"
    }
   },
   "execution_count": 40
  },
  {
   "cell_type": "code",
   "execution_count": 42,
   "metadata": {
    "ExecuteTime": {
     "end_time": "2024-03-17T01:21:36.807640Z",
     "start_time": "2024-03-17T01:21:33.210220Z"
    }
   },
   "outputs": [
    {
     "name": "stdout",
     "output_type": "stream",
     "text": [
      "Number of Estimators: 75\n",
      "Overall In-sample Accuracy: 0.7188841201716738\n",
      "Overall Out-sample Accuracy: 0.6626506024096386 \n",
      "\n",
      "In-sample Class 0 Accuracy: 1.0\n",
      "Out-sample Class 0 Accuracy: 0.5 \n",
      "\n",
      "Out-sample Class 1 Accuracy: 0.68\n",
      "In-sample Class 1 Accuracy: 0.6880952380952381\n",
      "----------\n",
      "Number of Estimators: 100\n",
      "Overall In-sample Accuracy: 0.6952789699570815\n",
      "Overall Out-sample Accuracy: 0.6987951807228916 \n",
      "\n",
      "In-sample Class 0 Accuracy: 1.0\n",
      "Out-sample Class 0 Accuracy: 0.5 \n",
      "\n",
      "Out-sample Class 1 Accuracy: 0.72\n",
      "In-sample Class 1 Accuracy: 0.6619047619047619\n",
      "----------\n",
      "Number of Estimators: 500\n",
      "Overall In-sample Accuracy: 0.723175965665236\n",
      "Overall Out-sample Accuracy: 0.6987951807228916 \n",
      "\n",
      "In-sample Class 0 Accuracy: 1.0\n",
      "Out-sample Class 0 Accuracy: 0.5 \n",
      "\n",
      "Out-sample Class 1 Accuracy: 0.72\n",
      "In-sample Class 1 Accuracy: 0.6928571428571428\n",
      "----------\n",
      "Number of Estimators: 1000\n",
      "Overall In-sample Accuracy: 0.7317596566523605\n",
      "Overall Out-sample Accuracy: 0.7108433734939759 \n",
      "\n",
      "In-sample Class 0 Accuracy: 1.0\n",
      "Out-sample Class 0 Accuracy: 0.5 \n",
      "\n",
      "Out-sample Class 1 Accuracy: 0.7333333333333333\n",
      "In-sample Class 1 Accuracy: 0.7023809523809523\n",
      "----------\n",
      "Number of Estimators: 2000\n",
      "Overall In-sample Accuracy: 0.7167381974248928\n",
      "Overall Out-sample Accuracy: 0.6867469879518072 \n",
      "\n",
      "In-sample Class 0 Accuracy: 1.0\n",
      "Out-sample Class 0 Accuracy: 0.5 \n",
      "\n",
      "Out-sample Class 1 Accuracy: 0.7066666666666667\n",
      "In-sample Class 1 Accuracy: 0.6857142857142857\n",
      "----------\n"
     ]
    }
   ],
   "source": [
    "n_estimator_list = [75, 100, 500, 1000, 2000]\n",
    "\n",
    "for n_estimators in n_estimator_list:\n",
    "    balanced_rf = BalancedRandomForestClassifier(random_state=42, n_estimators=n_estimators)\n",
    "    balanced_rf.fit(X_train, y_train[:,0])\n",
    "    \n",
    "    y_pred_in = balanced_rf.predict(X_train)\n",
    "    y_pred_out = balanced_rf.predict(X_test)\n",
    "    \n",
    "    \n",
    "    in_class_0_acc, in_class_1_acc = get_class_wise_acc(y_train[:,0], y_pred_in)\n",
    "    out_class_0_acc, out_class_1_acc = get_class_wise_acc(y_test[:,0], y_pred_out)\n",
    "    \n",
    "    print(f'Number of Estimators: {n_estimators}')\n",
    "    print(f'Overall In-sample Accuracy: {accuracy_score(y_train[:,0], y_pred_in)}')\n",
    "    print(f'Overall Out-sample Accuracy: {accuracy_score(y_test[:,0], y_pred_out)} \\n')\n",
    "    \n",
    "    print(f'In-sample Class 0 Accuracy: {in_class_0_acc}')\n",
    "    print(f'Out-sample Class 0 Accuracy: {out_class_0_acc} \\n')\n",
    "    \n",
    "    print(f'Out-sample Class 1 Accuracy: {out_class_1_acc}')\n",
    "    print(f'In-sample Class 1 Accuracy: {in_class_1_acc}')\n",
    "    print('-'*10)"
   ]
  },
  {
   "cell_type": "code",
   "execution_count": 44,
   "metadata": {
    "ExecuteTime": {
     "end_time": "2024-03-17T01:22:57.316195Z",
     "start_time": "2024-03-17T01:22:57.171382Z"
    }
   },
   "outputs": [
    {
     "data": {
      "text/plain": "['/home/theerthala/Documents/repos/Crowdfunding-Social-Media-Drivers/Modelling/final_models/03_domain_engagement/success.pkl']"
     },
     "execution_count": 44,
     "metadata": {},
     "output_type": "execute_result"
    }
   ],
   "source": [
    "joblib.dump(easy_ensemble, '/home/theerthala/Documents/repos/Crowdfunding-Social-Media-Drivers/Modelling/final_models/03_domain_engagement/success.pkl')"
   ]
  }
 ],
 "metadata": {
  "kernelspec": {
   "display_name": "Python 3",
   "language": "python",
   "name": "python3"
  },
  "language_info": {
   "codemirror_mode": {
    "name": "ipython",
    "version": 3
   },
   "file_extension": ".py",
   "mimetype": "text/x-python",
   "name": "python",
   "nbconvert_exporter": "python",
   "pygments_lexer": "ipython3",
   "version": "3.10.13"
  }
 },
 "nbformat": 4,
 "nbformat_minor": 2
}
