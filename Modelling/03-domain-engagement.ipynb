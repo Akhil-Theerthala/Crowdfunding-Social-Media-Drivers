{
 "cells": [
  {
   "cell_type": "code",
   "execution_count": 1,
   "metadata": {
    "ExecuteTime": {
     "end_time": "2024-03-17T02:50:54.907742Z",
     "start_time": "2024-03-17T02:50:54.701068Z"
    }
   },
   "outputs": [
    {
     "data": {
      "text/plain": "   collected  goal_amount  num_backers    category  pledge_types  donate  \\\n2  12.960635    10.819778     6.823286      design           4.0     0.0   \n4  11.866416     9.903488     6.954639      comics           8.0     0.0   \n5  10.374272    10.308953     5.318120  film_Video          13.0     0.0   \n6   9.542446     8.804775     5.556828      comics          16.0     0.0   \n8  11.346304     9.210340     7.051856       games          27.0     0.0   \n\n   project_we_love  success  start_month  start_day  population country  \\\n2              1.0        1            6          1    684451.0      WA   \n4              1.0        1            6          1    105319.0      CA   \n5              1.0        1            6          1   8175133.0      NY   \n6              1.0        1            6          1   3971883.0      CA   \n8              1.0        1            6          4    621849.0      MD   \n\n   Person  Team  num_projects  num_backed            verified fb_page_name  \\\n2       0     1             7          16         Marc Barros  Kickstarter   \n4       1     0             3          88         Adam Lawson  Kickstarter   \n5       1     0             1           2     Julia Greenberg  Kickstarter   \n6       0     1             4          23   Donold Wooldridge  Kickstarter   \n8       1     0             5          21     Amanda Coronado  Kickstarter   \n\n   fb_likes_at_posting  fb_followers_at_posting  fb_likes  fb_comments  \\\n2              1589901                  1588019        10            2   \n4              1589930                  1588019         4            1   \n5              1589715                  1587803         3            1   \n6              1589715                  1587803         3            5   \n8              1589543                  1587618         9            3   \n\n   fb_shares  fb_post_views  fb_readability  fb_readability_lix  \\\n2          1             12        4.836818           33.727273   \n4          0              5        6.933333           29.111111   \n5          0              4       15.900000           61.666667   \n6          1              5       14.239500           45.000000   \n8          1             11        3.083867           20.333333   \n\n   fb_entropy_scores  fb_perplexity_scores   fb_fear  fb_anger  fb_anticip  \\\n2           0.719996              2.054425  0.000024  0.000011    0.000037   \n4           0.625279              1.868768  0.000057  0.000018    0.000070   \n5           0.284582              1.329206  0.285714  0.000047    0.000050   \n6           0.570874              1.769813  0.200000  0.200000    0.000072   \n8           0.466686              1.594701  0.000036  0.000051    0.000068   \n\n   fb_trust  fb_surprise  fb_positive  fb_negative  fb_sadness  fb_disgust  \\\n2  0.000062     0.000093     1.000000     0.000029    0.000020    0.000028   \n4  0.000098     0.000096     0.000032     0.000036    0.000013    0.000020   \n5  0.000100     0.000088     0.285714     0.142857    0.000096    0.000082   \n6  0.000028     0.000076     0.000049     0.400000    0.200000    0.000072   \n8  0.000010     0.000083     1.000000     0.000015    0.000030    0.000068   \n\n     fb_joy fb_entities_identified  fb_post_sponsored  fb_post_age  \\\n2  0.000062                PRODUCT                  0            2   \n4  0.000074        CARDINAL,PERSON                  0            8   \n5  0.142857             PERSON,GPE                  0            9   \n6  0.000036            WORK_OF_ART                  0           10   \n8  0.000067        PERSON,CARDINAL                  0           14   \n\n   fb_page_age  fb_positive_reactions  fb_negative_reactions  fb_topic_0  \\\n2         4839                      2                      0    0.000064   \n4         4839                      0                      1    0.000026   \n5         4839                      0                      1    0.000019   \n6         4839                      1                      1    0.000043   \n8         4839                      1                      1    0.000018   \n\n   fb_topic_1  fb_topic_2  fb_topic_3  fb_topic_4  fb_topic_5  fb_topic_6  \\\n2    0.000036    0.000074    0.242741    0.000100    0.000050    0.450027   \n4    0.000060    0.939369    0.000080    0.000065    0.000032    0.000011   \n5    0.154496    0.000084    0.081168    0.000079    0.126198    0.000052   \n6    0.000028    0.162778    0.000097    0.000045    0.000027    0.059113   \n8    0.000018    0.073925    0.798958    0.000098    0.000041    0.000093   \n\n   fb_topic_7  fb_topic_8  fb_topic_9  fb_topic_10  collection_ratio  \\\n2    0.075764    0.085070    0.000038     0.116083          8.506720   \n4    0.000050    0.000082    0.000096     0.000015          7.120150   \n5    0.156902    0.294644    0.163853     0.000095          1.067500   \n6    0.062181    0.060710    0.626484     0.000060          2.091059   \n8    0.000046    0.000022    0.000042     0.102862          8.465200   \n\n          region  fb_type_link  fb_type_photo  fb_type_video  \\\n2  North America             1              0              0   \n4  North America             1              0              0   \n5  North America             1              0              0   \n6  North America             1              0              0   \n8  North America             1              0              0   \n\n   duration_<1 week  duration_1-2 weeks  duration_2 weeks - 1 month  \\\n2                 0                   0                           1   \n4                 0                   0                           0   \n5                 0                   0                           1   \n6                 0                   0                           0   \n8                 0                   0                           1   \n\n   duration_1-2 months  fb_entity_ORG  fb_entity_PERSON  fb_entity_DATE  \\\n2                    0              0                 0               0   \n4                    1              0                 1               0   \n5                    0              0                 1               0   \n6                    1              0                 0               0   \n8                    0              0                 1               0   \n\n   fb_entity_CARDINAL  fb_entity_GPE  fb_entity_PRODUCT  \\\n2                   0              0                  1   \n4                   1              0                  0   \n5                   0              1                  0   \n6                   0              0                  0   \n8                   1              0                  0   \n\n   fb_entity_WORK_OF_ART  fb_entity_ORDINAL  fb_entity_MONEY  fb_entity_TIME  \\\n2                      0                  0                0               0   \n4                      0                  0                0               0   \n5                      0                  0                0               0   \n6                      1                  0                0               0   \n8                      0                  0                0               0   \n\n   fb_entity_NORP  \n2               0  \n4               0  \n5               0  \n6               0  \n8               0  ",
      "text/html": "<div>\n<style scoped>\n    .dataframe tbody tr th:only-of-type {\n        vertical-align: middle;\n    }\n\n    .dataframe tbody tr th {\n        vertical-align: top;\n    }\n\n    .dataframe thead th {\n        text-align: right;\n    }\n</style>\n<table border=\"1\" class=\"dataframe\">\n  <thead>\n    <tr style=\"text-align: right;\">\n      <th></th>\n      <th>collected</th>\n      <th>goal_amount</th>\n      <th>num_backers</th>\n      <th>category</th>\n      <th>pledge_types</th>\n      <th>donate</th>\n      <th>project_we_love</th>\n      <th>success</th>\n      <th>start_month</th>\n      <th>start_day</th>\n      <th>population</th>\n      <th>country</th>\n      <th>Person</th>\n      <th>Team</th>\n      <th>num_projects</th>\n      <th>num_backed</th>\n      <th>verified</th>\n      <th>fb_page_name</th>\n      <th>fb_likes_at_posting</th>\n      <th>fb_followers_at_posting</th>\n      <th>fb_likes</th>\n      <th>fb_comments</th>\n      <th>fb_shares</th>\n      <th>fb_post_views</th>\n      <th>fb_readability</th>\n      <th>fb_readability_lix</th>\n      <th>fb_entropy_scores</th>\n      <th>fb_perplexity_scores</th>\n      <th>fb_fear</th>\n      <th>fb_anger</th>\n      <th>fb_anticip</th>\n      <th>fb_trust</th>\n      <th>fb_surprise</th>\n      <th>fb_positive</th>\n      <th>fb_negative</th>\n      <th>fb_sadness</th>\n      <th>fb_disgust</th>\n      <th>fb_joy</th>\n      <th>fb_entities_identified</th>\n      <th>fb_post_sponsored</th>\n      <th>fb_post_age</th>\n      <th>fb_page_age</th>\n      <th>fb_positive_reactions</th>\n      <th>fb_negative_reactions</th>\n      <th>fb_topic_0</th>\n      <th>fb_topic_1</th>\n      <th>fb_topic_2</th>\n      <th>fb_topic_3</th>\n      <th>fb_topic_4</th>\n      <th>fb_topic_5</th>\n      <th>fb_topic_6</th>\n      <th>fb_topic_7</th>\n      <th>fb_topic_8</th>\n      <th>fb_topic_9</th>\n      <th>fb_topic_10</th>\n      <th>collection_ratio</th>\n      <th>region</th>\n      <th>fb_type_link</th>\n      <th>fb_type_photo</th>\n      <th>fb_type_video</th>\n      <th>duration_&lt;1 week</th>\n      <th>duration_1-2 weeks</th>\n      <th>duration_2 weeks - 1 month</th>\n      <th>duration_1-2 months</th>\n      <th>fb_entity_ORG</th>\n      <th>fb_entity_PERSON</th>\n      <th>fb_entity_DATE</th>\n      <th>fb_entity_CARDINAL</th>\n      <th>fb_entity_GPE</th>\n      <th>fb_entity_PRODUCT</th>\n      <th>fb_entity_WORK_OF_ART</th>\n      <th>fb_entity_ORDINAL</th>\n      <th>fb_entity_MONEY</th>\n      <th>fb_entity_TIME</th>\n      <th>fb_entity_NORP</th>\n    </tr>\n  </thead>\n  <tbody>\n    <tr>\n      <th>2</th>\n      <td>12.960635</td>\n      <td>10.819778</td>\n      <td>6.823286</td>\n      <td>design</td>\n      <td>4.0</td>\n      <td>0.0</td>\n      <td>1.0</td>\n      <td>1</td>\n      <td>6</td>\n      <td>1</td>\n      <td>684451.0</td>\n      <td>WA</td>\n      <td>0</td>\n      <td>1</td>\n      <td>7</td>\n      <td>16</td>\n      <td>Marc Barros</td>\n      <td>Kickstarter</td>\n      <td>1589901</td>\n      <td>1588019</td>\n      <td>10</td>\n      <td>2</td>\n      <td>1</td>\n      <td>12</td>\n      <td>4.836818</td>\n      <td>33.727273</td>\n      <td>0.719996</td>\n      <td>2.054425</td>\n      <td>0.000024</td>\n      <td>0.000011</td>\n      <td>0.000037</td>\n      <td>0.000062</td>\n      <td>0.000093</td>\n      <td>1.000000</td>\n      <td>0.000029</td>\n      <td>0.000020</td>\n      <td>0.000028</td>\n      <td>0.000062</td>\n      <td>PRODUCT</td>\n      <td>0</td>\n      <td>2</td>\n      <td>4839</td>\n      <td>2</td>\n      <td>0</td>\n      <td>0.000064</td>\n      <td>0.000036</td>\n      <td>0.000074</td>\n      <td>0.242741</td>\n      <td>0.000100</td>\n      <td>0.000050</td>\n      <td>0.450027</td>\n      <td>0.075764</td>\n      <td>0.085070</td>\n      <td>0.000038</td>\n      <td>0.116083</td>\n      <td>8.506720</td>\n      <td>North America</td>\n      <td>1</td>\n      <td>0</td>\n      <td>0</td>\n      <td>0</td>\n      <td>0</td>\n      <td>1</td>\n      <td>0</td>\n      <td>0</td>\n      <td>0</td>\n      <td>0</td>\n      <td>0</td>\n      <td>0</td>\n      <td>1</td>\n      <td>0</td>\n      <td>0</td>\n      <td>0</td>\n      <td>0</td>\n      <td>0</td>\n    </tr>\n    <tr>\n      <th>4</th>\n      <td>11.866416</td>\n      <td>9.903488</td>\n      <td>6.954639</td>\n      <td>comics</td>\n      <td>8.0</td>\n      <td>0.0</td>\n      <td>1.0</td>\n      <td>1</td>\n      <td>6</td>\n      <td>1</td>\n      <td>105319.0</td>\n      <td>CA</td>\n      <td>1</td>\n      <td>0</td>\n      <td>3</td>\n      <td>88</td>\n      <td>Adam Lawson</td>\n      <td>Kickstarter</td>\n      <td>1589930</td>\n      <td>1588019</td>\n      <td>4</td>\n      <td>1</td>\n      <td>0</td>\n      <td>5</td>\n      <td>6.933333</td>\n      <td>29.111111</td>\n      <td>0.625279</td>\n      <td>1.868768</td>\n      <td>0.000057</td>\n      <td>0.000018</td>\n      <td>0.000070</td>\n      <td>0.000098</td>\n      <td>0.000096</td>\n      <td>0.000032</td>\n      <td>0.000036</td>\n      <td>0.000013</td>\n      <td>0.000020</td>\n      <td>0.000074</td>\n      <td>CARDINAL,PERSON</td>\n      <td>0</td>\n      <td>8</td>\n      <td>4839</td>\n      <td>0</td>\n      <td>1</td>\n      <td>0.000026</td>\n      <td>0.000060</td>\n      <td>0.939369</td>\n      <td>0.000080</td>\n      <td>0.000065</td>\n      <td>0.000032</td>\n      <td>0.000011</td>\n      <td>0.000050</td>\n      <td>0.000082</td>\n      <td>0.000096</td>\n      <td>0.000015</td>\n      <td>7.120150</td>\n      <td>North America</td>\n      <td>1</td>\n      <td>0</td>\n      <td>0</td>\n      <td>0</td>\n      <td>0</td>\n      <td>0</td>\n      <td>1</td>\n      <td>0</td>\n      <td>1</td>\n      <td>0</td>\n      <td>1</td>\n      <td>0</td>\n      <td>0</td>\n      <td>0</td>\n      <td>0</td>\n      <td>0</td>\n      <td>0</td>\n      <td>0</td>\n    </tr>\n    <tr>\n      <th>5</th>\n      <td>10.374272</td>\n      <td>10.308953</td>\n      <td>5.318120</td>\n      <td>film_Video</td>\n      <td>13.0</td>\n      <td>0.0</td>\n      <td>1.0</td>\n      <td>1</td>\n      <td>6</td>\n      <td>1</td>\n      <td>8175133.0</td>\n      <td>NY</td>\n      <td>1</td>\n      <td>0</td>\n      <td>1</td>\n      <td>2</td>\n      <td>Julia Greenberg</td>\n      <td>Kickstarter</td>\n      <td>1589715</td>\n      <td>1587803</td>\n      <td>3</td>\n      <td>1</td>\n      <td>0</td>\n      <td>4</td>\n      <td>15.900000</td>\n      <td>61.666667</td>\n      <td>0.284582</td>\n      <td>1.329206</td>\n      <td>0.285714</td>\n      <td>0.000047</td>\n      <td>0.000050</td>\n      <td>0.000100</td>\n      <td>0.000088</td>\n      <td>0.285714</td>\n      <td>0.142857</td>\n      <td>0.000096</td>\n      <td>0.000082</td>\n      <td>0.142857</td>\n      <td>PERSON,GPE</td>\n      <td>0</td>\n      <td>9</td>\n      <td>4839</td>\n      <td>0</td>\n      <td>1</td>\n      <td>0.000019</td>\n      <td>0.154496</td>\n      <td>0.000084</td>\n      <td>0.081168</td>\n      <td>0.000079</td>\n      <td>0.126198</td>\n      <td>0.000052</td>\n      <td>0.156902</td>\n      <td>0.294644</td>\n      <td>0.163853</td>\n      <td>0.000095</td>\n      <td>1.067500</td>\n      <td>North America</td>\n      <td>1</td>\n      <td>0</td>\n      <td>0</td>\n      <td>0</td>\n      <td>0</td>\n      <td>1</td>\n      <td>0</td>\n      <td>0</td>\n      <td>1</td>\n      <td>0</td>\n      <td>0</td>\n      <td>1</td>\n      <td>0</td>\n      <td>0</td>\n      <td>0</td>\n      <td>0</td>\n      <td>0</td>\n      <td>0</td>\n    </tr>\n    <tr>\n      <th>6</th>\n      <td>9.542446</td>\n      <td>8.804775</td>\n      <td>5.556828</td>\n      <td>comics</td>\n      <td>16.0</td>\n      <td>0.0</td>\n      <td>1.0</td>\n      <td>1</td>\n      <td>6</td>\n      <td>1</td>\n      <td>3971883.0</td>\n      <td>CA</td>\n      <td>0</td>\n      <td>1</td>\n      <td>4</td>\n      <td>23</td>\n      <td>Donold Wooldridge</td>\n      <td>Kickstarter</td>\n      <td>1589715</td>\n      <td>1587803</td>\n      <td>3</td>\n      <td>5</td>\n      <td>1</td>\n      <td>5</td>\n      <td>14.239500</td>\n      <td>45.000000</td>\n      <td>0.570874</td>\n      <td>1.769813</td>\n      <td>0.200000</td>\n      <td>0.200000</td>\n      <td>0.000072</td>\n      <td>0.000028</td>\n      <td>0.000076</td>\n      <td>0.000049</td>\n      <td>0.400000</td>\n      <td>0.200000</td>\n      <td>0.000072</td>\n      <td>0.000036</td>\n      <td>WORK_OF_ART</td>\n      <td>0</td>\n      <td>10</td>\n      <td>4839</td>\n      <td>1</td>\n      <td>1</td>\n      <td>0.000043</td>\n      <td>0.000028</td>\n      <td>0.162778</td>\n      <td>0.000097</td>\n      <td>0.000045</td>\n      <td>0.000027</td>\n      <td>0.059113</td>\n      <td>0.062181</td>\n      <td>0.060710</td>\n      <td>0.626484</td>\n      <td>0.000060</td>\n      <td>2.091059</td>\n      <td>North America</td>\n      <td>1</td>\n      <td>0</td>\n      <td>0</td>\n      <td>0</td>\n      <td>0</td>\n      <td>0</td>\n      <td>1</td>\n      <td>0</td>\n      <td>0</td>\n      <td>0</td>\n      <td>0</td>\n      <td>0</td>\n      <td>0</td>\n      <td>1</td>\n      <td>0</td>\n      <td>0</td>\n      <td>0</td>\n      <td>0</td>\n    </tr>\n    <tr>\n      <th>8</th>\n      <td>11.346304</td>\n      <td>9.210340</td>\n      <td>7.051856</td>\n      <td>games</td>\n      <td>27.0</td>\n      <td>0.0</td>\n      <td>1.0</td>\n      <td>1</td>\n      <td>6</td>\n      <td>4</td>\n      <td>621849.0</td>\n      <td>MD</td>\n      <td>1</td>\n      <td>0</td>\n      <td>5</td>\n      <td>21</td>\n      <td>Amanda Coronado</td>\n      <td>Kickstarter</td>\n      <td>1589543</td>\n      <td>1587618</td>\n      <td>9</td>\n      <td>3</td>\n      <td>1</td>\n      <td>11</td>\n      <td>3.083867</td>\n      <td>20.333333</td>\n      <td>0.466686</td>\n      <td>1.594701</td>\n      <td>0.000036</td>\n      <td>0.000051</td>\n      <td>0.000068</td>\n      <td>0.000010</td>\n      <td>0.000083</td>\n      <td>1.000000</td>\n      <td>0.000015</td>\n      <td>0.000030</td>\n      <td>0.000068</td>\n      <td>0.000067</td>\n      <td>PERSON,CARDINAL</td>\n      <td>0</td>\n      <td>14</td>\n      <td>4839</td>\n      <td>1</td>\n      <td>1</td>\n      <td>0.000018</td>\n      <td>0.000018</td>\n      <td>0.073925</td>\n      <td>0.798958</td>\n      <td>0.000098</td>\n      <td>0.000041</td>\n      <td>0.000093</td>\n      <td>0.000046</td>\n      <td>0.000022</td>\n      <td>0.000042</td>\n      <td>0.102862</td>\n      <td>8.465200</td>\n      <td>North America</td>\n      <td>1</td>\n      <td>0</td>\n      <td>0</td>\n      <td>0</td>\n      <td>0</td>\n      <td>1</td>\n      <td>0</td>\n      <td>0</td>\n      <td>1</td>\n      <td>0</td>\n      <td>1</td>\n      <td>0</td>\n      <td>0</td>\n      <td>0</td>\n      <td>0</td>\n      <td>0</td>\n      <td>0</td>\n      <td>0</td>\n    </tr>\n  </tbody>\n</table>\n</div>"
     },
     "execution_count": 1,
     "metadata": {},
     "output_type": "execute_result"
    }
   ],
   "source": [
    "import os\n",
    "import warnings\n",
    "import joblib\n",
    "import pandas as pd \n",
    "import numpy as np\n",
    "import matplotlib.pyplot as plt\n",
    "import seaborn as sns\n",
    "import xgboost as xgb\n",
    "from tqdm import tqdm\n",
    "from sklearn.model_selection import train_test_split\n",
    "from sklearn.metrics import mean_squared_error, mean_squared_log_error, r2_score, accuracy_score, confusion_matrix, classification_report\n",
    "from sklearn.model_selection import ParameterGrid\n",
    "from joblib import Parallel, delayed \n",
    "from sklearn import ensemble, linear_model, svm\n",
    "from sklearn.preprocessing import RobustScaler, MinMaxScaler\n",
    "from sklearn.inspection import permutation_importance, PartialDependenceDisplay\n",
    "from sklearn.model_selection import RandomizedSearchCV, GridSearchCV\n",
    "from lazy_test import *\n",
    "from success_utils import *\n",
    "\n",
    "warnings.filterwarnings('ignore')\n",
    "pd.set_option('display.max_columns', None)\n",
    "pd.set_option('display.max_rows', None)\n",
    "\n",
    "# Create a dictionary to group countries by region\n",
    "region_groups = {\n",
    "    \"North America\": [\"HI\", \"Mexico\", \"NV\", \"OK\", \"NM\",\"CA\", \"NY\", \"MD\", \"DC\", \"WA\", \"CO\", \"MN\", \"TX\", \"SC\", \"GA\", \"KY\", \"PA\", \"MI\", \"OH\", \"OR\", \"NC\", \"IL\", \"AZ\", \"TN\", \"NJ\", \"UT\", \"VA\", \"ND\", \"VT\", \"IA\", \"ND\", \"VT\", \"LA\", \"CT\", \"RI\"],\n",
    "    \"Europe\": [\"Martinique\", \"AL\", \"Cayman Islands\", \"Russia\", \"ME\", \"UK\", \"DE\", \"Poland\", \"Denmark\", \"Netherlands\", \"Norway\", \"Liechtenstein\", \"Austria\", \"Belgium\", \"Czech Republic\", \"Iceland\", \"Ireland\", \"France\", \"Spain\", \"Sweden\", \"Switzerland\", \"Italy\", \"Slovenia\", \"Greece\"],\n",
    "    \"Asia\": [\"MO\", \"IN\", \"Japan\", \"China\", \"Hong Kong\", \"India\", \"Viet Nam\", \"Taiwan\", \"Afghanistan\", \"Israel\",\"Sri Lanka\", \"Jordan\"],\n",
    "    \"South America\": [\"Colombia\", \"Brazil\"],\n",
    "    \"Africa\": [\"WI\", \"SD\", \"MA\", \"Ghana\", \"Ethiopia\", \"Liberia\", \"Rwanda\"],\n",
    "    \"Oceania\": [\"AU\", \"NZ\"],\n",
    "    \"Other\": [ \"United Arab Emirates\", \"Svalbard and Jan Mayen\"]\n",
    "}\n",
    "\n",
    "noticable_entities = ['ORG', 'PERSON', 'DATE',\n",
    "                        'CARDINAL', 'GPE', 'PRODUCT', \n",
    "                        'WORK_OF_ART','ORDINAL', 'MONEY',\n",
    "                        'TIME', 'NORP']\n",
    "\n",
    "\n",
    "data_path = '/home/theerthala/Documents/repos/Crowdfunding-Social-Media-Drivers/Data/Kickstarter_only/final_data.csv'\n",
    "success_data = pd.read_csv(data_path)\n",
    "success_data['collection_ratio'] = success_data.collected.apply(decode_amount)/success_data.goal_amount.apply(decode_amount)\n",
    "\n",
    "\n",
    "bins = [0, 7, 14, 30, 60]\n",
    "labels = ['<1 week', '1-2 weeks', '2 weeks - 1 month', '1-2 months']\n",
    "success_data['duration'] = pd.cut(success_data['duration'], bins=bins, labels=labels)\n",
    "success_data= success_data[success_data.donate != 1].reset_index(drop=True)\n",
    "\n",
    "\n",
    "success_weights = (1-success_data.success.value_counts()/len(success_data)).values\n",
    "\n",
    "\n",
    "def get_region(country):\n",
    "    for region, countries in region_groups.items():\n",
    "        if country in countries:\n",
    "            return region\n",
    "    return \"Other\"\n",
    "\n",
    "success_data['region'] = success_data.country.str.strip().apply(get_region)\n",
    "success_data.num_backers = success_data.num_backers.str.replace(',', '').astype(int)\n",
    "success_data = success_data[success_data.region == 'North America']\n",
    "\n",
    "success_data = pd.get_dummies(\n",
    "                    success_data,\n",
    "                    columns=['fb_type', \n",
    "                              'duration'])\n",
    "\n",
    "\n",
    "for entity in noticable_entities:\n",
    "    success_data[f'fb_entity_{entity}'] = success_data.fb_entities_identified.fillna('None').str.split(',').apply(lambda entity_list: entity in entity_list).astype(int)\n",
    "\n",
    "bool_cols = success_data.dtypes[success_data.dtypes == 'bool'].index.tolist()\n",
    "success_data[bool_cols] = success_data[bool_cols].astype(int)\n",
    "\n",
    "#ecoding the number of backers\n",
    "success_data.num_backers = encode_targets(success_data.num_backers)\n",
    "success_data.population = np.exp(success_data.population)\n",
    "\n",
    "\n",
    "success_data.head()"
   ]
  },
  {
   "cell_type": "code",
   "execution_count": 2,
   "metadata": {
    "ExecuteTime": {
     "end_time": "2024-03-17T02:50:54.913Z",
     "start_time": "2024-03-17T02:50:54.908820Z"
    }
   },
   "outputs": [],
   "source": [
    "dropping_columns = ['collected', 'verified', 'donate', 'project_we_love', 'Team' ,'country', 'fb_page_name', 'region', 'fb_entities_identified', 'population', 'category']\n",
    "\n",
    "success_data.drop(columns=dropping_columns, axis=1, inplace=True)\n",
    "success_data = success_data[success_data.collection_ratio < 10].reset_index(drop=True)\n",
    "success_data.pledge_types = success_data.pledge_types.astype(int)\n",
    "success_data.num_projects = success_data.num_projects.astype(int)\n",
    "success_data.num_backed = success_data.num_backed.astype(int)\n"
   ]
  },
  {
   "cell_type": "code",
   "execution_count": 3,
   "metadata": {
    "ExecuteTime": {
     "end_time": "2024-03-17T02:50:54.917765Z",
     "start_time": "2024-03-17T02:50:54.913593Z"
    }
   },
   "outputs": [],
   "source": [
    "#identify and list all the boolean features disguised as int in the dataset\n",
    "bool_features = []\n",
    "for col in success_data.columns:\n",
    "    if success_data[col].nunique() == 2:\n",
    "        bool_features.append(col)\n",
    "\n",
    "bool_features.remove('success')"
   ]
  },
  {
   "cell_type": "code",
   "execution_count": 4,
   "metadata": {
    "ExecuteTime": {
     "end_time": "2024-03-17T02:50:54.920319Z",
     "start_time": "2024-03-17T02:50:54.918602Z"
    }
   },
   "outputs": [],
   "source": [
    "entity_features = [x for x in bool_features if 'fb_entity' in x]\n",
    "duration_features = [x for x in bool_features if 'duration' in x]\n",
    "region_features = [x for x in bool_features if 'region' in x]\n"
   ]
  },
  {
   "cell_type": "code",
   "execution_count": 5,
   "metadata": {
    "ExecuteTime": {
     "end_time": "2024-03-17T02:50:54.922635Z",
     "start_time": "2024-03-17T02:50:54.920816Z"
    }
   },
   "outputs": [],
   "source": [
    "# from sklearn.decomposition import PCA, TruncatedSVD\n",
    "# def save_embedding_info(loadings, entity_features, name):\n",
    "#     # Create a dataframe to store the loadings\n",
    "#     loadings_df = pd.DataFrame(loadings, columns=entity_features)\n",
    "\n",
    "#     plt.figure(figsize=(20, 10))\n",
    "#     sns.heatmap(loadings_df, cmap='RdBu', center=0, annot=True)\n",
    "#     save_path = '/workspaces/Crowdfunding-Social-Media-Drivers/Modelling/02_success_engagement/heatmaps for embeddings'\n",
    "#     plt.savefig(save_path + f'/{name}.png', bbox_inches='tight')\n",
    "\n",
    "# def try_svd(df, cols):\n",
    "#     for i in range(1, len(cols)):\n",
    "#         svd = TruncatedSVD(n_components=i)\n",
    "#         svd.fit(df[cols])\n",
    "#         evr = svd.explained_variance_ratio_.sum()\n",
    "#         print(f'Explained variance ratio for {i} components: {svd.explained_variance_ratio_.sum()}')\n",
    "#         if evr > 0.8:\n",
    "#             return svd, i\n",
    "\n",
    "# def append_embeddings(embeddings, df, col):\n",
    "#     for i in range(embeddings.shape[1]):\n",
    "#         df[f'{col}_embedding_{i}'] = embeddings[:,i]\n",
    "#     return df\n",
    "\n",
    "# svd, n_components = try_svd(success_data, entity_features)\n",
    "# embddings = svd.fit_transform(success_data[entity_features])\n",
    "# loadings = svd.components_\n",
    "# save_embedding_info(loadings, entity_features, 'fb_entities')\n",
    "\n",
    "# success_data = append_embeddings(embddings, success_data, 'fb_entities')\n",
    "\n",
    "# svd, n_components = try_svd(success_data, region_features)\n",
    "# embddings = svd.fit_transform(success_data[region_features])\n",
    "# loadings = svd.components_\n",
    "# save_embedding_info(loadings, region_features, 'region')\n",
    "\n",
    "# success_data = append_embeddings(embddings, success_data, 'region')\n",
    "\n",
    "# svd, n_components = try_svd(success_data, categories)\n",
    "# embddings = svd.fit_transform(success_data[categories])\n",
    "# loadings = svd.components_\n",
    "# save_embedding_info(loadings, categories, 'categories')\n",
    "\n",
    "# success_data = append_embeddings(embddings, success_data, 'categories')\n",
    "\n",
    "# success_data.drop(columns=entity_features + region_features + categories, axis=1, inplace=True)"
   ]
  },
  {
   "cell_type": "code",
   "execution_count": 6,
   "metadata": {
    "ExecuteTime": {
     "end_time": "2024-03-17T02:50:54.927599Z",
     "start_time": "2024-03-17T02:50:54.923143Z"
    }
   },
   "outputs": [],
   "source": [
    "success_data.num_backers = np.exp(success_data.num_backers)\n",
    "target_cols = [\n",
    "    'success',\n",
    "    'collection_ratio',\n",
    "    'num_backers'\n",
    "]\n",
    "emotion_cols = ['fb_fear','fb_anger', 'fb_anticip', 'fb_trust', 'fb_surprise', 'fb_positive', 'fb_negative', 'fb_sadness', 'fb_disgust', 'fb_joy']\n",
    "success_data['fb_emotionality'] = success_data[emotion_cols].sum(axis=1)\n",
    "\n",
    "fb_cols = success_data.columns[success_data.columns.str.startswith('fb')].tolist()\n",
    "common_features= success_data.columns[~success_data.columns.str.startswith('fb')].tolist()\n",
    "common_features = [feature for feature in common_features if feature not in target_cols]\n",
    "common_features.remove(\"pledge_types\")\n",
    "\n",
    "engagement_features = [ 'fb_likes', 'fb_comments', 'fb_shares','fb_positive_reactions','fb_negative_reactions']\n",
    "post_fb_features = [feature for feature in fb_cols if feature not in engagement_features]\n"
   ]
  },
  {
   "cell_type": "code",
   "execution_count": 7,
   "metadata": {
    "ExecuteTime": {
     "end_time": "2024-03-17T02:50:54.931577Z",
     "start_time": "2024-03-17T02:50:54.928226Z"
    }
   },
   "outputs": [],
   "source": [
    "domain_page_features = success_data[common_features]\n",
    "domain_engagement_features = success_data[common_features + engagement_features]\n",
    "domain_post_features = success_data[common_features + post_fb_features]\n",
    "\n",
    "targets = success_data[target_cols]"
   ]
  },
  {
   "cell_type": "code",
   "execution_count": 8,
   "metadata": {
    "ExecuteTime": {
     "end_time": "2024-03-17T02:50:54.951562Z",
     "start_time": "2024-03-17T02:50:54.932448Z"
    }
   },
   "outputs": [],
   "source": [
    "pd.concat([domain_page_features, targets], axis=1).to_csv('/home/theerthala/Documents/repos/Crowdfunding-Social-Media-Drivers/Data/final_datasets/domain_only.csv', index=False)\n",
    "pd.concat([domain_engagement_features, targets], axis=1).to_csv('/home/theerthala/Documents/repos/Crowdfunding-Social-Media-Drivers/Data/final_datasets/domain_engagement.csv', index=False)\n",
    "pd.concat([domain_post_features, targets], axis=1).to_csv('/home/theerthala/Documents/repos/Crowdfunding-Social-Media-Drivers/Data/final_datasets/domain_post.csv', index=False)"
   ]
  },
  {
   "cell_type": "code",
   "execution_count": 9,
   "metadata": {
    "ExecuteTime": {
     "end_time": "2024-03-17T02:50:54.954995Z",
     "start_time": "2024-03-17T02:50:54.952200Z"
    }
   },
   "outputs": [
    {
     "name": "stdout",
     "output_type": "stream",
     "text": [
      "['goal_amount', 'start_month', 'start_day', 'Person', 'num_projects', 'num_backed', 'duration_<1 week', 'duration_1-2 weeks', 'duration_2 weeks - 1 month', 'duration_1-2 months']\n"
     ]
    }
   ],
   "source": [
    "print(common_features)"
   ]
  },
  {
   "cell_type": "markdown",
   "metadata": {},
   "source": [
    "## Modelling"
   ]
  },
  {
   "cell_type": "code",
   "execution_count": 10,
   "metadata": {
    "ExecuteTime": {
     "end_time": "2024-03-17T02:50:54.961052Z",
     "start_time": "2024-03-17T02:50:54.956858Z"
    }
   },
   "outputs": [],
   "source": [
    "working_data = 'domain_engagement'\n",
    "domain_post = pd.read_csv(f'/home/theerthala/Documents/repos/Crowdfunding-Social-Media-Drivers/Data/final_datasets/{working_data}.csv')"
   ]
  },
  {
   "cell_type": "code",
   "execution_count": 11,
   "metadata": {
    "ExecuteTime": {
     "end_time": "2024-03-17T02:50:54.971204Z",
     "start_time": "2024-03-17T02:50:54.962588Z"
    }
   },
   "outputs": [
    {
     "data": {
      "text/plain": "   success  collection_ratio  num_backers\n0        1          8.506720        919.0\n1        1          7.120150       1048.0\n2        1          1.067500        204.0\n3        1          2.091059        259.0\n4        1          8.465200       1155.0",
      "text/html": "<div>\n<style scoped>\n    .dataframe tbody tr th:only-of-type {\n        vertical-align: middle;\n    }\n\n    .dataframe tbody tr th {\n        vertical-align: top;\n    }\n\n    .dataframe thead th {\n        text-align: right;\n    }\n</style>\n<table border=\"1\" class=\"dataframe\">\n  <thead>\n    <tr style=\"text-align: right;\">\n      <th></th>\n      <th>success</th>\n      <th>collection_ratio</th>\n      <th>num_backers</th>\n    </tr>\n  </thead>\n  <tbody>\n    <tr>\n      <th>0</th>\n      <td>1</td>\n      <td>8.506720</td>\n      <td>919.0</td>\n    </tr>\n    <tr>\n      <th>1</th>\n      <td>1</td>\n      <td>7.120150</td>\n      <td>1048.0</td>\n    </tr>\n    <tr>\n      <th>2</th>\n      <td>1</td>\n      <td>1.067500</td>\n      <td>204.0</td>\n    </tr>\n    <tr>\n      <th>3</th>\n      <td>1</td>\n      <td>2.091059</td>\n      <td>259.0</td>\n    </tr>\n    <tr>\n      <th>4</th>\n      <td>1</td>\n      <td>8.465200</td>\n      <td>1155.0</td>\n    </tr>\n  </tbody>\n</table>\n</div>"
     },
     "execution_count": 11,
     "metadata": {},
     "output_type": "execute_result"
    }
   ],
   "source": [
    "domain_post.loc[:,target_cols].head()"
   ]
  },
  {
   "cell_type": "code",
   "execution_count": 12,
   "metadata": {
    "ExecuteTime": {
     "end_time": "2024-03-17T02:50:54.976812Z",
     "start_time": "2024-03-17T02:50:54.972177Z"
    }
   },
   "outputs": [],
   "source": [
    "# Split the data into training and testing sets\n",
    "X_train, X_test, y_train, y_test = train_test_split(domain_post.drop(target_cols, axis=1), domain_post[target_cols], test_size=0.15, random_state=42, stratify=domain_post.success)\n",
    "\n",
    "X_train = X_train.reset_index(drop=True).values\n",
    "X_test = X_test.reset_index(drop=True).values\n",
    "y_train = y_train.reset_index(drop=True).values\n",
    "y_test = y_test.reset_index(drop=True).values"
   ]
  },
  {
   "cell_type": "markdown",
   "metadata": {},
   "source": [
    "* y[:, 0] => Success (Boolean)\n",
    "* y[:,1] => Collection Ratio\n",
    "* y[:,2] => Number of Backers\n"
   ]
  },
  {
   "cell_type": "code",
   "execution_count": 43,
   "metadata": {
    "ExecuteTime": {
     "end_time": "2024-03-17T02:41:04.413634Z",
     "start_time": "2024-03-17T02:41:02.363939Z"
    }
   },
   "outputs": [
    {
     "name": "stderr",
     "output_type": "stream",
     "text": [
      "Training models: 100%|██████████| 40/40 [00:01<00:00, 23.72it/s] \n",
      "Evaluating models: 100%|██████████| 40/40 [00:00<00:00, 119.09it/s]\n"
     ]
    },
    {
     "name": "stdout",
     "output_type": "stream",
     "text": [
      "All models were trained successfully.\n",
      "All models were evaluated successfully.\n"
     ]
    },
    {
     "data": {
      "text/plain": "                             Insample RMSE  Insample MAE  Insample R2  \\\nRandomForestRegressor                0.772         0.530        0.849   \nExtraTreesRegressor                  0.000         0.000        1.000   \nLasso                                1.920         1.301        0.065   \nLassoLars                            1.920         1.301        0.065   \nElasticNet                           1.907         1.285        0.078   \nBayesianRidge                        1.899         1.275        0.085   \nOrthogonalMatchingPursuitCV          1.936         1.317        0.049   \nOrthogonalMatchingPursuit            1.936         1.317        0.049   \nGradientBoostingRegressor            1.274         0.831        0.588   \nElasticNetCV                         1.883         1.255        0.101   \n\n                             Insample EV Score  Outsample RMSE  Outsample MAE  \\\nRandomForestRegressor                    0.849           1.732          1.258   \nExtraTreesRegressor                      1.000           1.774          1.318   \nLasso                                    0.065           1.776          1.267   \nLassoLars                                0.065           1.776          1.267   \nElasticNet                               0.078           1.780          1.257   \nBayesianRidge                            0.085           1.787          1.260   \nOrthogonalMatchingPursuitCV              0.049           1.788          1.282   \nOrthogonalMatchingPursuit                0.049           1.788          1.282   \nGradientBoostingRegressor                0.588           1.790          1.224   \nElasticNetCV                             0.101           1.792          1.264   \n\n                             Outsample R2  Outsample EV Score  \nRandomForestRegressor               0.135               0.139  \nExtraTreesRegressor                 0.092               0.099  \nLasso                               0.090               0.094  \nLassoLars                           0.090               0.094  \nElasticNet                          0.086               0.089  \nBayesianRidge                       0.079               0.083  \nOrthogonalMatchingPursuitCV         0.078               0.082  \nOrthogonalMatchingPursuit           0.078               0.082  \nGradientBoostingRegressor           0.076               0.076  \nElasticNetCV                        0.074               0.076  ",
      "text/html": "<div>\n<style scoped>\n    .dataframe tbody tr th:only-of-type {\n        vertical-align: middle;\n    }\n\n    .dataframe tbody tr th {\n        vertical-align: top;\n    }\n\n    .dataframe thead th {\n        text-align: right;\n    }\n</style>\n<table border=\"1\" class=\"dataframe\">\n  <thead>\n    <tr style=\"text-align: right;\">\n      <th></th>\n      <th>Insample RMSE</th>\n      <th>Insample MAE</th>\n      <th>Insample R2</th>\n      <th>Insample EV Score</th>\n      <th>Outsample RMSE</th>\n      <th>Outsample MAE</th>\n      <th>Outsample R2</th>\n      <th>Outsample EV Score</th>\n    </tr>\n  </thead>\n  <tbody>\n    <tr>\n      <th>RandomForestRegressor</th>\n      <td>0.772</td>\n      <td>0.530</td>\n      <td>0.849</td>\n      <td>0.849</td>\n      <td>1.732</td>\n      <td>1.258</td>\n      <td>0.135</td>\n      <td>0.139</td>\n    </tr>\n    <tr>\n      <th>ExtraTreesRegressor</th>\n      <td>0.000</td>\n      <td>0.000</td>\n      <td>1.000</td>\n      <td>1.000</td>\n      <td>1.774</td>\n      <td>1.318</td>\n      <td>0.092</td>\n      <td>0.099</td>\n    </tr>\n    <tr>\n      <th>Lasso</th>\n      <td>1.920</td>\n      <td>1.301</td>\n      <td>0.065</td>\n      <td>0.065</td>\n      <td>1.776</td>\n      <td>1.267</td>\n      <td>0.090</td>\n      <td>0.094</td>\n    </tr>\n    <tr>\n      <th>LassoLars</th>\n      <td>1.920</td>\n      <td>1.301</td>\n      <td>0.065</td>\n      <td>0.065</td>\n      <td>1.776</td>\n      <td>1.267</td>\n      <td>0.090</td>\n      <td>0.094</td>\n    </tr>\n    <tr>\n      <th>ElasticNet</th>\n      <td>1.907</td>\n      <td>1.285</td>\n      <td>0.078</td>\n      <td>0.078</td>\n      <td>1.780</td>\n      <td>1.257</td>\n      <td>0.086</td>\n      <td>0.089</td>\n    </tr>\n    <tr>\n      <th>BayesianRidge</th>\n      <td>1.899</td>\n      <td>1.275</td>\n      <td>0.085</td>\n      <td>0.085</td>\n      <td>1.787</td>\n      <td>1.260</td>\n      <td>0.079</td>\n      <td>0.083</td>\n    </tr>\n    <tr>\n      <th>OrthogonalMatchingPursuitCV</th>\n      <td>1.936</td>\n      <td>1.317</td>\n      <td>0.049</td>\n      <td>0.049</td>\n      <td>1.788</td>\n      <td>1.282</td>\n      <td>0.078</td>\n      <td>0.082</td>\n    </tr>\n    <tr>\n      <th>OrthogonalMatchingPursuit</th>\n      <td>1.936</td>\n      <td>1.317</td>\n      <td>0.049</td>\n      <td>0.049</td>\n      <td>1.788</td>\n      <td>1.282</td>\n      <td>0.078</td>\n      <td>0.082</td>\n    </tr>\n    <tr>\n      <th>GradientBoostingRegressor</th>\n      <td>1.274</td>\n      <td>0.831</td>\n      <td>0.588</td>\n      <td>0.588</td>\n      <td>1.790</td>\n      <td>1.224</td>\n      <td>0.076</td>\n      <td>0.076</td>\n    </tr>\n    <tr>\n      <th>ElasticNetCV</th>\n      <td>1.883</td>\n      <td>1.255</td>\n      <td>0.101</td>\n      <td>0.101</td>\n      <td>1.792</td>\n      <td>1.264</td>\n      <td>0.074</td>\n      <td>0.076</td>\n    </tr>\n  </tbody>\n</table>\n</div>"
     },
     "execution_count": 43,
     "metadata": {},
     "output_type": "execute_result"
    }
   ],
   "source": [
    "reg_test = RegressionModels(X_train, X_test, y_train[:,1], y_test[:,1], decode=False)\n",
    "reg_test.run_evaluation()\n",
    "print(reg_test.not_trained_)\n",
    "print(reg_test.not_evaluated_)\n",
    "reg_test.all_scores.to_csv(\"/home/theerthala/Documents/repos/Crowdfunding-Social-Media-Drivers/Results/03 - Domain Engagement/collection_ratio/lazy_scores.csv\")\n",
    "reg_test.top_10_socres"
   ]
  },
  {
   "cell_type": "code",
   "outputs": [
    {
     "name": "stderr",
     "output_type": "stream",
     "text": [
      "Training models: 100%|██████████| 40/40 [00:01<00:00, 20.11it/s]\n",
      "Evaluating models: 100%|██████████| 40/40 [00:00<00:00, 121.96it/s]"
     ]
    },
    {
     "name": "stdout",
     "output_type": "stream",
     "text": [
      "All models were trained successfully.\n",
      "All models were evaluated successfully.\n"
     ]
    },
    {
     "name": "stderr",
     "output_type": "stream",
     "text": [
      "\n"
     ]
    },
    {
     "data": {
      "text/plain": "                               Insample RMSE  Insample MAE  Insample R2  \\\nHistGradientBoostingRegressor       1378.422       407.524        0.579   \nRandomForestRegressor                655.778       265.064        0.905   \nGradientBoostingRegressor            608.588       354.346        0.918   \nExtraTreesRegressor                    0.000         0.000        1.000   \nPoissonRegressor                    1894.158       793.913        0.205   \nLars                                1904.874       904.566        0.196   \nBaggingRegressor                     767.005       300.034        0.870   \nLinearRegression                    1901.557       857.852        0.199   \nRidge                               1901.564       857.106        0.199   \nLassoLars                           1901.600       857.348        0.199   \n\n                               Insample EV Score  Outsample RMSE  \\\nHistGradientBoostingRegressor              0.579        2342.294   \nRandomForestRegressor                      0.905        2463.053   \nGradientBoostingRegressor                  0.918        2595.596   \nExtraTreesRegressor                        1.000        2631.128   \nPoissonRegressor                           0.206        2674.177   \nLars                                       0.196        2681.040   \nBaggingRegressor                           0.870        2700.874   \nLinearRegression                           0.199        2717.789   \nRidge                                      0.199        2718.484   \nLassoLars                                  0.199        2718.604   \n\n                               Outsample MAE  Outsample R2  Outsample EV Score  \nHistGradientBoostingRegressor        892.457         0.468               0.479  \nRandomForestRegressor                926.367         0.412               0.412  \nGradientBoostingRegressor            916.067         0.347               0.349  \nExtraTreesRegressor                  934.978         0.329               0.330  \nPoissonRegressor                    1067.603         0.306               0.321  \nLars                                1099.324         0.303               0.319  \nBaggingRegressor                    1006.699         0.292               0.294  \nLinearRegression                    1071.916         0.284               0.300  \nRidge                               1071.682         0.283               0.300  \nLassoLars                           1072.704         0.283               0.300  ",
      "text/html": "<div>\n<style scoped>\n    .dataframe tbody tr th:only-of-type {\n        vertical-align: middle;\n    }\n\n    .dataframe tbody tr th {\n        vertical-align: top;\n    }\n\n    .dataframe thead th {\n        text-align: right;\n    }\n</style>\n<table border=\"1\" class=\"dataframe\">\n  <thead>\n    <tr style=\"text-align: right;\">\n      <th></th>\n      <th>Insample RMSE</th>\n      <th>Insample MAE</th>\n      <th>Insample R2</th>\n      <th>Insample EV Score</th>\n      <th>Outsample RMSE</th>\n      <th>Outsample MAE</th>\n      <th>Outsample R2</th>\n      <th>Outsample EV Score</th>\n    </tr>\n  </thead>\n  <tbody>\n    <tr>\n      <th>HistGradientBoostingRegressor</th>\n      <td>1378.422</td>\n      <td>407.524</td>\n      <td>0.579</td>\n      <td>0.579</td>\n      <td>2342.294</td>\n      <td>892.457</td>\n      <td>0.468</td>\n      <td>0.479</td>\n    </tr>\n    <tr>\n      <th>RandomForestRegressor</th>\n      <td>655.778</td>\n      <td>265.064</td>\n      <td>0.905</td>\n      <td>0.905</td>\n      <td>2463.053</td>\n      <td>926.367</td>\n      <td>0.412</td>\n      <td>0.412</td>\n    </tr>\n    <tr>\n      <th>GradientBoostingRegressor</th>\n      <td>608.588</td>\n      <td>354.346</td>\n      <td>0.918</td>\n      <td>0.918</td>\n      <td>2595.596</td>\n      <td>916.067</td>\n      <td>0.347</td>\n      <td>0.349</td>\n    </tr>\n    <tr>\n      <th>ExtraTreesRegressor</th>\n      <td>0.000</td>\n      <td>0.000</td>\n      <td>1.000</td>\n      <td>1.000</td>\n      <td>2631.128</td>\n      <td>934.978</td>\n      <td>0.329</td>\n      <td>0.330</td>\n    </tr>\n    <tr>\n      <th>PoissonRegressor</th>\n      <td>1894.158</td>\n      <td>793.913</td>\n      <td>0.205</td>\n      <td>0.206</td>\n      <td>2674.177</td>\n      <td>1067.603</td>\n      <td>0.306</td>\n      <td>0.321</td>\n    </tr>\n    <tr>\n      <th>Lars</th>\n      <td>1904.874</td>\n      <td>904.566</td>\n      <td>0.196</td>\n      <td>0.196</td>\n      <td>2681.040</td>\n      <td>1099.324</td>\n      <td>0.303</td>\n      <td>0.319</td>\n    </tr>\n    <tr>\n      <th>BaggingRegressor</th>\n      <td>767.005</td>\n      <td>300.034</td>\n      <td>0.870</td>\n      <td>0.870</td>\n      <td>2700.874</td>\n      <td>1006.699</td>\n      <td>0.292</td>\n      <td>0.294</td>\n    </tr>\n    <tr>\n      <th>LinearRegression</th>\n      <td>1901.557</td>\n      <td>857.852</td>\n      <td>0.199</td>\n      <td>0.199</td>\n      <td>2717.789</td>\n      <td>1071.916</td>\n      <td>0.284</td>\n      <td>0.300</td>\n    </tr>\n    <tr>\n      <th>Ridge</th>\n      <td>1901.564</td>\n      <td>857.106</td>\n      <td>0.199</td>\n      <td>0.199</td>\n      <td>2718.484</td>\n      <td>1071.682</td>\n      <td>0.283</td>\n      <td>0.300</td>\n    </tr>\n    <tr>\n      <th>LassoLars</th>\n      <td>1901.600</td>\n      <td>857.348</td>\n      <td>0.199</td>\n      <td>0.199</td>\n      <td>2718.604</td>\n      <td>1072.704</td>\n      <td>0.283</td>\n      <td>0.300</td>\n    </tr>\n  </tbody>\n</table>\n</div>"
     },
     "execution_count": 44,
     "metadata": {},
     "output_type": "execute_result"
    }
   ],
   "source": [
    "reg_test = RegressionModels(X_train, X_test, y_train[:,2], y_test[:,2], decode=False)\n",
    "reg_test.run_evaluation()\n",
    "print(reg_test.not_trained_)\n",
    "print(reg_test.not_evaluated_)\n",
    "reg_test.all_scores.to_csv(\"/home/theerthala/Documents/repos/Crowdfunding-Social-Media-Drivers/Results/03 - Domain Engagement/num_backers/lazy_scores.csv\")\n",
    "reg_test.top_10_socres"
   ],
   "metadata": {
    "collapsed": false,
    "ExecuteTime": {
     "end_time": "2024-03-17T02:41:06.754029Z",
     "start_time": "2024-03-17T02:41:04.415276Z"
    }
   },
   "execution_count": 44
  },
  {
   "cell_type": "code",
   "execution_count": 13,
   "metadata": {
    "ExecuteTime": {
     "end_time": "2024-03-17T02:51:06.524696Z",
     "start_time": "2024-03-17T02:51:04.717554Z"
    }
   },
   "outputs": [
    {
     "name": "stderr",
     "output_type": "stream",
     "text": [
      "Training models: 100%|██████████| 28/28 [00:01<00:00, 20.18it/s]\n",
      "Evaluating models: 100%|██████████| 27/27 [00:00<00:00, 67.16it/s] "
     ]
    },
    {
     "name": "stdout",
     "output_type": "stream",
     "text": [
      "The modelsNu-Support Vector Machine could not be trained.\n",
      "The modelsKernel Ridge could not be evaluated.\n"
     ]
    },
    {
     "name": "stderr",
     "output_type": "stream",
     "text": [
      "\n"
     ]
    },
    {
     "data": {
      "text/plain": "                                   Insample_Accuracy  Outsample_Accuracy  \\\nGaussian Naive Bayes                        0.324034            0.301205   \nEasy Ensemble Classifier                    0.652361            0.554217   \nMultinomial Naive Bayes                     0.476395            0.554217   \nBalanced Random Forest Classifier           0.712446            0.698795   \nBalanced Bagging Classifier                 0.755365            0.650602   \nRUSBoost Classifier                         0.789700            0.614458   \nGaussian Process                            1.000000            0.795181   \nExtra Trees                                 1.000000            0.903614   \nRandom Forest                               1.000000            0.903614   \nGradient Boosting                           0.963519            0.903614   \n\n                                   Insample_Precision  Outsample_Precision  \\\nGaussian Naive Bayes                         0.981651             1.000000   \nEasy Ensemble Classifier                     1.000000             0.931818   \nMultinomial Naive Bayes                      0.953608             0.931818   \nBalanced Random Forest Classifier            1.000000             0.931034   \nBalanced Bagging Classifier                  0.996753             0.910714   \nRUSBoost Classifier                          0.949721             0.890909   \nGaussian Process                             1.000000             0.902778   \nExtra Trees                                  1.000000             0.903614   \nRandom Forest                                1.000000             0.903614   \nGradient Boosting                            0.961098             0.903614   \n\n                                   Insample_Recall  Outsample_Recall  \\\nGaussian Naive Bayes                      0.254762          0.226667   \nEasy Ensemble Classifier                  0.614286          0.546667   \nMultinomial Naive Bayes                   0.440476          0.546667   \nBalanced Random Forest Classifier         0.680952          0.720000   \nBalanced Bagging Classifier               0.730952          0.680000   \nRUSBoost Classifier                       0.809524          0.653333   \nGaussian Process                          1.000000          0.866667   \nExtra Trees                               1.000000          1.000000   \nRandom Forest                             1.000000          1.000000   \nGradient Boosting                         1.000000          1.000000   \n\n                                   Insample_F1 Score  Outsample_F1 Score  \\\nGaussian Naive Bayes                        0.404537            0.369565   \nEasy Ensemble Classifier                    0.761062            0.689076   \nMultinomial Naive Bayes                     0.602606            0.689076   \nBalanced Random Forest Classifier           0.810198            0.812030   \nBalanced Bagging Classifier                 0.843407            0.778626   \nRUSBoost Classifier                         0.874036            0.753846   \nGaussian Process                            1.000000            0.884354   \nExtra Trees                                 1.000000            0.949367   \nRandom Forest                               1.000000            0.949367   \nGradient Boosting                           0.980163            0.949367   \n\n                                   Insample_ROC AUC  Outsample_ROC AUC  \\\nGaussian Naive Bayes                       0.605642           0.613333   \nEasy Ensemble Classifier                   0.807143           0.585833   \nMultinomial Naive Bayes                    0.622412           0.585833   \nBalanced Random Forest Classifier          0.840476           0.610000   \nBalanced Bagging Classifier                0.854607           0.527500   \nRUSBoost Classifier                        0.709110           0.451667   \nGaussian Process                           1.000000           0.495833   \nExtra Trees                                1.000000           0.500000   \nRandom Forest                              1.000000           0.500000   \nGradient Boosting                          0.815217           0.500000   \n\n                                   Insample_Class-0 Acc  Insample_Class-1 Acc  \\\nGaussian Naive Bayes                           0.956522              0.254762   \nEasy Ensemble Classifier                       1.000000              0.614286   \nMultinomial Naive Bayes                        0.804348              0.440476   \nBalanced Random Forest Classifier              1.000000              0.680952   \nBalanced Bagging Classifier                    0.978261              0.730952   \nRUSBoost Classifier                            0.608696              0.809524   \nGaussian Process                               1.000000              1.000000   \nExtra Trees                                    1.000000              1.000000   \nRandom Forest                                  1.000000              1.000000   \nGradient Boosting                              0.630435              1.000000   \n\n                                   Outsample_Class-0 Acc  \\\nGaussian Naive Bayes                               1.000   \nEasy Ensemble Classifier                           0.625   \nMultinomial Naive Bayes                            0.625   \nBalanced Random Forest Classifier                  0.500   \nBalanced Bagging Classifier                        0.375   \nRUSBoost Classifier                                0.250   \nGaussian Process                                   0.125   \nExtra Trees                                        0.000   \nRandom Forest                                      0.000   \nGradient Boosting                                  0.000   \n\n                                   Outsample_Class-1 Acc  \nGaussian Naive Bayes                            0.226667  \nEasy Ensemble Classifier                        0.546667  \nMultinomial Naive Bayes                         0.546667  \nBalanced Random Forest Classifier               0.720000  \nBalanced Bagging Classifier                     0.680000  \nRUSBoost Classifier                             0.653333  \nGaussian Process                                0.866667  \nExtra Trees                                     1.000000  \nRandom Forest                                   1.000000  \nGradient Boosting                               1.000000  ",
      "text/html": "<div>\n<style scoped>\n    .dataframe tbody tr th:only-of-type {\n        vertical-align: middle;\n    }\n\n    .dataframe tbody tr th {\n        vertical-align: top;\n    }\n\n    .dataframe thead th {\n        text-align: right;\n    }\n</style>\n<table border=\"1\" class=\"dataframe\">\n  <thead>\n    <tr style=\"text-align: right;\">\n      <th></th>\n      <th>Insample_Accuracy</th>\n      <th>Outsample_Accuracy</th>\n      <th>Insample_Precision</th>\n      <th>Outsample_Precision</th>\n      <th>Insample_Recall</th>\n      <th>Outsample_Recall</th>\n      <th>Insample_F1 Score</th>\n      <th>Outsample_F1 Score</th>\n      <th>Insample_ROC AUC</th>\n      <th>Outsample_ROC AUC</th>\n      <th>Insample_Class-0 Acc</th>\n      <th>Insample_Class-1 Acc</th>\n      <th>Outsample_Class-0 Acc</th>\n      <th>Outsample_Class-1 Acc</th>\n    </tr>\n  </thead>\n  <tbody>\n    <tr>\n      <th>Gaussian Naive Bayes</th>\n      <td>0.324034</td>\n      <td>0.301205</td>\n      <td>0.981651</td>\n      <td>1.000000</td>\n      <td>0.254762</td>\n      <td>0.226667</td>\n      <td>0.404537</td>\n      <td>0.369565</td>\n      <td>0.605642</td>\n      <td>0.613333</td>\n      <td>0.956522</td>\n      <td>0.254762</td>\n      <td>1.000</td>\n      <td>0.226667</td>\n    </tr>\n    <tr>\n      <th>Easy Ensemble Classifier</th>\n      <td>0.652361</td>\n      <td>0.554217</td>\n      <td>1.000000</td>\n      <td>0.931818</td>\n      <td>0.614286</td>\n      <td>0.546667</td>\n      <td>0.761062</td>\n      <td>0.689076</td>\n      <td>0.807143</td>\n      <td>0.585833</td>\n      <td>1.000000</td>\n      <td>0.614286</td>\n      <td>0.625</td>\n      <td>0.546667</td>\n    </tr>\n    <tr>\n      <th>Multinomial Naive Bayes</th>\n      <td>0.476395</td>\n      <td>0.554217</td>\n      <td>0.953608</td>\n      <td>0.931818</td>\n      <td>0.440476</td>\n      <td>0.546667</td>\n      <td>0.602606</td>\n      <td>0.689076</td>\n      <td>0.622412</td>\n      <td>0.585833</td>\n      <td>0.804348</td>\n      <td>0.440476</td>\n      <td>0.625</td>\n      <td>0.546667</td>\n    </tr>\n    <tr>\n      <th>Balanced Random Forest Classifier</th>\n      <td>0.712446</td>\n      <td>0.698795</td>\n      <td>1.000000</td>\n      <td>0.931034</td>\n      <td>0.680952</td>\n      <td>0.720000</td>\n      <td>0.810198</td>\n      <td>0.812030</td>\n      <td>0.840476</td>\n      <td>0.610000</td>\n      <td>1.000000</td>\n      <td>0.680952</td>\n      <td>0.500</td>\n      <td>0.720000</td>\n    </tr>\n    <tr>\n      <th>Balanced Bagging Classifier</th>\n      <td>0.755365</td>\n      <td>0.650602</td>\n      <td>0.996753</td>\n      <td>0.910714</td>\n      <td>0.730952</td>\n      <td>0.680000</td>\n      <td>0.843407</td>\n      <td>0.778626</td>\n      <td>0.854607</td>\n      <td>0.527500</td>\n      <td>0.978261</td>\n      <td>0.730952</td>\n      <td>0.375</td>\n      <td>0.680000</td>\n    </tr>\n    <tr>\n      <th>RUSBoost Classifier</th>\n      <td>0.789700</td>\n      <td>0.614458</td>\n      <td>0.949721</td>\n      <td>0.890909</td>\n      <td>0.809524</td>\n      <td>0.653333</td>\n      <td>0.874036</td>\n      <td>0.753846</td>\n      <td>0.709110</td>\n      <td>0.451667</td>\n      <td>0.608696</td>\n      <td>0.809524</td>\n      <td>0.250</td>\n      <td>0.653333</td>\n    </tr>\n    <tr>\n      <th>Gaussian Process</th>\n      <td>1.000000</td>\n      <td>0.795181</td>\n      <td>1.000000</td>\n      <td>0.902778</td>\n      <td>1.000000</td>\n      <td>0.866667</td>\n      <td>1.000000</td>\n      <td>0.884354</td>\n      <td>1.000000</td>\n      <td>0.495833</td>\n      <td>1.000000</td>\n      <td>1.000000</td>\n      <td>0.125</td>\n      <td>0.866667</td>\n    </tr>\n    <tr>\n      <th>Extra Trees</th>\n      <td>1.000000</td>\n      <td>0.903614</td>\n      <td>1.000000</td>\n      <td>0.903614</td>\n      <td>1.000000</td>\n      <td>1.000000</td>\n      <td>1.000000</td>\n      <td>0.949367</td>\n      <td>1.000000</td>\n      <td>0.500000</td>\n      <td>1.000000</td>\n      <td>1.000000</td>\n      <td>0.000</td>\n      <td>1.000000</td>\n    </tr>\n    <tr>\n      <th>Random Forest</th>\n      <td>1.000000</td>\n      <td>0.903614</td>\n      <td>1.000000</td>\n      <td>0.903614</td>\n      <td>1.000000</td>\n      <td>1.000000</td>\n      <td>1.000000</td>\n      <td>0.949367</td>\n      <td>1.000000</td>\n      <td>0.500000</td>\n      <td>1.000000</td>\n      <td>1.000000</td>\n      <td>0.000</td>\n      <td>1.000000</td>\n    </tr>\n    <tr>\n      <th>Gradient Boosting</th>\n      <td>0.963519</td>\n      <td>0.903614</td>\n      <td>0.961098</td>\n      <td>0.903614</td>\n      <td>1.000000</td>\n      <td>1.000000</td>\n      <td>0.980163</td>\n      <td>0.949367</td>\n      <td>0.815217</td>\n      <td>0.500000</td>\n      <td>0.630435</td>\n      <td>1.000000</td>\n      <td>0.000</td>\n      <td>1.000000</td>\n    </tr>\n  </tbody>\n</table>\n</div>"
     },
     "execution_count": 13,
     "metadata": {},
     "output_type": "execute_result"
    }
   ],
   "source": [
    "cls_test = ClassificationModels(X_train, X_test, y_train[:,0], y_test[:,0])\n",
    "cls_test.run_evaluation()\n",
    "print(cls_test.not_trained_)\n",
    "print(cls_test.not_evaluated_)\n",
    "cls_test.all_scores.to_csv(\"/home/theerthala/Documents/repos/Crowdfunding-Social-Media-Drivers/Results/03 - Domain Engagement/success/lazy_scores.csv\")\n",
    "cls_test.top_10_socres"
   ]
  },
  {
   "cell_type": "markdown",
   "metadata": {},
   "source": [
    "#### Classification Notes\n",
    "> For the success model, based on the overall f1 scores, Balance RandomForest clssifier, Balanced Bagging Classifier are more suitable"
   ]
  },
  {
   "cell_type": "markdown",
   "metadata": {},
   "source": [
    "## Further Finetuning of the topk models"
   ]
  },
  {
   "cell_type": "markdown",
   "metadata": {},
   "source": [
    "### Collection Ratio"
   ]
  },
  {
   "cell_type": "code",
   "outputs": [
    {
     "name": "stdout",
     "output_type": "stream",
     "text": [
      "In-sample RMSE, R2: 1.87, 0.11035640104328315\n",
      "Out-sample RMSE, R2: 1.84, 0.028657842877498063\n"
     ]
    }
   ],
   "source": [
    "lars = linear_model.Lars(random_state=42)\n",
    "lars.fit(X_train, y_train[:,1])\n",
    "\n",
    "in_y_pred = lars.predict(X_train)\n",
    "out_y_pred = lars.predict(X_test)\n",
    "\n",
    "print(f'In-sample RMSE, R2: {np.sqrt(mean_squared_error(y_train[:,1], in_y_pred)):.2f}, {r2_score(y_train[:,1], in_y_pred)}')\n",
    "print(f'Out-sample RMSE, R2: {np.sqrt(mean_squared_error(y_test[:,1], out_y_pred)):.2f}, {r2_score(y_test[:,1], out_y_pred)}')\n"
   ],
   "metadata": {
    "collapsed": false,
    "ExecuteTime": {
     "end_time": "2024-03-17T02:06:42.204929Z",
     "start_time": "2024-03-17T02:06:42.198085Z"
    }
   },
   "execution_count": 16
  },
  {
   "cell_type": "code",
   "outputs": [
    {
     "name": "stdout",
     "output_type": "stream",
     "text": [
      "In-sample RMSE, R2: 1.92, 0.06516032447484565\n",
      "Out-sample RMSE, R2: 1.78, 0.09002356770127506\n"
     ]
    }
   ],
   "source": [
    "lassolars = linear_model.LassoLars(random_state=42)\n",
    "lassolars.fit(X_train, y_train[:,1])\n",
    "\n",
    "in_y_pred = lassolars.predict(X_train)\n",
    "out_y_pred = lassolars.predict(X_test)\n",
    "\n",
    "print(f'In-sample RMSE, R2: {np.sqrt(mean_squared_error(y_train[:,1], in_y_pred)):.2f}, {r2_score(y_train[:,1], in_y_pred)}')\n",
    "print(f'Out-sample RMSE, R2: {np.sqrt(mean_squared_error(y_test[:,1], out_y_pred)):.2f}, {r2_score(y_test[:,1], out_y_pred)}')"
   ],
   "metadata": {
    "collapsed": false,
    "ExecuteTime": {
     "end_time": "2024-03-17T02:06:42.209933Z",
     "start_time": "2024-03-17T02:06:42.205579Z"
    }
   },
   "execution_count": 17
  },
  {
   "cell_type": "code",
   "outputs": [
    {
     "name": "stdout",
     "output_type": "stream",
     "text": [
      "In-sample RMSE, R2: 1.88, 0.10184790077617456\n",
      "Out-sample RMSE, R2: 1.79, 0.07207982444879457\n"
     ]
    }
   ],
   "source": [
    "lassolars_cv = linear_model.LassoLarsCV(cv=50)\n",
    "lassolars_cv.fit(X_train, y_train[:,1])\n",
    "\n",
    "in_y_pred = lassolars_cv.predict(X_train)\n",
    "out_y_pred = lassolars_cv.predict(X_test)\n",
    "\n",
    "print(f'In-sample RMSE, R2: {np.sqrt(mean_squared_error(y_train[:,1], in_y_pred)):.2f}, {r2_score(y_train[:,1], in_y_pred)}')\n",
    "print(f'Out-sample RMSE, R2: {np.sqrt(mean_squared_error(y_test[:,1], out_y_pred)):.2f}, {r2_score(y_test[:,1], out_y_pred)}')"
   ],
   "metadata": {
    "collapsed": false,
    "ExecuteTime": {
     "end_time": "2024-03-17T02:06:42.259997Z",
     "start_time": "2024-03-17T02:06:42.210495Z"
    }
   },
   "execution_count": 18
  },
  {
   "cell_type": "code",
   "outputs": [
    {
     "name": "stdout",
     "output_type": "stream",
     "text": [
      "In-sample RMSE, R2: 1.92, 0.06516037252611695\n",
      "Out-sample RMSE, R2: 1.78, 0.09002374086652698\n"
     ]
    }
   ],
   "source": [
    "lasso = linear_model.Lasso(random_state=42)\n",
    "lasso.fit(X_train, y_train[:,1])\n",
    "\n",
    "in_y_pred = lasso.predict(X_train)\n",
    "out_y_pred = lasso.predict(X_test)\n",
    "\n",
    "print(f'In-sample RMSE, R2: {np.sqrt(mean_squared_error(y_train[:,1], in_y_pred)):.2f}, {r2_score(y_train[:,1], in_y_pred)}')\n",
    "print(f'Out-sample RMSE, R2: {np.sqrt(mean_squared_error(y_test[:,1], out_y_pred)):.2f}, {r2_score(y_test[:,1], out_y_pred)}')"
   ],
   "metadata": {
    "collapsed": false,
    "ExecuteTime": {
     "end_time": "2024-03-17T02:06:42.264994Z",
     "start_time": "2024-03-17T02:06:42.260616Z"
    }
   },
   "execution_count": 19
  },
  {
   "cell_type": "code",
   "execution_count": 20,
   "metadata": {
    "ExecuteTime": {
     "end_time": "2024-03-17T02:07:34.300361Z",
     "start_time": "2024-03-17T02:07:34.292239Z"
    }
   },
   "outputs": [
    {
     "data": {
      "text/plain": "['/home/theerthala/Documents/repos/Crowdfunding-Social-Media-Drivers/Modelling/final_models/03_domain_engagement/collection_ratio.pkl']"
     },
     "execution_count": 20,
     "metadata": {},
     "output_type": "execute_result"
    }
   ],
   "source": [
    "joblib.dump(lasso, '/home/theerthala/Documents/repos/Crowdfunding-Social-Media-Drivers/Modelling/final_models/03_domain_engagement/collection_ratio.pkl')"
   ]
  },
  {
   "cell_type": "markdown",
   "metadata": {},
   "source": [
    "### Number of Backers"
   ]
  },
  {
   "cell_type": "code",
   "outputs": [
    {
     "name": "stdout",
     "output_type": "stream",
     "text": [
      "In-sample RMSE, R2: 1378.42, 0.5789368351055881\n",
      "Out-sample RMSE, R2: 2342.29, 0.4678789564481154\n"
     ]
    }
   ],
   "source": [
    "hist_grad_boost = ensemble.HistGradientBoostingRegressor(random_state=42)\n",
    "hist_grad_boost.fit(X_train, y_train[:,2])\n",
    "\n",
    "in_y_pred = hist_grad_boost.predict(X_train)\n",
    "out_y_pred = hist_grad_boost.predict(X_test)\n",
    "\n",
    "print(f'In-sample RMSE, R2: {np.sqrt(mean_squared_error(y_train[:,2], in_y_pred)):.2f}, {r2_score(y_train[:,2], in_y_pred)}')\n",
    "print(f'Out-sample RMSE, R2: {np.sqrt(mean_squared_error(y_test[:,2], out_y_pred)):.2f}, {r2_score(y_test[:,2], out_y_pred)}')"
   ],
   "metadata": {
    "collapsed": false,
    "ExecuteTime": {
     "end_time": "2024-03-17T02:08:14.781451Z",
     "start_time": "2024-03-17T02:08:14.580796Z"
    }
   },
   "execution_count": 21
  },
  {
   "cell_type": "code",
   "execution_count": 22,
   "metadata": {
    "ExecuteTime": {
     "end_time": "2024-03-17T02:08:18.625300Z",
     "start_time": "2024-03-17T02:08:18.607828Z"
    }
   },
   "outputs": [
    {
     "name": "stdout",
     "output_type": "stream",
     "text": [
      "In-sample RMSE, R2: 1894.16, 0.20491147485641825\n",
      "Out-sample RMSE, R2: 2674.18, 0.30640154548056087\n"
     ]
    }
   ],
   "source": [
    "poisson = linear_model.PoissonRegressor()\n",
    "poisson.fit(X_train, y_train[:,2])\n",
    "\n",
    "in_y_pred = poisson.predict(X_train)\n",
    "out_y_pred = poisson.predict(X_test)\n",
    "\n",
    "print(f'In-sample RMSE, R2: {np.sqrt(mean_squared_error(y_train[:,2], in_y_pred)):.2f}, {r2_score(y_train[:,2], in_y_pred)}')\n",
    "print(f'Out-sample RMSE, R2: {np.sqrt(mean_squared_error(y_test[:,2], out_y_pred)):.2f}, {r2_score(y_test[:,2], out_y_pred)}')"
   ]
  },
  {
   "cell_type": "code",
   "execution_count": 23,
   "metadata": {
    "ExecuteTime": {
     "end_time": "2024-03-17T02:08:23.843668Z",
     "start_time": "2024-03-17T02:08:23.805478Z"
    }
   },
   "outputs": [
    {
     "data": {
      "text/plain": "['/home/theerthala/Documents/repos/Crowdfunding-Social-Media-Drivers/Modelling/final_models/03_domain_engagement/num_backers.pkl']"
     },
     "execution_count": 23,
     "metadata": {},
     "output_type": "execute_result"
    }
   ],
   "source": [
    "joblib.dump(hist_grad_boost, '/home/theerthala/Documents/repos/Crowdfunding-Social-Media-Drivers/Modelling/final_models/03_domain_engagement/num_backers.pkl')"
   ]
  },
  {
   "cell_type": "markdown",
   "metadata": {},
   "source": [
    "### Success"
   ]
  },
  {
   "cell_type": "code",
   "outputs": [
    {
     "name": "stdout",
     "output_type": "stream",
     "text": [
      "Overall In-sample Accuracy: 0.6523605150214592\n",
      "Overall Out-sample Accuracy: 0.5542168674698795 \n",
      "\n",
      "In-sample Class 0 Accuracy: 1.0\n",
      "Out-sample Class 0 Accuracy: 0.625 \n",
      "\n",
      "In-sample Class 1 Accuracy: 0.6142857142857143\n",
      "Out-sample Class 1 Accuracy: 0.5466666666666666\n"
     ]
    }
   ],
   "source": [
    "easy_ensemble = EasyEnsembleClassifier(random_state=42)\n",
    "easy_ensemble.fit(X_train, y_train[:,0])\n",
    "\n",
    "y_pred_in = easy_ensemble.predict(X_train)\n",
    "y_pred_out = easy_ensemble.predict(X_test)\n",
    "\n",
    "def get_class_wise_acc(y_true, y_pred):\n",
    "    cm = confusion_matrix(y_true, y_pred)\n",
    "    return cm[0,0]/cm[0].sum(), cm[1,1]/cm[1].sum()\n",
    "\n",
    "in_class_0_acc, in_class_1_acc = get_class_wise_acc(y_train[:,0], y_pred_in)\n",
    "out_class_0_acc, out_class_1_acc = get_class_wise_acc(y_test[:,0], y_pred_out)\n",
    "\n",
    "print(f'Overall In-sample Accuracy: {accuracy_score(y_train[:,0], y_pred_in)}')\n",
    "print(f'Overall Out-sample Accuracy: {accuracy_score(y_test[:,0], y_pred_out)} \\n')\n",
    "\n",
    "print(f'In-sample Class 0 Accuracy: {in_class_0_acc}')\n",
    "print(f'Out-sample Class 0 Accuracy: {out_class_0_acc} \\n')\n",
    "\n",
    "print(f'In-sample Class 1 Accuracy: {in_class_1_acc}')\n",
    "print(f'Out-sample Class 1 Accuracy: {out_class_1_acc}')"
   ],
   "metadata": {
    "collapsed": false,
    "ExecuteTime": {
     "end_time": "2024-03-17T02:09:54.572494Z",
     "start_time": "2024-03-17T02:09:54.125461Z"
    }
   },
   "execution_count": 25
  },
  {
   "cell_type": "code",
   "execution_count": 27,
   "metadata": {
    "ExecuteTime": {
     "end_time": "2024-03-17T02:10:18.527923Z",
     "start_time": "2024-03-17T02:10:15.073276Z"
    }
   },
   "outputs": [
    {
     "name": "stdout",
     "output_type": "stream",
     "text": [
      "Number of Estimators: 75\n",
      "Overall In-sample Accuracy: 0.7124463519313304\n",
      "Overall Out-sample Accuracy: 0.6987951807228916 \n",
      "\n",
      "In-sample Class 0 Accuracy: 1.0\n",
      "Out-sample Class 0 Accuracy: 0.5 \n",
      "\n",
      "In-sample Class 1 Accuracy: 0.680952380952381\n",
      "Out-sample Class 1 Accuracy: 0.72\n",
      "----------\n",
      "Number of Estimators: 100\n",
      "Overall In-sample Accuracy: 0.7124463519313304\n",
      "Overall Out-sample Accuracy: 0.6987951807228916 \n",
      "\n",
      "In-sample Class 0 Accuracy: 1.0\n",
      "Out-sample Class 0 Accuracy: 0.5 \n",
      "\n",
      "In-sample Class 1 Accuracy: 0.680952380952381\n",
      "Out-sample Class 1 Accuracy: 0.72\n",
      "----------\n",
      "Number of Estimators: 500\n",
      "Overall In-sample Accuracy: 0.7060085836909872\n",
      "Overall Out-sample Accuracy: 0.6746987951807228 \n",
      "\n",
      "In-sample Class 0 Accuracy: 1.0\n",
      "Out-sample Class 0 Accuracy: 0.625 \n",
      "\n",
      "In-sample Class 1 Accuracy: 0.6738095238095239\n",
      "Out-sample Class 1 Accuracy: 0.68\n",
      "----------\n",
      "Number of Estimators: 1000\n",
      "Overall In-sample Accuracy: 0.6995708154506438\n",
      "Overall Out-sample Accuracy: 0.6626506024096386 \n",
      "\n",
      "In-sample Class 0 Accuracy: 1.0\n",
      "Out-sample Class 0 Accuracy: 0.625 \n",
      "\n",
      "In-sample Class 1 Accuracy: 0.6666666666666666\n",
      "Out-sample Class 1 Accuracy: 0.6666666666666666\n",
      "----------\n",
      "Number of Estimators: 2000\n",
      "Overall In-sample Accuracy: 0.7081545064377682\n",
      "Overall Out-sample Accuracy: 0.6867469879518072 \n",
      "\n",
      "In-sample Class 0 Accuracy: 1.0\n",
      "Out-sample Class 0 Accuracy: 0.5 \n",
      "\n",
      "In-sample Class 1 Accuracy: 0.6761904761904762\n",
      "Out-sample Class 1 Accuracy: 0.7066666666666667\n",
      "----------\n"
     ]
    }
   ],
   "source": [
    "n_estimator_list = [75, 100, 500, 1000, 2000]\n",
    "\n",
    "for n_estimators in n_estimator_list:\n",
    "    balanced_rf = BalancedRandomForestClassifier(random_state=42, n_estimators=n_estimators)\n",
    "    balanced_rf.fit(X_train, y_train[:,0])\n",
    "    \n",
    "    y_pred_in = balanced_rf.predict(X_train)\n",
    "    y_pred_out = balanced_rf.predict(X_test)\n",
    "    \n",
    "    \n",
    "    in_class_0_acc, in_class_1_acc = get_class_wise_acc(y_train[:,0], y_pred_in)\n",
    "    out_class_0_acc, out_class_1_acc = get_class_wise_acc(y_test[:,0], y_pred_out)\n",
    "    \n",
    "    print(f'Number of Estimators: {n_estimators}')\n",
    "    print(f'Overall In-sample Accuracy: {accuracy_score(y_train[:,0], y_pred_in)}')\n",
    "    print(f'Overall Out-sample Accuracy: {accuracy_score(y_test[:,0], y_pred_out)} \\n')\n",
    "    \n",
    "    print(f'In-sample Class 0 Accuracy: {in_class_0_acc}')\n",
    "    print(f'Out-sample Class 0 Accuracy: {out_class_0_acc} \\n')\n",
    "    \n",
    "    print(f'In-sample Class 1 Accuracy: {in_class_1_acc}')\n",
    "    print(f'Out-sample Class 1 Accuracy: {out_class_1_acc}')\n",
    "\n",
    "    print('-'*10)"
   ]
  },
  {
   "cell_type": "code",
   "outputs": [
    {
     "name": "stdout",
     "output_type": "stream",
     "text": [
      "Overall In-sample Accuracy: 0.7060085836909872\n",
      "Overall Out-sample Accuracy: 0.6746987951807228 \n",
      "\n",
      "In-sample Class 0 Accuracy: 1.0\n",
      "Out-sample Class 0 Accuracy: 0.625 \n",
      "\n",
      "In-sample Class 1 Accuracy: 0.6738095238095239\n",
      "Out-sample Class 1 Accuracy: 0.68\n"
     ]
    }
   ],
   "source": [
    "rf_500 = BalancedRandomForestClassifier(random_state=42, n_estimators=500)\n",
    "rf_500.fit(X_train, y_train[:,0])\n",
    "\n",
    "y_pred_in = rf_500.predict(X_train)\n",
    "y_pred_out = rf_500.predict(X_test)\n",
    "\n",
    "in_class_0_acc, in_class_1_acc = get_class_wise_acc(y_train[:,0], y_pred_in)\n",
    "out_class_0_acc, out_class_1_acc = get_class_wise_acc(y_test[:,0], y_pred_out)\n",
    "\n",
    "print(f'Overall In-sample Accuracy: {accuracy_score(y_train[:,0], y_pred_in)}')\n",
    "print(f'Overall Out-sample Accuracy: {accuracy_score(y_test[:,0], y_pred_out)} \\n')\n",
    "\n",
    "print(f'In-sample Class 0 Accuracy: {in_class_0_acc}')\n",
    "print(f'Out-sample Class 0 Accuracy: {out_class_0_acc} \\n')\n",
    "\n",
    "print(f'In-sample Class 1 Accuracy: {in_class_1_acc}')\n",
    "print(f'Out-sample Class 1 Accuracy: {out_class_1_acc}')"
   ],
   "metadata": {
    "collapsed": false,
    "ExecuteTime": {
     "end_time": "2024-03-17T02:11:32.242759Z",
     "start_time": "2024-03-17T02:11:31.695663Z"
    }
   },
   "execution_count": 28
  },
  {
   "cell_type": "code",
   "execution_count": 29,
   "metadata": {
    "ExecuteTime": {
     "end_time": "2024-03-17T02:11:44.475173Z",
     "start_time": "2024-03-17T02:11:44.149802Z"
    }
   },
   "outputs": [
    {
     "data": {
      "text/plain": "['/home/theerthala/Documents/repos/Crowdfunding-Social-Media-Drivers/Modelling/final_models/03_domain_engagement/success.pkl']"
     },
     "execution_count": 29,
     "metadata": {},
     "output_type": "execute_result"
    }
   ],
   "source": [
    "joblib.dump(rf_500, '/home/theerthala/Documents/repos/Crowdfunding-Social-Media-Drivers/Modelling/final_models/03_domain_engagement/success.pkl')"
   ]
  }
 ],
 "metadata": {
  "kernelspec": {
   "display_name": "Python 3",
   "language": "python",
   "name": "python3"
  },
  "language_info": {
   "codemirror_mode": {
    "name": "ipython",
    "version": 3
   },
   "file_extension": ".py",
   "mimetype": "text/x-python",
   "name": "python",
   "nbconvert_exporter": "python",
   "pygments_lexer": "ipython3",
   "version": "3.10.13"
  }
 },
 "nbformat": 4,
 "nbformat_minor": 2
}
