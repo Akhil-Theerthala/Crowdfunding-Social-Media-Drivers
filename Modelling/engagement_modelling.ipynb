{
 "cells": [
  {
   "cell_type": "code",
   "execution_count": 12,
   "metadata": {},
   "outputs": [],
   "source": [
    "import pandas as pd \n",
    "import numpy as np\n",
    "import sklearn\n",
    "import xgboost as xgb\n",
    "from sklearn.ensemble import RandomForestRegressor\n",
    "from sklearn.svm import SVR\n",
    "from sklearn.linear_model import PoissonRegressor\n",
    "from sklearn.multioutput import MultiOutputRegressor\n",
    "from sklearn.model_selection import train_test_split\n",
    "from sklearn.metrics import mean_squared_error, r2_score, roc_auc_score\n",
    "from sklearn.model_selection import GridSearchCV\n",
    "from sklearn.preprocessing import RobustScaler\n",
    "\n",
    "post_data = pd.read_csv('/workspaces/Crowdfunding-Social-Media-Drivers/Data/Original_dataset/processed_data.csv')\n",
    "\n",
    "targets = ['likes', 'shares', 'comments', 'positive_reactions', 'negative_reactions']\n",
    "features = [x for x in post_data.columns if x not in targets]\n",
    "\n",
    "\n",
    "features = post_data[features]\n",
    "targets = post_data[targets]\n",
    "\n"
   ]
  },
  {
   "cell_type": "code",
   "execution_count": 13,
   "metadata": {},
   "outputs": [],
   "source": [
    "def pre_process(x):\n",
    "    scalable_features = ['likes_at_posting', 'followers_at_posting', 'post_views']\n",
    "    noticable_entities = ['ORG', 'PERSON', 'DATE',\n",
    "                          'CARDINAL', 'GPE', 'PRODUCT', \n",
    "                          'WORK_OF_ART','ORDINAL', 'MONEY',\n",
    "                          'TIME', 'NORP']\n",
    "    scaler = RobustScaler()\n",
    "    x.loc[:,scalable_features] = scaler.fit_transform(x.loc[:,scalable_features])\n",
    "\n",
    "    x = pd.concat([x, pd.get_dummies(x.type, prefix='type', drop_first=True).astype(int)], axis=1).drop('type', axis=1)\n",
    "    x = pd.concat([x, pd.get_dummies(x.page_name, prefix='page_name').astype(int)], axis=1).drop('page_name', axis=1)\n",
    "    for entity in noticable_entities:\n",
    "        x[f'entity_{entity}'] = x.entities_identified.fillna('None').str.split(',').apply(lambda entity_list: entity in entity_list).astype(int)\n",
    "    \n",
    "    x = x.drop('entities_identified', axis=1)\n",
    "    return x\n",
    "\n",
    "\n",
    "def process_targets(y):\n",
    "    y = y.copy()\n",
    "    y = np.log(y+1)\n",
    "    return y\n",
    "\n",
    "def decode_targets(y):\n",
    "    y = y.copy()\n",
    "    y = np.exp(y)-1\n",
    "    return y"
   ]
  },
  {
   "cell_type": "code",
   "execution_count": 14,
   "metadata": {},
   "outputs": [],
   "source": [
    "processed_features = pre_process(features)\n",
    "processed_targets = process_targets(targets)"
   ]
  },
  {
   "cell_type": "code",
   "execution_count": 15,
   "metadata": {},
   "outputs": [],
   "source": [
    "x_train, x_test, y_train, y_test = train_test_split(processed_features, processed_targets, test_size=0.2, random_state=42)\n",
    "# x_train, x_val, y_train, y_val = train_test_split(x_train, y_train, test_size=0.15, random_state=42)\n",
    "\n",
    "y_test = decode_targets(y_test)"
   ]
  },
  {
   "cell_type": "code",
   "execution_count": 17,
   "metadata": {},
   "outputs": [
    {
     "name": "stdout",
     "output_type": "stream",
     "text": [
      "Fitting 5 folds for each of 1 candidates, totalling 5 fits\n",
      "[CV] END learning_rate=0.05, max_depth=3, n_estimators=500, n_jobs=-1, random_state=42; total time=   3.4s\n",
      "[CV] END learning_rate=0.05, max_depth=3, n_estimators=500, n_jobs=-1, random_state=42; total time=   3.5s\n",
      "[CV] END learning_rate=0.05, max_depth=3, n_estimators=500, n_jobs=-1, random_state=42; total time=   3.4s\n",
      "[CV] END learning_rate=0.05, max_depth=3, n_estimators=500, n_jobs=-1, random_state=42; total time=   3.4s\n",
      "[CV] END learning_rate=0.05, max_depth=3, n_estimators=500, n_jobs=-1, random_state=42; total time=   2.0s\n",
      "{'learning_rate': 0.05, 'max_depth': 3, 'n_estimators': 500, 'n_jobs': -1, 'random_state': 42}\n",
      "XGB RMSE: 29.70453285106309\n",
      "XGB R2: 0.48085040544304947\n"
     ]
    }
   ],
   "source": [
    "#xgb training\n",
    "xgb_param_grid = {\n",
    "    'n_estimators': [500, 1000, 2500, 5000],\n",
    "    'learning_rate': [0.05, 0.001, 0.01],\n",
    "    'max_depth': [3, 5, 10],\n",
    "    'random_state': [42],\n",
    "    'n_jobs': [-1]\n",
    "}\n",
    "\n",
    "\n",
    "xgb_grid_search = GridSearchCV(xgb.XGBRegressor(), xgb_param_grid, cv=5, scoring='neg_mean_squared_error', verbose=2, n_jobs=-1)\n",
    "xgb_grid_search.fit(x_train, y_train)\n",
    "\n",
    "xgb_best_params = xgb_grid_search.best_params_\n",
    "xgb_best_estimator = xgb_grid_search.best_estimator_\n",
    "\n",
    "\n",
    "\n",
    "print(xgb_best_params)\n",
    "\n",
    "xgb_best_estimator.fit(x_train, y_train)\n",
    "\n",
    "xgb_pred = xgb_best_estimator.predict(x_test)\n",
    "xgb_pred = decode_targets(xgb_pred).astype(int)\n",
    "xgb_rmse = np.sqrt(mean_squared_error(y_test, xgb_pred))\n",
    "xgb_r2 = r2_score(y_test, xgb_pred)\n",
    "# xgb_roc_auc = roc_auc_score(y_test, xgb_pred)\n",
    "\n",
    "print(f'XGB RMSE: {xgb_rmse}')\n",
    "print(f'XGB R2: {xgb_r2}')"
   ]
  },
  {
   "cell_type": "code",
   "execution_count": null,
   "metadata": {},
   "outputs": [],
   "source": [
    "estimators = [100,150,200,250,500,750, 1000]\n",
    "features = [0.33,0.5, 1, 'sqrt']\n",
    "samples_leaf = [1,2,5,10]\n",
    "bootstrap = [True, False]\n",
    "min_samples_split = [2, 5, 10]\n",
    "\n",
    "\n",
    "random_grid = {'estimator__n_estimators': estimators,\n",
    "               'estimator__max_features': features,\n",
    "               'estimator__min_samples_split': min_samples_split,\n",
    "               'estimator__min_samples_leaf': samples_leaf,\n",
    "               'estimator__bootstrap': bootstrap}\n",
    "\n",
    "rf_grid_search = GridSearchCV(RandomForestRegressor(criterion=\"poisson\"), random_grid, cv=5, scoring='neg_mean_squared_error', verbose=2, n_jobs=-1)\n",
    "rf_grid_search.fit(x_train, y_train)\n",
    "\n",
    "rf_best_params = rf_grid_search.best_params_\n",
    "rf_best_estimator = rf_grid_search.best_estimator_\n",
    "\n",
    "print(rf_best_params)\n",
    "\n",
    "rf_best_estimator.fit(x_train, y_train)\n",
    "rf_pred = rf_best_estimator.predict(x_test)\n",
    "rf_pred = decode_targets(rf_pred).astype(int)\n",
    "rf_rmse = np.sqrt(mean_squared_error(y_test, rf_pred))\n",
    "rf_r2 = r2_score(y_test, rf_pred)\n",
    "\n",
    "print(f'RF RMSE: {rf_rmse}')\n",
    "print(f'RF R2: {rf_r2}')"
   ]
  }
 ],
 "metadata": {
  "kernelspec": {
   "display_name": "Python 3",
   "language": "python",
   "name": "python3"
  },
  "language_info": {
   "codemirror_mode": {
    "name": "ipython",
    "version": 3
   },
   "file_extension": ".py",
   "mimetype": "text/x-python",
   "name": "python",
   "nbconvert_exporter": "python",
   "pygments_lexer": "ipython3",
   "version": "3.10.13"
  }
 },
 "nbformat": 4,
 "nbformat_minor": 2
}
