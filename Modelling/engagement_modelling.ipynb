{
 "cells": [
  {
   "cell_type": "code",
   "execution_count": 101,
   "metadata": {},
   "outputs": [],
   "source": [
    "import pandas as pd \n",
    "import numpy as np\n",
    "import sklearn\n",
    "import xgboost as xgb\n",
    "from sklearn.ensemble import RandomForestRegressor, GradientBoostingRegressor, AdaBoostRegressor\n",
    "from sklearn.model_selection import train_test_split\n",
    "from sklearn.metrics import mean_squared_error, r2_score, roc_auc_score\n",
    "from sklearn.model_selection import GridSearchCV\n",
    "from sklearn.preprocessing import RobustScaler\n",
    "\n",
    "post_data = pd.read_csv('/workspaces/Crowdfunding-Social-Media-Drivers/Data/Original_dataset/processed_data.csv')\n",
    "\n",
    "targets = ['likes', 'shares', 'comments', 'positive_reactions', 'negative_reactions']\n",
    "features = [x for x in post_data.columns if x not in targets]\n",
    "\n",
    "\n",
    "features = post_data[features]\n",
    "targets = post_data[targets]\n",
    "\n"
   ]
  },
  {
   "cell_type": "code",
   "execution_count": 102,
   "metadata": {},
   "outputs": [],
   "source": [
    "def pre_process(x):\n",
    "    scalable_features = ['likes_at_posting', 'followers_at_posting', 'post_views']\n",
    "    noticable_entities = ['ORG', 'PERSON', 'DATE',\n",
    "                          'CARDINAL', 'GPE', 'PRODUCT', \n",
    "                          'WORK_OF_ART','ORDINAL', 'MONEY',\n",
    "                          'TIME', 'NORP']\n",
    "    scaler = RobustScaler()\n",
    "    x.loc[:,scalable_features] = scaler.fit_transform(x.loc[:,scalable_features])\n",
    "\n",
    "    x = pd.concat([x, pd.get_dummies(x.type, prefix='type', drop_first=True).astype(int)], axis=1).drop('type', axis=1)\n",
    "    x = pd.concat([x, pd.get_dummies(x.page_name, prefix='page_name').astype(int)], axis=1).drop('page_name', axis=1)\n",
    "    for entity in noticable_entities:\n",
    "        x[f'entity_{entity}'] = x.entities_identified.fillna('None').str.split(',').apply(lambda entity_list: entity in entity_list).astype(int)\n",
    "    \n",
    "    x = x.drop('entities_identified', axis=1)\n",
    "    return x\n",
    "\n",
    "\n",
    "def process_targets(y):\n",
    "    y = y.copy()\n",
    "    y = np.log(y+1)\n",
    "    return y\n",
    "\n",
    "def decode_targets(y):\n",
    "    y = y.copy()\n",
    "    y = np.exp(y)-1\n",
    "    return y"
   ]
  },
  {
   "cell_type": "code",
   "execution_count": 103,
   "metadata": {},
   "outputs": [],
   "source": [
    "processed_features = pre_process(features)\n",
    "processed_targets = process_targets(targets)"
   ]
  },
  {
   "cell_type": "code",
   "execution_count": 104,
   "metadata": {},
   "outputs": [],
   "source": [
    "x_train, x_test, y_train, y_test = train_test_split(processed_features, processed_targets, test_size=0.2, random_state=42)\n",
    "x_train, x_val, y_train, y_val = train_test_split(x_train, y_train, test_size=0.15, random_state=42)\n",
    "\n",
    "y_test = decode_targets(y_test)"
   ]
  },
  {
   "cell_type": "code",
   "execution_count": 108,
   "metadata": {},
   "outputs": [
    {
     "name": "stderr",
     "output_type": "stream",
     "text": [
      "/home/codespace/.python/current/lib/python3.10/site-packages/xgboost/sklearn.py:889: UserWarning: `early_stopping_rounds` in `fit` method is deprecated for better compatibility with scikit-learn, use `early_stopping_rounds` in constructor or`set_params` instead.\n",
      "  warnings.warn(\n"
     ]
    },
    {
     "name": "stdout",
     "output_type": "stream",
     "text": [
      "XGB\n",
      "RMSE:  29.11420015874544\n",
      "R2:  0.49737119692011433\n"
     ]
    }
   ],
   "source": [
    "#xgb training\n",
    "xgb_model = xgb.XGBRegressor(objective='reg:squarederror', n_estimators=1000, learning_rate=0.05, max_depth=5, random_state=42)\n",
    "xgb_model.fit(x_train, y_train, eval_set=[(x_val, y_val)], early_stopping_rounds=150, verbose=False)\n",
    "xgb_pred = xgb_model.predict(x_test)\n",
    "xgb_pred = decode_targets(xgb_pred)\n",
    "\n",
    "print('XGB')\n",
    "print('RMSE: ', np.sqrt(mean_squared_error(y_test, xgb_pred)))\n",
    "print('R2: ', r2_score(y_test, xgb_pred))\n"
   ]
  }
 ],
 "metadata": {
  "kernelspec": {
   "display_name": "Python 3",
   "language": "python",
   "name": "python3"
  },
  "language_info": {
   "codemirror_mode": {
    "name": "ipython",
    "version": 3
   },
   "file_extension": ".py",
   "mimetype": "text/x-python",
   "name": "python",
   "nbconvert_exporter": "python",
   "pygments_lexer": "ipython3",
   "version": "3.10.13"
  }
 },
 "nbformat": 4,
 "nbformat_minor": 2
}
