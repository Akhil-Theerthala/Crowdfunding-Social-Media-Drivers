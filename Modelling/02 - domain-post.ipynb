{
 "cells": [
  {
   "cell_type": "code",
   "execution_count": 62,
   "metadata": {
    "ExecuteTime": {
     "end_time": "2024-03-17T01:55:46.477384Z",
     "start_time": "2024-03-17T01:55:46.418346Z"
    }
   },
   "outputs": [
    {
     "data": {
      "text/plain": "   collected  goal_amount  num_backers    category  pledge_types  donate  \\\n2  12.960635    10.819778     6.823286      design           4.0     0.0   \n4  11.866416     9.903488     6.954639      comics           8.0     0.0   \n5  10.374272    10.308953     5.318120  film_Video          13.0     0.0   \n6   9.542446     8.804775     5.556828      comics          16.0     0.0   \n8  11.346304     9.210340     7.051856       games          27.0     0.0   \n\n   project_we_love  success  start_month  start_day  population country  \\\n2              1.0        1            6          1    684451.0      WA   \n4              1.0        1            6          1    105319.0      CA   \n5              1.0        1            6          1   8175133.0      NY   \n6              1.0        1            6          1   3971883.0      CA   \n8              1.0        1            6          4    621849.0      MD   \n\n   Person  Team  num_projects  num_backed            verified fb_page_name  \\\n2       0     1             7          16         Marc Barros  Kickstarter   \n4       1     0             3          88         Adam Lawson  Kickstarter   \n5       1     0             1           2     Julia Greenberg  Kickstarter   \n6       0     1             4          23   Donold Wooldridge  Kickstarter   \n8       1     0             5          21     Amanda Coronado  Kickstarter   \n\n   fb_likes_at_posting  fb_followers_at_posting  fb_likes  fb_comments  \\\n2              1589901                  1588019        10            2   \n4              1589930                  1588019         4            1   \n5              1589715                  1587803         3            1   \n6              1589715                  1587803         3            5   \n8              1589543                  1587618         9            3   \n\n   fb_shares  fb_post_views  fb_readability  fb_readability_lix  \\\n2          1             12        4.836818           33.727273   \n4          0              5        6.933333           29.111111   \n5          0              4       15.900000           61.666667   \n6          1              5       14.239500           45.000000   \n8          1             11        3.083867           20.333333   \n\n   fb_entropy_scores  fb_perplexity_scores   fb_fear  fb_anger  fb_anticip  \\\n2           0.719996              2.054425  0.000024  0.000011    0.000037   \n4           0.625279              1.868768  0.000057  0.000018    0.000070   \n5           0.284582              1.329206  0.285714  0.000047    0.000050   \n6           0.570874              1.769813  0.200000  0.200000    0.000072   \n8           0.466686              1.594701  0.000036  0.000051    0.000068   \n\n   fb_trust  fb_surprise  fb_positive  fb_negative  fb_sadness  fb_disgust  \\\n2  0.000062     0.000093     1.000000     0.000029    0.000020    0.000028   \n4  0.000098     0.000096     0.000032     0.000036    0.000013    0.000020   \n5  0.000100     0.000088     0.285714     0.142857    0.000096    0.000082   \n6  0.000028     0.000076     0.000049     0.400000    0.200000    0.000072   \n8  0.000010     0.000083     1.000000     0.000015    0.000030    0.000068   \n\n     fb_joy fb_entities_identified  fb_post_sponsored  fb_post_age  \\\n2  0.000062                PRODUCT                  0            2   \n4  0.000074        CARDINAL,PERSON                  0            8   \n5  0.142857             PERSON,GPE                  0            9   \n6  0.000036            WORK_OF_ART                  0           10   \n8  0.000067        PERSON,CARDINAL                  0           14   \n\n   fb_page_age  fb_positive_reactions  fb_negative_reactions  fb_topic_0  \\\n2         4839                      2                      0    0.000064   \n4         4839                      0                      1    0.000026   \n5         4839                      0                      1    0.000019   \n6         4839                      1                      1    0.000043   \n8         4839                      1                      1    0.000018   \n\n   fb_topic_1  fb_topic_2  fb_topic_3  fb_topic_4  fb_topic_5  fb_topic_6  \\\n2    0.000036    0.000074    0.242741    0.000100    0.000050    0.450027   \n4    0.000060    0.939369    0.000080    0.000065    0.000032    0.000011   \n5    0.154496    0.000084    0.081168    0.000079    0.126198    0.000052   \n6    0.000028    0.162778    0.000097    0.000045    0.000027    0.059113   \n8    0.000018    0.073925    0.798958    0.000098    0.000041    0.000093   \n\n   fb_topic_7  fb_topic_8  fb_topic_9  fb_topic_10  collection_ratio  \\\n2    0.075764    0.085070    0.000038     0.116083          8.506720   \n4    0.000050    0.000082    0.000096     0.000015          7.120150   \n5    0.156902    0.294644    0.163853     0.000095          1.067500   \n6    0.062181    0.060710    0.626484     0.000060          2.091059   \n8    0.000046    0.000022    0.000042     0.102862          8.465200   \n\n          region  fb_type_link  fb_type_photo  fb_type_video  \\\n2  North America             1              0              0   \n4  North America             1              0              0   \n5  North America             1              0              0   \n6  North America             1              0              0   \n8  North America             1              0              0   \n\n   duration_<1 week  duration_1-2 weeks  duration_2 weeks - 1 month  \\\n2                 0                   0                           1   \n4                 0                   0                           0   \n5                 0                   0                           1   \n6                 0                   0                           0   \n8                 0                   0                           1   \n\n   duration_1-2 months  fb_entity_ORG  fb_entity_PERSON  fb_entity_DATE  \\\n2                    0              0                 0               0   \n4                    1              0                 1               0   \n5                    0              0                 1               0   \n6                    1              0                 0               0   \n8                    0              0                 1               0   \n\n   fb_entity_CARDINAL  fb_entity_GPE  fb_entity_PRODUCT  \\\n2                   0              0                  1   \n4                   1              0                  0   \n5                   0              1                  0   \n6                   0              0                  0   \n8                   1              0                  0   \n\n   fb_entity_WORK_OF_ART  fb_entity_ORDINAL  fb_entity_MONEY  fb_entity_TIME  \\\n2                      0                  0                0               0   \n4                      0                  0                0               0   \n5                      0                  0                0               0   \n6                      1                  0                0               0   \n8                      0                  0                0               0   \n\n   fb_entity_NORP  \n2               0  \n4               0  \n5               0  \n6               0  \n8               0  ",
      "text/html": "<div>\n<style scoped>\n    .dataframe tbody tr th:only-of-type {\n        vertical-align: middle;\n    }\n\n    .dataframe tbody tr th {\n        vertical-align: top;\n    }\n\n    .dataframe thead th {\n        text-align: right;\n    }\n</style>\n<table border=\"1\" class=\"dataframe\">\n  <thead>\n    <tr style=\"text-align: right;\">\n      <th></th>\n      <th>collected</th>\n      <th>goal_amount</th>\n      <th>num_backers</th>\n      <th>category</th>\n      <th>pledge_types</th>\n      <th>donate</th>\n      <th>project_we_love</th>\n      <th>success</th>\n      <th>start_month</th>\n      <th>start_day</th>\n      <th>population</th>\n      <th>country</th>\n      <th>Person</th>\n      <th>Team</th>\n      <th>num_projects</th>\n      <th>num_backed</th>\n      <th>verified</th>\n      <th>fb_page_name</th>\n      <th>fb_likes_at_posting</th>\n      <th>fb_followers_at_posting</th>\n      <th>fb_likes</th>\n      <th>fb_comments</th>\n      <th>fb_shares</th>\n      <th>fb_post_views</th>\n      <th>fb_readability</th>\n      <th>fb_readability_lix</th>\n      <th>fb_entropy_scores</th>\n      <th>fb_perplexity_scores</th>\n      <th>fb_fear</th>\n      <th>fb_anger</th>\n      <th>fb_anticip</th>\n      <th>fb_trust</th>\n      <th>fb_surprise</th>\n      <th>fb_positive</th>\n      <th>fb_negative</th>\n      <th>fb_sadness</th>\n      <th>fb_disgust</th>\n      <th>fb_joy</th>\n      <th>fb_entities_identified</th>\n      <th>fb_post_sponsored</th>\n      <th>fb_post_age</th>\n      <th>fb_page_age</th>\n      <th>fb_positive_reactions</th>\n      <th>fb_negative_reactions</th>\n      <th>fb_topic_0</th>\n      <th>fb_topic_1</th>\n      <th>fb_topic_2</th>\n      <th>fb_topic_3</th>\n      <th>fb_topic_4</th>\n      <th>fb_topic_5</th>\n      <th>fb_topic_6</th>\n      <th>fb_topic_7</th>\n      <th>fb_topic_8</th>\n      <th>fb_topic_9</th>\n      <th>fb_topic_10</th>\n      <th>collection_ratio</th>\n      <th>region</th>\n      <th>fb_type_link</th>\n      <th>fb_type_photo</th>\n      <th>fb_type_video</th>\n      <th>duration_&lt;1 week</th>\n      <th>duration_1-2 weeks</th>\n      <th>duration_2 weeks - 1 month</th>\n      <th>duration_1-2 months</th>\n      <th>fb_entity_ORG</th>\n      <th>fb_entity_PERSON</th>\n      <th>fb_entity_DATE</th>\n      <th>fb_entity_CARDINAL</th>\n      <th>fb_entity_GPE</th>\n      <th>fb_entity_PRODUCT</th>\n      <th>fb_entity_WORK_OF_ART</th>\n      <th>fb_entity_ORDINAL</th>\n      <th>fb_entity_MONEY</th>\n      <th>fb_entity_TIME</th>\n      <th>fb_entity_NORP</th>\n    </tr>\n  </thead>\n  <tbody>\n    <tr>\n      <th>2</th>\n      <td>12.960635</td>\n      <td>10.819778</td>\n      <td>6.823286</td>\n      <td>design</td>\n      <td>4.0</td>\n      <td>0.0</td>\n      <td>1.0</td>\n      <td>1</td>\n      <td>6</td>\n      <td>1</td>\n      <td>684451.0</td>\n      <td>WA</td>\n      <td>0</td>\n      <td>1</td>\n      <td>7</td>\n      <td>16</td>\n      <td>Marc Barros</td>\n      <td>Kickstarter</td>\n      <td>1589901</td>\n      <td>1588019</td>\n      <td>10</td>\n      <td>2</td>\n      <td>1</td>\n      <td>12</td>\n      <td>4.836818</td>\n      <td>33.727273</td>\n      <td>0.719996</td>\n      <td>2.054425</td>\n      <td>0.000024</td>\n      <td>0.000011</td>\n      <td>0.000037</td>\n      <td>0.000062</td>\n      <td>0.000093</td>\n      <td>1.000000</td>\n      <td>0.000029</td>\n      <td>0.000020</td>\n      <td>0.000028</td>\n      <td>0.000062</td>\n      <td>PRODUCT</td>\n      <td>0</td>\n      <td>2</td>\n      <td>4839</td>\n      <td>2</td>\n      <td>0</td>\n      <td>0.000064</td>\n      <td>0.000036</td>\n      <td>0.000074</td>\n      <td>0.242741</td>\n      <td>0.000100</td>\n      <td>0.000050</td>\n      <td>0.450027</td>\n      <td>0.075764</td>\n      <td>0.085070</td>\n      <td>0.000038</td>\n      <td>0.116083</td>\n      <td>8.506720</td>\n      <td>North America</td>\n      <td>1</td>\n      <td>0</td>\n      <td>0</td>\n      <td>0</td>\n      <td>0</td>\n      <td>1</td>\n      <td>0</td>\n      <td>0</td>\n      <td>0</td>\n      <td>0</td>\n      <td>0</td>\n      <td>0</td>\n      <td>1</td>\n      <td>0</td>\n      <td>0</td>\n      <td>0</td>\n      <td>0</td>\n      <td>0</td>\n    </tr>\n    <tr>\n      <th>4</th>\n      <td>11.866416</td>\n      <td>9.903488</td>\n      <td>6.954639</td>\n      <td>comics</td>\n      <td>8.0</td>\n      <td>0.0</td>\n      <td>1.0</td>\n      <td>1</td>\n      <td>6</td>\n      <td>1</td>\n      <td>105319.0</td>\n      <td>CA</td>\n      <td>1</td>\n      <td>0</td>\n      <td>3</td>\n      <td>88</td>\n      <td>Adam Lawson</td>\n      <td>Kickstarter</td>\n      <td>1589930</td>\n      <td>1588019</td>\n      <td>4</td>\n      <td>1</td>\n      <td>0</td>\n      <td>5</td>\n      <td>6.933333</td>\n      <td>29.111111</td>\n      <td>0.625279</td>\n      <td>1.868768</td>\n      <td>0.000057</td>\n      <td>0.000018</td>\n      <td>0.000070</td>\n      <td>0.000098</td>\n      <td>0.000096</td>\n      <td>0.000032</td>\n      <td>0.000036</td>\n      <td>0.000013</td>\n      <td>0.000020</td>\n      <td>0.000074</td>\n      <td>CARDINAL,PERSON</td>\n      <td>0</td>\n      <td>8</td>\n      <td>4839</td>\n      <td>0</td>\n      <td>1</td>\n      <td>0.000026</td>\n      <td>0.000060</td>\n      <td>0.939369</td>\n      <td>0.000080</td>\n      <td>0.000065</td>\n      <td>0.000032</td>\n      <td>0.000011</td>\n      <td>0.000050</td>\n      <td>0.000082</td>\n      <td>0.000096</td>\n      <td>0.000015</td>\n      <td>7.120150</td>\n      <td>North America</td>\n      <td>1</td>\n      <td>0</td>\n      <td>0</td>\n      <td>0</td>\n      <td>0</td>\n      <td>0</td>\n      <td>1</td>\n      <td>0</td>\n      <td>1</td>\n      <td>0</td>\n      <td>1</td>\n      <td>0</td>\n      <td>0</td>\n      <td>0</td>\n      <td>0</td>\n      <td>0</td>\n      <td>0</td>\n      <td>0</td>\n    </tr>\n    <tr>\n      <th>5</th>\n      <td>10.374272</td>\n      <td>10.308953</td>\n      <td>5.318120</td>\n      <td>film_Video</td>\n      <td>13.0</td>\n      <td>0.0</td>\n      <td>1.0</td>\n      <td>1</td>\n      <td>6</td>\n      <td>1</td>\n      <td>8175133.0</td>\n      <td>NY</td>\n      <td>1</td>\n      <td>0</td>\n      <td>1</td>\n      <td>2</td>\n      <td>Julia Greenberg</td>\n      <td>Kickstarter</td>\n      <td>1589715</td>\n      <td>1587803</td>\n      <td>3</td>\n      <td>1</td>\n      <td>0</td>\n      <td>4</td>\n      <td>15.900000</td>\n      <td>61.666667</td>\n      <td>0.284582</td>\n      <td>1.329206</td>\n      <td>0.285714</td>\n      <td>0.000047</td>\n      <td>0.000050</td>\n      <td>0.000100</td>\n      <td>0.000088</td>\n      <td>0.285714</td>\n      <td>0.142857</td>\n      <td>0.000096</td>\n      <td>0.000082</td>\n      <td>0.142857</td>\n      <td>PERSON,GPE</td>\n      <td>0</td>\n      <td>9</td>\n      <td>4839</td>\n      <td>0</td>\n      <td>1</td>\n      <td>0.000019</td>\n      <td>0.154496</td>\n      <td>0.000084</td>\n      <td>0.081168</td>\n      <td>0.000079</td>\n      <td>0.126198</td>\n      <td>0.000052</td>\n      <td>0.156902</td>\n      <td>0.294644</td>\n      <td>0.163853</td>\n      <td>0.000095</td>\n      <td>1.067500</td>\n      <td>North America</td>\n      <td>1</td>\n      <td>0</td>\n      <td>0</td>\n      <td>0</td>\n      <td>0</td>\n      <td>1</td>\n      <td>0</td>\n      <td>0</td>\n      <td>1</td>\n      <td>0</td>\n      <td>0</td>\n      <td>1</td>\n      <td>0</td>\n      <td>0</td>\n      <td>0</td>\n      <td>0</td>\n      <td>0</td>\n      <td>0</td>\n    </tr>\n    <tr>\n      <th>6</th>\n      <td>9.542446</td>\n      <td>8.804775</td>\n      <td>5.556828</td>\n      <td>comics</td>\n      <td>16.0</td>\n      <td>0.0</td>\n      <td>1.0</td>\n      <td>1</td>\n      <td>6</td>\n      <td>1</td>\n      <td>3971883.0</td>\n      <td>CA</td>\n      <td>0</td>\n      <td>1</td>\n      <td>4</td>\n      <td>23</td>\n      <td>Donold Wooldridge</td>\n      <td>Kickstarter</td>\n      <td>1589715</td>\n      <td>1587803</td>\n      <td>3</td>\n      <td>5</td>\n      <td>1</td>\n      <td>5</td>\n      <td>14.239500</td>\n      <td>45.000000</td>\n      <td>0.570874</td>\n      <td>1.769813</td>\n      <td>0.200000</td>\n      <td>0.200000</td>\n      <td>0.000072</td>\n      <td>0.000028</td>\n      <td>0.000076</td>\n      <td>0.000049</td>\n      <td>0.400000</td>\n      <td>0.200000</td>\n      <td>0.000072</td>\n      <td>0.000036</td>\n      <td>WORK_OF_ART</td>\n      <td>0</td>\n      <td>10</td>\n      <td>4839</td>\n      <td>1</td>\n      <td>1</td>\n      <td>0.000043</td>\n      <td>0.000028</td>\n      <td>0.162778</td>\n      <td>0.000097</td>\n      <td>0.000045</td>\n      <td>0.000027</td>\n      <td>0.059113</td>\n      <td>0.062181</td>\n      <td>0.060710</td>\n      <td>0.626484</td>\n      <td>0.000060</td>\n      <td>2.091059</td>\n      <td>North America</td>\n      <td>1</td>\n      <td>0</td>\n      <td>0</td>\n      <td>0</td>\n      <td>0</td>\n      <td>0</td>\n      <td>1</td>\n      <td>0</td>\n      <td>0</td>\n      <td>0</td>\n      <td>0</td>\n      <td>0</td>\n      <td>0</td>\n      <td>1</td>\n      <td>0</td>\n      <td>0</td>\n      <td>0</td>\n      <td>0</td>\n    </tr>\n    <tr>\n      <th>8</th>\n      <td>11.346304</td>\n      <td>9.210340</td>\n      <td>7.051856</td>\n      <td>games</td>\n      <td>27.0</td>\n      <td>0.0</td>\n      <td>1.0</td>\n      <td>1</td>\n      <td>6</td>\n      <td>4</td>\n      <td>621849.0</td>\n      <td>MD</td>\n      <td>1</td>\n      <td>0</td>\n      <td>5</td>\n      <td>21</td>\n      <td>Amanda Coronado</td>\n      <td>Kickstarter</td>\n      <td>1589543</td>\n      <td>1587618</td>\n      <td>9</td>\n      <td>3</td>\n      <td>1</td>\n      <td>11</td>\n      <td>3.083867</td>\n      <td>20.333333</td>\n      <td>0.466686</td>\n      <td>1.594701</td>\n      <td>0.000036</td>\n      <td>0.000051</td>\n      <td>0.000068</td>\n      <td>0.000010</td>\n      <td>0.000083</td>\n      <td>1.000000</td>\n      <td>0.000015</td>\n      <td>0.000030</td>\n      <td>0.000068</td>\n      <td>0.000067</td>\n      <td>PERSON,CARDINAL</td>\n      <td>0</td>\n      <td>14</td>\n      <td>4839</td>\n      <td>1</td>\n      <td>1</td>\n      <td>0.000018</td>\n      <td>0.000018</td>\n      <td>0.073925</td>\n      <td>0.798958</td>\n      <td>0.000098</td>\n      <td>0.000041</td>\n      <td>0.000093</td>\n      <td>0.000046</td>\n      <td>0.000022</td>\n      <td>0.000042</td>\n      <td>0.102862</td>\n      <td>8.465200</td>\n      <td>North America</td>\n      <td>1</td>\n      <td>0</td>\n      <td>0</td>\n      <td>0</td>\n      <td>0</td>\n      <td>1</td>\n      <td>0</td>\n      <td>0</td>\n      <td>1</td>\n      <td>0</td>\n      <td>1</td>\n      <td>0</td>\n      <td>0</td>\n      <td>0</td>\n      <td>0</td>\n      <td>0</td>\n      <td>0</td>\n      <td>0</td>\n    </tr>\n  </tbody>\n</table>\n</div>"
     },
     "execution_count": 62,
     "metadata": {},
     "output_type": "execute_result"
    }
   ],
   "source": [
    "import os\n",
    "import warnings\n",
    "import joblib\n",
    "import pandas as pd \n",
    "import numpy as np\n",
    "import matplotlib.pyplot as plt\n",
    "import seaborn as sns\n",
    "import xgboost as xgb\n",
    "from tqdm import tqdm\n",
    "from sklearn.model_selection import train_test_split\n",
    "from sklearn.metrics import mean_squared_error, mean_squared_log_error, r2_score, accuracy_score, confusion_matrix, classification_report\n",
    "from sklearn.model_selection import ParameterGrid\n",
    "from joblib import Parallel, delayed \n",
    "from sklearn import ensemble, linear_model, svm\n",
    "from sklearn.preprocessing import RobustScaler, MinMaxScaler\n",
    "from sklearn.inspection import permutation_importance, PartialDependenceDisplay\n",
    "from sklearn.model_selection import RandomizedSearchCV, GridSearchCV\n",
    "from lazy_test import *\n",
    "from success_utils import *\n",
    "\n",
    "warnings.filterwarnings('ignore')\n",
    "pd.set_option('display.max_columns', None)\n",
    "pd.set_option('display.max_rows', None)\n",
    "\n",
    "# Create a dictionary to group countries by region\n",
    "region_groups = {\n",
    "    \"North America\": [\"HI\", \"Mexico\", \"NV\", \"OK\", \"NM\",\"CA\", \"NY\", \"MD\", \"DC\", \"WA\", \"CO\", \"MN\", \"TX\", \"SC\", \"GA\", \"KY\", \"PA\", \"MI\", \"OH\", \"OR\", \"NC\", \"IL\", \"AZ\", \"TN\", \"NJ\", \"UT\", \"VA\", \"ND\", \"VT\", \"IA\", \"ND\", \"VT\", \"LA\", \"CT\", \"RI\"],\n",
    "    \"Europe\": [\"Martinique\", \"AL\", \"Cayman Islands\", \"Russia\", \"ME\", \"UK\", \"DE\", \"Poland\", \"Denmark\", \"Netherlands\", \"Norway\", \"Liechtenstein\", \"Austria\", \"Belgium\", \"Czech Republic\", \"Iceland\", \"Ireland\", \"France\", \"Spain\", \"Sweden\", \"Switzerland\", \"Italy\", \"Slovenia\", \"Greece\"],\n",
    "    \"Asia\": [\"MO\", \"IN\", \"Japan\", \"China\", \"Hong Kong\", \"India\", \"Viet Nam\", \"Taiwan\", \"Afghanistan\", \"Israel\",\"Sri Lanka\", \"Jordan\"],\n",
    "    \"South America\": [\"Colombia\", \"Brazil\"],\n",
    "    \"Africa\": [\"WI\", \"SD\", \"MA\", \"Ghana\", \"Ethiopia\", \"Liberia\", \"Rwanda\"],\n",
    "    \"Oceania\": [\"AU\", \"NZ\"],\n",
    "    \"Other\": [ \"United Arab Emirates\", \"Svalbard and Jan Mayen\"]\n",
    "}\n",
    "\n",
    "noticable_entities = ['ORG', 'PERSON', 'DATE',\n",
    "                        'CARDINAL', 'GPE', 'PRODUCT', \n",
    "                        'WORK_OF_ART','ORDINAL', 'MONEY',\n",
    "                        'TIME', 'NORP']\n",
    "\n",
    "\n",
    "data_path = '/home/theerthala/Documents/repos/Crowdfunding-Social-Media-Drivers/Data/Kickstarter_only/final_data.csv'\n",
    "success_data = pd.read_csv(data_path)\n",
    "success_data['collection_ratio'] = success_data.collected.apply(decode_amount)/success_data.goal_amount.apply(decode_amount)\n",
    "\n",
    "\n",
    "bins = [0, 7, 14, 30, 60]\n",
    "labels = ['<1 week', '1-2 weeks', '2 weeks - 1 month', '1-2 months']\n",
    "success_data['duration'] = pd.cut(success_data['duration'], bins=bins, labels=labels)\n",
    "success_data= success_data[success_data.donate != 1].reset_index(drop=True)\n",
    "\n",
    "\n",
    "success_weights = (1-success_data.success.value_counts()/len(success_data)).values\n",
    "\n",
    "\n",
    "def get_region(country):\n",
    "    for region, countries in region_groups.items():\n",
    "        if country in countries:\n",
    "            return region\n",
    "    return \"Other\"\n",
    "\n",
    "success_data['region'] = success_data.country.str.strip().apply(get_region)\n",
    "success_data.num_backers = success_data.num_backers.str.replace(',', '').astype(int)\n",
    "success_data = success_data[success_data.region == 'North America']\n",
    "\n",
    "success_data = pd.get_dummies(\n",
    "                    success_data,\n",
    "                    columns=['fb_type', \n",
    "                              'duration'])\n",
    "\n",
    "\n",
    "for entity in noticable_entities:\n",
    "    success_data[f'fb_entity_{entity}'] = success_data.fb_entities_identified.fillna('None').str.split(',').apply(lambda entity_list: entity in entity_list).astype(int)\n",
    "    \n",
    "\n",
    "bool_cols = success_data.dtypes[success_data.dtypes == 'bool'].index.tolist()\n",
    "success_data[bool_cols] = success_data[bool_cols].astype(int)\n",
    "\n",
    "#ecoding the number of backers\n",
    "success_data.num_backers = encode_targets(success_data.num_backers)\n",
    "success_data.population = np.exp(success_data.population)\n",
    "\n",
    "\n",
    "success_data.head()"
   ]
  },
  {
   "cell_type": "code",
   "execution_count": 63,
   "metadata": {
    "ExecuteTime": {
     "end_time": "2024-03-17T01:55:46.503378Z",
     "start_time": "2024-03-17T01:55:46.498576Z"
    }
   },
   "outputs": [],
   "source": [
    "dropping_columns = ['collected', 'verified', 'donate', 'project_we_love', 'Team' ,'country', 'fb_page_name', 'region', 'fb_entities_identified', 'population', 'category']\n",
    "\n",
    "success_data.drop(columns=dropping_columns, axis=1, inplace=True)\n",
    "success_data = success_data[success_data.collection_ratio < 10].reset_index(drop=True)\n",
    "success_data.pledge_types = success_data.pledge_types.astype(int)\n",
    "success_data.num_projects = success_data.num_projects.astype(int)\n",
    "success_data.num_backed = success_data.num_backed.astype(int)\n"
   ]
  },
  {
   "cell_type": "code",
   "execution_count": 64,
   "metadata": {
    "ExecuteTime": {
     "end_time": "2024-03-17T01:55:46.569468Z",
     "start_time": "2024-03-17T01:55:46.558079Z"
    }
   },
   "outputs": [],
   "source": [
    "#identify and list all the boolean features disguised as int in the dataset\n",
    "bool_features = []\n",
    "for col in success_data.columns:\n",
    "    if success_data[col].nunique() == 2:\n",
    "        bool_features.append(col)\n",
    "\n",
    "bool_features.remove('success')"
   ]
  },
  {
   "cell_type": "code",
   "execution_count": 65,
   "metadata": {
    "ExecuteTime": {
     "end_time": "2024-03-17T01:55:46.632391Z",
     "start_time": "2024-03-17T01:55:46.624503Z"
    }
   },
   "outputs": [],
   "source": [
    "entity_features = [x for x in bool_features if 'fb_entity' in x]\n",
    "duration_features = [x for x in bool_features if 'duration' in x]\n",
    "region_features = [x for x in bool_features if 'region' in x]\n"
   ]
  },
  {
   "cell_type": "code",
   "execution_count": 66,
   "metadata": {
    "ExecuteTime": {
     "end_time": "2024-03-17T01:55:46.707193Z",
     "start_time": "2024-03-17T01:55:46.701683Z"
    }
   },
   "outputs": [],
   "source": [
    "# success_data.num_backers = np.exp(success_data.num_backers)\n",
    "target_cols = [\n",
    "    'success',\n",
    "    'collection_ratio',\n",
    "    'num_backers'\n",
    "]\n",
    "\n",
    "#adding emotionality score\n",
    "emotion_cols = ['fb_fear','fb_anger', 'fb_anticip', 'fb_trust', 'fb_surprise', 'fb_positive', 'fb_negative', 'fb_sadness', 'fb_disgust', 'fb_joy']\n",
    "success_data['fb_emotionality'] = success_data[emotion_cols].sum(axis=1)\n",
    "\n",
    "fb_cols = success_data.columns[success_data.columns.str.startswith('fb')].tolist()\n",
    "common_features= success_data.columns[~success_data.columns.str.startswith('fb')].tolist()\n",
    "common_features = [feature for feature in common_features if feature not in target_cols]\n",
    "common_features.remove(\"pledge_types\")\n",
    "\n",
    "engagement_features = [ 'fb_likes', 'fb_comments', 'fb_shares','fb_positive_reactions','fb_negative_reactions']\n",
    "post_fb_features = [feature for feature in fb_cols if feature not in engagement_features]\n"
   ]
  },
  {
   "cell_type": "code",
   "execution_count": 67,
   "metadata": {
    "ExecuteTime": {
     "end_time": "2024-03-17T01:55:46.747804Z",
     "start_time": "2024-03-17T01:55:46.742722Z"
    }
   },
   "outputs": [],
   "source": [
    "domain_page_features = success_data[common_features]\n",
    "domain_engagement_features = success_data[common_features + engagement_features]\n",
    "domain_post_features = success_data[common_features + post_fb_features]\n",
    "\n",
    "targets = success_data[target_cols]"
   ]
  },
  {
   "cell_type": "code",
   "execution_count": 68,
   "metadata": {
    "ExecuteTime": {
     "end_time": "2024-03-17T01:55:46.784386Z",
     "start_time": "2024-03-17T01:55:46.757720Z"
    }
   },
   "outputs": [],
   "source": [
    "pd.concat([domain_page_features, targets], axis=1).to_csv('/home/theerthala/Documents/repos/Crowdfunding-Social-Media-Drivers/Data/final_datasets/domain_only.csv', index=False)\n",
    "pd.concat([domain_engagement_features, targets], axis=1).to_csv('/home/theerthala/Documents/repos/Crowdfunding-Social-Media-Drivers/Data/final_datasets/domain_engagement.csv', index=False)\n",
    "pd.concat([domain_post_features, targets], axis=1).to_csv('/home/theerthala/Documents/repos/Crowdfunding-Social-Media-Drivers/Data/final_datasets/domain_post.csv', index=False)"
   ]
  },
  {
   "cell_type": "code",
   "execution_count": 69,
   "metadata": {
    "ExecuteTime": {
     "end_time": "2024-03-17T01:55:46.787606Z",
     "start_time": "2024-03-17T01:55:46.785459Z"
    }
   },
   "outputs": [
    {
     "name": "stdout",
     "output_type": "stream",
     "text": [
      "['goal_amount', 'start_month', 'start_day', 'Person', 'num_projects', 'num_backed', 'duration_<1 week', 'duration_1-2 weeks', 'duration_2 weeks - 1 month', 'duration_1-2 months']\n"
     ]
    }
   ],
   "source": [
    "print(common_features)"
   ]
  },
  {
   "cell_type": "markdown",
   "metadata": {},
   "source": [
    "## Modelling"
   ]
  },
  {
   "cell_type": "code",
   "execution_count": 70,
   "metadata": {
    "ExecuteTime": {
     "end_time": "2024-03-17T01:55:46.805246Z",
     "start_time": "2024-03-17T01:55:46.797269Z"
    }
   },
   "outputs": [],
   "source": [
    "working_data = 'domain_post'\n",
    "domain_post = pd.read_csv(f'/home/theerthala/Documents/repos/Crowdfunding-Social-Media-Drivers/Data/final_datasets/{working_data}.csv')\n",
    "domain_post.num_backers = np.exp(domain_post.num_backers)"
   ]
  },
  {
   "cell_type": "code",
   "execution_count": 71,
   "metadata": {
    "ExecuteTime": {
     "end_time": "2024-03-17T01:55:51.396690Z",
     "start_time": "2024-03-17T01:55:51.385833Z"
    }
   },
   "outputs": [
    {
     "data": {
      "text/plain": "   success  collection_ratio  num_backers\n0        1          8.506720        919.0\n1        1          7.120150       1048.0\n2        1          1.067500        204.0\n3        1          2.091059        259.0\n4        1          8.465200       1155.0",
      "text/html": "<div>\n<style scoped>\n    .dataframe tbody tr th:only-of-type {\n        vertical-align: middle;\n    }\n\n    .dataframe tbody tr th {\n        vertical-align: top;\n    }\n\n    .dataframe thead th {\n        text-align: right;\n    }\n</style>\n<table border=\"1\" class=\"dataframe\">\n  <thead>\n    <tr style=\"text-align: right;\">\n      <th></th>\n      <th>success</th>\n      <th>collection_ratio</th>\n      <th>num_backers</th>\n    </tr>\n  </thead>\n  <tbody>\n    <tr>\n      <th>0</th>\n      <td>1</td>\n      <td>8.506720</td>\n      <td>919.0</td>\n    </tr>\n    <tr>\n      <th>1</th>\n      <td>1</td>\n      <td>7.120150</td>\n      <td>1048.0</td>\n    </tr>\n    <tr>\n      <th>2</th>\n      <td>1</td>\n      <td>1.067500</td>\n      <td>204.0</td>\n    </tr>\n    <tr>\n      <th>3</th>\n      <td>1</td>\n      <td>2.091059</td>\n      <td>259.0</td>\n    </tr>\n    <tr>\n      <th>4</th>\n      <td>1</td>\n      <td>8.465200</td>\n      <td>1155.0</td>\n    </tr>\n  </tbody>\n</table>\n</div>"
     },
     "execution_count": 71,
     "metadata": {},
     "output_type": "execute_result"
    }
   ],
   "source": [
    "domain_post.loc[:,target_cols].head()"
   ]
  },
  {
   "cell_type": "code",
   "execution_count": 72,
   "metadata": {
    "ExecuteTime": {
     "end_time": "2024-03-17T01:55:53.895247Z",
     "start_time": "2024-03-17T01:55:53.883473Z"
    }
   },
   "outputs": [],
   "source": [
    "# Split the data into training and testing sets\n",
    "X_train, X_test, y_train, y_test = train_test_split(domain_post.drop(target_cols, axis=1), domain_post[target_cols], test_size=0.13, random_state=42, stratify=domain_post.success)\n",
    "\n",
    "X_train = X_train.reset_index(drop=True).values\n",
    "X_test = X_test.reset_index(drop=True).values\n",
    "y_train = y_train.reset_index(drop=True).values\n",
    "y_test = y_test.reset_index(drop=True).values"
   ]
  },
  {
   "cell_type": "markdown",
   "metadata": {},
   "source": [
    "* y[:, 0] => Success (Boolean)\n",
    "* y[:,1] => Collection Ratio\n",
    "* y[:,2] => Number of Backers\n"
   ]
  },
  {
   "cell_type": "code",
   "execution_count": 76,
   "metadata": {
    "ExecuteTime": {
     "end_time": "2024-03-17T01:57:08.341624Z",
     "start_time": "2024-03-17T01:56:42.804251Z"
    }
   },
   "outputs": [
    {
     "name": "stderr",
     "output_type": "stream",
     "text": [
      "Training models: 100%|██████████| 40/40 [00:25<00:00,  1.59it/s]\n",
      "Evaluating models: 100%|██████████| 40/40 [00:00<00:00, 108.53it/s]"
     ]
    },
    {
     "name": "stdout",
     "output_type": "stream",
     "text": [
      "All models were trained successfully.\n",
      "All models were evaluated successfully.\n"
     ]
    },
    {
     "name": "stderr",
     "output_type": "stream",
     "text": [
      "\n"
     ]
    },
    {
     "data": {
      "text/plain": "                           Insample RMSE  Insample MAE  Insample R2  \\\nExtraTreesRegressor                0.000         0.000        1.000   \nBaggingRegressor                 757.756       288.131        0.871   \nRandomForestRegressor            702.901       267.227        0.889   \nLarsCV                          1894.833       917.604        0.191   \nRidgeCV                         1820.500       871.299        0.254   \nRidge                           1808.231       908.761        0.264   \nLasso                           1808.132       911.758        0.264   \nLassoLars                       1808.132       911.758        0.264   \nLinearRegression                1803.055       925.019        0.268   \nGradientBoostingRegressor        390.374       268.592        0.966   \n\n                           Insample EV Score  Outsample RMSE  Outsample MAE  \\\nExtraTreesRegressor                    1.000        2540.141        856.497   \nBaggingRegressor                       0.871        2564.292       1013.967   \nRandomForestRegressor                  0.889        2620.672        988.164   \nLarsCV                                 0.191        2862.903       1169.338   \nRidgeCV                                0.254        2865.179       1205.829   \nRidge                                  0.264        2885.786       1283.301   \nLasso                                  0.264        2887.890       1283.400   \nLassoLars                              0.264        2887.893       1283.411   \nLinearRegression                       0.268        2901.281       1284.194   \nGradientBoostingRegressor              0.966        2902.101        967.330   \n\n                           Outsample R2  Outsample EV Score  \nExtraTreesRegressor               0.448               0.448  \nBaggingRegressor                  0.437               0.438  \nRandomForestRegressor             0.412               0.412  \nLarsCV                            0.298               0.311  \nRidgeCV                           0.297               0.315  \nRidge                             0.287               0.306  \nLasso                             0.286               0.305  \nLassoLars                         0.286               0.305  \nLinearRegression                  0.279               0.299  \nGradientBoostingRegressor         0.279               0.279  ",
      "text/html": "<div>\n<style scoped>\n    .dataframe tbody tr th:only-of-type {\n        vertical-align: middle;\n    }\n\n    .dataframe tbody tr th {\n        vertical-align: top;\n    }\n\n    .dataframe thead th {\n        text-align: right;\n    }\n</style>\n<table border=\"1\" class=\"dataframe\">\n  <thead>\n    <tr style=\"text-align: right;\">\n      <th></th>\n      <th>Insample RMSE</th>\n      <th>Insample MAE</th>\n      <th>Insample R2</th>\n      <th>Insample EV Score</th>\n      <th>Outsample RMSE</th>\n      <th>Outsample MAE</th>\n      <th>Outsample R2</th>\n      <th>Outsample EV Score</th>\n    </tr>\n  </thead>\n  <tbody>\n    <tr>\n      <th>ExtraTreesRegressor</th>\n      <td>0.000</td>\n      <td>0.000</td>\n      <td>1.000</td>\n      <td>1.000</td>\n      <td>2540.141</td>\n      <td>856.497</td>\n      <td>0.448</td>\n      <td>0.448</td>\n    </tr>\n    <tr>\n      <th>BaggingRegressor</th>\n      <td>757.756</td>\n      <td>288.131</td>\n      <td>0.871</td>\n      <td>0.871</td>\n      <td>2564.292</td>\n      <td>1013.967</td>\n      <td>0.437</td>\n      <td>0.438</td>\n    </tr>\n    <tr>\n      <th>RandomForestRegressor</th>\n      <td>702.901</td>\n      <td>267.227</td>\n      <td>0.889</td>\n      <td>0.889</td>\n      <td>2620.672</td>\n      <td>988.164</td>\n      <td>0.412</td>\n      <td>0.412</td>\n    </tr>\n    <tr>\n      <th>LarsCV</th>\n      <td>1894.833</td>\n      <td>917.604</td>\n      <td>0.191</td>\n      <td>0.191</td>\n      <td>2862.903</td>\n      <td>1169.338</td>\n      <td>0.298</td>\n      <td>0.311</td>\n    </tr>\n    <tr>\n      <th>RidgeCV</th>\n      <td>1820.500</td>\n      <td>871.299</td>\n      <td>0.254</td>\n      <td>0.254</td>\n      <td>2865.179</td>\n      <td>1205.829</td>\n      <td>0.297</td>\n      <td>0.315</td>\n    </tr>\n    <tr>\n      <th>Ridge</th>\n      <td>1808.231</td>\n      <td>908.761</td>\n      <td>0.264</td>\n      <td>0.264</td>\n      <td>2885.786</td>\n      <td>1283.301</td>\n      <td>0.287</td>\n      <td>0.306</td>\n    </tr>\n    <tr>\n      <th>Lasso</th>\n      <td>1808.132</td>\n      <td>911.758</td>\n      <td>0.264</td>\n      <td>0.264</td>\n      <td>2887.890</td>\n      <td>1283.400</td>\n      <td>0.286</td>\n      <td>0.305</td>\n    </tr>\n    <tr>\n      <th>LassoLars</th>\n      <td>1808.132</td>\n      <td>911.758</td>\n      <td>0.264</td>\n      <td>0.264</td>\n      <td>2887.893</td>\n      <td>1283.411</td>\n      <td>0.286</td>\n      <td>0.305</td>\n    </tr>\n    <tr>\n      <th>LinearRegression</th>\n      <td>1803.055</td>\n      <td>925.019</td>\n      <td>0.268</td>\n      <td>0.268</td>\n      <td>2901.281</td>\n      <td>1284.194</td>\n      <td>0.279</td>\n      <td>0.299</td>\n    </tr>\n    <tr>\n      <th>GradientBoostingRegressor</th>\n      <td>390.374</td>\n      <td>268.592</td>\n      <td>0.966</td>\n      <td>0.966</td>\n      <td>2902.101</td>\n      <td>967.330</td>\n      <td>0.279</td>\n      <td>0.279</td>\n    </tr>\n  </tbody>\n</table>\n</div>"
     },
     "execution_count": 76,
     "metadata": {},
     "output_type": "execute_result"
    }
   ],
   "source": [
    "reg_test = RegressionModels(X_train, X_test, y_train[:,2], y_test[:,2], decode=False)\n",
    "reg_test.run_evaluation()\n",
    "print(reg_test.not_trained_)\n",
    "print(reg_test.not_evaluated_)\n",
    "reg_test.top_10_socres.to_csv(\"/home/theerthala/Documents/repos/Crowdfunding-Social-Media-Drivers/Results/02 - Domain Post/num_backers/lazy_scores.csv\")\n",
    "reg_test.top_10_socres"
   ]
  },
  {
   "cell_type": "code",
   "execution_count": 77,
   "metadata": {
    "ExecuteTime": {
     "end_time": "2024-03-17T01:57:10.535376Z",
     "start_time": "2024-03-17T01:57:08.342881Z"
    }
   },
   "outputs": [
    {
     "name": "stderr",
     "output_type": "stream",
     "text": [
      "Training models: 100%|██████████| 28/28 [00:01<00:00, 14.08it/s]\n",
      "Evaluating models: 100%|██████████| 27/27 [00:00<00:00, 142.53it/s]"
     ]
    },
    {
     "name": "stdout",
     "output_type": "stream",
     "text": [
      "The modelsNu-Support Vector Machine could not be trained.\n",
      "The modelsKernel Ridge could not be evaluated.\n"
     ]
    },
    {
     "name": "stderr",
     "output_type": "stream",
     "text": [
      "\n"
     ]
    },
    {
     "data": {
      "text/plain": "                                   Accuracy  Precision    Recall  F1 Score  \\\nBalanced Random Forest Classifier  0.708333   1.000000  0.676923  0.807339   \nEasy Ensemble Classifier           0.583333   0.972973  0.553846  0.705882   \nBalanced Bagging Classifier        0.541667   0.944444  0.523077  0.673267   \nGaussian Naive Bayes               0.527778   0.942857  0.507692  0.660000   \nGaussian Process                   0.152778   0.750000  0.092308  0.164384   \nMultinomial Naive Bayes            0.625000   0.913043  0.646154  0.756757   \nRUSBoost Classifier                0.819444   0.919355  0.876923  0.897638   \nAdaBoost                           0.888889   0.913043  0.969231  0.940299   \nBagging                            0.916667   0.915493  1.000000  0.955882   \nSupport Vector Machine             0.902778   0.902778  1.000000  0.948905   \n\n                                    ROC AUC  Class-0 Acc  Class-1 Acc  \nBalanced Random Forest Classifier  0.838462     1.000000     0.676923  \nEasy Ensemble Classifier           0.705495     0.857143     0.553846  \nBalanced Bagging Classifier        0.618681     0.714286     0.523077  \nGaussian Naive Bayes               0.610989     0.714286     0.507692  \nGaussian Process                   0.403297     0.714286     0.092308  \nMultinomial Naive Bayes            0.537363     0.428571     0.646154  \nRUSBoost Classifier                0.581319     0.285714     0.876923  \nAdaBoost                           0.556044     0.142857     0.969231  \nBagging                            0.571429     0.142857     1.000000  \nSupport Vector Machine             0.500000     0.000000     1.000000  ",
      "text/html": "<div>\n<style scoped>\n    .dataframe tbody tr th:only-of-type {\n        vertical-align: middle;\n    }\n\n    .dataframe tbody tr th {\n        vertical-align: top;\n    }\n\n    .dataframe thead th {\n        text-align: right;\n    }\n</style>\n<table border=\"1\" class=\"dataframe\">\n  <thead>\n    <tr style=\"text-align: right;\">\n      <th></th>\n      <th>Accuracy</th>\n      <th>Precision</th>\n      <th>Recall</th>\n      <th>F1 Score</th>\n      <th>ROC AUC</th>\n      <th>Class-0 Acc</th>\n      <th>Class-1 Acc</th>\n    </tr>\n  </thead>\n  <tbody>\n    <tr>\n      <th>Balanced Random Forest Classifier</th>\n      <td>0.708333</td>\n      <td>1.000000</td>\n      <td>0.676923</td>\n      <td>0.807339</td>\n      <td>0.838462</td>\n      <td>1.000000</td>\n      <td>0.676923</td>\n    </tr>\n    <tr>\n      <th>Easy Ensemble Classifier</th>\n      <td>0.583333</td>\n      <td>0.972973</td>\n      <td>0.553846</td>\n      <td>0.705882</td>\n      <td>0.705495</td>\n      <td>0.857143</td>\n      <td>0.553846</td>\n    </tr>\n    <tr>\n      <th>Balanced Bagging Classifier</th>\n      <td>0.541667</td>\n      <td>0.944444</td>\n      <td>0.523077</td>\n      <td>0.673267</td>\n      <td>0.618681</td>\n      <td>0.714286</td>\n      <td>0.523077</td>\n    </tr>\n    <tr>\n      <th>Gaussian Naive Bayes</th>\n      <td>0.527778</td>\n      <td>0.942857</td>\n      <td>0.507692</td>\n      <td>0.660000</td>\n      <td>0.610989</td>\n      <td>0.714286</td>\n      <td>0.507692</td>\n    </tr>\n    <tr>\n      <th>Gaussian Process</th>\n      <td>0.152778</td>\n      <td>0.750000</td>\n      <td>0.092308</td>\n      <td>0.164384</td>\n      <td>0.403297</td>\n      <td>0.714286</td>\n      <td>0.092308</td>\n    </tr>\n    <tr>\n      <th>Multinomial Naive Bayes</th>\n      <td>0.625000</td>\n      <td>0.913043</td>\n      <td>0.646154</td>\n      <td>0.756757</td>\n      <td>0.537363</td>\n      <td>0.428571</td>\n      <td>0.646154</td>\n    </tr>\n    <tr>\n      <th>RUSBoost Classifier</th>\n      <td>0.819444</td>\n      <td>0.919355</td>\n      <td>0.876923</td>\n      <td>0.897638</td>\n      <td>0.581319</td>\n      <td>0.285714</td>\n      <td>0.876923</td>\n    </tr>\n    <tr>\n      <th>AdaBoost</th>\n      <td>0.888889</td>\n      <td>0.913043</td>\n      <td>0.969231</td>\n      <td>0.940299</td>\n      <td>0.556044</td>\n      <td>0.142857</td>\n      <td>0.969231</td>\n    </tr>\n    <tr>\n      <th>Bagging</th>\n      <td>0.916667</td>\n      <td>0.915493</td>\n      <td>1.000000</td>\n      <td>0.955882</td>\n      <td>0.571429</td>\n      <td>0.142857</td>\n      <td>1.000000</td>\n    </tr>\n    <tr>\n      <th>Support Vector Machine</th>\n      <td>0.902778</td>\n      <td>0.902778</td>\n      <td>1.000000</td>\n      <td>0.948905</td>\n      <td>0.500000</td>\n      <td>0.000000</td>\n      <td>1.000000</td>\n    </tr>\n  </tbody>\n</table>\n</div>"
     },
     "execution_count": 77,
     "metadata": {},
     "output_type": "execute_result"
    }
   ],
   "source": [
    "cls_test = ClassificationModels(X_train, X_test, y_train[:,0], y_test[:,0])\n",
    "cls_test.run_evaluation()\n",
    "print(cls_test.not_trained_)\n",
    "print(cls_test.not_evaluated_)\n",
    "cls_test.top_10_socres.to_csv(\"/home/theerthala/Documents/repos/Crowdfunding-Social-Media-Drivers/Results/02 - Domain Post/success/lazy_scores.csv\")\n",
    "cls_test.top_10_socres"
   ]
  },
  {
   "cell_type": "markdown",
   "metadata": {},
   "source": [
    "## Further Finetuning of the topk models"
   ]
  },
  {
   "cell_type": "markdown",
   "metadata": {},
   "source": [
    "### Collection Ratio"
   ]
  },
  {
   "cell_type": "code",
   "outputs": [
    {
     "name": "stderr",
     "output_type": "stream",
     "text": [
      "Training models: 100%|██████████| 40/40 [00:21<00:00,  1.86it/s]\n",
      "Evaluating models: 100%|██████████| 40/40 [00:00<00:00, 117.27it/s]\n"
     ]
    },
    {
     "name": "stdout",
     "output_type": "stream",
     "text": [
      "All models were trained successfully.\n",
      "All models were evaluated successfully.\n"
     ]
    },
    {
     "data": {
      "text/plain": "                           Insample RMSE  Insample MAE  Insample R2  \\\nGradientBoostingRegressor          0.771         0.574        0.850   \nExtraTreesRegressor                0.000         0.000        1.000   \nBaggingRegressor                   0.882         0.543        0.804   \nRandomForestRegressor              0.739         0.505        0.862   \nElasticNet                         1.902         1.298        0.088   \nLassoLarsCV                        1.741         1.186        0.236   \nLassoLarsIC                        1.741         1.186        0.237   \nRidgeCV                            1.732         1.186        0.245   \nLassoLars                          1.911         1.311        0.080   \nLasso                              1.911         1.311        0.080   \n\n                           Insample EV Score  Outsample RMSE  Outsample MAE  \\\nGradientBoostingRegressor              0.850           1.472          1.046   \nExtraTreesRegressor                    1.000           1.519          1.148   \nBaggingRegressor                       0.804           1.572          1.119   \nRandomForestRegressor                  0.863           1.602          1.220   \nElasticNet                             0.088           1.661          1.212   \nLassoLarsCV                            0.236           1.667          1.246   \nLassoLarsIC                            0.237           1.667          1.246   \nRidgeCV                                0.245           1.671          1.243   \nLassoLars                              0.080           1.687          1.236   \nLasso                                  0.080           1.687          1.236   \n\n                           Outsample R2  Outsample EV Score  \nGradientBoostingRegressor         0.327               0.327  \nExtraTreesRegressor               0.284               0.290  \nBaggingRegressor                  0.233               0.234  \nRandomForestRegressor             0.204               0.206  \nElasticNet                        0.143               0.144  \nLassoLarsCV                       0.138               0.142  \nLassoLarsIC                       0.138               0.142  \nRidgeCV                           0.134               0.138  \nLassoLars                         0.116               0.117  \nLasso                             0.116               0.117  ",
      "text/html": "<div>\n<style scoped>\n    .dataframe tbody tr th:only-of-type {\n        vertical-align: middle;\n    }\n\n    .dataframe tbody tr th {\n        vertical-align: top;\n    }\n\n    .dataframe thead th {\n        text-align: right;\n    }\n</style>\n<table border=\"1\" class=\"dataframe\">\n  <thead>\n    <tr style=\"text-align: right;\">\n      <th></th>\n      <th>Insample RMSE</th>\n      <th>Insample MAE</th>\n      <th>Insample R2</th>\n      <th>Insample EV Score</th>\n      <th>Outsample RMSE</th>\n      <th>Outsample MAE</th>\n      <th>Outsample R2</th>\n      <th>Outsample EV Score</th>\n    </tr>\n  </thead>\n  <tbody>\n    <tr>\n      <th>GradientBoostingRegressor</th>\n      <td>0.771</td>\n      <td>0.574</td>\n      <td>0.850</td>\n      <td>0.850</td>\n      <td>1.472</td>\n      <td>1.046</td>\n      <td>0.327</td>\n      <td>0.327</td>\n    </tr>\n    <tr>\n      <th>ExtraTreesRegressor</th>\n      <td>0.000</td>\n      <td>0.000</td>\n      <td>1.000</td>\n      <td>1.000</td>\n      <td>1.519</td>\n      <td>1.148</td>\n      <td>0.284</td>\n      <td>0.290</td>\n    </tr>\n    <tr>\n      <th>BaggingRegressor</th>\n      <td>0.882</td>\n      <td>0.543</td>\n      <td>0.804</td>\n      <td>0.804</td>\n      <td>1.572</td>\n      <td>1.119</td>\n      <td>0.233</td>\n      <td>0.234</td>\n    </tr>\n    <tr>\n      <th>RandomForestRegressor</th>\n      <td>0.739</td>\n      <td>0.505</td>\n      <td>0.862</td>\n      <td>0.863</td>\n      <td>1.602</td>\n      <td>1.220</td>\n      <td>0.204</td>\n      <td>0.206</td>\n    </tr>\n    <tr>\n      <th>ElasticNet</th>\n      <td>1.902</td>\n      <td>1.298</td>\n      <td>0.088</td>\n      <td>0.088</td>\n      <td>1.661</td>\n      <td>1.212</td>\n      <td>0.143</td>\n      <td>0.144</td>\n    </tr>\n    <tr>\n      <th>LassoLarsCV</th>\n      <td>1.741</td>\n      <td>1.186</td>\n      <td>0.236</td>\n      <td>0.236</td>\n      <td>1.667</td>\n      <td>1.246</td>\n      <td>0.138</td>\n      <td>0.142</td>\n    </tr>\n    <tr>\n      <th>LassoLarsIC</th>\n      <td>1.741</td>\n      <td>1.186</td>\n      <td>0.237</td>\n      <td>0.237</td>\n      <td>1.667</td>\n      <td>1.246</td>\n      <td>0.138</td>\n      <td>0.142</td>\n    </tr>\n    <tr>\n      <th>RidgeCV</th>\n      <td>1.732</td>\n      <td>1.186</td>\n      <td>0.245</td>\n      <td>0.245</td>\n      <td>1.671</td>\n      <td>1.243</td>\n      <td>0.134</td>\n      <td>0.138</td>\n    </tr>\n    <tr>\n      <th>LassoLars</th>\n      <td>1.911</td>\n      <td>1.311</td>\n      <td>0.080</td>\n      <td>0.080</td>\n      <td>1.687</td>\n      <td>1.236</td>\n      <td>0.116</td>\n      <td>0.117</td>\n    </tr>\n    <tr>\n      <th>Lasso</th>\n      <td>1.911</td>\n      <td>1.311</td>\n      <td>0.080</td>\n      <td>0.080</td>\n      <td>1.687</td>\n      <td>1.236</td>\n      <td>0.116</td>\n      <td>0.117</td>\n    </tr>\n  </tbody>\n</table>\n</div>"
     },
     "execution_count": 80,
     "metadata": {},
     "output_type": "execute_result"
    }
   ],
   "source": [
    "reg_test = RegressionModels(X_train, X_test, y_train[:,1], y_test[:,1], decode=False)\n",
    "reg_test.run_evaluation()\n",
    "print(reg_test.not_trained_)\n",
    "print(reg_test.not_evaluated_)\n",
    "reg_test.top_10_socres.to_csv(\"/home/theerthala/Documents/repos/Crowdfunding-Social-Media-Drivers/Results/02 - Domain Post/collection_ratio/lazy_scores.csv\")\n",
    "reg_test.top_10_socres"
   ],
   "metadata": {
    "ExecuteTime": {
     "end_time": "2024-03-17T01:59:47.310420Z",
     "start_time": "2024-03-17T01:59:25.444197Z"
    }
   },
   "execution_count": 80
  },
  {
   "cell_type": "code",
   "outputs": [
    {
     "name": "stdout",
     "output_type": "stream",
     "text": [
      "In-sample RMSE, R2: 1.90, 0.08835991746795868\n",
      "Out-sample RMSE, R2: 1.66, 0.1433332939662818\n"
     ]
    }
   ],
   "source": [
    "elastic_net = linear_model.ElasticNet(random_state=42)\n",
    "elastic_net.fit(X_train, y_train[:,1])\n",
    "\n",
    "in_y_pred = elastic_net.predict(X_train)\n",
    "out_y_pred = elastic_net.predict(X_test)\n",
    "\n",
    "print(f'In-sample RMSE, R2: {np.sqrt(mean_squared_error(y_train[:,1], in_y_pred)):.2f}, {r2_score(y_train[:,1], in_y_pred)}')\n",
    "print(f'Out-sample RMSE, R2: {np.sqrt(mean_squared_error(y_test[:,1], out_y_pred)):.2f}, {r2_score(y_test[:,1], out_y_pred)}')"
   ],
   "metadata": {
    "collapsed": false,
    "ExecuteTime": {
     "end_time": "2024-03-17T02:00:47.088730Z",
     "start_time": "2024-03-17T02:00:47.071251Z"
    }
   },
   "execution_count": 84
  },
  {
   "cell_type": "code",
   "outputs": [
    {
     "name": "stdout",
     "output_type": "stream",
     "text": [
      "RMSE In: 1.88\n",
      "RMSE Out: 1.63\n",
      "R2 In: 0.10764984292628088\n",
      "R2 Out: 0.17630059116507335\n"
     ]
    }
   ],
   "source": [
    "lars_cv = linear_model.LarsCV(cv=20)\n",
    "lars_cv.fit(X_train, y_train[:,1])\n",
    "\n",
    "y_pred_in = lars_cv.predict(X_train)\n",
    "y_pred_out = lars_cv.predict(X_test)\n",
    "\n",
    "print(f'RMSE In: {np.sqrt(mean_squared_error(y_train[:,1], y_pred_in)):.2f}')\n",
    "print(f'RMSE Out: {np.sqrt(mean_squared_error(y_test[:,1], y_pred_out)):.2f}')\n",
    "\n",
    "print(f'R2 In: {r2_score(y_train[:,1], y_pred_in)}')\n",
    "print(f'R2 Out: {r2_score(y_test[:,1], y_pred_out)}')"
   ],
   "metadata": {
    "collapsed": false,
    "ExecuteTime": {
     "end_time": "2024-03-17T02:00:48.912470Z",
     "start_time": "2024-03-17T02:00:48.720146Z"
    }
   },
   "execution_count": 85
  },
  {
   "cell_type": "code",
   "outputs": [
    {
     "name": "stdout",
     "output_type": "stream",
     "text": [
      "RMSE In: 1.73\n",
      "RMSE Out: 1.67\n",
      "R2 In: 0.24471347192052206\n",
      "R2 Out: 0.13356872757694904\n"
     ]
    }
   ],
   "source": [
    "ridge_cv = linear_model.RidgeCV(cv=20)\n",
    "ridge_cv.fit(X_train, y_train[:,1])\n",
    "\n",
    "y_pred_in = ridge_cv.predict(X_train)\n",
    "y_pred_out = ridge_cv.predict(X_test)\n",
    "\n",
    "print(f'RMSE In: {np.sqrt(mean_squared_error(y_train[:,1], y_pred_in)):.2f}')\n",
    "print(f'RMSE Out: {np.sqrt(mean_squared_error(y_test[:,1], y_pred_out)):.2f}')\n",
    "\n",
    "print(f'R2 In: {r2_score(y_train[:,1], y_pred_in)}')\n",
    "print(f'R2 Out: {r2_score(y_test[:,1], y_pred_out)}')"
   ],
   "metadata": {
    "collapsed": false,
    "ExecuteTime": {
     "end_time": "2024-03-17T02:01:57.169319Z",
     "start_time": "2024-03-17T02:01:57.006452Z"
    }
   },
   "execution_count": 87
  },
  {
   "cell_type": "code",
   "outputs": [
    {
     "data": {
      "text/plain": "['/home/theerthala/Documents/repos/Crowdfunding-Social-Media-Drivers/Modelling/final_models/02_domain_post/collection_ratio.pkl']"
     },
     "execution_count": 88,
     "metadata": {},
     "output_type": "execute_result"
    }
   ],
   "source": [
    "joblib.dump(lars_cv, '/home/theerthala/Documents/repos/Crowdfunding-Social-Media-Drivers/Modelling/final_models/02_domain_post/collection_ratio.pkl')"
   ],
   "metadata": {
    "collapsed": false,
    "ExecuteTime": {
     "end_time": "2024-03-17T02:02:00.542988Z",
     "start_time": "2024-03-17T02:02:00.534337Z"
    }
   },
   "execution_count": 88
  },
  {
   "cell_type": "markdown",
   "metadata": {},
   "source": [
    "### Number of Backers"
   ]
  },
  {
   "cell_type": "code",
   "execution_count": 89,
   "metadata": {
    "ExecuteTime": {
     "end_time": "2024-03-17T02:02:46.464368Z",
     "start_time": "2024-03-17T02:02:46.352570Z"
    }
   },
   "outputs": [
    {
     "name": "stdout",
     "output_type": "stream",
     "text": [
      "RMSE In: 1820.50\n",
      "RMSE Out: 2865.18\n",
      "R2 In: 0.2535871013802935\n",
      "R2 Out: 0.29710551995040724\n"
     ]
    }
   ],
   "source": [
    "ridge_cv = linear_model.RidgeCV(cv=10)\n",
    "ridge_cv.fit(X_train, y_train[:,2])\n",
    "\n",
    "y_pred_in = ridge_cv.predict(X_train)\n",
    "y_pred_out = ridge_cv.predict(X_test)\n",
    "\n",
    "print(f'RMSE In: {np.sqrt(mean_squared_error(y_train[:,2], y_pred_in)):.2f}')\n",
    "print(f'RMSE Out: {np.sqrt(mean_squared_error(y_test[:,2], y_pred_out)):.2f}')\n",
    "\n",
    "print(f'R2 In: {r2_score(y_train[:,2], y_pred_in)}')\n",
    "print(f'R2 Out: {r2_score(y_test[:,2], y_pred_out)}')"
   ]
  },
  {
   "cell_type": "code",
   "outputs": [
    {
     "name": "stdout",
     "output_type": "stream",
     "text": [
      "RMSE In: 2007.00\n",
      "RMSE Out: 2700.38\n",
      "R2 In: 0.09281829238841777\n",
      "R2 Out: 0.37564011996916624\n"
     ]
    }
   ],
   "source": [
    "lars_cv = linear_model.LarsCV(cv=10)\n",
    "lars_cv.fit(X_train, y_train[:,2])\n",
    "\n",
    "y_pred_in = lars_cv.predict(X_train)\n",
    "y_pred_out = lars_cv.predict(X_test)\n",
    "\n",
    "print(f'RMSE In: {np.sqrt(mean_squared_error(y_train[:,2], y_pred_in)):.2f}')\n",
    "print(f'RMSE Out: {np.sqrt(mean_squared_error(y_test[:,2], y_pred_out)):.2f}')\n",
    "\n",
    "print(f'R2 In: {r2_score(y_train[:,2], y_pred_in)}')\n",
    "print(f'R2 Out: {r2_score(y_test[:,2], y_pred_out)}')"
   ],
   "metadata": {
    "collapsed": false,
    "ExecuteTime": {
     "end_time": "2024-03-17T02:03:09.399451Z",
     "start_time": "2024-03-17T02:03:09.345028Z"
    }
   },
   "execution_count": 90
  },
  {
   "cell_type": "code",
   "outputs": [
    {
     "name": "stdout",
     "output_type": "stream",
     "text": [
      "RMSE In: 2107.18\n",
      "RMSE Out: 3451.62\n",
      "R2 In: 1.1102230246251565e-16\n",
      "R2 Out: -0.020073690541538847\n"
     ]
    }
   ],
   "source": [
    "poisson = linear_model.PoissonRegressor()\n",
    "poisson.fit(X_train, y_train[:,2])\n",
    "\n",
    "y_pred_in = poisson.predict(X_train)\n",
    "y_pred_out = poisson.predict(X_test)\n",
    "\n",
    "print(f'RMSE In: {np.sqrt(mean_squared_error(y_train[:,2], y_pred_in)):.2f}')\n",
    "print(f'RMSE Out: {np.sqrt(mean_squared_error(y_test[:,2], y_pred_out)):.2f}')\n",
    "\n",
    "print(f'R2 In: {r2_score(y_train[:,2], y_pred_in)}')\n",
    "print(f'R2 Out: {r2_score(y_test[:,2], y_pred_out)}')"
   ],
   "metadata": {
    "collapsed": false,
    "ExecuteTime": {
     "end_time": "2024-03-17T02:03:43.392703Z",
     "start_time": "2024-03-17T02:03:43.202282Z"
    }
   },
   "execution_count": 92
  },
  {
   "cell_type": "code",
   "execution_count": 93,
   "metadata": {
    "ExecuteTime": {
     "end_time": "2024-03-17T02:03:53.356765Z",
     "start_time": "2024-03-17T02:03:53.351882Z"
    }
   },
   "outputs": [
    {
     "data": {
      "text/plain": "['/home/theerthala/Documents/repos/Crowdfunding-Social-Media-Drivers/Modelling/final_models/02_domain_post/num_backers.pkl']"
     },
     "execution_count": 93,
     "metadata": {},
     "output_type": "execute_result"
    }
   ],
   "source": [
    "joblib.dump(lars_cv, '/home/theerthala/Documents/repos/Crowdfunding-Social-Media-Drivers/Modelling/final_models/02_domain_post/num_backers.pkl')"
   ]
  },
  {
   "attachments": {
    "image-2.png": {
     "image/png": "[encoded data removed]"
    },
    "image.png": {
     "image/png": "[encoded data removed]"
    }
   },
   "cell_type": "markdown",
   "metadata": {},
   "source": [
    "> Despite the encoded targets showing very good R2, when decoded, the R2 is not as good. \n",
    "\n",
    "Before Decoding: \n",
    "\n",
    "![image.png](attachment:image.png)\n",
    "\n",
    "After Decoding:\n",
    "\n",
    "![image-2.png](attachment:image-2.png)\n",
    "\n",
    "Hence, the best model with un-encoded training, is further finetuned. "
   ]
  },
  {
   "cell_type": "markdown",
   "metadata": {},
   "source": [
    "### Success"
   ]
  },
  {
   "cell_type": "code",
   "outputs": [
    {
     "name": "stdout",
     "output_type": "stream",
     "text": [
      "Accuracy In: 0.6457023060796646\n",
      "Accuracy Out: 0.5416666666666666\n",
      "Classwise Accuracy In: (1.0, 0.6069767441860465)\n",
      "Classwise Accuracy Out: (0.7142857142857143, 0.5230769230769231)\n"
     ]
    }
   ],
   "source": [
    "balanced_bagging = BalancedBaggingClassifier(random_state=42, n_jobs=-1)\n",
    "balanced_bagging.fit(X_train, y_train[:,0])\n",
    "\n",
    "y_pred_in = balanced_bagging.predict(X_train)\n",
    "y_pred_out = balanced_bagging.predict(X_test)\n",
    "\n",
    "print(f'Accuracy In: {accuracy_score(y_train[:,0], y_pred_in)}')\n",
    "print(f'Accuracy Out: {accuracy_score(y_test[:,0], y_pred_out)}')\n",
    "\n",
    "def get_class_wise_acc(y_true, y_pred):\n",
    "    cm = confusion_matrix(y_true, y_pred)\n",
    "    return cm[0,0]/cm[0].sum(), cm[1,1]/cm[1].sum()\n",
    "\n",
    "print(f'Classwise Accuracy In: {get_class_wise_acc(y_train[:,0], y_pred_in)}')\n",
    "print(f'Classwise Accuracy Out: {get_class_wise_acc(y_test[:,0], y_pred_out)}')\n"
   ],
   "metadata": {
    "collapsed": false,
    "ExecuteTime": {
     "end_time": "2024-03-17T02:04:13.790015Z",
     "start_time": "2024-03-17T02:04:12.996164Z"
    }
   },
   "execution_count": 94
  },
  {
   "cell_type": "code",
   "outputs": [
    {
     "name": "stdout",
     "output_type": "stream",
     "text": [
      "Accuracy In: 0.6477987421383647\n",
      "Accuracy Out: 0.5833333333333334\n",
      "Classwise Accuracy In: (1.0, 0.6093023255813953)\n",
      "Classwise Accuracy Out: (0.8571428571428571, 0.5538461538461539)\n"
     ]
    }
   ],
   "source": [
    "easy_ensemble = EasyEnsembleClassifier(random_state=42, n_jobs=-1)\n",
    "easy_ensemble.fit(X_train, y_train[:,0])\n",
    "\n",
    "y_pred_in = easy_ensemble.predict(X_train)\n",
    "y_pred_out = easy_ensemble.predict(X_test)\n",
    "\n",
    "print(f'Accuracy In: {accuracy_score(y_train[:,0], y_pred_in)}')\n",
    "print(f'Accuracy Out: {accuracy_score(y_test[:,0], y_pred_out)}')\n",
    "\n",
    "print(f'Classwise Accuracy In: {get_class_wise_acc(y_train[:,0], y_pred_in)}')\n",
    "print(f'Classwise Accuracy Out: {get_class_wise_acc(y_test[:,0], y_pred_out)}')\n"
   ],
   "metadata": {
    "collapsed": false,
    "ExecuteTime": {
     "end_time": "2024-03-17T02:04:49.742189Z",
     "start_time": "2024-03-17T02:04:49.466139Z"
    }
   },
   "execution_count": 95
  },
  {
   "cell_type": "code",
   "execution_count": 96,
   "metadata": {
    "ExecuteTime": {
     "end_time": "2024-03-17T02:05:42.761313Z",
     "start_time": "2024-03-17T02:05:42.615797Z"
    }
   },
   "outputs": [
    {
     "data": {
      "text/plain": "['/home/theerthala/Documents/repos/Crowdfunding-Social-Media-Drivers/Modelling/final_models/02_domain_post/success.pkl']"
     },
     "execution_count": 96,
     "metadata": {},
     "output_type": "execute_result"
    }
   ],
   "source": [
    "joblib.dump(easy_ensemble, '/home/theerthala/Documents/repos/Crowdfunding-Social-Media-Drivers/Modelling/final_models/02_domain_post/success.pkl')"
   ]
  },
  {
   "cell_type": "markdown",
   "metadata": {},
   "source": [
    "## Insample and outof sample tests"
   ]
  },
  {
   "cell_type": "code",
   "execution_count": 97,
   "metadata": {
    "ExecuteTime": {
     "end_time": "2024-03-17T02:05:45.268775Z",
     "start_time": "2024-03-17T02:05:45.156834Z"
    }
   },
   "outputs": [],
   "source": [
    "num_backers_model =  joblib.load( '/home/theerthala/Documents/repos/Crowdfunding-Social-Media-Drivers/Modelling/final_models/02_domain_post/num_backers.pkl')\n",
    "collection_model = joblib.load('/home/theerthala/Documents/repos/Crowdfunding-Social-Media-Drivers/Modelling/final_models/02_domain_post/collection_ratio.pkl')\n",
    "success_model = joblib.load('/home/theerthala/Documents/repos/Crowdfunding-Social-Media-Drivers/Modelling/final_models/02_domain_post/success.pkl')"
   ]
  },
  {
   "cell_type": "code",
   "execution_count": 100,
   "metadata": {
    "ExecuteTime": {
     "end_time": "2024-03-17T02:06:08.059748Z",
     "start_time": "2024-03-17T02:06:07.884036Z"
    }
   },
   "outputs": [
    {
     "name": "stdout",
     "output_type": "stream",
     "text": [
      "Insample Scores\n",
      "RMSE: 2007.004\n",
      "RMSE: 1.88\n",
      "Accuracy: 0.6477987421383647\n",
      "\n",
      "Out of Sample\n",
      "RMSE: 2700.375\n",
      "RMSE: 1.63\n",
      "Accuracy: 0.5833333333333334\n"
     ]
    }
   ],
   "source": [
    "#insample scores\n",
    "print('Insample Scores')\n",
    "y_pred = num_backers_model.predict(X_train)\n",
    "print(f'RMSE: {np.sqrt(mean_squared_error(y_train[:,2], y_pred)):.3f}')\n",
    "\n",
    "y_pred = collection_model.predict(X_train)\n",
    "print(f'RMSE: {np.sqrt(mean_squared_error(y_train[:,1], y_pred)):.2f}')\n",
    "\n",
    "y_pred = success_model.predict(X_train)\n",
    "print(f'Accuracy: {accuracy_score(y_train[:,0], y_pred)}')\n",
    "\n",
    "print()\n",
    "#out-of-sample scores\n",
    "print('Out of Sample')\n",
    "y_pred = num_backers_model.predict(X_test)\n",
    "print(f'RMSE: {np.sqrt(mean_squared_error(y_test[:,2], y_pred)):.3f}')\n",
    "\n",
    "y_pred = collection_model.predict(X_test)\n",
    "print(f'RMSE: {np.sqrt(mean_squared_error(y_test[:,1], y_pred)):.2f}')\n",
    "\n",
    "y_pred = success_model.predict(X_test)\n",
    "print(f'Accuracy: {accuracy_score(y_test[:,0], y_pred)}')"
   ]
  },
  {
   "cell_type": "code",
   "outputs": [
    {
     "data": {
      "text/plain": "Index(['goal_amount', 'start_month', 'start_day', 'Person', 'num_projects',\n       'num_backed', 'duration_<1 week', 'duration_1-2 weeks',\n       'duration_2 weeks - 1 month', 'duration_1-2 months',\n       'fb_likes_at_posting', 'fb_followers_at_posting', 'fb_post_views',\n       'fb_readability', 'fb_readability_lix', 'fb_entropy_scores',\n       'fb_perplexity_scores', 'fb_fear', 'fb_anger', 'fb_anticip', 'fb_trust',\n       'fb_surprise', 'fb_positive', 'fb_negative', 'fb_sadness', 'fb_disgust',\n       'fb_joy', 'fb_post_sponsored', 'fb_post_age', 'fb_page_age',\n       'fb_topic_0', 'fb_topic_1', 'fb_topic_2', 'fb_topic_3', 'fb_topic_4',\n       'fb_topic_5', 'fb_topic_6', 'fb_topic_7', 'fb_topic_8', 'fb_topic_9',\n       'fb_topic_10', 'fb_type_link', 'fb_type_photo', 'fb_type_video',\n       'fb_entity_ORG', 'fb_entity_PERSON', 'fb_entity_DATE',\n       'fb_entity_CARDINAL', 'fb_entity_GPE', 'fb_entity_PRODUCT',\n       'fb_entity_WORK_OF_ART', 'fb_entity_ORDINAL', 'fb_entity_MONEY',\n       'fb_entity_TIME', 'fb_entity_NORP', 'fb_emotionality'],\n      dtype='object')"
     },
     "execution_count": 101,
     "metadata": {},
     "output_type": "execute_result"
    }
   ],
   "source": [
    "domain_post_features.columns"
   ],
   "metadata": {
    "collapsed": false,
    "ExecuteTime": {
     "end_time": "2024-03-17T02:06:15.877476Z",
     "start_time": "2024-03-17T02:06:15.870461Z"
    }
   },
   "execution_count": 101
  }
 ],
 "metadata": {
  "kernelspec": {
   "display_name": "Python 3",
   "language": "python",
   "name": "python3"
  },
  "language_info": {
   "codemirror_mode": {
    "name": "ipython",
    "version": 3
   },
   "file_extension": ".py",
   "mimetype": "text/x-python",
   "name": "python",
   "nbconvert_exporter": "python",
   "pygments_lexer": "ipython3",
   "version": "3.10.13"
  }
 },
 "nbformat": 4,
 "nbformat_minor": 2
}
