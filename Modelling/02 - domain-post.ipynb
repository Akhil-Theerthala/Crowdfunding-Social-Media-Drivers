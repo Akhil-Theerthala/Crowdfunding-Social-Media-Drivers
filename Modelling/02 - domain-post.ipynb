{
 "cells": [
  {
   "cell_type": "code",
   "execution_count": 1,
   "metadata": {
    "ExecuteTime": {
     "end_time": "2024-02-12T15:04:48.868703803Z",
     "start_time": "2024-02-12T15:04:48.704535215Z"
    }
   },
   "outputs": [
    {
     "data": {
      "text/plain": "   collected  goal_amount  num_backers    category  pledge_types  donate  \\\n2  12.960635    10.819778     6.823286      design           4.0     0.0   \n4  11.866416     9.903488     6.954639      comics           8.0     0.0   \n5  10.374272    10.308953     5.318120  film_Video          13.0     0.0   \n6   9.542446     8.804775     5.556828      comics          16.0     0.0   \n8  11.346304     9.210340     7.051856       games          27.0     0.0   \n\n   project_we_love  success  start_month  start_day  population country  \\\n2              1.0        1            6          1    684451.0      WA   \n4              1.0        1            6          1    105319.0      CA   \n5              1.0        1            6          1   8175133.0      NY   \n6              1.0        1            6          1   3971883.0      CA   \n8              1.0        1            6          4    621849.0      MD   \n\n   Person  Team  num_projects  num_backed            verified fb_page_name  \\\n2       0     1             7          16         Marc Barros  Kickstarter   \n4       1     0             3          88         Adam Lawson  Kickstarter   \n5       1     0             1           2     Julia Greenberg  Kickstarter   \n6       0     1             4          23   Donold Wooldridge  Kickstarter   \n8       1     0             5          21     Amanda Coronado  Kickstarter   \n\n   fb_likes_at_posting  fb_followers_at_posting  fb_likes  fb_comments  \\\n2              1589901                  1588019        10            2   \n4              1589930                  1588019         4            1   \n5              1589715                  1587803         3            1   \n6              1589715                  1587803         3            5   \n8              1589543                  1587618         9            3   \n\n   fb_shares  fb_post_views  fb_readability  fb_readability_lix  \\\n2          1             12        4.836818           33.727273   \n4          0              5        6.933333           29.111111   \n5          0              4       15.900000           61.666667   \n6          1              5       14.239500           45.000000   \n8          1             11        3.083867           20.333333   \n\n   fb_entropy_scores  fb_perplexity_scores   fb_fear  fb_anger  fb_anticip  \\\n2           0.719996              2.054425  0.000024  0.000011    0.000037   \n4           0.625279              1.868768  0.000057  0.000018    0.000070   \n5           0.284582              1.329206  0.285714  0.000047    0.000050   \n6           0.570874              1.769813  0.200000  0.200000    0.000072   \n8           0.466686              1.594701  0.000036  0.000051    0.000068   \n\n   fb_trust  fb_surprise  fb_positive  fb_negative  fb_sadness  fb_disgust  \\\n2  0.000062     0.000093     1.000000     0.000029    0.000020    0.000028   \n4  0.000098     0.000096     0.000032     0.000036    0.000013    0.000020   \n5  0.000100     0.000088     0.285714     0.142857    0.000096    0.000082   \n6  0.000028     0.000076     0.000049     0.400000    0.200000    0.000072   \n8  0.000010     0.000083     1.000000     0.000015    0.000030    0.000068   \n\n     fb_joy fb_entities_identified  fb_post_sponsored  fb_post_age  \\\n2  0.000062                PRODUCT                  0            2   \n4  0.000074        CARDINAL,PERSON                  0            8   \n5  0.142857             PERSON,GPE                  0            9   \n6  0.000036            WORK_OF_ART                  0           10   \n8  0.000067        PERSON,CARDINAL                  0           14   \n\n   fb_page_age  fb_positive_reactions  fb_negative_reactions  fb_topic_0  \\\n2         4839                      2                      0    0.000064   \n4         4839                      0                      1    0.000026   \n5         4839                      0                      1    0.000019   \n6         4839                      1                      1    0.000043   \n8         4839                      1                      1    0.000018   \n\n   fb_topic_1  fb_topic_2  fb_topic_3  fb_topic_4  fb_topic_5  fb_topic_6  \\\n2    0.000036    0.000074    0.242741    0.000100    0.000050    0.450027   \n4    0.000060    0.939369    0.000080    0.000065    0.000032    0.000011   \n5    0.154496    0.000084    0.081168    0.000079    0.126198    0.000052   \n6    0.000028    0.162778    0.000097    0.000045    0.000027    0.059113   \n8    0.000018    0.073925    0.798958    0.000098    0.000041    0.000093   \n\n   fb_topic_7  fb_topic_8  fb_topic_9  fb_topic_10  collection_ratio  \\\n2    0.075764    0.085070    0.000038     0.116083          8.506720   \n4    0.000050    0.000082    0.000096     0.000015          7.120150   \n5    0.156902    0.294644    0.163853     0.000095          1.067500   \n6    0.062181    0.060710    0.626484     0.000060          2.091059   \n8    0.000046    0.000022    0.000042     0.102862          8.465200   \n\n          region  fb_type_link  fb_type_photo  fb_type_video  \\\n2  North America             1              0              0   \n4  North America             1              0              0   \n5  North America             1              0              0   \n6  North America             1              0              0   \n8  North America             1              0              0   \n\n   duration_<1 week  duration_1-2 weeks  duration_2 weeks - 1 month  \\\n2                 0                   0                           1   \n4                 0                   0                           0   \n5                 0                   0                           1   \n6                 0                   0                           0   \n8                 0                   0                           1   \n\n   duration_1-2 months  fb_entity_ORG  fb_entity_PERSON  fb_entity_DATE  \\\n2                    0              0                 0               0   \n4                    1              0                 1               0   \n5                    0              0                 1               0   \n6                    1              0                 0               0   \n8                    0              0                 1               0   \n\n   fb_entity_CARDINAL  fb_entity_GPE  fb_entity_PRODUCT  \\\n2                   0              0                  1   \n4                   1              0                  0   \n5                   0              1                  0   \n6                   0              0                  0   \n8                   1              0                  0   \n\n   fb_entity_WORK_OF_ART  fb_entity_ORDINAL  fb_entity_MONEY  fb_entity_TIME  \\\n2                      0                  0                0               0   \n4                      0                  0                0               0   \n5                      0                  0                0               0   \n6                      1                  0                0               0   \n8                      0                  0                0               0   \n\n   fb_entity_NORP  \n2               0  \n4               0  \n5               0  \n6               0  \n8               0  ",
      "text/html": "<div>\n<style scoped>\n    .dataframe tbody tr th:only-of-type {\n        vertical-align: middle;\n    }\n\n    .dataframe tbody tr th {\n        vertical-align: top;\n    }\n\n    .dataframe thead th {\n        text-align: right;\n    }\n</style>\n<table border=\"1\" class=\"dataframe\">\n  <thead>\n    <tr style=\"text-align: right;\">\n      <th></th>\n      <th>collected</th>\n      <th>goal_amount</th>\n      <th>num_backers</th>\n      <th>category</th>\n      <th>pledge_types</th>\n      <th>donate</th>\n      <th>project_we_love</th>\n      <th>success</th>\n      <th>start_month</th>\n      <th>start_day</th>\n      <th>population</th>\n      <th>country</th>\n      <th>Person</th>\n      <th>Team</th>\n      <th>num_projects</th>\n      <th>num_backed</th>\n      <th>verified</th>\n      <th>fb_page_name</th>\n      <th>fb_likes_at_posting</th>\n      <th>fb_followers_at_posting</th>\n      <th>fb_likes</th>\n      <th>fb_comments</th>\n      <th>fb_shares</th>\n      <th>fb_post_views</th>\n      <th>fb_readability</th>\n      <th>fb_readability_lix</th>\n      <th>fb_entropy_scores</th>\n      <th>fb_perplexity_scores</th>\n      <th>fb_fear</th>\n      <th>fb_anger</th>\n      <th>fb_anticip</th>\n      <th>fb_trust</th>\n      <th>fb_surprise</th>\n      <th>fb_positive</th>\n      <th>fb_negative</th>\n      <th>fb_sadness</th>\n      <th>fb_disgust</th>\n      <th>fb_joy</th>\n      <th>fb_entities_identified</th>\n      <th>fb_post_sponsored</th>\n      <th>fb_post_age</th>\n      <th>fb_page_age</th>\n      <th>fb_positive_reactions</th>\n      <th>fb_negative_reactions</th>\n      <th>fb_topic_0</th>\n      <th>fb_topic_1</th>\n      <th>fb_topic_2</th>\n      <th>fb_topic_3</th>\n      <th>fb_topic_4</th>\n      <th>fb_topic_5</th>\n      <th>fb_topic_6</th>\n      <th>fb_topic_7</th>\n      <th>fb_topic_8</th>\n      <th>fb_topic_9</th>\n      <th>fb_topic_10</th>\n      <th>collection_ratio</th>\n      <th>region</th>\n      <th>fb_type_link</th>\n      <th>fb_type_photo</th>\n      <th>fb_type_video</th>\n      <th>duration_&lt;1 week</th>\n      <th>duration_1-2 weeks</th>\n      <th>duration_2 weeks - 1 month</th>\n      <th>duration_1-2 months</th>\n      <th>fb_entity_ORG</th>\n      <th>fb_entity_PERSON</th>\n      <th>fb_entity_DATE</th>\n      <th>fb_entity_CARDINAL</th>\n      <th>fb_entity_GPE</th>\n      <th>fb_entity_PRODUCT</th>\n      <th>fb_entity_WORK_OF_ART</th>\n      <th>fb_entity_ORDINAL</th>\n      <th>fb_entity_MONEY</th>\n      <th>fb_entity_TIME</th>\n      <th>fb_entity_NORP</th>\n    </tr>\n  </thead>\n  <tbody>\n    <tr>\n      <th>2</th>\n      <td>12.960635</td>\n      <td>10.819778</td>\n      <td>6.823286</td>\n      <td>design</td>\n      <td>4.0</td>\n      <td>0.0</td>\n      <td>1.0</td>\n      <td>1</td>\n      <td>6</td>\n      <td>1</td>\n      <td>684451.0</td>\n      <td>WA</td>\n      <td>0</td>\n      <td>1</td>\n      <td>7</td>\n      <td>16</td>\n      <td>Marc Barros</td>\n      <td>Kickstarter</td>\n      <td>1589901</td>\n      <td>1588019</td>\n      <td>10</td>\n      <td>2</td>\n      <td>1</td>\n      <td>12</td>\n      <td>4.836818</td>\n      <td>33.727273</td>\n      <td>0.719996</td>\n      <td>2.054425</td>\n      <td>0.000024</td>\n      <td>0.000011</td>\n      <td>0.000037</td>\n      <td>0.000062</td>\n      <td>0.000093</td>\n      <td>1.000000</td>\n      <td>0.000029</td>\n      <td>0.000020</td>\n      <td>0.000028</td>\n      <td>0.000062</td>\n      <td>PRODUCT</td>\n      <td>0</td>\n      <td>2</td>\n      <td>4839</td>\n      <td>2</td>\n      <td>0</td>\n      <td>0.000064</td>\n      <td>0.000036</td>\n      <td>0.000074</td>\n      <td>0.242741</td>\n      <td>0.000100</td>\n      <td>0.000050</td>\n      <td>0.450027</td>\n      <td>0.075764</td>\n      <td>0.085070</td>\n      <td>0.000038</td>\n      <td>0.116083</td>\n      <td>8.506720</td>\n      <td>North America</td>\n      <td>1</td>\n      <td>0</td>\n      <td>0</td>\n      <td>0</td>\n      <td>0</td>\n      <td>1</td>\n      <td>0</td>\n      <td>0</td>\n      <td>0</td>\n      <td>0</td>\n      <td>0</td>\n      <td>0</td>\n      <td>1</td>\n      <td>0</td>\n      <td>0</td>\n      <td>0</td>\n      <td>0</td>\n      <td>0</td>\n    </tr>\n    <tr>\n      <th>4</th>\n      <td>11.866416</td>\n      <td>9.903488</td>\n      <td>6.954639</td>\n      <td>comics</td>\n      <td>8.0</td>\n      <td>0.0</td>\n      <td>1.0</td>\n      <td>1</td>\n      <td>6</td>\n      <td>1</td>\n      <td>105319.0</td>\n      <td>CA</td>\n      <td>1</td>\n      <td>0</td>\n      <td>3</td>\n      <td>88</td>\n      <td>Adam Lawson</td>\n      <td>Kickstarter</td>\n      <td>1589930</td>\n      <td>1588019</td>\n      <td>4</td>\n      <td>1</td>\n      <td>0</td>\n      <td>5</td>\n      <td>6.933333</td>\n      <td>29.111111</td>\n      <td>0.625279</td>\n      <td>1.868768</td>\n      <td>0.000057</td>\n      <td>0.000018</td>\n      <td>0.000070</td>\n      <td>0.000098</td>\n      <td>0.000096</td>\n      <td>0.000032</td>\n      <td>0.000036</td>\n      <td>0.000013</td>\n      <td>0.000020</td>\n      <td>0.000074</td>\n      <td>CARDINAL,PERSON</td>\n      <td>0</td>\n      <td>8</td>\n      <td>4839</td>\n      <td>0</td>\n      <td>1</td>\n      <td>0.000026</td>\n      <td>0.000060</td>\n      <td>0.939369</td>\n      <td>0.000080</td>\n      <td>0.000065</td>\n      <td>0.000032</td>\n      <td>0.000011</td>\n      <td>0.000050</td>\n      <td>0.000082</td>\n      <td>0.000096</td>\n      <td>0.000015</td>\n      <td>7.120150</td>\n      <td>North America</td>\n      <td>1</td>\n      <td>0</td>\n      <td>0</td>\n      <td>0</td>\n      <td>0</td>\n      <td>0</td>\n      <td>1</td>\n      <td>0</td>\n      <td>1</td>\n      <td>0</td>\n      <td>1</td>\n      <td>0</td>\n      <td>0</td>\n      <td>0</td>\n      <td>0</td>\n      <td>0</td>\n      <td>0</td>\n      <td>0</td>\n    </tr>\n    <tr>\n      <th>5</th>\n      <td>10.374272</td>\n      <td>10.308953</td>\n      <td>5.318120</td>\n      <td>film_Video</td>\n      <td>13.0</td>\n      <td>0.0</td>\n      <td>1.0</td>\n      <td>1</td>\n      <td>6</td>\n      <td>1</td>\n      <td>8175133.0</td>\n      <td>NY</td>\n      <td>1</td>\n      <td>0</td>\n      <td>1</td>\n      <td>2</td>\n      <td>Julia Greenberg</td>\n      <td>Kickstarter</td>\n      <td>1589715</td>\n      <td>1587803</td>\n      <td>3</td>\n      <td>1</td>\n      <td>0</td>\n      <td>4</td>\n      <td>15.900000</td>\n      <td>61.666667</td>\n      <td>0.284582</td>\n      <td>1.329206</td>\n      <td>0.285714</td>\n      <td>0.000047</td>\n      <td>0.000050</td>\n      <td>0.000100</td>\n      <td>0.000088</td>\n      <td>0.285714</td>\n      <td>0.142857</td>\n      <td>0.000096</td>\n      <td>0.000082</td>\n      <td>0.142857</td>\n      <td>PERSON,GPE</td>\n      <td>0</td>\n      <td>9</td>\n      <td>4839</td>\n      <td>0</td>\n      <td>1</td>\n      <td>0.000019</td>\n      <td>0.154496</td>\n      <td>0.000084</td>\n      <td>0.081168</td>\n      <td>0.000079</td>\n      <td>0.126198</td>\n      <td>0.000052</td>\n      <td>0.156902</td>\n      <td>0.294644</td>\n      <td>0.163853</td>\n      <td>0.000095</td>\n      <td>1.067500</td>\n      <td>North America</td>\n      <td>1</td>\n      <td>0</td>\n      <td>0</td>\n      <td>0</td>\n      <td>0</td>\n      <td>1</td>\n      <td>0</td>\n      <td>0</td>\n      <td>1</td>\n      <td>0</td>\n      <td>0</td>\n      <td>1</td>\n      <td>0</td>\n      <td>0</td>\n      <td>0</td>\n      <td>0</td>\n      <td>0</td>\n      <td>0</td>\n    </tr>\n    <tr>\n      <th>6</th>\n      <td>9.542446</td>\n      <td>8.804775</td>\n      <td>5.556828</td>\n      <td>comics</td>\n      <td>16.0</td>\n      <td>0.0</td>\n      <td>1.0</td>\n      <td>1</td>\n      <td>6</td>\n      <td>1</td>\n      <td>3971883.0</td>\n      <td>CA</td>\n      <td>0</td>\n      <td>1</td>\n      <td>4</td>\n      <td>23</td>\n      <td>Donold Wooldridge</td>\n      <td>Kickstarter</td>\n      <td>1589715</td>\n      <td>1587803</td>\n      <td>3</td>\n      <td>5</td>\n      <td>1</td>\n      <td>5</td>\n      <td>14.239500</td>\n      <td>45.000000</td>\n      <td>0.570874</td>\n      <td>1.769813</td>\n      <td>0.200000</td>\n      <td>0.200000</td>\n      <td>0.000072</td>\n      <td>0.000028</td>\n      <td>0.000076</td>\n      <td>0.000049</td>\n      <td>0.400000</td>\n      <td>0.200000</td>\n      <td>0.000072</td>\n      <td>0.000036</td>\n      <td>WORK_OF_ART</td>\n      <td>0</td>\n      <td>10</td>\n      <td>4839</td>\n      <td>1</td>\n      <td>1</td>\n      <td>0.000043</td>\n      <td>0.000028</td>\n      <td>0.162778</td>\n      <td>0.000097</td>\n      <td>0.000045</td>\n      <td>0.000027</td>\n      <td>0.059113</td>\n      <td>0.062181</td>\n      <td>0.060710</td>\n      <td>0.626484</td>\n      <td>0.000060</td>\n      <td>2.091059</td>\n      <td>North America</td>\n      <td>1</td>\n      <td>0</td>\n      <td>0</td>\n      <td>0</td>\n      <td>0</td>\n      <td>0</td>\n      <td>1</td>\n      <td>0</td>\n      <td>0</td>\n      <td>0</td>\n      <td>0</td>\n      <td>0</td>\n      <td>0</td>\n      <td>1</td>\n      <td>0</td>\n      <td>0</td>\n      <td>0</td>\n      <td>0</td>\n    </tr>\n    <tr>\n      <th>8</th>\n      <td>11.346304</td>\n      <td>9.210340</td>\n      <td>7.051856</td>\n      <td>games</td>\n      <td>27.0</td>\n      <td>0.0</td>\n      <td>1.0</td>\n      <td>1</td>\n      <td>6</td>\n      <td>4</td>\n      <td>621849.0</td>\n      <td>MD</td>\n      <td>1</td>\n      <td>0</td>\n      <td>5</td>\n      <td>21</td>\n      <td>Amanda Coronado</td>\n      <td>Kickstarter</td>\n      <td>1589543</td>\n      <td>1587618</td>\n      <td>9</td>\n      <td>3</td>\n      <td>1</td>\n      <td>11</td>\n      <td>3.083867</td>\n      <td>20.333333</td>\n      <td>0.466686</td>\n      <td>1.594701</td>\n      <td>0.000036</td>\n      <td>0.000051</td>\n      <td>0.000068</td>\n      <td>0.000010</td>\n      <td>0.000083</td>\n      <td>1.000000</td>\n      <td>0.000015</td>\n      <td>0.000030</td>\n      <td>0.000068</td>\n      <td>0.000067</td>\n      <td>PERSON,CARDINAL</td>\n      <td>0</td>\n      <td>14</td>\n      <td>4839</td>\n      <td>1</td>\n      <td>1</td>\n      <td>0.000018</td>\n      <td>0.000018</td>\n      <td>0.073925</td>\n      <td>0.798958</td>\n      <td>0.000098</td>\n      <td>0.000041</td>\n      <td>0.000093</td>\n      <td>0.000046</td>\n      <td>0.000022</td>\n      <td>0.000042</td>\n      <td>0.102862</td>\n      <td>8.465200</td>\n      <td>North America</td>\n      <td>1</td>\n      <td>0</td>\n      <td>0</td>\n      <td>0</td>\n      <td>0</td>\n      <td>1</td>\n      <td>0</td>\n      <td>0</td>\n      <td>1</td>\n      <td>0</td>\n      <td>1</td>\n      <td>0</td>\n      <td>0</td>\n      <td>0</td>\n      <td>0</td>\n      <td>0</td>\n      <td>0</td>\n      <td>0</td>\n    </tr>\n  </tbody>\n</table>\n</div>"
     },
     "execution_count": 1,
     "metadata": {},
     "output_type": "execute_result"
    }
   ],
   "source": [
    "import os\n",
    "import warnings\n",
    "import joblib\n",
    "import pandas as pd \n",
    "import numpy as np\n",
    "import matplotlib.pyplot as plt\n",
    "import seaborn as sns\n",
    "import xgboost as xgb\n",
    "from tqdm import tqdm\n",
    "from sklearn.model_selection import train_test_split\n",
    "from sklearn.metrics import mean_squared_error, mean_squared_log_error, r2_score, accuracy_score, confusion_matrix, classification_report\n",
    "from sklearn.model_selection import ParameterGrid\n",
    "from joblib import Parallel, delayed \n",
    "from sklearn import ensemble, linear_model, svm\n",
    "from sklearn.preprocessing import RobustScaler, MinMaxScaler\n",
    "from sklearn.inspection import permutation_importance, PartialDependenceDisplay\n",
    "from sklearn.model_selection import RandomizedSearchCV, GridSearchCV\n",
    "from test_diff_models import *\n",
    "from success_utils import *\n",
    "\n",
    "warnings.filterwarnings('ignore')\n",
    "pd.set_option('display.max_columns', None)\n",
    "pd.set_option('display.max_rows', None)\n",
    "\n",
    "# Create a dictionary to group countries by region\n",
    "region_groups = {\n",
    "    \"North America\": [\"HI\", \"Mexico\", \"NV\", \"OK\", \"NM\",\"CA\", \"NY\", \"MD\", \"DC\", \"WA\", \"CO\", \"MN\", \"TX\", \"SC\", \"GA\", \"KY\", \"PA\", \"MI\", \"OH\", \"OR\", \"NC\", \"IL\", \"AZ\", \"TN\", \"NJ\", \"UT\", \"VA\", \"ND\", \"VT\", \"IA\", \"ND\", \"VT\", \"LA\", \"CT\", \"RI\"],\n",
    "    \"Europe\": [\"Martinique\", \"AL\", \"Cayman Islands\", \"Russia\", \"ME\", \"UK\", \"DE\", \"Poland\", \"Denmark\", \"Netherlands\", \"Norway\", \"Liechtenstein\", \"Austria\", \"Belgium\", \"Czech Republic\", \"Iceland\", \"Ireland\", \"France\", \"Spain\", \"Sweden\", \"Switzerland\", \"Italy\", \"Slovenia\", \"Greece\"],\n",
    "    \"Asia\": [\"MO\", \"IN\", \"Japan\", \"China\", \"Hong Kong\", \"India\", \"Viet Nam\", \"Taiwan\", \"Afghanistan\", \"Israel\",\"Sri Lanka\", \"Jordan\"],\n",
    "    \"South America\": [\"Colombia\", \"Brazil\"],\n",
    "    \"Africa\": [\"WI\", \"SD\", \"MA\", \"Ghana\", \"Ethiopia\", \"Liberia\", \"Rwanda\"],\n",
    "    \"Oceania\": [\"AU\", \"NZ\"],\n",
    "    \"Other\": [ \"United Arab Emirates\", \"Svalbard and Jan Mayen\"]\n",
    "}\n",
    "\n",
    "noticable_entities = ['ORG', 'PERSON', 'DATE',\n",
    "                        'CARDINAL', 'GPE', 'PRODUCT', \n",
    "                        'WORK_OF_ART','ORDINAL', 'MONEY',\n",
    "                        'TIME', 'NORP']\n",
    "\n",
    "\n",
    "data_path = '/home/theerthala/Documents/repos/Crowdfunding-Social-Media-Drivers/Data/Kickstarter_only/final_data.csv'\n",
    "success_data = pd.read_csv(data_path)\n",
    "success_data['collection_ratio'] = success_data.collected.apply(decode_amount)/success_data.goal_amount.apply(decode_amount)\n",
    "\n",
    "\n",
    "bins = [0, 7, 14, 30, 60]\n",
    "labels = ['<1 week', '1-2 weeks', '2 weeks - 1 month', '1-2 months']\n",
    "success_data['duration'] = pd.cut(success_data['duration'], bins=bins, labels=labels)\n",
    "success_data= success_data[success_data.donate != 1].reset_index(drop=True)\n",
    "\n",
    "\n",
    "success_weights = (1-success_data.success.value_counts()/len(success_data)).values\n",
    "\n",
    "\n",
    "def get_region(country):\n",
    "    for region, countries in region_groups.items():\n",
    "        if country in countries:\n",
    "            return region\n",
    "    return \"Other\"\n",
    "\n",
    "success_data['region'] = success_data.country.str.strip().apply(get_region)\n",
    "success_data.num_backers = success_data.num_backers.str.replace(',', '').astype(int)\n",
    "success_data = success_data[success_data.region == 'North America']\n",
    "\n",
    "success_data = pd.get_dummies(\n",
    "                    success_data,\n",
    "                    columns=['fb_type', \n",
    "                              'duration'])\n",
    "\n",
    "\n",
    "for entity in noticable_entities:\n",
    "    success_data[f'fb_entity_{entity}'] = success_data.fb_entities_identified.fillna('None').str.split(',').apply(lambda entity_list: entity in entity_list).astype(int)\n",
    "    \n",
    "\n",
    "bool_cols = success_data.dtypes[success_data.dtypes == 'bool'].index.tolist()\n",
    "success_data[bool_cols] = success_data[bool_cols].astype(int)\n",
    "\n",
    "#ecoding the number of backers\n",
    "success_data.num_backers = encode_targets(success_data.num_backers)\n",
    "success_data.population = np.exp(success_data.population)\n",
    "\n",
    "\n",
    "success_data.head()"
   ]
  },
  {
   "cell_type": "code",
   "execution_count": 2,
   "metadata": {
    "ExecuteTime": {
     "end_time": "2024-02-12T15:04:48.877227183Z",
     "start_time": "2024-02-12T15:04:48.868600456Z"
    }
   },
   "outputs": [],
   "source": [
    "dropping_columns = ['collected', 'verified', 'donate', 'project_we_love', 'Team' ,'country', 'fb_page_name', 'region', 'fb_entities_identified', 'population', 'category']\n",
    "\n",
    "success_data.drop(columns=dropping_columns, axis=1, inplace=True)\n",
    "success_data = success_data[success_data.collection_ratio < 10].reset_index(drop=True)\n",
    "success_data.pledge_types = success_data.pledge_types.astype(int)\n",
    "success_data.num_projects = success_data.num_projects.astype(int)\n",
    "success_data.num_backed = success_data.num_backed.astype(int)\n"
   ]
  },
  {
   "cell_type": "code",
   "execution_count": 3,
   "metadata": {
    "ExecuteTime": {
     "end_time": "2024-02-12T15:04:49.042633519Z",
     "start_time": "2024-02-12T15:04:48.873202162Z"
    }
   },
   "outputs": [],
   "source": [
    "#identify and list all the boolean features disguised as int in the dataset\n",
    "bool_features = []\n",
    "for col in success_data.columns:\n",
    "    if success_data[col].nunique() == 2:\n",
    "        bool_features.append(col)\n",
    "\n",
    "bool_features.remove('success')"
   ]
  },
  {
   "cell_type": "code",
   "execution_count": 4,
   "metadata": {
    "ExecuteTime": {
     "end_time": "2024-02-12T15:04:49.096694102Z",
     "start_time": "2024-02-12T15:04:48.921183459Z"
    }
   },
   "outputs": [],
   "source": [
    "entity_features = [x for x in bool_features if 'fb_entity' in x]\n",
    "duration_features = [x for x in bool_features if 'duration' in x]\n",
    "region_features = [x for x in bool_features if 'region' in x]\n"
   ]
  },
  {
   "cell_type": "code",
   "execution_count": 5,
   "metadata": {
    "ExecuteTime": {
     "end_time": "2024-02-12T15:04:49.099237978Z",
     "start_time": "2024-02-12T15:04:48.921432747Z"
    }
   },
   "outputs": [],
   "source": [
    "# from sklearn.decomposition import PCA, TruncatedSVD\n",
    "# def save_embedding_info(loadings, entity_features, name):\n",
    "#     # Create a dataframe to store the loadings\n",
    "#     loadings_df = pd.DataFrame(loadings, columns=entity_features)\n",
    "\n",
    "#     plt.figure(figsize=(20, 10))\n",
    "#     sns.heatmap(loadings_df, cmap='RdBu', center=0, annot=True)\n",
    "#     save_path = '/workspaces/Crowdfunding-Social-Media-Drivers/Modelling/02_success_engagement/heatmaps for embeddings'\n",
    "#     plt.savefig(save_path + f'/{name}.png', bbox_inches='tight')\n",
    "\n",
    "# def try_svd(df, cols):\n",
    "#     for i in range(1, len(cols)):\n",
    "#         svd = TruncatedSVD(n_components=i)\n",
    "#         svd.fit(df[cols])\n",
    "#         evr = svd.explained_variance_ratio_.sum()\n",
    "#         print(f'Explained variance ratio for {i} components: {svd.explained_variance_ratio_.sum()}')\n",
    "#         if evr > 0.8:\n",
    "#             return svd, i\n",
    "\n",
    "# def append_embeddings(embeddings, df, col):\n",
    "#     for i in range(embeddings.shape[1]):\n",
    "#         df[f'{col}_embedding_{i}'] = embeddings[:,i]\n",
    "#     return df\n",
    "\n",
    "# svd, n_components = try_svd(success_data, entity_features)\n",
    "# embddings = svd.fit_transform(success_data[entity_features])\n",
    "# loadings = svd.components_\n",
    "# save_embedding_info(loadings, entity_features, 'fb_entities')\n",
    "\n",
    "# success_data = append_embeddings(embddings, success_data, 'fb_entities')\n",
    "\n",
    "# svd, n_components = try_svd(success_data, region_features)\n",
    "# embddings = svd.fit_transform(success_data[region_features])\n",
    "# loadings = svd.components_\n",
    "# save_embedding_info(loadings, region_features, 'region')\n",
    "\n",
    "# success_data = append_embeddings(embddings, success_data, 'region')\n",
    "\n",
    "# svd, n_components = try_svd(success_data, categories)\n",
    "# embddings = svd.fit_transform(success_data[categories])\n",
    "# loadings = svd.components_\n",
    "# save_embedding_info(loadings, categories, 'categories')\n",
    "\n",
    "# success_data = append_embeddings(embddings, success_data, 'categories')\n",
    "\n",
    "# success_data.drop(columns=entity_features + region_features + categories, axis=1, inplace=True)"
   ]
  },
  {
   "cell_type": "code",
   "execution_count": 6,
   "metadata": {
    "ExecuteTime": {
     "end_time": "2024-02-12T15:04:49.113935206Z",
     "start_time": "2024-02-12T15:04:48.921579510Z"
    }
   },
   "outputs": [],
   "source": [
    "success_data.num_backers = np.exp(success_data.num_backers)\n",
    "target_cols = [\n",
    "    'success',\n",
    "    'collection_ratio',\n",
    "    'num_backers'\n",
    "]\n",
    "\n",
    "fb_cols = success_data.columns[success_data.columns.str.startswith('fb')].tolist()\n",
    "common_features= success_data.columns[~success_data.columns.str.startswith('fb')].tolist()\n",
    "common_features = [feature for feature in common_features if feature not in target_cols]\n",
    "\n",
    "engagement_features = [ 'fb_likes', 'fb_comments', 'fb_shares','fb_positive_reactions','fb_negative_reactions']\n",
    "post_fb_features = [feature for feature in fb_cols if feature not in engagement_features]\n"
   ]
  },
  {
   "cell_type": "code",
   "execution_count": 7,
   "metadata": {
    "ExecuteTime": {
     "end_time": "2024-02-12T15:04:49.116392944Z",
     "start_time": "2024-02-12T15:04:48.921694778Z"
    }
   },
   "outputs": [],
   "source": [
    "domain_page_features = success_data[common_features]\n",
    "domain_engagement_features = success_data[common_features + engagement_features]\n",
    "domain_post_features = success_data[common_features + post_fb_features]\n",
    "\n",
    "targets = success_data[target_cols]"
   ]
  },
  {
   "cell_type": "code",
   "execution_count": 8,
   "metadata": {
    "ExecuteTime": {
     "end_time": "2024-02-12T15:04:49.119524881Z",
     "start_time": "2024-02-12T15:04:48.921847011Z"
    }
   },
   "outputs": [],
   "source": [
    "pd.concat([domain_page_features, targets], axis=1).to_csv('/home/theerthala/Documents/repos/Crowdfunding-Social-Media-Drivers/Data/final_datasets/domain_only.csv', index=False)\n",
    "pd.concat([domain_engagement_features, targets], axis=1).to_csv('/home/theerthala/Documents/repos/Crowdfunding-Social-Media-Drivers/Data/final_datasets/domain_engagement.csv', index=False)\n",
    "pd.concat([domain_post_features, targets], axis=1).to_csv('/home/theerthala/Documents/repos/Crowdfunding-Social-Media-Drivers/Data/final_datasets/domain_post.csv', index=False)"
   ]
  },
  {
   "cell_type": "code",
   "execution_count": 9,
   "metadata": {
    "ExecuteTime": {
     "end_time": "2024-02-12T15:04:49.122562403Z",
     "start_time": "2024-02-12T15:04:48.921961137Z"
    }
   },
   "outputs": [
    {
     "name": "stdout",
     "output_type": "stream",
     "text": [
      "['goal_amount', 'pledge_types', 'start_month', 'start_day', 'Person', 'num_projects', 'num_backed', 'duration_<1 week', 'duration_1-2 weeks', 'duration_2 weeks - 1 month', 'duration_1-2 months']\n"
     ]
    }
   ],
   "source": [
    "print(common_features)"
   ]
  },
  {
   "cell_type": "markdown",
   "metadata": {},
   "source": [
    "## Modelling"
   ]
  },
  {
   "cell_type": "code",
   "execution_count": 10,
   "metadata": {
    "ExecuteTime": {
     "end_time": "2024-02-12T15:04:49.136670775Z",
     "start_time": "2024-02-12T15:04:48.922111067Z"
    }
   },
   "outputs": [],
   "source": [
    "working_data = 'domain_post'\n",
    "domain_post = pd.read_csv(f'/home/theerthala/Documents/repos/Crowdfunding-Social-Media-Drivers/Data/final_datasets/{working_data}.csv')"
   ]
  },
  {
   "cell_type": "code",
   "execution_count": 11,
   "metadata": {
    "ExecuteTime": {
     "end_time": "2024-02-12T15:04:49.140727290Z",
     "start_time": "2024-02-12T15:04:48.922443445Z"
    }
   },
   "outputs": [
    {
     "data": {
      "text/plain": "   success  collection_ratio  num_backers\n0        1          8.506720        919.0\n1        1          7.120150       1048.0\n2        1          1.067500        204.0\n3        1          2.091059        259.0\n4        1          8.465200       1155.0",
      "text/html": "<div>\n<style scoped>\n    .dataframe tbody tr th:only-of-type {\n        vertical-align: middle;\n    }\n\n    .dataframe tbody tr th {\n        vertical-align: top;\n    }\n\n    .dataframe thead th {\n        text-align: right;\n    }\n</style>\n<table border=\"1\" class=\"dataframe\">\n  <thead>\n    <tr style=\"text-align: right;\">\n      <th></th>\n      <th>success</th>\n      <th>collection_ratio</th>\n      <th>num_backers</th>\n    </tr>\n  </thead>\n  <tbody>\n    <tr>\n      <th>0</th>\n      <td>1</td>\n      <td>8.506720</td>\n      <td>919.0</td>\n    </tr>\n    <tr>\n      <th>1</th>\n      <td>1</td>\n      <td>7.120150</td>\n      <td>1048.0</td>\n    </tr>\n    <tr>\n      <th>2</th>\n      <td>1</td>\n      <td>1.067500</td>\n      <td>204.0</td>\n    </tr>\n    <tr>\n      <th>3</th>\n      <td>1</td>\n      <td>2.091059</td>\n      <td>259.0</td>\n    </tr>\n    <tr>\n      <th>4</th>\n      <td>1</td>\n      <td>8.465200</td>\n      <td>1155.0</td>\n    </tr>\n  </tbody>\n</table>\n</div>"
     },
     "execution_count": 11,
     "metadata": {},
     "output_type": "execute_result"
    }
   ],
   "source": [
    "domain_post.loc[:,target_cols].head()"
   ]
  },
  {
   "cell_type": "code",
   "execution_count": 23,
   "metadata": {
    "ExecuteTime": {
     "end_time": "2024-02-12T16:54:03.995725049Z",
     "start_time": "2024-02-12T16:54:03.942204524Z"
    }
   },
   "outputs": [],
   "source": [
    "# Split the data into training and testing sets\n",
    "X_train, X_test, y_train, y_test = train_test_split(domain_post.drop(target_cols, axis=1), domain_post[target_cols], test_size=0.13, random_state=42, stratify=domain_post.success)\n",
    "\n",
    "X_train = X_train.reset_index(drop=True).values\n",
    "X_test = X_test.reset_index(drop=True).values\n",
    "y_train = y_train.reset_index(drop=True).values\n",
    "y_test = y_test.reset_index(drop=True).values"
   ]
  },
  {
   "cell_type": "markdown",
   "metadata": {},
   "source": [
    "* y[:, 0] => Success (Boolean)\n",
    "* y[:,1] => Collection Ratio\n",
    "* y[:,2] => Number of Backers\n"
   ]
  },
  {
   "cell_type": "code",
   "execution_count": 15,
   "metadata": {
    "ExecuteTime": {
     "end_time": "2024-02-12T16:49:07.665941520Z",
     "start_time": "2024-02-12T16:48:45.654849143Z"
    }
   },
   "outputs": [
    {
     "name": "stderr",
     "output_type": "stream",
     "text": [
      "Training models: 100%|██████████| 40/40 [00:21<00:00,  1.84it/s]\n",
      "Evaluating models: 100%|██████████| 40/40 [00:00<00:00, 161.50it/s]"
     ]
    },
    {
     "name": "stdout",
     "output_type": "stream",
     "text": [
      "All models were trained successfully.\n",
      "All models were evaluated successfully.\n"
     ]
    },
    {
     "name": "stderr",
     "output_type": "stream",
     "text": [
      "\n"
     ]
    },
    {
     "data": {
      "text/plain": "                               RMSE       MAE     R2  EV Score\nExtraTreesRegressor        3750.456  1101.512  0.271     0.280\nRandomForestRegressor      3763.696  1156.909  0.266     0.276\nBaggingRegressor           3798.495  1175.641  0.252     0.260\nGradientBoostingRegressor  3838.386  1191.746  0.237     0.249\nAdaBoostRegressor          3844.342  1553.609  0.234     0.234\nXGBRegressor               3857.998  1169.538  0.229     0.240\nLinearRegression           4015.508  1303.647  0.164     0.188\nKernelRidge                4016.543  1289.882  0.164     0.188\nLasso                      4017.626  1288.949  0.164     0.186\nLassoLars                  4017.626  1288.949  0.164     0.186",
      "text/html": "<div>\n<style scoped>\n    .dataframe tbody tr th:only-of-type {\n        vertical-align: middle;\n    }\n\n    .dataframe tbody tr th {\n        vertical-align: top;\n    }\n\n    .dataframe thead th {\n        text-align: right;\n    }\n</style>\n<table border=\"1\" class=\"dataframe\">\n  <thead>\n    <tr style=\"text-align: right;\">\n      <th></th>\n      <th>RMSE</th>\n      <th>MAE</th>\n      <th>R2</th>\n      <th>EV Score</th>\n    </tr>\n  </thead>\n  <tbody>\n    <tr>\n      <th>ExtraTreesRegressor</th>\n      <td>3750.456</td>\n      <td>1101.512</td>\n      <td>0.271</td>\n      <td>0.280</td>\n    </tr>\n    <tr>\n      <th>RandomForestRegressor</th>\n      <td>3763.696</td>\n      <td>1156.909</td>\n      <td>0.266</td>\n      <td>0.276</td>\n    </tr>\n    <tr>\n      <th>BaggingRegressor</th>\n      <td>3798.495</td>\n      <td>1175.641</td>\n      <td>0.252</td>\n      <td>0.260</td>\n    </tr>\n    <tr>\n      <th>GradientBoostingRegressor</th>\n      <td>3838.386</td>\n      <td>1191.746</td>\n      <td>0.237</td>\n      <td>0.249</td>\n    </tr>\n    <tr>\n      <th>AdaBoostRegressor</th>\n      <td>3844.342</td>\n      <td>1553.609</td>\n      <td>0.234</td>\n      <td>0.234</td>\n    </tr>\n    <tr>\n      <th>XGBRegressor</th>\n      <td>3857.998</td>\n      <td>1169.538</td>\n      <td>0.229</td>\n      <td>0.240</td>\n    </tr>\n    <tr>\n      <th>LinearRegression</th>\n      <td>4015.508</td>\n      <td>1303.647</td>\n      <td>0.164</td>\n      <td>0.188</td>\n    </tr>\n    <tr>\n      <th>KernelRidge</th>\n      <td>4016.543</td>\n      <td>1289.882</td>\n      <td>0.164</td>\n      <td>0.188</td>\n    </tr>\n    <tr>\n      <th>Lasso</th>\n      <td>4017.626</td>\n      <td>1288.949</td>\n      <td>0.164</td>\n      <td>0.186</td>\n    </tr>\n    <tr>\n      <th>LassoLars</th>\n      <td>4017.626</td>\n      <td>1288.949</td>\n      <td>0.164</td>\n      <td>0.186</td>\n    </tr>\n  </tbody>\n</table>\n</div>"
     },
     "execution_count": 15,
     "metadata": {},
     "output_type": "execute_result"
    }
   ],
   "source": [
    "reg_test = RegressionModels(X_train, X_test, y_train[:,2], y_test[:,2], decode=False)\n",
    "reg_test.run_evaluation()\n",
    "print(reg_test.not_trained_)\n",
    "print(reg_test.not_evaluated_)\n",
    "reg_test.top_10_socres"
   ]
  },
  {
   "cell_type": "code",
   "execution_count": 16,
   "metadata": {
    "ExecuteTime": {
     "end_time": "2024-02-12T16:49:28.014203536Z",
     "start_time": "2024-02-12T16:49:07.655835883Z"
    }
   },
   "outputs": [
    {
     "name": "stderr",
     "output_type": "stream",
     "text": [
      "Training models: 100%|██████████| 40/40 [00:20<00:00,  1.99it/s]\n",
      "Evaluating models: 100%|██████████| 40/40 [00:00<00:00, 149.16it/s]"
     ]
    },
    {
     "name": "stdout",
     "output_type": "stream",
     "text": [
      "All models were trained successfully.\n",
      "All models were evaluated successfully.\n"
     ]
    },
    {
     "name": "stderr",
     "output_type": "stream",
     "text": [
      "\n"
     ]
    },
    {
     "data": {
      "text/plain": "                        RMSE    MAE     R2  EV Score\nRidgeCV                0.969  0.783  0.467     0.473\nLassoLarsCV            0.970  0.778  0.466     0.472\nLassoLarsIC            0.972  0.783  0.464     0.470\nBayesianRidge          0.973  0.778  0.463     0.469\nExtraTreesRegressor    0.986  0.787  0.448     0.455\nRidge                  0.986  0.801  0.448     0.454\nKernelRidge            0.992  0.802  0.442     0.449\nARDRegression          0.994  0.808  0.439     0.446\nLinearRegression       0.997  0.807  0.436     0.443\nRandomForestRegressor  1.004  0.800  0.427     0.430",
      "text/html": "<div>\n<style scoped>\n    .dataframe tbody tr th:only-of-type {\n        vertical-align: middle;\n    }\n\n    .dataframe tbody tr th {\n        vertical-align: top;\n    }\n\n    .dataframe thead th {\n        text-align: right;\n    }\n</style>\n<table border=\"1\" class=\"dataframe\">\n  <thead>\n    <tr style=\"text-align: right;\">\n      <th></th>\n      <th>RMSE</th>\n      <th>MAE</th>\n      <th>R2</th>\n      <th>EV Score</th>\n    </tr>\n  </thead>\n  <tbody>\n    <tr>\n      <th>RidgeCV</th>\n      <td>0.969</td>\n      <td>0.783</td>\n      <td>0.467</td>\n      <td>0.473</td>\n    </tr>\n    <tr>\n      <th>LassoLarsCV</th>\n      <td>0.970</td>\n      <td>0.778</td>\n      <td>0.466</td>\n      <td>0.472</td>\n    </tr>\n    <tr>\n      <th>LassoLarsIC</th>\n      <td>0.972</td>\n      <td>0.783</td>\n      <td>0.464</td>\n      <td>0.470</td>\n    </tr>\n    <tr>\n      <th>BayesianRidge</th>\n      <td>0.973</td>\n      <td>0.778</td>\n      <td>0.463</td>\n      <td>0.469</td>\n    </tr>\n    <tr>\n      <th>ExtraTreesRegressor</th>\n      <td>0.986</td>\n      <td>0.787</td>\n      <td>0.448</td>\n      <td>0.455</td>\n    </tr>\n    <tr>\n      <th>Ridge</th>\n      <td>0.986</td>\n      <td>0.801</td>\n      <td>0.448</td>\n      <td>0.454</td>\n    </tr>\n    <tr>\n      <th>KernelRidge</th>\n      <td>0.992</td>\n      <td>0.802</td>\n      <td>0.442</td>\n      <td>0.449</td>\n    </tr>\n    <tr>\n      <th>ARDRegression</th>\n      <td>0.994</td>\n      <td>0.808</td>\n      <td>0.439</td>\n      <td>0.446</td>\n    </tr>\n    <tr>\n      <th>LinearRegression</th>\n      <td>0.997</td>\n      <td>0.807</td>\n      <td>0.436</td>\n      <td>0.443</td>\n    </tr>\n    <tr>\n      <th>RandomForestRegressor</th>\n      <td>1.004</td>\n      <td>0.800</td>\n      <td>0.427</td>\n      <td>0.430</td>\n    </tr>\n  </tbody>\n</table>\n</div>"
     },
     "execution_count": 16,
     "metadata": {},
     "output_type": "execute_result"
    }
   ],
   "source": [
    "reg_test = RegressionModels(X_train, X_test, encode_targets(y_train[:,2]), encode_targets(y_test[:,2]), decode=False)\n",
    "reg_test.run_evaluation()\n",
    "print(reg_test.not_trained_)\n",
    "print(reg_test.not_evaluated_)\n",
    "reg_test.top_10_socres"
   ]
  },
  {
   "cell_type": "code",
   "execution_count": null,
   "metadata": {},
   "outputs": [
    {
     "name": "stderr",
     "output_type": "stream",
     "text": [
      "Training models: 100%|██████████| 28/28 [00:02<00:00, 11.34it/s]\n",
      "Evaluating models: 100%|██████████| 27/27 [00:00<00:00, 80.69it/s] "
     ]
    },
    {
     "name": "stdout",
     "output_type": "stream",
     "text": [
      "The modelsNu-Support Vector Machine could not be trained.\n",
      "The modelsKernel Ridge could not be evaluated.\n"
     ]
    },
    {
     "name": "stderr",
     "output_type": "stream",
     "text": [
      "\n"
     ]
    },
    {
     "data": {
      "text/html": [
       "<div>\n",
       "<style scoped>\n",
       "    .dataframe tbody tr th:only-of-type {\n",
       "        vertical-align: middle;\n",
       "    }\n",
       "\n",
       "    .dataframe tbody tr th {\n",
       "        vertical-align: top;\n",
       "    }\n",
       "\n",
       "    .dataframe thead th {\n",
       "        text-align: right;\n",
       "    }\n",
       "</style>\n",
       "<table border=\"1\" class=\"dataframe\">\n",
       "  <thead>\n",
       "    <tr style=\"text-align: right;\">\n",
       "      <th></th>\n",
       "      <th>Accuracy</th>\n",
       "      <th>Precision</th>\n",
       "      <th>Recall</th>\n",
       "      <th>F1 Score</th>\n",
       "      <th>ROC AUC</th>\n",
       "      <th>Class-0 Acc</th>\n",
       "      <th>Class-1 Acc</th>\n",
       "    </tr>\n",
       "  </thead>\n",
       "  <tbody>\n",
       "    <tr>\n",
       "      <th>Balanced Random Forest Classifier</th>\n",
       "      <td>0.64</td>\n",
       "      <td>0.97</td>\n",
       "      <td>0.62</td>\n",
       "      <td>0.75</td>\n",
       "      <td>0.72</td>\n",
       "      <td>0.82</td>\n",
       "      <td>0.62</td>\n",
       "    </tr>\n",
       "    <tr>\n",
       "      <th>Gaussian Process</th>\n",
       "      <td>0.13</td>\n",
       "      <td>0.71</td>\n",
       "      <td>0.05</td>\n",
       "      <td>0.09</td>\n",
       "      <td>0.43</td>\n",
       "      <td>0.82</td>\n",
       "      <td>0.05</td>\n",
       "    </tr>\n",
       "    <tr>\n",
       "      <th>Gaussian Naive Bayes</th>\n",
       "      <td>0.54</td>\n",
       "      <td>0.94</td>\n",
       "      <td>0.52</td>\n",
       "      <td>0.67</td>\n",
       "      <td>0.62</td>\n",
       "      <td>0.73</td>\n",
       "      <td>0.52</td>\n",
       "    </tr>\n",
       "    <tr>\n",
       "      <th>Easy Ensemble Classifier</th>\n",
       "      <td>0.57</td>\n",
       "      <td>0.93</td>\n",
       "      <td>0.57</td>\n",
       "      <td>0.70</td>\n",
       "      <td>0.60</td>\n",
       "      <td>0.64</td>\n",
       "      <td>0.57</td>\n",
       "    </tr>\n",
       "    <tr>\n",
       "      <th>RUSBoost Classifier</th>\n",
       "      <td>0.77</td>\n",
       "      <td>0.93</td>\n",
       "      <td>0.81</td>\n",
       "      <td>0.86</td>\n",
       "      <td>0.63</td>\n",
       "      <td>0.45</td>\n",
       "      <td>0.81</td>\n",
       "    </tr>\n",
       "    <tr>\n",
       "      <th>Balanced Bagging Classifier</th>\n",
       "      <td>0.72</td>\n",
       "      <td>0.93</td>\n",
       "      <td>0.75</td>\n",
       "      <td>0.83</td>\n",
       "      <td>0.60</td>\n",
       "      <td>0.45</td>\n",
       "      <td>0.75</td>\n",
       "    </tr>\n",
       "    <tr>\n",
       "      <th>Multinomial Naive Bayes</th>\n",
       "      <td>0.63</td>\n",
       "      <td>0.88</td>\n",
       "      <td>0.68</td>\n",
       "      <td>0.77</td>\n",
       "      <td>0.43</td>\n",
       "      <td>0.18</td>\n",
       "      <td>0.68</td>\n",
       "    </tr>\n",
       "    <tr>\n",
       "      <th>AdaBoost</th>\n",
       "      <td>0.89</td>\n",
       "      <td>0.91</td>\n",
       "      <td>0.97</td>\n",
       "      <td>0.94</td>\n",
       "      <td>0.58</td>\n",
       "      <td>0.18</td>\n",
       "      <td>0.97</td>\n",
       "    </tr>\n",
       "    <tr>\n",
       "      <th>Support Vector Machine</th>\n",
       "      <td>0.90</td>\n",
       "      <td>0.90</td>\n",
       "      <td>1.00</td>\n",
       "      <td>0.95</td>\n",
       "      <td>0.50</td>\n",
       "      <td>0.00</td>\n",
       "      <td>1.00</td>\n",
       "    </tr>\n",
       "    <tr>\n",
       "      <th>Dummy Classifier</th>\n",
       "      <td>0.90</td>\n",
       "      <td>0.90</td>\n",
       "      <td>1.00</td>\n",
       "      <td>0.95</td>\n",
       "      <td>0.50</td>\n",
       "      <td>0.00</td>\n",
       "      <td>1.00</td>\n",
       "    </tr>\n",
       "  </tbody>\n",
       "</table>\n",
       "</div>"
      ],
      "text/plain": [
       "                                   Accuracy  Precision  Recall  F1 Score  \\\n",
       "Balanced Random Forest Classifier      0.64       0.97    0.62      0.75   \n",
       "Gaussian Process                       0.13       0.71    0.05      0.09   \n",
       "Gaussian Naive Bayes                   0.54       0.94    0.52      0.67   \n",
       "Easy Ensemble Classifier               0.57       0.93    0.57      0.70   \n",
       "RUSBoost Classifier                    0.77       0.93    0.81      0.86   \n",
       "Balanced Bagging Classifier            0.72       0.93    0.75      0.83   \n",
       "Multinomial Naive Bayes                0.63       0.88    0.68      0.77   \n",
       "AdaBoost                               0.89       0.91    0.97      0.94   \n",
       "Support Vector Machine                 0.90       0.90    1.00      0.95   \n",
       "Dummy Classifier                       0.90       0.90    1.00      0.95   \n",
       "\n",
       "                                   ROC AUC  Class-0 Acc  Class-1 Acc  \n",
       "Balanced Random Forest Classifier     0.72         0.82         0.62  \n",
       "Gaussian Process                      0.43         0.82         0.05  \n",
       "Gaussian Naive Bayes                  0.62         0.73         0.52  \n",
       "Easy Ensemble Classifier              0.60         0.64         0.57  \n",
       "RUSBoost Classifier                   0.63         0.45         0.81  \n",
       "Balanced Bagging Classifier           0.60         0.45         0.75  \n",
       "Multinomial Naive Bayes               0.43         0.18         0.68  \n",
       "AdaBoost                              0.58         0.18         0.97  \n",
       "Support Vector Machine                0.50         0.00         1.00  \n",
       "Dummy Classifier                      0.50         0.00         1.00  "
      ]
     },
     "execution_count": 111,
     "metadata": {},
     "output_type": "execute_result"
    }
   ],
   "source": [
    "cls_test = ClassificationModels(X_train, X_test, y_train[:,0], y_test[:,0])\n",
    "cls_test.run_evaluation()\n",
    "print(cls_test.not_trained_)\n",
    "print(cls_test.not_evaluated_)\n",
    "cls_test.top_10_socres"
   ]
  },
  {
   "cell_type": "markdown",
   "metadata": {},
   "source": [
    "## Further Finetuning of the topk models"
   ]
  },
  {
   "cell_type": "markdown",
   "metadata": {},
   "source": [
    "### Collection Ratio"
   ]
  },
  {
   "cell_type": "code",
   "outputs": [
    {
     "name": "stderr",
     "output_type": "stream",
     "text": [
      "Training models: 100%|██████████| 40/40 [00:19<00:00,  2.07it/s]\n",
      "Evaluating models: 100%|██████████| 40/40 [00:00<00:00, 178.04it/s]"
     ]
    },
    {
     "name": "stdout",
     "output_type": "stream",
     "text": [
      "All models were trained successfully.\n",
      "All models were evaluated successfully.\n"
     ]
    },
    {
     "name": "stderr",
     "output_type": "stream",
     "text": [
      "\n"
     ]
    },
    {
     "data": {
      "text/plain": "                            RMSE    MAE     R2  EV Score\nGradientBoostingRegressor  1.519  1.017  0.284     0.286\nExtraTreesRegressor        1.573  1.145  0.233     0.241\nRandomForestRegressor      1.595  1.176  0.211     0.211\nLarsCV                     1.627  1.186  0.179     0.183\nLassoLarsCV                1.645  1.196  0.160     0.166\nElasticNet                 1.666  1.210  0.139     0.140\nRidgeCV                    1.677  1.241  0.128     0.133\nLasso                      1.688  1.236  0.116     0.117\nLassoLars                  1.688  1.236  0.116     0.117\nTweedieRegressor           1.707  1.239  0.096     0.097",
      "text/html": "<div>\n<style scoped>\n    .dataframe tbody tr th:only-of-type {\n        vertical-align: middle;\n    }\n\n    .dataframe tbody tr th {\n        vertical-align: top;\n    }\n\n    .dataframe thead th {\n        text-align: right;\n    }\n</style>\n<table border=\"1\" class=\"dataframe\">\n  <thead>\n    <tr style=\"text-align: right;\">\n      <th></th>\n      <th>RMSE</th>\n      <th>MAE</th>\n      <th>R2</th>\n      <th>EV Score</th>\n    </tr>\n  </thead>\n  <tbody>\n    <tr>\n      <th>GradientBoostingRegressor</th>\n      <td>1.519</td>\n      <td>1.017</td>\n      <td>0.284</td>\n      <td>0.286</td>\n    </tr>\n    <tr>\n      <th>ExtraTreesRegressor</th>\n      <td>1.573</td>\n      <td>1.145</td>\n      <td>0.233</td>\n      <td>0.241</td>\n    </tr>\n    <tr>\n      <th>RandomForestRegressor</th>\n      <td>1.595</td>\n      <td>1.176</td>\n      <td>0.211</td>\n      <td>0.211</td>\n    </tr>\n    <tr>\n      <th>LarsCV</th>\n      <td>1.627</td>\n      <td>1.186</td>\n      <td>0.179</td>\n      <td>0.183</td>\n    </tr>\n    <tr>\n      <th>LassoLarsCV</th>\n      <td>1.645</td>\n      <td>1.196</td>\n      <td>0.160</td>\n      <td>0.166</td>\n    </tr>\n    <tr>\n      <th>ElasticNet</th>\n      <td>1.666</td>\n      <td>1.210</td>\n      <td>0.139</td>\n      <td>0.140</td>\n    </tr>\n    <tr>\n      <th>RidgeCV</th>\n      <td>1.677</td>\n      <td>1.241</td>\n      <td>0.128</td>\n      <td>0.133</td>\n    </tr>\n    <tr>\n      <th>Lasso</th>\n      <td>1.688</td>\n      <td>1.236</td>\n      <td>0.116</td>\n      <td>0.117</td>\n    </tr>\n    <tr>\n      <th>LassoLars</th>\n      <td>1.688</td>\n      <td>1.236</td>\n      <td>0.116</td>\n      <td>0.117</td>\n    </tr>\n    <tr>\n      <th>TweedieRegressor</th>\n      <td>1.707</td>\n      <td>1.239</td>\n      <td>0.096</td>\n      <td>0.097</td>\n    </tr>\n  </tbody>\n</table>\n</div>"
     },
     "execution_count": 24,
     "metadata": {},
     "output_type": "execute_result"
    }
   ],
   "source": [
    "reg_test = RegressionModels(X_train, X_test, y_train[:,1], y_test[:,1], decode=False)\n",
    "reg_test.run_evaluation()\n",
    "print(reg_test.not_trained_)\n",
    "print(reg_test.not_evaluated_)\n",
    "reg_test.top_10_socres"
   ],
   "metadata": {
    "ExecuteTime": {
     "end_time": "2024-02-12T16:54:33.687728874Z",
     "start_time": "2024-02-12T16:54:14.116365884Z"
    }
   },
   "execution_count": 24
  },
  {
   "cell_type": "code",
   "outputs": [],
   "source": [
    "positive_cases = y_train[:,0].sum()\n",
    "negative_cases = len(y_train) - positive_cases\n",
    "\n",
    "positive_weight = 1-(positive_cases/ len(y_train))\n",
    "negative_weight = 1-(negative_cases/ len(y_train))\n",
    "\n",
    "balanced_weights = {0: negative_weight, 1: positive_weight}\n",
    "weight_array = np.array([balanced_weights[i] for i in y_train[:,0]])"
   ],
   "metadata": {
    "collapsed": false,
    "ExecuteTime": {
     "end_time": "2024-02-12T16:56:24.210334352Z",
     "start_time": "2024-02-12T16:56:24.166576707Z"
    }
   },
   "execution_count": 28
  },
  {
   "cell_type": "code",
   "outputs": [
    {
     "name": "stdout",
     "output_type": "stream",
     "text": [
      "RMSE In: 1.80\n",
      "RMSE Out: 1.62\n",
      "R2 In: 0.18551742081644373\n",
      "R2 Out: 0.18640315195108337\n"
     ]
    }
   ],
   "source": [
    "lars_cv = linear_model.LarsCV(cv=20)\n",
    "lars_cv.fit(X_train, y_train[:,1])\n",
    "\n",
    "y_pred_in = lars_cv.predict(X_train)\n",
    "y_pred_out = lars_cv.predict(X_test)\n",
    "\n",
    "print(f'RMSE In: {np.sqrt(mean_squared_error(y_train[:,1], y_pred_in)):.2f}')\n",
    "print(f'RMSE Out: {np.sqrt(mean_squared_error(y_test[:,1], y_pred_out)):.2f}')\n",
    "\n",
    "print(f'R2 In: {r2_score(y_train[:,1], y_pred_in)}')\n",
    "print(f'R2 Out: {r2_score(y_test[:,1], y_pred_out)}')"
   ],
   "metadata": {
    "collapsed": false,
    "ExecuteTime": {
     "end_time": "2024-02-12T17:03:51.392934122Z",
     "start_time": "2024-02-12T17:03:51.298522396Z"
    }
   },
   "execution_count": 50
  },
  {
   "cell_type": "code",
   "outputs": [
    {
     "data": {
      "text/plain": "['/home/theerthala/Documents/repos/Crowdfunding-Social-Media-Drivers/Modelling/final_models/02_domain_post/collection_ratio.pkl']"
     },
     "execution_count": 53,
     "metadata": {},
     "output_type": "execute_result"
    }
   ],
   "source": [
    "joblib.dump(lars_cv, '/home/theerthala/Documents/repos/Crowdfunding-Social-Media-Drivers/Modelling/final_models/02_domain_post/collection_ratio.pkl')"
   ],
   "metadata": {
    "collapsed": false,
    "ExecuteTime": {
     "end_time": "2024-02-12T17:05:01.317223914Z",
     "start_time": "2024-02-12T17:05:01.310826246Z"
    }
   },
   "execution_count": 53
  },
  {
   "cell_type": "markdown",
   "metadata": {},
   "source": [
    "### Number of Backers"
   ]
  },
  {
   "cell_type": "code",
   "outputs": [
    {
     "name": "stderr",
     "output_type": "stream",
     "text": [
      "Training models: 100%|██████████| 40/40 [00:20<00:00,  1.97it/s]\n",
      "Evaluating models: 100%|██████████| 40/40 [00:00<00:00, 160.10it/s]"
     ]
    },
    {
     "name": "stdout",
     "output_type": "stream",
     "text": [
      "All models were trained successfully.\n",
      "All models were evaluated successfully.\n"
     ]
    },
    {
     "name": "stderr",
     "output_type": "stream",
     "text": [
      "\n"
     ]
    },
    {
     "data": {
      "text/plain": "                               RMSE       MAE     R2  EV Score\nRandomForestRegressor      2587.931   974.102  0.427     0.427\nBaggingRegressor           2647.785  1043.417  0.400     0.400\nExtraTreesRegressor        2667.772   866.043  0.391     0.391\nXGBRegressor               2764.531  1045.563  0.346     0.349\nGradientBoostingRegressor  2770.942   942.145  0.343     0.343\nLars                       2782.171  1587.005  0.337     0.343\nLarsCV                     2807.951  1222.056  0.325     0.335\nRidgeCV                    2889.658  1196.881  0.285     0.302\nKernelRidge                2900.196  1281.893  0.280     0.296\nARDRegression              2902.310  1158.967  0.279     0.295",
      "text/html": "<div>\n<style scoped>\n    .dataframe tbody tr th:only-of-type {\n        vertical-align: middle;\n    }\n\n    .dataframe tbody tr th {\n        vertical-align: top;\n    }\n\n    .dataframe thead th {\n        text-align: right;\n    }\n</style>\n<table border=\"1\" class=\"dataframe\">\n  <thead>\n    <tr style=\"text-align: right;\">\n      <th></th>\n      <th>RMSE</th>\n      <th>MAE</th>\n      <th>R2</th>\n      <th>EV Score</th>\n    </tr>\n  </thead>\n  <tbody>\n    <tr>\n      <th>RandomForestRegressor</th>\n      <td>2587.931</td>\n      <td>974.102</td>\n      <td>0.427</td>\n      <td>0.427</td>\n    </tr>\n    <tr>\n      <th>BaggingRegressor</th>\n      <td>2647.785</td>\n      <td>1043.417</td>\n      <td>0.400</td>\n      <td>0.400</td>\n    </tr>\n    <tr>\n      <th>ExtraTreesRegressor</th>\n      <td>2667.772</td>\n      <td>866.043</td>\n      <td>0.391</td>\n      <td>0.391</td>\n    </tr>\n    <tr>\n      <th>XGBRegressor</th>\n      <td>2764.531</td>\n      <td>1045.563</td>\n      <td>0.346</td>\n      <td>0.349</td>\n    </tr>\n    <tr>\n      <th>GradientBoostingRegressor</th>\n      <td>2770.942</td>\n      <td>942.145</td>\n      <td>0.343</td>\n      <td>0.343</td>\n    </tr>\n    <tr>\n      <th>Lars</th>\n      <td>2782.171</td>\n      <td>1587.005</td>\n      <td>0.337</td>\n      <td>0.343</td>\n    </tr>\n    <tr>\n      <th>LarsCV</th>\n      <td>2807.951</td>\n      <td>1222.056</td>\n      <td>0.325</td>\n      <td>0.335</td>\n    </tr>\n    <tr>\n      <th>RidgeCV</th>\n      <td>2889.658</td>\n      <td>1196.881</td>\n      <td>0.285</td>\n      <td>0.302</td>\n    </tr>\n    <tr>\n      <th>KernelRidge</th>\n      <td>2900.196</td>\n      <td>1281.893</td>\n      <td>0.280</td>\n      <td>0.296</td>\n    </tr>\n    <tr>\n      <th>ARDRegression</th>\n      <td>2902.310</td>\n      <td>1158.967</td>\n      <td>0.279</td>\n      <td>0.295</td>\n    </tr>\n  </tbody>\n</table>\n</div>"
     },
     "execution_count": 54,
     "metadata": {},
     "output_type": "execute_result"
    }
   ],
   "source": [
    "reg_test = RegressionModels(X_train, X_test, y_train[:,2], y_test[:,2], decode=False)\n",
    "reg_test.run_evaluation()\n",
    "print(reg_test.not_trained_)\n",
    "print(reg_test.not_evaluated_)\n",
    "reg_test.top_10_socres"
   ],
   "metadata": {
    "collapsed": false,
    "ExecuteTime": {
     "end_time": "2024-02-12T17:06:25.425305904Z",
     "start_time": "2024-02-12T17:06:04.802302411Z"
    }
   },
   "execution_count": 54
  },
  {
   "cell_type": "code",
   "execution_count": 59,
   "metadata": {
    "ExecuteTime": {
     "end_time": "2024-02-12T17:09:53.164442223Z",
     "start_time": "2024-02-12T17:09:53.108547046Z"
    }
   },
   "outputs": [
    {
     "name": "stdout",
     "output_type": "stream",
     "text": [
      "RMSE In: 1910.75\n",
      "RMSE Out: 2807.95\n",
      "R2 In: 0.17774781219892888\n",
      "R2 Out: 0.32490368717338436\n"
     ]
    }
   ],
   "source": [
    "lars_cv = linear_model.LarsCV(cv=5)\n",
    "\n",
    "lars_cv.fit(X_train, y_train[:,2])\n",
    "\n",
    "y_pred_in = lars_cv.predict(X_train)\n",
    "y_pred_out = lars_cv.predict(X_test)\n",
    "\n",
    "print(f'RMSE In: {np.sqrt(mean_squared_error(y_train[:,2], y_pred_in)):.2f}')\n",
    "print(f'RMSE Out: {np.sqrt(mean_squared_error(y_test[:,2], y_pred_out)):.2f}')\n",
    "\n",
    "print(f'R2 In: {r2_score(y_train[:,2], y_pred_in)}')\n",
    "print(f'R2 Out: {r2_score(y_test[:,2], y_pred_out)}')"
   ]
  },
  {
   "cell_type": "code",
   "execution_count": 76,
   "metadata": {
    "ExecuteTime": {
     "end_time": "2024-02-12T17:12:22.607108866Z",
     "start_time": "2024-02-12T17:12:22.427952631Z"
    }
   },
   "outputs": [
    {
     "name": "stdout",
     "output_type": "stream",
     "text": [
      "RMSE In: 1905.28\n",
      "RMSE Out: 2824.22\n",
      "R2 In: 0.1824469712597553\n",
      "R2 Out: 0.31705716355968583\n"
     ]
    }
   ],
   "source": [
    "lars_cv = linear_model.LarsCV(cv=9)\n",
    "lars_cv.fit(X_train, y_train[:,2])\n",
    "\n",
    "y_pred_in = lars_cv.predict(X_train)\n",
    "y_pred_out = lars_cv.predict(X_test)\n",
    "\n",
    "print(f'RMSE In: {np.sqrt(mean_squared_error(y_train[:,2], y_pred_in)):.2f}')\n",
    "print(f'RMSE Out: {np.sqrt(mean_squared_error(y_test[:,2], y_pred_out)):.2f}')\n",
    "\n",
    "print(f'R2 In: {r2_score(y_train[:,2], y_pred_in)}')\n",
    "print(f'R2 Out: {r2_score(y_test[:,2], y_pred_out)}')"
   ]
  },
  {
   "cell_type": "code",
   "execution_count": 77,
   "metadata": {
    "ExecuteTime": {
     "end_time": "2024-02-12T17:12:25.812304654Z",
     "start_time": "2024-02-12T17:12:25.802710688Z"
    }
   },
   "outputs": [
    {
     "data": {
      "text/plain": "['/home/theerthala/Documents/repos/Crowdfunding-Social-Media-Drivers/Modelling/final_models/02_domain_post/num_backers.pkl']"
     },
     "execution_count": 77,
     "metadata": {},
     "output_type": "execute_result"
    }
   ],
   "source": [
    "joblib.dump(lars_cv, '/home/theerthala/Documents/repos/Crowdfunding-Social-Media-Drivers/Modelling/final_models/02_domain_post/num_backers.pkl')"
   ]
  },
  {
   "attachments": {
    "image-2.png": {
     "image/png": "[encoded data removed]"
    },
    "image.png": {
     "image/png": "[encoded data removed]"
    }
   },
   "cell_type": "markdown",
   "metadata": {},
   "source": [
    "> Despite the encoded targets showing very good R2, when decoded, the R2 is not as good. \n",
    "\n",
    "Before Decoding: \n",
    "\n",
    "![image.png](attachment:image.png)\n",
    "\n",
    "After Decoding:\n",
    "\n",
    "![image-2.png](attachment:image-2.png)\n",
    "\n",
    "Hence, the best model with un-encoded training, is further finetuned. "
   ]
  },
  {
   "cell_type": "code",
   "execution_count": 96,
   "metadata": {},
   "outputs": [
    {
     "name": "stdout",
     "output_type": "stream",
     "text": [
      "Fitting 5 folds for each of 162 candidates, totalling 810 fits\n",
      "RMSE In Sample: 445.27\n",
      "RMSE Out of Sample: 4056.66\n",
      "R2 In: 0.8931111884529658\n",
      "R2 Out: 0.14723816675141577\n"
     ]
    }
   ],
   "source": [
    "rf_generic_param_grid ={\n",
    "    'n_estimators': [50, 100],  \n",
    "    'max_depth': [None, 2, 5],   \n",
    "    'min_samples_split': [1, 2, 5],  \n",
    "    'min_samples_leaf': [1, 2, 4],    \n",
    "    'max_features': ['auto', 'sqrt', 'log2'], \n",
    "    'bootstrap': [True]\n",
    "}\n",
    "\n",
    "rf_grid = GridSearchCV(\n",
    "    estimator=ensemble.RandomForestRegressor(criterion='poisson'),\n",
    "    param_grid=rf_generic_param_grid,\n",
    "    scoring='neg_mean_squared_error',\n",
    "    cv=5,\n",
    "    n_jobs=-1,\n",
    "    verbose=1\n",
    ")\n",
    "\n",
    "rf_grid.fit(X_train, y_train[:,2])\n",
    "\n",
    "rf_best_params = rf_grid.best_params_\n",
    "\n",
    "rf_best_model = ensemble.RandomForestRegressor(**rf_best_params)\n",
    "rf_best_model.fit(X_train, y_train[:,2])\n",
    "\n",
    "y_pred_in = np.round(rf_best_model.predict(X_train))\n",
    "y_pred_out = np.round(rf_best_model.predict(X_test))\n",
    "\n",
    "\n",
    "print(f'RMSE In Sample: {np.sqrt(mean_squared_error(y_train[:,2], y_pred_in)):.2f}')\n",
    "print(f'RMSE Out of Sample: {np.sqrt(mean_squared_error(y_test[:,2], y_pred_out)):.2f}')\n",
    "print(f'R2 In: {r2_score(y_train[:,2], y_pred_in)}')\n",
    "print(f'R2 Out: {r2_score(y_test[:,2], y_pred_out)}')\n"
   ]
  },
  {
   "cell_type": "code",
   "execution_count": 99,
   "metadata": {},
   "outputs": [
    {
     "name": "stdout",
     "output_type": "stream",
     "text": [
      "Fitting 30 folds for each of 24 candidates, totalling 720 fits\n",
      "RMSE In Sample: 726.11\n",
      "RMSE Out of Sample: 3818.28\n",
      "R2 In: 0.7157529092022408\n",
      "R2 Out: 0.2445140663014892\n"
     ]
    }
   ],
   "source": [
    "bagging_pram_grid = {\n",
    "    'n_estimators': [50, 100, 500],\n",
    "    'max_samples': [0.5, 1.0],\n",
    "    'max_features': [0.5, 1.0],\n",
    "    'bootstrap': [True],\n",
    "    'bootstrap_features': [True, False]\n",
    "}\n",
    "\n",
    "bagging_grid = GridSearchCV(\n",
    "    estimator=ensemble.BaggingRegressor(),\n",
    "    param_grid=bagging_pram_grid,\n",
    "    scoring='neg_mean_squared_error',\n",
    "    cv=30,\n",
    "    n_jobs=-1,\n",
    "    verbose=1\n",
    ")\n",
    "\n",
    "bagging_grid.fit(X_train, y_train[:,2])\n",
    "\n",
    "bagging_best_params = bagging_grid.best_params_\n",
    "\n",
    "bagging_best_model = ensemble.BaggingRegressor(**bagging_best_params)\n",
    "bagging_best_model.fit(X_train, y_train[:,2])\n",
    "\n",
    "y_pred_in = np.round(bagging_best_model.predict(X_train))\n",
    "y_pred_out = np.round(bagging_best_model.predict(X_test))\n",
    "\n",
    "\n",
    "print(f'RMSE In Sample: {np.sqrt(mean_squared_error(y_train[:,2], y_pred_in)):.2f}')\n",
    "print(f'RMSE Out of Sample: {np.sqrt(mean_squared_error(y_test[:,2], y_pred_out)):.2f}')\n",
    "print(f'R2 In: {r2_score(y_train[:,2], y_pred_in)}')\n",
    "print(f'R2 Out: {r2_score(y_test[:,2], y_pred_out)}')"
   ]
  },
  {
   "cell_type": "code",
   "execution_count": 100,
   "metadata": {},
   "outputs": [
    {
     "name": "stdout",
     "output_type": "stream",
     "text": [
      "RMSE In Sample: 753.93\n",
      "RMSE Out of Sample: 3918.11\n",
      "R2 In: 0.6935582296379301\n",
      "R2 Out: 0.20449249491395582\n"
     ]
    }
   ],
   "source": [
    "xgb_param_grid = {\n",
    "    'n_estimators': [100, 500, 1000],\n",
    "    'max_depth': [None, 2, 5],\n",
    "    'learning_rate': [0.01, 0.1, 0.5],\n",
    "    'min_child_weight': [1, 2, 5],\n",
    "    'subsample': [0.5, 1.0],\n",
    "    'colsample_bytree': [0.5, 1.0],\n",
    "    'gamma': [0, 0.5, 1.0],\n",
    "    'reg_lambda': [0.1, 1.0, 10.0],  # L2 regularization parameter\n",
    "    'random_state': [42]\n",
    "}\n",
    "\n",
    "# Create the XGBoost model\n",
    "xgb_model = xgb.XGBRegressor()\n",
    "\n",
    "# Perform grid search\n",
    "grid_search = GridSearchCV(estimator=xgb_model, param_grid=xgb_param_grid, scoring='neg_mean_squared_error', cv=5, n_jobs=-1)\n",
    "grid_search.fit(X_train, y_train[:,2])\n",
    "\n",
    "# Get the best parameters and model\n",
    "best_params = grid_search.best_params_\n",
    "xgb_best_model = grid_search.best_estimator_\n",
    "\n",
    "# Fit the best model on the training data\n",
    "xgb_best_model.fit(X_train, y_train[:,2])\n",
    "\n",
    "y_pred_in = np.round(xgb_best_model.predict(X_train))\n",
    "y_pred_out = np.round(xgb_best_model.predict(X_test))\n",
    "\n",
    "\n",
    "print(f'RMSE In Sample: {np.sqrt(mean_squared_error(y_train[:,2], y_pred_in)):.2f}')\n",
    "print(f'RMSE Out of Sample: {np.sqrt(mean_squared_error(y_test[:,2], y_pred_out)):.2f}')\n",
    "print(f'R2 In: {r2_score(y_train[:,2], y_pred_in)}')\n",
    "print(f'R2 Out: {r2_score(y_test[:,2], y_pred_out)}')"
   ]
  },
  {
   "cell_type": "code",
   "execution_count": null,
   "metadata": {},
   "outputs": [
    {
     "data": {
      "text/plain": [
       "['/home/theerthala/Documents/repos/Crowdfunding-Social-Media-Drivers/Modelling/final_models/02_domain_post/num_backers.pkl']"
      ]
     },
     "execution_count": 36,
     "metadata": {},
     "output_type": "execute_result"
    }
   ],
   "source": [
    "joblib.dump(rf_best_model, '/home/theerthala/Documents/repos/Crowdfunding-Social-Media-Drivers/Modelling/final_models/02_domain_post/num_backers.pkl')"
   ]
  },
  {
   "cell_type": "markdown",
   "metadata": {},
   "source": [
    "### Success"
   ]
  },
  {
   "cell_type": "code",
   "execution_count": null,
   "metadata": {},
   "outputs": [
    {
     "name": "stdout",
     "output_type": "stream",
     "text": [
      "Accuracy: 0.6727272727272727\n",
      "              precision    recall  f1-score   support\n",
      "\n",
      "         0.0       0.14      0.45      0.22        11\n",
      "         1.0       0.92      0.70      0.79        99\n",
      "\n",
      "    accuracy                           0.67       110\n",
      "   macro avg       0.53      0.58      0.51       110\n",
      "weighted avg       0.84      0.67      0.74       110\n",
      "\n",
      "Accuracy: 0.5909090909090909\n",
      "              precision    recall  f1-score   support\n",
      "\n",
      "         0.0       0.13      0.55      0.21        11\n",
      "         1.0       0.92      0.60      0.72        99\n",
      "\n",
      "    accuracy                           0.59       110\n",
      "   macro avg       0.53      0.57      0.47       110\n",
      "weighted avg       0.84      0.59      0.67       110\n",
      "\n",
      "Accuracy: 0.6909090909090909\n",
      "              precision    recall  f1-score   support\n",
      "\n",
      "         0.0       0.21      0.73      0.32        11\n",
      "         1.0       0.96      0.69      0.80        99\n",
      "\n",
      "    accuracy                           0.69       110\n",
      "   macro avg       0.58      0.71      0.56       110\n",
      "weighted avg       0.88      0.69      0.75       110\n",
      "\n",
      "Accuracy: 0.6727272727272727\n",
      "              precision    recall  f1-score   support\n",
      "\n",
      "         0.0       0.18      0.64      0.28        11\n",
      "         1.0       0.94      0.68      0.79        99\n",
      "\n",
      "    accuracy                           0.67       110\n",
      "   macro avg       0.56      0.66      0.53       110\n",
      "weighted avg       0.87      0.67      0.74       110\n"
     ]
    }
   ],
   "source": [
    "n_estimator_list = [75, 100, 500, 1000]\n",
    "\n",
    "for n_estimators in n_estimator_list:\n",
    "    balanced_rf = BalancedRandomForestClassifier(random_state=42, n_estimators=n_estimators)\n",
    "    balanced_rf.fit(X_train, y_train[:,0])\n",
    "\n",
    "    y_pred = balanced_rf.predict(X_test)\n",
    "\n",
    "    print(f'Accuracy: {accuracy_score(y_test[:,0], y_pred)}')\n",
    "    print(classification_report(y_test[:,0], y_pred))"
   ]
  },
  {
   "cell_type": "code",
   "execution_count": null,
   "metadata": {},
   "outputs": [
    {
     "name": "stdout",
     "output_type": "stream",
     "text": [
      "470\n",
      "Accuracy: 0.6727272727272727\n",
      "              precision    recall  f1-score   support\n",
      "\n",
      "         0.0       0.20      0.73      0.31        11\n",
      "         1.0       0.96      0.67      0.79        99\n",
      "\n",
      "    accuracy                           0.67       110\n",
      "   macro avg       0.58      0.70      0.55       110\n",
      "weighted avg       0.88      0.67      0.74       110\n",
      "\n",
      "\n",
      "475\n",
      "Accuracy: 0.7\n",
      "              precision    recall  f1-score   support\n",
      "\n",
      "         0.0       0.21      0.73      0.33        11\n",
      "         1.0       0.96      0.70      0.81        99\n",
      "\n",
      "    accuracy                           0.70       110\n",
      "   macro avg       0.58      0.71      0.57       110\n",
      "weighted avg       0.88      0.70      0.76       110\n",
      "\n",
      "\n",
      "480\n",
      "Accuracy: 0.7\n",
      "              precision    recall  f1-score   support\n",
      "\n",
      "         0.0       0.21      0.73      0.33        11\n",
      "         1.0       0.96      0.70      0.81        99\n",
      "\n",
      "    accuracy                           0.70       110\n",
      "   macro avg       0.58      0.71      0.57       110\n",
      "weighted avg       0.88      0.70      0.76       110\n",
      "\n",
      "\n",
      "500\n",
      "Accuracy: 0.6909090909090909\n",
      "              precision    recall  f1-score   support\n",
      "\n",
      "         0.0       0.21      0.73      0.32        11\n",
      "         1.0       0.96      0.69      0.80        99\n",
      "\n",
      "    accuracy                           0.69       110\n",
      "   macro avg       0.58      0.71      0.56       110\n",
      "weighted avg       0.88      0.69      0.75       110\n",
      "\n",
      "\n",
      "520\n",
      "Accuracy: 0.6727272727272727\n",
      "              precision    recall  f1-score   support\n",
      "\n",
      "         0.0       0.21      0.82      0.33        11\n",
      "         1.0       0.97      0.66      0.78        99\n",
      "\n",
      "    accuracy                           0.67       110\n",
      "   macro avg       0.59      0.74      0.56       110\n",
      "weighted avg       0.89      0.67      0.74       110\n",
      "\n",
      "\n",
      "525\n",
      "Accuracy: 0.6909090909090909\n",
      "              precision    recall  f1-score   support\n",
      "\n",
      "         0.0       0.22      0.82      0.35        11\n",
      "         1.0       0.97      0.68      0.80        99\n",
      "\n",
      "    accuracy                           0.69       110\n",
      "   macro avg       0.60      0.75      0.57       110\n",
      "weighted avg       0.90      0.69      0.75       110\n",
      "\n",
      "\n",
      "527\n",
      "Accuracy: 0.7\n",
      "              precision    recall  f1-score   support\n",
      "\n",
      "         0.0       0.21      0.73      0.33        11\n",
      "         1.0       0.96      0.70      0.81        99\n",
      "\n",
      "    accuracy                           0.70       110\n",
      "   macro avg       0.58      0.71      0.57       110\n",
      "weighted avg       0.88      0.70      0.76       110\n",
      "\n",
      "\n",
      "526\n",
      "Accuracy: 0.6818181818181818\n",
      "              precision    recall  f1-score   support\n",
      "\n",
      "         0.0       0.21      0.82      0.34        11\n",
      "         1.0       0.97      0.67      0.79        99\n",
      "\n",
      "    accuracy                           0.68       110\n",
      "   macro avg       0.59      0.74      0.57       110\n",
      "weighted avg       0.89      0.68      0.75       110\n",
      "\n",
      "\n",
      "528\n",
      "Accuracy: 0.6727272727272727\n",
      "              precision    recall  f1-score   support\n",
      "\n",
      "         0.0       0.20      0.73      0.31        11\n",
      "         1.0       0.96      0.67      0.79        99\n",
      "\n",
      "    accuracy                           0.67       110\n",
      "   macro avg       0.58      0.70      0.55       110\n",
      "weighted avg       0.88      0.67      0.74       110\n",
      "\n",
      "\n",
      "529\n",
      "Accuracy: 0.6909090909090909\n",
      "              precision    recall  f1-score   support\n",
      "\n",
      "         0.0       0.21      0.73      0.32        11\n",
      "         1.0       0.96      0.69      0.80        99\n",
      "\n",
      "    accuracy                           0.69       110\n",
      "   macro avg       0.58      0.71      0.56       110\n",
      "weighted avg       0.88      0.69      0.75       110\n",
      "\n",
      "\n",
      "530\n",
      "Accuracy: 0.6818181818181818\n",
      "              precision    recall  f1-score   support\n",
      "\n",
      "         0.0       0.21      0.82      0.34        11\n",
      "         1.0       0.97      0.67      0.79        99\n",
      "\n",
      "    accuracy                           0.68       110\n",
      "   macro avg       0.59      0.74      0.57       110\n",
      "weighted avg       0.89      0.68      0.75       110\n",
      "\n",
      "\n",
      "534\n",
      "Accuracy: 0.6818181818181818\n",
      "              precision    recall  f1-score   support\n",
      "\n",
      "         0.0       0.20      0.73      0.31        11\n",
      "         1.0       0.96      0.68      0.79        99\n",
      "\n",
      "    accuracy                           0.68       110\n",
      "   macro avg       0.58      0.70      0.55       110\n",
      "weighted avg       0.88      0.68      0.74       110\n"
     ]
    }
   ],
   "source": [
    "n_estimator_list = [470, 475, 480, 500, 520, 525, 527, 526, 528, 529, 530, 534]\n",
    "\n",
    "for n_estimators in n_estimator_list:\n",
    "    balanced_rf = BalancedRandomForestClassifier(random_state=42, n_estimators=n_estimators)\n",
    "    balanced_rf.fit(X_train, y_train[:,0])\n",
    "\n",
    "    y_pred = balanced_rf.predict(X_test)\n",
    "\n",
    "    print(n_estimators)\n",
    "    print(f'Accuracy: {accuracy_score(y_test[:,0], y_pred)}')\n",
    "    print(classification_report(y_test[:,0], y_pred))\n",
    "    print()"
   ]
  },
  {
   "cell_type": "code",
   "execution_count": null,
   "metadata": {},
   "outputs": [
    {
     "name": "stderr",
     "output_type": "stream",
     "text": [
      "100%|██████████| 24/24 [00:38<00:00,  1.58s/it]\n"
     ]
    },
    {
     "data": {
      "text/html": [
       "<div>\n",
       "<style scoped>\n",
       "    .dataframe tbody tr th:only-of-type {\n",
       "        vertical-align: middle;\n",
       "    }\n",
       "\n",
       "    .dataframe tbody tr th {\n",
       "        vertical-align: top;\n",
       "    }\n",
       "\n",
       "    .dataframe thead th {\n",
       "        text-align: right;\n",
       "    }\n",
       "</style>\n",
       "<table border=\"1\" class=\"dataframe\">\n",
       "  <thead>\n",
       "    <tr style=\"text-align: right;\">\n",
       "      <th></th>\n",
       "      <th>0</th>\n",
       "      <th>1</th>\n",
       "      <th>2</th>\n",
       "      <th>3</th>\n",
       "      <th>4</th>\n",
       "      <th>5</th>\n",
       "      <th>6</th>\n",
       "      <th>7</th>\n",
       "    </tr>\n",
       "  </thead>\n",
       "  <tbody>\n",
       "    <tr>\n",
       "      <th>0</th>\n",
       "      <td>{'max_depth': None, 'max_features': None, 'min...</td>\n",
       "      <td>0.68</td>\n",
       "      <td>0.97</td>\n",
       "      <td>0.67</td>\n",
       "      <td>0.79</td>\n",
       "      <td>0.74</td>\n",
       "      <td>0.82</td>\n",
       "      <td>0.67</td>\n",
       "    </tr>\n",
       "    <tr>\n",
       "      <th>1</th>\n",
       "      <td>{'max_depth': None, 'max_features': None, 'min...</td>\n",
       "      <td>0.67</td>\n",
       "      <td>0.97</td>\n",
       "      <td>0.66</td>\n",
       "      <td>0.78</td>\n",
       "      <td>0.74</td>\n",
       "      <td>0.82</td>\n",
       "      <td>0.66</td>\n",
       "    </tr>\n",
       "    <tr>\n",
       "      <th>2</th>\n",
       "      <td>{'max_depth': None, 'max_features': None, 'min...</td>\n",
       "      <td>0.67</td>\n",
       "      <td>0.97</td>\n",
       "      <td>0.66</td>\n",
       "      <td>0.78</td>\n",
       "      <td>0.74</td>\n",
       "      <td>0.82</td>\n",
       "      <td>0.66</td>\n",
       "    </tr>\n",
       "    <tr>\n",
       "      <th>3</th>\n",
       "      <td>{'max_depth': None, 'max_features': None, 'min...</td>\n",
       "      <td>0.67</td>\n",
       "      <td>0.96</td>\n",
       "      <td>0.67</td>\n",
       "      <td>0.79</td>\n",
       "      <td>0.70</td>\n",
       "      <td>0.73</td>\n",
       "      <td>0.67</td>\n",
       "    </tr>\n",
       "    <tr>\n",
       "      <th>4</th>\n",
       "      <td>{'max_depth': None, 'max_features': None, 'min...</td>\n",
       "      <td>0.66</td>\n",
       "      <td>0.97</td>\n",
       "      <td>0.65</td>\n",
       "      <td>0.78</td>\n",
       "      <td>0.73</td>\n",
       "      <td>0.82</td>\n",
       "      <td>0.65</td>\n",
       "    </tr>\n",
       "    <tr>\n",
       "      <th>5</th>\n",
       "      <td>{'max_depth': None, 'max_features': None, 'min...</td>\n",
       "      <td>0.66</td>\n",
       "      <td>0.97</td>\n",
       "      <td>0.65</td>\n",
       "      <td>0.78</td>\n",
       "      <td>0.73</td>\n",
       "      <td>0.82</td>\n",
       "      <td>0.65</td>\n",
       "    </tr>\n",
       "    <tr>\n",
       "      <th>6</th>\n",
       "      <td>{'max_depth': None, 'max_features': None, 'min...</td>\n",
       "      <td>0.66</td>\n",
       "      <td>0.97</td>\n",
       "      <td>0.65</td>\n",
       "      <td>0.78</td>\n",
       "      <td>0.73</td>\n",
       "      <td>0.82</td>\n",
       "      <td>0.65</td>\n",
       "    </tr>\n",
       "    <tr>\n",
       "      <th>7</th>\n",
       "      <td>{'max_depth': None, 'max_features': None, 'min...</td>\n",
       "      <td>0.66</td>\n",
       "      <td>0.96</td>\n",
       "      <td>0.66</td>\n",
       "      <td>0.78</td>\n",
       "      <td>0.69</td>\n",
       "      <td>0.73</td>\n",
       "      <td>0.66</td>\n",
       "    </tr>\n",
       "    <tr>\n",
       "      <th>8</th>\n",
       "      <td>{'max_depth': None, 'max_features': None, 'min...</td>\n",
       "      <td>0.65</td>\n",
       "      <td>0.97</td>\n",
       "      <td>0.63</td>\n",
       "      <td>0.76</td>\n",
       "      <td>0.72</td>\n",
       "      <td>0.82</td>\n",
       "      <td>0.63</td>\n",
       "    </tr>\n",
       "    <tr>\n",
       "      <th>9</th>\n",
       "      <td>{'max_depth': None, 'max_features': None, 'min...</td>\n",
       "      <td>0.67</td>\n",
       "      <td>0.97</td>\n",
       "      <td>0.66</td>\n",
       "      <td>0.78</td>\n",
       "      <td>0.74</td>\n",
       "      <td>0.82</td>\n",
       "      <td>0.66</td>\n",
       "    </tr>\n",
       "    <tr>\n",
       "      <th>10</th>\n",
       "      <td>{'max_depth': None, 'max_features': None, 'min...</td>\n",
       "      <td>0.67</td>\n",
       "      <td>0.97</td>\n",
       "      <td>0.66</td>\n",
       "      <td>0.78</td>\n",
       "      <td>0.74</td>\n",
       "      <td>0.82</td>\n",
       "      <td>0.66</td>\n",
       "    </tr>\n",
       "    <tr>\n",
       "      <th>11</th>\n",
       "      <td>{'max_depth': None, 'max_features': None, 'min...</td>\n",
       "      <td>0.65</td>\n",
       "      <td>0.96</td>\n",
       "      <td>0.65</td>\n",
       "      <td>0.77</td>\n",
       "      <td>0.69</td>\n",
       "      <td>0.73</td>\n",
       "      <td>0.65</td>\n",
       "    </tr>\n",
       "    <tr>\n",
       "      <th>12</th>\n",
       "      <td>{'max_depth': None, 'max_features': None, 'min...</td>\n",
       "      <td>0.65</td>\n",
       "      <td>0.96</td>\n",
       "      <td>0.65</td>\n",
       "      <td>0.77</td>\n",
       "      <td>0.69</td>\n",
       "      <td>0.73</td>\n",
       "      <td>0.65</td>\n",
       "    </tr>\n",
       "    <tr>\n",
       "      <th>13</th>\n",
       "      <td>{'max_depth': None, 'max_features': None, 'min...</td>\n",
       "      <td>0.65</td>\n",
       "      <td>0.96</td>\n",
       "      <td>0.65</td>\n",
       "      <td>0.77</td>\n",
       "      <td>0.69</td>\n",
       "      <td>0.73</td>\n",
       "      <td>0.65</td>\n",
       "    </tr>\n",
       "    <tr>\n",
       "      <th>14</th>\n",
       "      <td>{'max_depth': None, 'max_features': None, 'min...</td>\n",
       "      <td>0.65</td>\n",
       "      <td>0.96</td>\n",
       "      <td>0.65</td>\n",
       "      <td>0.77</td>\n",
       "      <td>0.69</td>\n",
       "      <td>0.73</td>\n",
       "      <td>0.65</td>\n",
       "    </tr>\n",
       "    <tr>\n",
       "      <th>15</th>\n",
       "      <td>{'max_depth': None, 'max_features': None, 'min...</td>\n",
       "      <td>0.65</td>\n",
       "      <td>0.94</td>\n",
       "      <td>0.66</td>\n",
       "      <td>0.77</td>\n",
       "      <td>0.65</td>\n",
       "      <td>0.64</td>\n",
       "      <td>0.66</td>\n",
       "    </tr>\n",
       "    <tr>\n",
       "      <th>16</th>\n",
       "      <td>{'max_depth': None, 'max_features': None, 'min...</td>\n",
       "      <td>0.64</td>\n",
       "      <td>0.95</td>\n",
       "      <td>0.63</td>\n",
       "      <td>0.76</td>\n",
       "      <td>0.68</td>\n",
       "      <td>0.73</td>\n",
       "      <td>0.63</td>\n",
       "    </tr>\n",
       "    <tr>\n",
       "      <th>17</th>\n",
       "      <td>{'max_depth': None, 'max_features': None, 'min...</td>\n",
       "      <td>0.65</td>\n",
       "      <td>0.95</td>\n",
       "      <td>0.64</td>\n",
       "      <td>0.76</td>\n",
       "      <td>0.68</td>\n",
       "      <td>0.73</td>\n",
       "      <td>0.64</td>\n",
       "    </tr>\n",
       "    <tr>\n",
       "      <th>18</th>\n",
       "      <td>{'max_depth': None, 'max_features': None, 'min...</td>\n",
       "      <td>0.64</td>\n",
       "      <td>0.95</td>\n",
       "      <td>0.63</td>\n",
       "      <td>0.76</td>\n",
       "      <td>0.68</td>\n",
       "      <td>0.73</td>\n",
       "      <td>0.63</td>\n",
       "    </tr>\n",
       "    <tr>\n",
       "      <th>19</th>\n",
       "      <td>{'max_depth': None, 'max_features': None, 'min...</td>\n",
       "      <td>0.65</td>\n",
       "      <td>0.94</td>\n",
       "      <td>0.65</td>\n",
       "      <td>0.77</td>\n",
       "      <td>0.64</td>\n",
       "      <td>0.64</td>\n",
       "      <td>0.65</td>\n",
       "    </tr>\n",
       "    <tr>\n",
       "      <th>20</th>\n",
       "      <td>{'max_depth': None, 'max_features': None, 'min...</td>\n",
       "      <td>0.64</td>\n",
       "      <td>0.95</td>\n",
       "      <td>0.63</td>\n",
       "      <td>0.76</td>\n",
       "      <td>0.68</td>\n",
       "      <td>0.73</td>\n",
       "      <td>0.63</td>\n",
       "    </tr>\n",
       "    <tr>\n",
       "      <th>21</th>\n",
       "      <td>{'max_depth': None, 'max_features': None, 'min...</td>\n",
       "      <td>0.64</td>\n",
       "      <td>0.95</td>\n",
       "      <td>0.63</td>\n",
       "      <td>0.76</td>\n",
       "      <td>0.68</td>\n",
       "      <td>0.73</td>\n",
       "      <td>0.63</td>\n",
       "    </tr>\n",
       "    <tr>\n",
       "      <th>22</th>\n",
       "      <td>{'max_depth': None, 'max_features': None, 'min...</td>\n",
       "      <td>0.64</td>\n",
       "      <td>0.95</td>\n",
       "      <td>0.63</td>\n",
       "      <td>0.76</td>\n",
       "      <td>0.68</td>\n",
       "      <td>0.73</td>\n",
       "      <td>0.63</td>\n",
       "    </tr>\n",
       "    <tr>\n",
       "      <th>23</th>\n",
       "      <td>{'max_depth': None, 'max_features': None, 'min...</td>\n",
       "      <td>0.63</td>\n",
       "      <td>0.94</td>\n",
       "      <td>0.63</td>\n",
       "      <td>0.75</td>\n",
       "      <td>0.63</td>\n",
       "      <td>0.64</td>\n",
       "      <td>0.63</td>\n",
       "    </tr>\n",
       "  </tbody>\n",
       "</table>\n",
       "</div>"
      ],
      "text/plain": [
       "                                                    0    1    2    3    4  \\\n",
       "0   {'max_depth': None, 'max_features': None, 'min... 0.68 0.97 0.67 0.79   \n",
       "1   {'max_depth': None, 'max_features': None, 'min... 0.67 0.97 0.66 0.78   \n",
       "2   {'max_depth': None, 'max_features': None, 'min... 0.67 0.97 0.66 0.78   \n",
       "3   {'max_depth': None, 'max_features': None, 'min... 0.67 0.96 0.67 0.79   \n",
       "4   {'max_depth': None, 'max_features': None, 'min... 0.66 0.97 0.65 0.78   \n",
       "5   {'max_depth': None, 'max_features': None, 'min... 0.66 0.97 0.65 0.78   \n",
       "6   {'max_depth': None, 'max_features': None, 'min... 0.66 0.97 0.65 0.78   \n",
       "7   {'max_depth': None, 'max_features': None, 'min... 0.66 0.96 0.66 0.78   \n",
       "8   {'max_depth': None, 'max_features': None, 'min... 0.65 0.97 0.63 0.76   \n",
       "9   {'max_depth': None, 'max_features': None, 'min... 0.67 0.97 0.66 0.78   \n",
       "10  {'max_depth': None, 'max_features': None, 'min... 0.67 0.97 0.66 0.78   \n",
       "11  {'max_depth': None, 'max_features': None, 'min... 0.65 0.96 0.65 0.77   \n",
       "12  {'max_depth': None, 'max_features': None, 'min... 0.65 0.96 0.65 0.77   \n",
       "13  {'max_depth': None, 'max_features': None, 'min... 0.65 0.96 0.65 0.77   \n",
       "14  {'max_depth': None, 'max_features': None, 'min... 0.65 0.96 0.65 0.77   \n",
       "15  {'max_depth': None, 'max_features': None, 'min... 0.65 0.94 0.66 0.77   \n",
       "16  {'max_depth': None, 'max_features': None, 'min... 0.64 0.95 0.63 0.76   \n",
       "17  {'max_depth': None, 'max_features': None, 'min... 0.65 0.95 0.64 0.76   \n",
       "18  {'max_depth': None, 'max_features': None, 'min... 0.64 0.95 0.63 0.76   \n",
       "19  {'max_depth': None, 'max_features': None, 'min... 0.65 0.94 0.65 0.77   \n",
       "20  {'max_depth': None, 'max_features': None, 'min... 0.64 0.95 0.63 0.76   \n",
       "21  {'max_depth': None, 'max_features': None, 'min... 0.64 0.95 0.63 0.76   \n",
       "22  {'max_depth': None, 'max_features': None, 'min... 0.64 0.95 0.63 0.76   \n",
       "23  {'max_depth': None, 'max_features': None, 'min... 0.63 0.94 0.63 0.75   \n",
       "\n",
       "      5    6    7  \n",
       "0  0.74 0.82 0.67  \n",
       "1  0.74 0.82 0.66  \n",
       "2  0.74 0.82 0.66  \n",
       "3  0.70 0.73 0.67  \n",
       "4  0.73 0.82 0.65  \n",
       "5  0.73 0.82 0.65  \n",
       "6  0.73 0.82 0.65  \n",
       "7  0.69 0.73 0.66  \n",
       "8  0.72 0.82 0.63  \n",
       "9  0.74 0.82 0.66  \n",
       "10 0.74 0.82 0.66  \n",
       "11 0.69 0.73 0.65  \n",
       "12 0.69 0.73 0.65  \n",
       "13 0.69 0.73 0.65  \n",
       "14 0.69 0.73 0.65  \n",
       "15 0.65 0.64 0.66  \n",
       "16 0.68 0.73 0.63  \n",
       "17 0.68 0.73 0.64  \n",
       "18 0.68 0.73 0.63  \n",
       "19 0.64 0.64 0.65  \n",
       "20 0.68 0.73 0.63  \n",
       "21 0.68 0.73 0.63  \n",
       "22 0.68 0.73 0.63  \n",
       "23 0.63 0.64 0.63  "
      ]
     },
     "execution_count": 243,
     "metadata": {},
     "output_type": "execute_result"
    }
   ],
   "source": [
    "balanced_rf_params = {\n",
    "    'n_estimators': [500,526,530,1000],\n",
    "    'max_depth': [None],\n",
    "    'min_samples_split': [2, 5, 10],\n",
    "    'min_samples_leaf': [1, 2],\n",
    "    'max_features': [None],\n",
    "    'random_state': [42]\n",
    "}\n",
    "\n",
    "scores = []\n",
    "\n",
    "for param in tqdm(ParameterGrid(balanced_rf_params)):\n",
    "    easytrees = BalancedRandomForestClassifier(**param)\n",
    "    easytrees.fit(X_train, y_train[:,0])\n",
    "\n",
    "    y_pred = easytrees.predict(X_test)\n",
    "\n",
    "    accuracy = accuracy_score(y_test[:,0], y_pred)\n",
    "    precision = precision_score(y_test[:,0], y_pred)\n",
    "    recall = recall_score(y_test[:,0], y_pred)\n",
    "    f1 = f1_score(y_test[:,0], y_pred)\n",
    "    roc_auc = roc_auc_score(y_test[:,0], y_pred)\n",
    "\n",
    "    confusion_matrix = metrics.confusion_matrix(\n",
    "        y_test[:,0], y_pred)\n",
    "    \n",
    "    #class_wise acc\n",
    "    class_wise_acc = {}\n",
    "    for i in range(2):\n",
    "        class_wise_acc[i] = confusion_matrix[i][i] / sum(confusion_matrix[i])\n",
    "    \n",
    "\n",
    "\n",
    "    class_wise_acc_list = [class_wise_acc[i] for i in range(2)] \n",
    "\n",
    "    scores.append([param,\n",
    "        accuracy, precision, recall, f1, roc_auc,\n",
    "        ] + class_wise_acc_list)\n",
    "\n",
    "scores_df = pd.DataFrame(scores)\n",
    "scores_df.columns = ['params', 'accuracy', 'precision', 'recall', 'f1', 'roc_auc', 'class_0_acc', 'class_1_acc']"
   ]
  },
  {
   "cell_type": "code",
   "execution_count": null,
   "metadata": {},
   "outputs": [
    {
     "data": {
      "text/html": [
       "<div>\n",
       "<style scoped>\n",
       "    .dataframe tbody tr th:only-of-type {\n",
       "        vertical-align: middle;\n",
       "    }\n",
       "\n",
       "    .dataframe tbody tr th {\n",
       "        vertical-align: top;\n",
       "    }\n",
       "\n",
       "    .dataframe thead th {\n",
       "        text-align: right;\n",
       "    }\n",
       "</style>\n",
       "<table border=\"1\" class=\"dataframe\">\n",
       "  <thead>\n",
       "    <tr style=\"text-align: right;\">\n",
       "      <th></th>\n",
       "      <th>params</th>\n",
       "      <th>accuracy</th>\n",
       "      <th>precision</th>\n",
       "      <th>recall</th>\n",
       "      <th>f1</th>\n",
       "      <th>roc_auc</th>\n",
       "      <th>class_0_acc</th>\n",
       "      <th>class_1_acc</th>\n",
       "    </tr>\n",
       "  </thead>\n",
       "  <tbody>\n",
       "    <tr>\n",
       "      <th>0</th>\n",
       "      <td>{'max_depth': None, 'max_features': None, 'min...</td>\n",
       "      <td>0.68</td>\n",
       "      <td>0.97</td>\n",
       "      <td>0.67</td>\n",
       "      <td>0.79</td>\n",
       "      <td>0.74</td>\n",
       "      <td>0.82</td>\n",
       "      <td>0.67</td>\n",
       "    </tr>\n",
       "    <tr>\n",
       "      <th>1</th>\n",
       "      <td>{'max_depth': None, 'max_features': None, 'min...</td>\n",
       "      <td>0.67</td>\n",
       "      <td>0.97</td>\n",
       "      <td>0.66</td>\n",
       "      <td>0.78</td>\n",
       "      <td>0.74</td>\n",
       "      <td>0.82</td>\n",
       "      <td>0.66</td>\n",
       "    </tr>\n",
       "    <tr>\n",
       "      <th>2</th>\n",
       "      <td>{'max_depth': None, 'max_features': None, 'min...</td>\n",
       "      <td>0.67</td>\n",
       "      <td>0.97</td>\n",
       "      <td>0.66</td>\n",
       "      <td>0.78</td>\n",
       "      <td>0.74</td>\n",
       "      <td>0.82</td>\n",
       "      <td>0.66</td>\n",
       "    </tr>\n",
       "    <tr>\n",
       "      <th>9</th>\n",
       "      <td>{'max_depth': None, 'max_features': None, 'min...</td>\n",
       "      <td>0.67</td>\n",
       "      <td>0.97</td>\n",
       "      <td>0.66</td>\n",
       "      <td>0.78</td>\n",
       "      <td>0.74</td>\n",
       "      <td>0.82</td>\n",
       "      <td>0.66</td>\n",
       "    </tr>\n",
       "    <tr>\n",
       "      <th>10</th>\n",
       "      <td>{'max_depth': None, 'max_features': None, 'min...</td>\n",
       "      <td>0.67</td>\n",
       "      <td>0.97</td>\n",
       "      <td>0.66</td>\n",
       "      <td>0.78</td>\n",
       "      <td>0.74</td>\n",
       "      <td>0.82</td>\n",
       "      <td>0.66</td>\n",
       "    </tr>\n",
       "  </tbody>\n",
       "</table>\n",
       "</div>"
      ],
      "text/plain": [
       "                                               params  accuracy  precision  \\\n",
       "0   {'max_depth': None, 'max_features': None, 'min...      0.68       0.97   \n",
       "1   {'max_depth': None, 'max_features': None, 'min...      0.67       0.97   \n",
       "2   {'max_depth': None, 'max_features': None, 'min...      0.67       0.97   \n",
       "9   {'max_depth': None, 'max_features': None, 'min...      0.67       0.97   \n",
       "10  {'max_depth': None, 'max_features': None, 'min...      0.67       0.97   \n",
       "\n",
       "    recall   f1  roc_auc  class_0_acc  class_1_acc  \n",
       "0     0.67 0.79     0.74         0.82         0.67  \n",
       "1     0.66 0.78     0.74         0.82         0.66  \n",
       "2     0.66 0.78     0.74         0.82         0.66  \n",
       "9     0.66 0.78     0.74         0.82         0.66  \n",
       "10    0.66 0.78     0.74         0.82         0.66  "
      ]
     },
     "execution_count": 245,
     "metadata": {},
     "output_type": "execute_result"
    }
   ],
   "source": [
    "scores_df.columns = ['params', 'accuracy', 'precision', 'recall', 'f1', 'roc_auc', 'class_0_acc', 'class_1_acc']\n",
    "scores_df.sort_values(by=['class_0_acc', 'f1','class_1_acc'], ascending=False).head(5)"
   ]
  },
  {
   "cell_type": "code",
   "execution_count": null,
   "metadata": {},
   "outputs": [
    {
     "data": {
      "text/html": [
       "<style>#sk-container-id-2 {color: black;}#sk-container-id-2 pre{padding: 0;}#sk-container-id-2 div.sk-toggleable {background-color: white;}#sk-container-id-2 label.sk-toggleable__label {cursor: pointer;display: block;width: 100%;margin-bottom: 0;padding: 0.3em;box-sizing: border-box;text-align: center;}#sk-container-id-2 label.sk-toggleable__label-arrow:before {content: \"▸\";float: left;margin-right: 0.25em;color: #696969;}#sk-container-id-2 label.sk-toggleable__label-arrow:hover:before {color: black;}#sk-container-id-2 div.sk-estimator:hover label.sk-toggleable__label-arrow:before {color: black;}#sk-container-id-2 div.sk-toggleable__content {max-height: 0;max-width: 0;overflow: hidden;text-align: left;background-color: #f0f8ff;}#sk-container-id-2 div.sk-toggleable__content pre {margin: 0.2em;color: black;border-radius: 0.25em;background-color: #f0f8ff;}#sk-container-id-2 input.sk-toggleable__control:checked~div.sk-toggleable__content {max-height: 200px;max-width: 100%;overflow: auto;}#sk-container-id-2 input.sk-toggleable__control:checked~label.sk-toggleable__label-arrow:before {content: \"▾\";}#sk-container-id-2 div.sk-estimator input.sk-toggleable__control:checked~label.sk-toggleable__label {background-color: #d4ebff;}#sk-container-id-2 div.sk-label input.sk-toggleable__control:checked~label.sk-toggleable__label {background-color: #d4ebff;}#sk-container-id-2 input.sk-hidden--visually {border: 0;clip: rect(1px 1px 1px 1px);clip: rect(1px, 1px, 1px, 1px);height: 1px;margin: -1px;overflow: hidden;padding: 0;position: absolute;width: 1px;}#sk-container-id-2 div.sk-estimator {font-family: monospace;background-color: #f0f8ff;border: 1px dotted black;border-radius: 0.25em;box-sizing: border-box;margin-bottom: 0.5em;}#sk-container-id-2 div.sk-estimator:hover {background-color: #d4ebff;}#sk-container-id-2 div.sk-parallel-item::after {content: \"\";width: 100%;border-bottom: 1px solid gray;flex-grow: 1;}#sk-container-id-2 div.sk-label:hover label.sk-toggleable__label {background-color: #d4ebff;}#sk-container-id-2 div.sk-serial::before {content: \"\";position: absolute;border-left: 1px solid gray;box-sizing: border-box;top: 0;bottom: 0;left: 50%;z-index: 0;}#sk-container-id-2 div.sk-serial {display: flex;flex-direction: column;align-items: center;background-color: white;padding-right: 0.2em;padding-left: 0.2em;position: relative;}#sk-container-id-2 div.sk-item {position: relative;z-index: 1;}#sk-container-id-2 div.sk-parallel {display: flex;align-items: stretch;justify-content: center;background-color: white;position: relative;}#sk-container-id-2 div.sk-item::before, #sk-container-id-2 div.sk-parallel-item::before {content: \"\";position: absolute;border-left: 1px solid gray;box-sizing: border-box;top: 0;bottom: 0;left: 50%;z-index: -1;}#sk-container-id-2 div.sk-parallel-item {display: flex;flex-direction: column;z-index: 1;position: relative;background-color: white;}#sk-container-id-2 div.sk-parallel-item:first-child::after {align-self: flex-end;width: 50%;}#sk-container-id-2 div.sk-parallel-item:last-child::after {align-self: flex-start;width: 50%;}#sk-container-id-2 div.sk-parallel-item:only-child::after {width: 0;}#sk-container-id-2 div.sk-dashed-wrapped {border: 1px dashed gray;margin: 0 0.4em 0.5em 0.4em;box-sizing: border-box;padding-bottom: 0.4em;background-color: white;}#sk-container-id-2 div.sk-label label {font-family: monospace;font-weight: bold;display: inline-block;line-height: 1.2em;}#sk-container-id-2 div.sk-label-container {text-align: center;}#sk-container-id-2 div.sk-container {/* jupyter's `normalize.less` sets `[hidden] { display: none; }` but bootstrap.min.css set `[hidden] { display: none !important; }` so we also need the `!important` here to be able to override the default hidden behavior on the sphinx rendered scikit-learn.org. See: https://github.com/scikit-learn/scikit-learn/issues/21755 */display: inline-block !important;position: relative;}#sk-container-id-2 div.sk-text-repr-fallback {display: none;}</style><div id=\"sk-container-id-2\" class=\"sk-top-container\"><div class=\"sk-text-repr-fallback\"><pre>BalancedRandomForestClassifier(max_features=None, n_estimators=500,\n",
       "                               random_state=42)</pre><b>In a Jupyter environment, please rerun this cell to show the HTML representation or trust the notebook. <br />On GitHub, the HTML representation is unable to render, please try loading this page with nbviewer.org.</b></div><div class=\"sk-container\" hidden><div class=\"sk-item\"><div class=\"sk-estimator sk-toggleable\"><input class=\"sk-toggleable__control sk-hidden--visually\" id=\"sk-estimator-id-2\" type=\"checkbox\" checked><label for=\"sk-estimator-id-2\" class=\"sk-toggleable__label sk-toggleable__label-arrow\">BalancedRandomForestClassifier</label><div class=\"sk-toggleable__content\"><pre>BalancedRandomForestClassifier(max_features=None, n_estimators=500,\n",
       "                               random_state=42)</pre></div></div></div></div></div>"
      ],
      "text/plain": [
       "BalancedRandomForestClassifier(max_features=None, n_estimators=500,\n",
       "                               random_state=42)"
      ]
     },
     "execution_count": 248,
     "metadata": {},
     "output_type": "execute_result"
    }
   ],
   "source": [
    "balanced_rf_best_params = scores_df.params[0]\n",
    "\n",
    "balanced_rf_best = BalancedRandomForestClassifier(**balanced_rf_best_params)\n",
    "balanced_rf_best.fit(X_train, y_train[:,0])\n"
   ]
  },
  {
   "cell_type": "markdown",
   "metadata": {},
   "source": [
    "## Insample and outof sample tests"
   ]
  },
  {
   "cell_type": "code",
   "execution_count": 108,
   "metadata": {},
   "outputs": [],
   "source": [
    "num_backers_model =  joblib.load( '/home/theerthala/Documents/repos/Crowdfunding-Social-Media-Drivers/Modelling/final_models/02_domain_post/num_backers.pkl')\n",
    "collection_model = joblib.load('/home/theerthala/Documents/repos/Crowdfunding-Social-Media-Drivers/Modelling/final_models/02_domain_post/collection_ratio.pkl')\n",
    "success_model = joblib.load('/home/theerthala/Documents/repos/Crowdfunding-Social-Media-Drivers/Modelling/final_models/02_domain_post/success.pkl')"
   ]
  },
  {
   "cell_type": "code",
   "execution_count": 109,
   "metadata": {},
   "outputs": [
    {
     "name": "stdout",
     "output_type": "stream",
     "text": [
      "RMSE: 1579.178\n",
      "RMSE: 0.33\n",
      "Accuracy: 0.7425968109339408\n"
     ]
    }
   ],
   "source": [
    "#insample scores\n",
    "\n",
    "y_pred = num_backers_model.predict(X_train)\n",
    "print(f'RMSE: {np.sqrt(mean_squared_error(y_train[:,2], y_pred)):.3f}')\n",
    "\n",
    "y_pred = collection_model.predict(X_train)\n",
    "print(f'RMSE: {np.sqrt(mean_squared_error(y_train[:,1], y_pred)):.2f}')\n",
    "\n",
    "y_pred = success_model.predict(X_train)\n",
    "print(f'Accuracy: {accuracy_score(y_train[:,0], y_pred)}')"
   ]
  },
  {
   "cell_type": "code",
   "execution_count": 110,
   "metadata": {},
   "outputs": [
    {
     "name": "stdout",
     "output_type": "stream",
     "text": [
      "RMSE: 4623.755\n",
      "RMSE: 1.74\n",
      "Accuracy: 0.6818181818181818\n"
     ]
    }
   ],
   "source": [
    "#out-of-sample scores\n",
    "\n",
    "y_pred = num_backers_model.predict(X_test)\n",
    "print(f'RMSE: {np.sqrt(mean_squared_error(y_test[:,2], y_pred)):.3f}')\n",
    "\n",
    "y_pred = collection_model.predict(X_test)\n",
    "print(f'RMSE: {np.sqrt(mean_squared_error(y_test[:,1], y_pred)):.2f}')\n",
    "\n",
    "y_pred = success_model.predict(X_test)\n",
    "print(f'Accuracy: {accuracy_score(y_test[:,0], y_pred)}')"
   ]
  }
 ],
 "metadata": {
  "kernelspec": {
   "display_name": "Python 3",
   "language": "python",
   "name": "python3"
  },
  "language_info": {
   "codemirror_mode": {
    "name": "ipython",
    "version": 3
   },
   "file_extension": ".py",
   "mimetype": "text/x-python",
   "name": "python",
   "nbconvert_exporter": "python",
   "pygments_lexer": "ipython3",
   "version": "3.10.13"
  }
 },
 "nbformat": 4,
 "nbformat_minor": 2
}
