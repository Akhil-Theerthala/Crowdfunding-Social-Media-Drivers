{
 "cells": [
  {
   "cell_type": "code",
   "execution_count": 17,
   "metadata": {
    "ExecuteTime": {
     "end_time": "2024-03-17T01:39:45.046524Z",
     "start_time": "2024-03-17T01:39:44.976612Z"
    }
   },
   "outputs": [
    {
     "data": {
      "text/plain": "   collected  goal_amount  num_backers    category  pledge_types  donate  \\\n2  12.960635    10.819778     6.823286      design           4.0     0.0   \n4  11.866416     9.903488     6.954639      comics           8.0     0.0   \n5  10.374272    10.308953     5.318120  film_Video          13.0     0.0   \n6   9.542446     8.804775     5.556828      comics          16.0     0.0   \n8  11.346304     9.210340     7.051856       games          27.0     0.0   \n\n   project_we_love  success  start_month  start_day  population country  \\\n2              1.0        1            6          1    684451.0      WA   \n4              1.0        1            6          1    105319.0      CA   \n5              1.0        1            6          1   8175133.0      NY   \n6              1.0        1            6          1   3971883.0      CA   \n8              1.0        1            6          4    621849.0      MD   \n\n   Person  Team  num_projects  num_backed            verified fb_page_name  \\\n2       0     1             7          16         Marc Barros  Kickstarter   \n4       1     0             3          88         Adam Lawson  Kickstarter   \n5       1     0             1           2     Julia Greenberg  Kickstarter   \n6       0     1             4          23   Donold Wooldridge  Kickstarter   \n8       1     0             5          21     Amanda Coronado  Kickstarter   \n\n   fb_likes_at_posting  fb_followers_at_posting  fb_likes  fb_comments  \\\n2              1589901                  1588019        10            2   \n4              1589930                  1588019         4            1   \n5              1589715                  1587803         3            1   \n6              1589715                  1587803         3            5   \n8              1589543                  1587618         9            3   \n\n   fb_shares  fb_post_views  fb_readability  fb_readability_lix  \\\n2          1             12        4.836818           33.727273   \n4          0              5        6.933333           29.111111   \n5          0              4       15.900000           61.666667   \n6          1              5       14.239500           45.000000   \n8          1             11        3.083867           20.333333   \n\n   fb_entropy_scores  fb_perplexity_scores   fb_fear  fb_anger  fb_anticip  \\\n2           0.719996              2.054425  0.000024  0.000011    0.000037   \n4           0.625279              1.868768  0.000057  0.000018    0.000070   \n5           0.284582              1.329206  0.285714  0.000047    0.000050   \n6           0.570874              1.769813  0.200000  0.200000    0.000072   \n8           0.466686              1.594701  0.000036  0.000051    0.000068   \n\n   fb_trust  fb_surprise  fb_positive  fb_negative  fb_sadness  fb_disgust  \\\n2  0.000062     0.000093     1.000000     0.000029    0.000020    0.000028   \n4  0.000098     0.000096     0.000032     0.000036    0.000013    0.000020   \n5  0.000100     0.000088     0.285714     0.142857    0.000096    0.000082   \n6  0.000028     0.000076     0.000049     0.400000    0.200000    0.000072   \n8  0.000010     0.000083     1.000000     0.000015    0.000030    0.000068   \n\n     fb_joy fb_entities_identified  fb_post_sponsored  fb_post_age  \\\n2  0.000062                PRODUCT                  0            2   \n4  0.000074        CARDINAL,PERSON                  0            8   \n5  0.142857             PERSON,GPE                  0            9   \n6  0.000036            WORK_OF_ART                  0           10   \n8  0.000067        PERSON,CARDINAL                  0           14   \n\n   fb_page_age  fb_positive_reactions  fb_negative_reactions  fb_topic_0  \\\n2         4839                      2                      0    0.000064   \n4         4839                      0                      1    0.000026   \n5         4839                      0                      1    0.000019   \n6         4839                      1                      1    0.000043   \n8         4839                      1                      1    0.000018   \n\n   fb_topic_1  fb_topic_2  fb_topic_3  fb_topic_4  fb_topic_5  fb_topic_6  \\\n2    0.000036    0.000074    0.242741    0.000100    0.000050    0.450027   \n4    0.000060    0.939369    0.000080    0.000065    0.000032    0.000011   \n5    0.154496    0.000084    0.081168    0.000079    0.126198    0.000052   \n6    0.000028    0.162778    0.000097    0.000045    0.000027    0.059113   \n8    0.000018    0.073925    0.798958    0.000098    0.000041    0.000093   \n\n   fb_topic_7  fb_topic_8  fb_topic_9  fb_topic_10  collection_ratio  \\\n2    0.075764    0.085070    0.000038     0.116083          8.506720   \n4    0.000050    0.000082    0.000096     0.000015          7.120150   \n5    0.156902    0.294644    0.163853     0.000095          1.067500   \n6    0.062181    0.060710    0.626484     0.000060          2.091059   \n8    0.000046    0.000022    0.000042     0.102862          8.465200   \n\n          region  fb_type_link  fb_type_photo  fb_type_video  \\\n2  North America             1              0              0   \n4  North America             1              0              0   \n5  North America             1              0              0   \n6  North America             1              0              0   \n8  North America             1              0              0   \n\n   duration_<1 week  duration_1-2 weeks  duration_2 weeks - 1 month  \\\n2                 0                   0                           1   \n4                 0                   0                           0   \n5                 0                   0                           1   \n6                 0                   0                           0   \n8                 0                   0                           1   \n\n   duration_1-2 months  fb_entity_ORG  fb_entity_PERSON  fb_entity_DATE  \\\n2                    0              0                 0               0   \n4                    1              0                 1               0   \n5                    0              0                 1               0   \n6                    1              0                 0               0   \n8                    0              0                 1               0   \n\n   fb_entity_CARDINAL  fb_entity_GPE  fb_entity_PRODUCT  \\\n2                   0              0                  1   \n4                   1              0                  0   \n5                   0              1                  0   \n6                   0              0                  0   \n8                   1              0                  0   \n\n   fb_entity_WORK_OF_ART  fb_entity_ORDINAL  fb_entity_MONEY  fb_entity_TIME  \\\n2                      0                  0                0               0   \n4                      0                  0                0               0   \n5                      0                  0                0               0   \n6                      1                  0                0               0   \n8                      0                  0                0               0   \n\n   fb_entity_NORP  \n2               0  \n4               0  \n5               0  \n6               0  \n8               0  ",
      "text/html": "<div>\n<style scoped>\n    .dataframe tbody tr th:only-of-type {\n        vertical-align: middle;\n    }\n\n    .dataframe tbody tr th {\n        vertical-align: top;\n    }\n\n    .dataframe thead th {\n        text-align: right;\n    }\n</style>\n<table border=\"1\" class=\"dataframe\">\n  <thead>\n    <tr style=\"text-align: right;\">\n      <th></th>\n      <th>collected</th>\n      <th>goal_amount</th>\n      <th>num_backers</th>\n      <th>category</th>\n      <th>pledge_types</th>\n      <th>donate</th>\n      <th>project_we_love</th>\n      <th>success</th>\n      <th>start_month</th>\n      <th>start_day</th>\n      <th>population</th>\n      <th>country</th>\n      <th>Person</th>\n      <th>Team</th>\n      <th>num_projects</th>\n      <th>num_backed</th>\n      <th>verified</th>\n      <th>fb_page_name</th>\n      <th>fb_likes_at_posting</th>\n      <th>fb_followers_at_posting</th>\n      <th>fb_likes</th>\n      <th>fb_comments</th>\n      <th>fb_shares</th>\n      <th>fb_post_views</th>\n      <th>fb_readability</th>\n      <th>fb_readability_lix</th>\n      <th>fb_entropy_scores</th>\n      <th>fb_perplexity_scores</th>\n      <th>fb_fear</th>\n      <th>fb_anger</th>\n      <th>fb_anticip</th>\n      <th>fb_trust</th>\n      <th>fb_surprise</th>\n      <th>fb_positive</th>\n      <th>fb_negative</th>\n      <th>fb_sadness</th>\n      <th>fb_disgust</th>\n      <th>fb_joy</th>\n      <th>fb_entities_identified</th>\n      <th>fb_post_sponsored</th>\n      <th>fb_post_age</th>\n      <th>fb_page_age</th>\n      <th>fb_positive_reactions</th>\n      <th>fb_negative_reactions</th>\n      <th>fb_topic_0</th>\n      <th>fb_topic_1</th>\n      <th>fb_topic_2</th>\n      <th>fb_topic_3</th>\n      <th>fb_topic_4</th>\n      <th>fb_topic_5</th>\n      <th>fb_topic_6</th>\n      <th>fb_topic_7</th>\n      <th>fb_topic_8</th>\n      <th>fb_topic_9</th>\n      <th>fb_topic_10</th>\n      <th>collection_ratio</th>\n      <th>region</th>\n      <th>fb_type_link</th>\n      <th>fb_type_photo</th>\n      <th>fb_type_video</th>\n      <th>duration_&lt;1 week</th>\n      <th>duration_1-2 weeks</th>\n      <th>duration_2 weeks - 1 month</th>\n      <th>duration_1-2 months</th>\n      <th>fb_entity_ORG</th>\n      <th>fb_entity_PERSON</th>\n      <th>fb_entity_DATE</th>\n      <th>fb_entity_CARDINAL</th>\n      <th>fb_entity_GPE</th>\n      <th>fb_entity_PRODUCT</th>\n      <th>fb_entity_WORK_OF_ART</th>\n      <th>fb_entity_ORDINAL</th>\n      <th>fb_entity_MONEY</th>\n      <th>fb_entity_TIME</th>\n      <th>fb_entity_NORP</th>\n    </tr>\n  </thead>\n  <tbody>\n    <tr>\n      <th>2</th>\n      <td>12.960635</td>\n      <td>10.819778</td>\n      <td>6.823286</td>\n      <td>design</td>\n      <td>4.0</td>\n      <td>0.0</td>\n      <td>1.0</td>\n      <td>1</td>\n      <td>6</td>\n      <td>1</td>\n      <td>684451.0</td>\n      <td>WA</td>\n      <td>0</td>\n      <td>1</td>\n      <td>7</td>\n      <td>16</td>\n      <td>Marc Barros</td>\n      <td>Kickstarter</td>\n      <td>1589901</td>\n      <td>1588019</td>\n      <td>10</td>\n      <td>2</td>\n      <td>1</td>\n      <td>12</td>\n      <td>4.836818</td>\n      <td>33.727273</td>\n      <td>0.719996</td>\n      <td>2.054425</td>\n      <td>0.000024</td>\n      <td>0.000011</td>\n      <td>0.000037</td>\n      <td>0.000062</td>\n      <td>0.000093</td>\n      <td>1.000000</td>\n      <td>0.000029</td>\n      <td>0.000020</td>\n      <td>0.000028</td>\n      <td>0.000062</td>\n      <td>PRODUCT</td>\n      <td>0</td>\n      <td>2</td>\n      <td>4839</td>\n      <td>2</td>\n      <td>0</td>\n      <td>0.000064</td>\n      <td>0.000036</td>\n      <td>0.000074</td>\n      <td>0.242741</td>\n      <td>0.000100</td>\n      <td>0.000050</td>\n      <td>0.450027</td>\n      <td>0.075764</td>\n      <td>0.085070</td>\n      <td>0.000038</td>\n      <td>0.116083</td>\n      <td>8.506720</td>\n      <td>North America</td>\n      <td>1</td>\n      <td>0</td>\n      <td>0</td>\n      <td>0</td>\n      <td>0</td>\n      <td>1</td>\n      <td>0</td>\n      <td>0</td>\n      <td>0</td>\n      <td>0</td>\n      <td>0</td>\n      <td>0</td>\n      <td>1</td>\n      <td>0</td>\n      <td>0</td>\n      <td>0</td>\n      <td>0</td>\n      <td>0</td>\n    </tr>\n    <tr>\n      <th>4</th>\n      <td>11.866416</td>\n      <td>9.903488</td>\n      <td>6.954639</td>\n      <td>comics</td>\n      <td>8.0</td>\n      <td>0.0</td>\n      <td>1.0</td>\n      <td>1</td>\n      <td>6</td>\n      <td>1</td>\n      <td>105319.0</td>\n      <td>CA</td>\n      <td>1</td>\n      <td>0</td>\n      <td>3</td>\n      <td>88</td>\n      <td>Adam Lawson</td>\n      <td>Kickstarter</td>\n      <td>1589930</td>\n      <td>1588019</td>\n      <td>4</td>\n      <td>1</td>\n      <td>0</td>\n      <td>5</td>\n      <td>6.933333</td>\n      <td>29.111111</td>\n      <td>0.625279</td>\n      <td>1.868768</td>\n      <td>0.000057</td>\n      <td>0.000018</td>\n      <td>0.000070</td>\n      <td>0.000098</td>\n      <td>0.000096</td>\n      <td>0.000032</td>\n      <td>0.000036</td>\n      <td>0.000013</td>\n      <td>0.000020</td>\n      <td>0.000074</td>\n      <td>CARDINAL,PERSON</td>\n      <td>0</td>\n      <td>8</td>\n      <td>4839</td>\n      <td>0</td>\n      <td>1</td>\n      <td>0.000026</td>\n      <td>0.000060</td>\n      <td>0.939369</td>\n      <td>0.000080</td>\n      <td>0.000065</td>\n      <td>0.000032</td>\n      <td>0.000011</td>\n      <td>0.000050</td>\n      <td>0.000082</td>\n      <td>0.000096</td>\n      <td>0.000015</td>\n      <td>7.120150</td>\n      <td>North America</td>\n      <td>1</td>\n      <td>0</td>\n      <td>0</td>\n      <td>0</td>\n      <td>0</td>\n      <td>0</td>\n      <td>1</td>\n      <td>0</td>\n      <td>1</td>\n      <td>0</td>\n      <td>1</td>\n      <td>0</td>\n      <td>0</td>\n      <td>0</td>\n      <td>0</td>\n      <td>0</td>\n      <td>0</td>\n      <td>0</td>\n    </tr>\n    <tr>\n      <th>5</th>\n      <td>10.374272</td>\n      <td>10.308953</td>\n      <td>5.318120</td>\n      <td>film_Video</td>\n      <td>13.0</td>\n      <td>0.0</td>\n      <td>1.0</td>\n      <td>1</td>\n      <td>6</td>\n      <td>1</td>\n      <td>8175133.0</td>\n      <td>NY</td>\n      <td>1</td>\n      <td>0</td>\n      <td>1</td>\n      <td>2</td>\n      <td>Julia Greenberg</td>\n      <td>Kickstarter</td>\n      <td>1589715</td>\n      <td>1587803</td>\n      <td>3</td>\n      <td>1</td>\n      <td>0</td>\n      <td>4</td>\n      <td>15.900000</td>\n      <td>61.666667</td>\n      <td>0.284582</td>\n      <td>1.329206</td>\n      <td>0.285714</td>\n      <td>0.000047</td>\n      <td>0.000050</td>\n      <td>0.000100</td>\n      <td>0.000088</td>\n      <td>0.285714</td>\n      <td>0.142857</td>\n      <td>0.000096</td>\n      <td>0.000082</td>\n      <td>0.142857</td>\n      <td>PERSON,GPE</td>\n      <td>0</td>\n      <td>9</td>\n      <td>4839</td>\n      <td>0</td>\n      <td>1</td>\n      <td>0.000019</td>\n      <td>0.154496</td>\n      <td>0.000084</td>\n      <td>0.081168</td>\n      <td>0.000079</td>\n      <td>0.126198</td>\n      <td>0.000052</td>\n      <td>0.156902</td>\n      <td>0.294644</td>\n      <td>0.163853</td>\n      <td>0.000095</td>\n      <td>1.067500</td>\n      <td>North America</td>\n      <td>1</td>\n      <td>0</td>\n      <td>0</td>\n      <td>0</td>\n      <td>0</td>\n      <td>1</td>\n      <td>0</td>\n      <td>0</td>\n      <td>1</td>\n      <td>0</td>\n      <td>0</td>\n      <td>1</td>\n      <td>0</td>\n      <td>0</td>\n      <td>0</td>\n      <td>0</td>\n      <td>0</td>\n      <td>0</td>\n    </tr>\n    <tr>\n      <th>6</th>\n      <td>9.542446</td>\n      <td>8.804775</td>\n      <td>5.556828</td>\n      <td>comics</td>\n      <td>16.0</td>\n      <td>0.0</td>\n      <td>1.0</td>\n      <td>1</td>\n      <td>6</td>\n      <td>1</td>\n      <td>3971883.0</td>\n      <td>CA</td>\n      <td>0</td>\n      <td>1</td>\n      <td>4</td>\n      <td>23</td>\n      <td>Donold Wooldridge</td>\n      <td>Kickstarter</td>\n      <td>1589715</td>\n      <td>1587803</td>\n      <td>3</td>\n      <td>5</td>\n      <td>1</td>\n      <td>5</td>\n      <td>14.239500</td>\n      <td>45.000000</td>\n      <td>0.570874</td>\n      <td>1.769813</td>\n      <td>0.200000</td>\n      <td>0.200000</td>\n      <td>0.000072</td>\n      <td>0.000028</td>\n      <td>0.000076</td>\n      <td>0.000049</td>\n      <td>0.400000</td>\n      <td>0.200000</td>\n      <td>0.000072</td>\n      <td>0.000036</td>\n      <td>WORK_OF_ART</td>\n      <td>0</td>\n      <td>10</td>\n      <td>4839</td>\n      <td>1</td>\n      <td>1</td>\n      <td>0.000043</td>\n      <td>0.000028</td>\n      <td>0.162778</td>\n      <td>0.000097</td>\n      <td>0.000045</td>\n      <td>0.000027</td>\n      <td>0.059113</td>\n      <td>0.062181</td>\n      <td>0.060710</td>\n      <td>0.626484</td>\n      <td>0.000060</td>\n      <td>2.091059</td>\n      <td>North America</td>\n      <td>1</td>\n      <td>0</td>\n      <td>0</td>\n      <td>0</td>\n      <td>0</td>\n      <td>0</td>\n      <td>1</td>\n      <td>0</td>\n      <td>0</td>\n      <td>0</td>\n      <td>0</td>\n      <td>0</td>\n      <td>0</td>\n      <td>1</td>\n      <td>0</td>\n      <td>0</td>\n      <td>0</td>\n      <td>0</td>\n    </tr>\n    <tr>\n      <th>8</th>\n      <td>11.346304</td>\n      <td>9.210340</td>\n      <td>7.051856</td>\n      <td>games</td>\n      <td>27.0</td>\n      <td>0.0</td>\n      <td>1.0</td>\n      <td>1</td>\n      <td>6</td>\n      <td>4</td>\n      <td>621849.0</td>\n      <td>MD</td>\n      <td>1</td>\n      <td>0</td>\n      <td>5</td>\n      <td>21</td>\n      <td>Amanda Coronado</td>\n      <td>Kickstarter</td>\n      <td>1589543</td>\n      <td>1587618</td>\n      <td>9</td>\n      <td>3</td>\n      <td>1</td>\n      <td>11</td>\n      <td>3.083867</td>\n      <td>20.333333</td>\n      <td>0.466686</td>\n      <td>1.594701</td>\n      <td>0.000036</td>\n      <td>0.000051</td>\n      <td>0.000068</td>\n      <td>0.000010</td>\n      <td>0.000083</td>\n      <td>1.000000</td>\n      <td>0.000015</td>\n      <td>0.000030</td>\n      <td>0.000068</td>\n      <td>0.000067</td>\n      <td>PERSON,CARDINAL</td>\n      <td>0</td>\n      <td>14</td>\n      <td>4839</td>\n      <td>1</td>\n      <td>1</td>\n      <td>0.000018</td>\n      <td>0.000018</td>\n      <td>0.073925</td>\n      <td>0.798958</td>\n      <td>0.000098</td>\n      <td>0.000041</td>\n      <td>0.000093</td>\n      <td>0.000046</td>\n      <td>0.000022</td>\n      <td>0.000042</td>\n      <td>0.102862</td>\n      <td>8.465200</td>\n      <td>North America</td>\n      <td>1</td>\n      <td>0</td>\n      <td>0</td>\n      <td>0</td>\n      <td>0</td>\n      <td>1</td>\n      <td>0</td>\n      <td>0</td>\n      <td>1</td>\n      <td>0</td>\n      <td>1</td>\n      <td>0</td>\n      <td>0</td>\n      <td>0</td>\n      <td>0</td>\n      <td>0</td>\n      <td>0</td>\n      <td>0</td>\n    </tr>\n  </tbody>\n</table>\n</div>"
     },
     "execution_count": 17,
     "metadata": {},
     "output_type": "execute_result"
    }
   ],
   "source": [
    "import os\n",
    "import warnings\n",
    "import joblib\n",
    "import pandas as pd \n",
    "import numpy as np\n",
    "import matplotlib.pyplot as plt\n",
    "import seaborn as sns\n",
    "import xgboost as xgb\n",
    "from tqdm import tqdm\n",
    "from sklearn.model_selection import train_test_split\n",
    "from sklearn.metrics import mean_squared_error, mean_squared_log_error, r2_score, accuracy_score, confusion_matrix, classification_report\n",
    "from sklearn.model_selection import ParameterGrid\n",
    "from joblib import Parallel, delayed \n",
    "from sklearn import ensemble, linear_model, svm\n",
    "from sklearn.preprocessing import RobustScaler, MinMaxScaler\n",
    "from sklearn.inspection import permutation_importance, PartialDependenceDisplay\n",
    "from sklearn.model_selection import RandomizedSearchCV, GridSearchCV\n",
    "from lazy_test import *\n",
    "from success_utils import *\n",
    "\n",
    "warnings.filterwarnings('ignore')\n",
    "pd.set_option('display.max_columns', None)\n",
    "pd.set_option('display.max_rows', None)\n",
    "\n",
    "# Create a dictionary to group countries by region\n",
    "region_groups = {\n",
    "    \"North America\": [\"HI\", \"Mexico\", \"NV\", \"OK\", \"NM\",\"CA\", \"NY\", \"MD\", \"DC\", \"WA\", \"CO\", \"MN\", \"TX\", \"SC\", \"GA\", \"KY\", \"PA\", \"MI\", \"OH\", \"OR\", \"NC\", \"IL\", \"AZ\", \"TN\", \"NJ\", \"UT\", \"VA\", \"ND\", \"VT\", \"IA\", \"ND\", \"VT\", \"LA\", \"CT\", \"RI\"],\n",
    "    \"Europe\": [\"Martinique\", \"AL\", \"Cayman Islands\", \"Russia\", \"ME\", \"UK\", \"DE\", \"Poland\", \"Denmark\", \"Netherlands\", \"Norway\", \"Liechtenstein\", \"Austria\", \"Belgium\", \"Czech Republic\", \"Iceland\", \"Ireland\", \"France\", \"Spain\", \"Sweden\", \"Switzerland\", \"Italy\", \"Slovenia\", \"Greece\"],\n",
    "    \"Asia\": [\"MO\", \"IN\", \"Japan\", \"China\", \"Hong Kong\", \"India\", \"Viet Nam\", \"Taiwan\", \"Afghanistan\", \"Israel\",\"Sri Lanka\", \"Jordan\"],\n",
    "    \"South America\": [\"Colombia\", \"Brazil\"],\n",
    "    \"Africa\": [\"WI\", \"SD\", \"MA\", \"Ghana\", \"Ethiopia\", \"Liberia\", \"Rwanda\"],\n",
    "    \"Oceania\": [\"AU\", \"NZ\"],\n",
    "    \"Other\": [ \"United Arab Emirates\", \"Svalbard and Jan Mayen\"]\n",
    "}\n",
    "\n",
    "noticable_entities = ['ORG', 'PERSON', 'DATE',\n",
    "                        'CARDINAL', 'GPE', 'PRODUCT', \n",
    "                        'WORK_OF_ART','ORDINAL', 'MONEY',\n",
    "                        'TIME', 'NORP']\n",
    "\n",
    "\n",
    "data_path = '/home/theerthala/Documents/repos/Crowdfunding-Social-Media-Drivers/Data/Kickstarter_only/final_data.csv'\n",
    "success_data = pd.read_csv(data_path)\n",
    "success_data['collection_ratio'] = success_data.collected.apply(decode_amount)/success_data.goal_amount.apply(decode_amount)\n",
    "\n",
    "\n",
    "bins = [0, 7, 14, 30, 60]\n",
    "labels = ['<1 week', '1-2 weeks', '2 weeks - 1 month', '1-2 months']\n",
    "success_data['duration'] = pd.cut(success_data['duration'], bins=bins, labels=labels)\n",
    "success_data= success_data[success_data.donate != 1].reset_index(drop=True)\n",
    "\n",
    "\n",
    "success_weights = (1-success_data.success.value_counts()/len(success_data)).values\n",
    "\n",
    "\n",
    "def get_region(country):\n",
    "    for region, countries in region_groups.items():\n",
    "        if country in countries:\n",
    "            return region\n",
    "    return \"Other\"\n",
    "\n",
    "success_data['region'] = success_data.country.str.strip().apply(get_region)\n",
    "success_data.num_backers = success_data.num_backers.str.replace(',', '').astype(int)\n",
    "success_data = success_data[success_data.region == 'North America']\n",
    "\n",
    "success_data = pd.get_dummies(\n",
    "                    success_data,\n",
    "                    columns=['fb_type', \n",
    "                              'duration'])\n",
    "\n",
    "\n",
    "for entity in noticable_entities:\n",
    "    success_data[f'fb_entity_{entity}'] = success_data.fb_entities_identified.fillna('None').str.split(',').apply(lambda entity_list: entity in entity_list).astype(int)\n",
    "\n",
    "bool_cols = success_data.dtypes[success_data.dtypes == 'bool'].index.tolist()\n",
    "success_data[bool_cols] = success_data[bool_cols].astype(int)\n",
    "\n",
    "#ecoding the number of backers\n",
    "success_data.num_backers = encode_targets(success_data.num_backers)\n",
    "success_data.population = np.exp(success_data.population)\n",
    "\n",
    "\n",
    "success_data.head()"
   ]
  },
  {
   "cell_type": "code",
   "execution_count": 18,
   "metadata": {
    "ExecuteTime": {
     "end_time": "2024-03-17T01:39:45.108183Z",
     "start_time": "2024-03-17T01:39:45.103036Z"
    }
   },
   "outputs": [],
   "source": [
    "dropping_columns = ['collected', 'verified', 'donate', 'project_we_love', 'Team' ,'country', 'fb_page_name', 'region', 'fb_entities_identified', 'population', 'category']\n",
    "\n",
    "success_data.drop(columns=dropping_columns, axis=1, inplace=True)\n",
    "success_data = success_data[success_data.collection_ratio < 10].reset_index(drop=True)\n",
    "success_data.pledge_types = success_data.pledge_types.astype(int)\n",
    "success_data.num_projects = success_data.num_projects.astype(int)\n",
    "success_data.num_backed = success_data.num_backed.astype(int)\n"
   ]
  },
  {
   "cell_type": "code",
   "execution_count": 19,
   "metadata": {
    "ExecuteTime": {
     "end_time": "2024-03-17T01:39:45.114028Z",
     "start_time": "2024-03-17T01:39:45.109269Z"
    }
   },
   "outputs": [],
   "source": [
    "#identify and list all the boolean features disguised as int in the dataset\n",
    "bool_features = []\n",
    "for col in success_data.columns:\n",
    "    if success_data[col].nunique() == 2:\n",
    "        bool_features.append(col)\n",
    "\n",
    "bool_features.remove('success')"
   ]
  },
  {
   "cell_type": "code",
   "execution_count": 20,
   "metadata": {
    "ExecuteTime": {
     "end_time": "2024-03-17T01:39:45.117590Z",
     "start_time": "2024-03-17T01:39:45.115205Z"
    }
   },
   "outputs": [],
   "source": [
    "entity_features = [x for x in bool_features if 'fb_entity' in x]\n",
    "duration_features = [x for x in bool_features if 'duration' in x]\n",
    "region_features = [x for x in bool_features if 'region' in x]\n"
   ]
  },
  {
   "cell_type": "code",
   "execution_count": 21,
   "metadata": {
    "ExecuteTime": {
     "end_time": "2024-03-17T01:39:45.120608Z",
     "start_time": "2024-03-17T01:39:45.118307Z"
    }
   },
   "outputs": [],
   "source": [
    "# from sklearn.decomposition import PCA, TruncatedSVD\n",
    "# def save_embedding_info(loadings, entity_features, name):\n",
    "#     # Create a dataframe to store the loadings\n",
    "#     loadings_df = pd.DataFrame(loadings, columns=entity_features)\n",
    "\n",
    "#     plt.figure(figsize=(20, 10))\n",
    "#     sns.heatmap(loadings_df, cmap='RdBu', center=0, annot=True)\n",
    "#     save_path = '/workspaces/Crowdfunding-Social-Media-Drivers/Modelling/02_success_engagement/heatmaps for embeddings'\n",
    "#     plt.savefig(save_path + f'/{name}.png', bbox_inches='tight')\n",
    "\n",
    "# def try_svd(df, cols):\n",
    "#     for i in range(1, len(cols)):\n",
    "#         svd = TruncatedSVD(n_components=i)\n",
    "#         svd.fit(df[cols])\n",
    "#         evr = svd.explained_variance_ratio_.sum()\n",
    "#         print(f'Explained variance ratio for {i} components: {svd.explained_variance_ratio_.sum()}')\n",
    "#         if evr > 0.8:\n",
    "#             return svd, i\n",
    "\n",
    "# def append_embeddings(embeddings, df, col):\n",
    "#     for i in range(embeddings.shape[1]):\n",
    "#         df[f'{col}_embedding_{i}'] = embeddings[:,i]\n",
    "#     return df\n",
    "\n",
    "# svd, n_components = try_svd(success_data, entity_features)\n",
    "# embddings = svd.fit_transform(success_data[entity_features])\n",
    "# loadings = svd.components_\n",
    "# save_embedding_info(loadings, entity_features, 'fb_entities')\n",
    "\n",
    "# success_data = append_embeddings(embddings, success_data, 'fb_entities')\n",
    "\n",
    "# svd, n_components = try_svd(success_data, region_features)\n",
    "# embddings = svd.fit_transform(success_data[region_features])\n",
    "# loadings = svd.components_\n",
    "# save_embedding_info(loadings, region_features, 'region')\n",
    "\n",
    "# success_data = append_embeddings(embddings, success_data, 'region')\n",
    "\n",
    "# svd, n_components = try_svd(success_data, categories)\n",
    "# embddings = svd.fit_transform(success_data[categories])\n",
    "# loadings = svd.components_\n",
    "# save_embedding_info(loadings, categories, 'categories')\n",
    "\n",
    "# success_data = append_embeddings(embddings, success_data, 'categories')\n",
    "\n",
    "# success_data.drop(columns=entity_features + region_features + categories, axis=1, inplace=True)"
   ]
  },
  {
   "cell_type": "code",
   "execution_count": 22,
   "metadata": {
    "ExecuteTime": {
     "end_time": "2024-03-17T01:39:45.131020Z",
     "start_time": "2024-03-17T01:39:45.124669Z"
    }
   },
   "outputs": [],
   "source": [
    "success_data.num_backers = np.exp(success_data.num_backers)\n",
    "target_cols = [\n",
    "    'success',\n",
    "    'collection_ratio',\n",
    "    'num_backers'\n",
    "]\n",
    "emotion_cols = ['fb_fear','fb_anger', 'fb_anticip', 'fb_trust', 'fb_surprise', 'fb_positive', 'fb_negative', 'fb_sadness', 'fb_disgust', 'fb_joy']\n",
    "success_data['fb_emotionality'] = success_data[emotion_cols].sum(axis=1)\n",
    "\n",
    "fb_cols = success_data.columns[success_data.columns.str.startswith('fb')].tolist()\n",
    "common_features= success_data.columns[~success_data.columns.str.startswith('fb')].tolist()\n",
    "common_features = [feature for feature in common_features if feature not in target_cols]\n",
    "\n",
    "engagement_features = [ 'fb_likes', 'fb_comments', 'fb_shares','fb_positive_reactions','fb_negative_reactions']\n",
    "post_fb_features = [feature for feature in fb_cols if feature not in engagement_features]\n"
   ]
  },
  {
   "cell_type": "code",
   "execution_count": 23,
   "metadata": {
    "ExecuteTime": {
     "end_time": "2024-03-17T01:39:45.162605Z",
     "start_time": "2024-03-17T01:39:45.151833Z"
    }
   },
   "outputs": [],
   "source": [
    "domain_page_features = success_data[common_features]\n",
    "domain_engagement_features = success_data[common_features + engagement_features]\n",
    "domain_post_features = success_data[common_features + post_fb_features]\n",
    "\n",
    "targets = success_data[target_cols]"
   ]
  },
  {
   "cell_type": "code",
   "execution_count": 24,
   "metadata": {
    "ExecuteTime": {
     "end_time": "2024-03-17T01:39:45.322239Z",
     "start_time": "2024-03-17T01:39:45.253546Z"
    }
   },
   "outputs": [],
   "source": [
    "pd.concat([domain_page_features, targets], axis=1).to_csv('/home/theerthala/Documents/repos/Crowdfunding-Social-Media-Drivers/Data/final_datasets/domain_only.csv', index=False)\n",
    "pd.concat([domain_engagement_features, targets], axis=1).to_csv('/home/theerthala/Documents/repos/Crowdfunding-Social-Media-Drivers/Data/final_datasets/domain_engagement.csv', index=False)\n",
    "pd.concat([domain_post_features, targets], axis=1).to_csv('/home/theerthala/Documents/repos/Crowdfunding-Social-Media-Drivers/Data/final_datasets/domain_post.csv', index=False)"
   ]
  },
  {
   "cell_type": "code",
   "execution_count": 25,
   "metadata": {
    "ExecuteTime": {
     "end_time": "2024-03-17T01:39:45.418553Z",
     "start_time": "2024-03-17T01:39:45.413860Z"
    }
   },
   "outputs": [
    {
     "name": "stdout",
     "output_type": "stream",
     "text": [
      "['goal_amount', 'pledge_types', 'start_month', 'start_day', 'Person', 'num_projects', 'num_backed', 'duration_<1 week', 'duration_1-2 weeks', 'duration_2 weeks - 1 month', 'duration_1-2 months']\n"
     ]
    }
   ],
   "source": [
    "print(common_features)"
   ]
  },
  {
   "cell_type": "markdown",
   "metadata": {},
   "source": [
    "## Modelling"
   ]
  },
  {
   "cell_type": "code",
   "execution_count": 26,
   "metadata": {
    "ExecuteTime": {
     "end_time": "2024-03-17T01:39:45.573028Z",
     "start_time": "2024-03-17T01:39:45.564853Z"
    }
   },
   "outputs": [],
   "source": [
    "working_data = 'domain_only'\n",
    "domain_post = pd.read_csv(f'/home/theerthala/Documents/repos/Crowdfunding-Social-Media-Drivers/Data/final_datasets/{working_data}.csv')"
   ]
  },
  {
   "cell_type": "code",
   "execution_count": 27,
   "metadata": {
    "ExecuteTime": {
     "end_time": "2024-03-17T01:39:45.642465Z",
     "start_time": "2024-03-17T01:39:45.626686Z"
    }
   },
   "outputs": [
    {
     "data": {
      "text/plain": "   success  collection_ratio  num_backers\n0        1          8.506720        919.0\n1        1          7.120150       1048.0\n2        1          1.067500        204.0\n3        1          2.091059        259.0\n4        1          8.465200       1155.0",
      "text/html": "<div>\n<style scoped>\n    .dataframe tbody tr th:only-of-type {\n        vertical-align: middle;\n    }\n\n    .dataframe tbody tr th {\n        vertical-align: top;\n    }\n\n    .dataframe thead th {\n        text-align: right;\n    }\n</style>\n<table border=\"1\" class=\"dataframe\">\n  <thead>\n    <tr style=\"text-align: right;\">\n      <th></th>\n      <th>success</th>\n      <th>collection_ratio</th>\n      <th>num_backers</th>\n    </tr>\n  </thead>\n  <tbody>\n    <tr>\n      <th>0</th>\n      <td>1</td>\n      <td>8.506720</td>\n      <td>919.0</td>\n    </tr>\n    <tr>\n      <th>1</th>\n      <td>1</td>\n      <td>7.120150</td>\n      <td>1048.0</td>\n    </tr>\n    <tr>\n      <th>2</th>\n      <td>1</td>\n      <td>1.067500</td>\n      <td>204.0</td>\n    </tr>\n    <tr>\n      <th>3</th>\n      <td>1</td>\n      <td>2.091059</td>\n      <td>259.0</td>\n    </tr>\n    <tr>\n      <th>4</th>\n      <td>1</td>\n      <td>8.465200</td>\n      <td>1155.0</td>\n    </tr>\n  </tbody>\n</table>\n</div>"
     },
     "execution_count": 27,
     "metadata": {},
     "output_type": "execute_result"
    }
   ],
   "source": [
    "domain_post.loc[:,target_cols].head()"
   ]
  },
  {
   "cell_type": "code",
   "execution_count": 28,
   "metadata": {
    "ExecuteTime": {
     "end_time": "2024-03-17T01:39:45.718026Z",
     "start_time": "2024-03-17T01:39:45.712563Z"
    }
   },
   "outputs": [],
   "source": [
    "# Split the data into training and testing sets\n",
    "X_train, X_test, y_train, y_test = train_test_split(domain_post.drop(target_cols, axis=1), domain_post[target_cols], test_size=0.15, random_state=42, stratify=domain_post.success)\n",
    "\n",
    "X_train = X_train.reset_index(drop=True).values\n",
    "X_test = X_test.reset_index(drop=True).values\n",
    "y_train = y_train.reset_index(drop=True).values\n",
    "y_test = y_test.reset_index(drop=True).values"
   ]
  },
  {
   "cell_type": "markdown",
   "metadata": {},
   "source": [
    "* y[:, 0] => Success (Boolean)\n",
    "* y[:,1] => Collection Ratio\n",
    "* y[:,2] => Number of Backers\n"
   ]
  },
  {
   "cell_type": "code",
   "execution_count": 29,
   "metadata": {
    "ExecuteTime": {
     "end_time": "2024-03-17T01:39:47.527070Z",
     "start_time": "2024-03-17T01:39:45.730215Z"
    }
   },
   "outputs": [
    {
     "name": "stderr",
     "output_type": "stream",
     "text": [
      "Training models: 100%|██████████| 40/40 [00:01<00:00, 27.69it/s]\n",
      "Evaluating models: 100%|██████████| 40/40 [00:00<00:00, 119.26it/s]"
     ]
    },
    {
     "name": "stdout",
     "output_type": "stream",
     "text": [
      "All models were trained successfully.\n",
      "All models were evaluated successfully.\n"
     ]
    },
    {
     "name": "stderr",
     "output_type": "stream",
     "text": [
      "\n"
     ]
    },
    {
     "data": {
      "text/plain": "                           Insample RMSE  Insample MAE  Insample R2  \\\nGradientBoostingRegressor          1.318         0.844        0.559   \nRandomForestRegressor              0.751         0.511        0.857   \nElasticNet                         1.913         1.291        0.071   \nLarsCV                             1.907         1.284        0.078   \nLassoLarsCV                        1.907         1.284        0.078   \nBayesianRidge                      1.907         1.285        0.077   \nLassoCV                            1.907         1.283        0.078   \nElasticNetCV                       1.906         1.283        0.078   \nLassoLarsIC                        1.901         1.277        0.083   \nLasso                              1.922         1.304        0.063   \n\n                           Insample EV Score  Outsample RMSE  Outsample MAE  \\\nGradientBoostingRegressor              0.559           1.748          1.234   \nRandomForestRegressor                  0.858           1.760          1.237   \nElasticNet                             0.071           1.764          1.246   \nLarsCV                                 0.078           1.767          1.244   \nLassoLarsCV                            0.078           1.767          1.244   \nBayesianRidge                          0.077           1.767          1.247   \nLassoCV                                0.078           1.767          1.244   \nElasticNetCV                           0.078           1.767          1.244   \nLassoLarsIC                            0.083           1.770          1.251   \nLasso                                  0.063           1.772          1.262   \n\n                           Outsample R2  Outsample EV Score  \nGradientBoostingRegressor         0.119               0.125  \nRandomForestRegressor             0.107               0.108  \nElasticNet                        0.103               0.107  \nLarsCV                            0.100               0.103  \nLassoLarsCV                       0.100               0.103  \nBayesianRidge                     0.099               0.103  \nLassoCV                           0.099               0.102  \nElasticNetCV                      0.099               0.102  \nLassoLarsIC                       0.096               0.099  \nLasso                             0.095               0.099  ",
      "text/html": "<div>\n<style scoped>\n    .dataframe tbody tr th:only-of-type {\n        vertical-align: middle;\n    }\n\n    .dataframe tbody tr th {\n        vertical-align: top;\n    }\n\n    .dataframe thead th {\n        text-align: right;\n    }\n</style>\n<table border=\"1\" class=\"dataframe\">\n  <thead>\n    <tr style=\"text-align: right;\">\n      <th></th>\n      <th>Insample RMSE</th>\n      <th>Insample MAE</th>\n      <th>Insample R2</th>\n      <th>Insample EV Score</th>\n      <th>Outsample RMSE</th>\n      <th>Outsample MAE</th>\n      <th>Outsample R2</th>\n      <th>Outsample EV Score</th>\n    </tr>\n  </thead>\n  <tbody>\n    <tr>\n      <th>GradientBoostingRegressor</th>\n      <td>1.318</td>\n      <td>0.844</td>\n      <td>0.559</td>\n      <td>0.559</td>\n      <td>1.748</td>\n      <td>1.234</td>\n      <td>0.119</td>\n      <td>0.125</td>\n    </tr>\n    <tr>\n      <th>RandomForestRegressor</th>\n      <td>0.751</td>\n      <td>0.511</td>\n      <td>0.857</td>\n      <td>0.858</td>\n      <td>1.760</td>\n      <td>1.237</td>\n      <td>0.107</td>\n      <td>0.108</td>\n    </tr>\n    <tr>\n      <th>ElasticNet</th>\n      <td>1.913</td>\n      <td>1.291</td>\n      <td>0.071</td>\n      <td>0.071</td>\n      <td>1.764</td>\n      <td>1.246</td>\n      <td>0.103</td>\n      <td>0.107</td>\n    </tr>\n    <tr>\n      <th>LarsCV</th>\n      <td>1.907</td>\n      <td>1.284</td>\n      <td>0.078</td>\n      <td>0.078</td>\n      <td>1.767</td>\n      <td>1.244</td>\n      <td>0.100</td>\n      <td>0.103</td>\n    </tr>\n    <tr>\n      <th>LassoLarsCV</th>\n      <td>1.907</td>\n      <td>1.284</td>\n      <td>0.078</td>\n      <td>0.078</td>\n      <td>1.767</td>\n      <td>1.244</td>\n      <td>0.100</td>\n      <td>0.103</td>\n    </tr>\n    <tr>\n      <th>BayesianRidge</th>\n      <td>1.907</td>\n      <td>1.285</td>\n      <td>0.077</td>\n      <td>0.077</td>\n      <td>1.767</td>\n      <td>1.247</td>\n      <td>0.099</td>\n      <td>0.103</td>\n    </tr>\n    <tr>\n      <th>LassoCV</th>\n      <td>1.907</td>\n      <td>1.283</td>\n      <td>0.078</td>\n      <td>0.078</td>\n      <td>1.767</td>\n      <td>1.244</td>\n      <td>0.099</td>\n      <td>0.102</td>\n    </tr>\n    <tr>\n      <th>ElasticNetCV</th>\n      <td>1.906</td>\n      <td>1.283</td>\n      <td>0.078</td>\n      <td>0.078</td>\n      <td>1.767</td>\n      <td>1.244</td>\n      <td>0.099</td>\n      <td>0.102</td>\n    </tr>\n    <tr>\n      <th>LassoLarsIC</th>\n      <td>1.901</td>\n      <td>1.277</td>\n      <td>0.083</td>\n      <td>0.083</td>\n      <td>1.770</td>\n      <td>1.251</td>\n      <td>0.096</td>\n      <td>0.099</td>\n    </tr>\n    <tr>\n      <th>Lasso</th>\n      <td>1.922</td>\n      <td>1.304</td>\n      <td>0.063</td>\n      <td>0.063</td>\n      <td>1.772</td>\n      <td>1.262</td>\n      <td>0.095</td>\n      <td>0.099</td>\n    </tr>\n  </tbody>\n</table>\n</div>"
     },
     "execution_count": 29,
     "metadata": {},
     "output_type": "execute_result"
    }
   ],
   "source": [
    "reg_test = RegressionModels(X_train, X_test, y_train[:,1], y_test[:,1], decode=False)\n",
    "reg_test.run_evaluation()\n",
    "print(reg_test.not_trained_)\n",
    "print(reg_test.not_evaluated_)\n",
    "reg_test.top_10_socres.to_csv(\"/home/theerthala/Documents/repos/Crowdfunding-Social-Media-Drivers/Results/04 - Domain Only/collection_ratio/lazy_scores.csv\")\n",
    "reg_test.top_10_socres"
   ]
  },
  {
   "cell_type": "code",
   "outputs": [
    {
     "name": "stderr",
     "output_type": "stream",
     "text": [
      "Training models: 100%|██████████| 40/40 [00:01<00:00, 30.40it/s]\n",
      "Evaluating models: 100%|██████████| 40/40 [00:00<00:00, 154.60it/s]"
     ]
    },
    {
     "name": "stdout",
     "output_type": "stream",
     "text": [
      "All models were trained successfully.\n",
      "All models were evaluated successfully.\n"
     ]
    },
    {
     "name": "stderr",
     "output_type": "stream",
     "text": [
      "\n"
     ]
    },
    {
     "data": {
      "text/plain": "                               Insample RMSE  Insample MAE  Insample R2  \\\nGradientBoostingRegressor            619.463       354.816        0.915   \nPoissonRegressor                    1353.699       626.111        0.594   \nRandomForestRegressor                642.572       254.580        0.908   \nXGBRegressor                          38.815        23.148        1.000   \nDecisionTreeRegressor                  0.000         0.000        1.000   \nHistGradientBoostingRegressor       1540.831       478.765        0.474   \nLinearRegression                    1902.418       866.290        0.198   \nLars                                1902.418       866.290        0.198   \nRidge                               1902.423       865.483        0.198   \nLassoLars                           1902.451       865.631        0.198   \n\n                               Insample EV Score  Outsample RMSE  \\\nGradientBoostingRegressor                  0.915        2219.286   \nPoissonRegressor                           0.594        2298.408   \nRandomForestRegressor                      0.909        2513.371   \nXGBRegressor                               1.000        2538.856   \nDecisionTreeRegressor                      1.000        2675.318   \nHistGradientBoostingRegressor              0.474        2686.676   \nLinearRegression                           0.198        2738.447   \nLars                                       0.198        2738.447   \nRidge                                      0.198        2739.211   \nLassoLars                                  0.198        2739.344   \n\n                               Outsample MAE  Outsample R2  Outsample EV Score  \nGradientBoostingRegressor            920.429         0.522               0.526  \nPoissonRegressor                     875.560         0.488               0.492  \nRandomForestRegressor                969.240         0.387               0.388  \nXGBRegressor                        1006.544         0.375               0.377  \nDecisionTreeRegressor                900.566         0.306               0.306  \nHistGradientBoostingRegressor       1033.788         0.300               0.306  \nLinearRegression                    1084.321         0.273               0.288  \nLars                                1084.321         0.273               0.288  \nRidge                               1084.123         0.272               0.287  \nLassoLars                           1084.908         0.272               0.287  ",
      "text/html": "<div>\n<style scoped>\n    .dataframe tbody tr th:only-of-type {\n        vertical-align: middle;\n    }\n\n    .dataframe tbody tr th {\n        vertical-align: top;\n    }\n\n    .dataframe thead th {\n        text-align: right;\n    }\n</style>\n<table border=\"1\" class=\"dataframe\">\n  <thead>\n    <tr style=\"text-align: right;\">\n      <th></th>\n      <th>Insample RMSE</th>\n      <th>Insample MAE</th>\n      <th>Insample R2</th>\n      <th>Insample EV Score</th>\n      <th>Outsample RMSE</th>\n      <th>Outsample MAE</th>\n      <th>Outsample R2</th>\n      <th>Outsample EV Score</th>\n    </tr>\n  </thead>\n  <tbody>\n    <tr>\n      <th>GradientBoostingRegressor</th>\n      <td>619.463</td>\n      <td>354.816</td>\n      <td>0.915</td>\n      <td>0.915</td>\n      <td>2219.286</td>\n      <td>920.429</td>\n      <td>0.522</td>\n      <td>0.526</td>\n    </tr>\n    <tr>\n      <th>PoissonRegressor</th>\n      <td>1353.699</td>\n      <td>626.111</td>\n      <td>0.594</td>\n      <td>0.594</td>\n      <td>2298.408</td>\n      <td>875.560</td>\n      <td>0.488</td>\n      <td>0.492</td>\n    </tr>\n    <tr>\n      <th>RandomForestRegressor</th>\n      <td>642.572</td>\n      <td>254.580</td>\n      <td>0.908</td>\n      <td>0.909</td>\n      <td>2513.371</td>\n      <td>969.240</td>\n      <td>0.387</td>\n      <td>0.388</td>\n    </tr>\n    <tr>\n      <th>XGBRegressor</th>\n      <td>38.815</td>\n      <td>23.148</td>\n      <td>1.000</td>\n      <td>1.000</td>\n      <td>2538.856</td>\n      <td>1006.544</td>\n      <td>0.375</td>\n      <td>0.377</td>\n    </tr>\n    <tr>\n      <th>DecisionTreeRegressor</th>\n      <td>0.000</td>\n      <td>0.000</td>\n      <td>1.000</td>\n      <td>1.000</td>\n      <td>2675.318</td>\n      <td>900.566</td>\n      <td>0.306</td>\n      <td>0.306</td>\n    </tr>\n    <tr>\n      <th>HistGradientBoostingRegressor</th>\n      <td>1540.831</td>\n      <td>478.765</td>\n      <td>0.474</td>\n      <td>0.474</td>\n      <td>2686.676</td>\n      <td>1033.788</td>\n      <td>0.300</td>\n      <td>0.306</td>\n    </tr>\n    <tr>\n      <th>LinearRegression</th>\n      <td>1902.418</td>\n      <td>866.290</td>\n      <td>0.198</td>\n      <td>0.198</td>\n      <td>2738.447</td>\n      <td>1084.321</td>\n      <td>0.273</td>\n      <td>0.288</td>\n    </tr>\n    <tr>\n      <th>Lars</th>\n      <td>1902.418</td>\n      <td>866.290</td>\n      <td>0.198</td>\n      <td>0.198</td>\n      <td>2738.447</td>\n      <td>1084.321</td>\n      <td>0.273</td>\n      <td>0.288</td>\n    </tr>\n    <tr>\n      <th>Ridge</th>\n      <td>1902.423</td>\n      <td>865.483</td>\n      <td>0.198</td>\n      <td>0.198</td>\n      <td>2739.211</td>\n      <td>1084.123</td>\n      <td>0.272</td>\n      <td>0.287</td>\n    </tr>\n    <tr>\n      <th>LassoLars</th>\n      <td>1902.451</td>\n      <td>865.631</td>\n      <td>0.198</td>\n      <td>0.198</td>\n      <td>2739.344</td>\n      <td>1084.908</td>\n      <td>0.272</td>\n      <td>0.287</td>\n    </tr>\n  </tbody>\n</table>\n</div>"
     },
     "execution_count": 30,
     "metadata": {},
     "output_type": "execute_result"
    }
   ],
   "source": [
    "reg_test = RegressionModels(X_train, X_test, y_train[:,2], y_test[:,2], decode=False)\n",
    "reg_test.run_evaluation()\n",
    "print(reg_test.not_trained_)\n",
    "print(reg_test.not_evaluated_)\n",
    "reg_test.top_10_socres.to_csv(\"/home/theerthala/Documents/repos/Crowdfunding-Social-Media-Drivers/Results/04 - Domain Only/num_backers/lazy_scores.csv\")\n",
    "reg_test.top_10_socres"
   ],
   "metadata": {
    "collapsed": false,
    "ExecuteTime": {
     "end_time": "2024-03-17T01:39:49.127836Z",
     "start_time": "2024-03-17T01:39:47.528005Z"
    }
   },
   "execution_count": 30
  },
  {
   "cell_type": "code",
   "execution_count": 31,
   "metadata": {
    "ExecuteTime": {
     "end_time": "2024-03-17T01:39:50.640163Z",
     "start_time": "2024-03-17T01:39:49.210908Z"
    }
   },
   "outputs": [
    {
     "name": "stderr",
     "output_type": "stream",
     "text": [
      "Training models: 100%|██████████| 28/28 [00:01<00:00, 22.85it/s] \n",
      "Evaluating models: 100%|██████████| 27/27 [00:00<00:00, 142.83it/s]"
     ]
    },
    {
     "name": "stdout",
     "output_type": "stream",
     "text": [
      "The modelsNu-Support Vector Machine could not be trained.\n",
      "The modelsKernel Ridge could not be evaluated.\n"
     ]
    },
    {
     "name": "stderr",
     "output_type": "stream",
     "text": [
      "\n"
     ]
    },
    {
     "data": {
      "text/plain": "                                   Accuracy  Precision    Recall  F1 Score  \\\nGaussian Naive Bayes               0.301205   1.000000  0.226667  0.369565   \nBalanced Random Forest Classifier  0.650602   0.942308  0.653333  0.771654   \nMultinomial Naive Bayes            0.530120   0.928571  0.520000  0.666667   \nEasy Ensemble Classifier           0.554217   0.895833  0.573333  0.699187   \nBalanced Bagging Classifier        0.698795   0.903226  0.746667  0.817518   \nRUSBoost Classifier                0.686747   0.888889  0.746667  0.811594   \nGaussian Process                   0.867470   0.910256  0.946667  0.928105   \nXGBoost                            0.867470   0.900000  0.960000  0.929032   \nDummy Classifier                   0.903614   0.903614  1.000000  0.949367   \nNeural Network                     0.903614   0.903614  1.000000  0.949367   \n\n                                    ROC AUC  Class-0 Acc  Class-1 Acc  \nGaussian Naive Bayes               0.613333        1.000     0.226667  \nBalanced Random Forest Classifier  0.639167        0.625     0.653333  \nMultinomial Naive Bayes            0.572500        0.625     0.520000  \nEasy Ensemble Classifier           0.474167        0.375     0.573333  \nBalanced Bagging Classifier        0.498333        0.250     0.746667  \nRUSBoost Classifier                0.435833        0.125     0.746667  \nGaussian Process                   0.535833        0.125     0.946667  \nXGBoost                            0.480000        0.000     0.960000  \nDummy Classifier                   0.500000        0.000     1.000000  \nNeural Network                     0.500000        0.000     1.000000  ",
      "text/html": "<div>\n<style scoped>\n    .dataframe tbody tr th:only-of-type {\n        vertical-align: middle;\n    }\n\n    .dataframe tbody tr th {\n        vertical-align: top;\n    }\n\n    .dataframe thead th {\n        text-align: right;\n    }\n</style>\n<table border=\"1\" class=\"dataframe\">\n  <thead>\n    <tr style=\"text-align: right;\">\n      <th></th>\n      <th>Accuracy</th>\n      <th>Precision</th>\n      <th>Recall</th>\n      <th>F1 Score</th>\n      <th>ROC AUC</th>\n      <th>Class-0 Acc</th>\n      <th>Class-1 Acc</th>\n    </tr>\n  </thead>\n  <tbody>\n    <tr>\n      <th>Gaussian Naive Bayes</th>\n      <td>0.301205</td>\n      <td>1.000000</td>\n      <td>0.226667</td>\n      <td>0.369565</td>\n      <td>0.613333</td>\n      <td>1.000</td>\n      <td>0.226667</td>\n    </tr>\n    <tr>\n      <th>Balanced Random Forest Classifier</th>\n      <td>0.650602</td>\n      <td>0.942308</td>\n      <td>0.653333</td>\n      <td>0.771654</td>\n      <td>0.639167</td>\n      <td>0.625</td>\n      <td>0.653333</td>\n    </tr>\n    <tr>\n      <th>Multinomial Naive Bayes</th>\n      <td>0.530120</td>\n      <td>0.928571</td>\n      <td>0.520000</td>\n      <td>0.666667</td>\n      <td>0.572500</td>\n      <td>0.625</td>\n      <td>0.520000</td>\n    </tr>\n    <tr>\n      <th>Easy Ensemble Classifier</th>\n      <td>0.554217</td>\n      <td>0.895833</td>\n      <td>0.573333</td>\n      <td>0.699187</td>\n      <td>0.474167</td>\n      <td>0.375</td>\n      <td>0.573333</td>\n    </tr>\n    <tr>\n      <th>Balanced Bagging Classifier</th>\n      <td>0.698795</td>\n      <td>0.903226</td>\n      <td>0.746667</td>\n      <td>0.817518</td>\n      <td>0.498333</td>\n      <td>0.250</td>\n      <td>0.746667</td>\n    </tr>\n    <tr>\n      <th>RUSBoost Classifier</th>\n      <td>0.686747</td>\n      <td>0.888889</td>\n      <td>0.746667</td>\n      <td>0.811594</td>\n      <td>0.435833</td>\n      <td>0.125</td>\n      <td>0.746667</td>\n    </tr>\n    <tr>\n      <th>Gaussian Process</th>\n      <td>0.867470</td>\n      <td>0.910256</td>\n      <td>0.946667</td>\n      <td>0.928105</td>\n      <td>0.535833</td>\n      <td>0.125</td>\n      <td>0.946667</td>\n    </tr>\n    <tr>\n      <th>XGBoost</th>\n      <td>0.867470</td>\n      <td>0.900000</td>\n      <td>0.960000</td>\n      <td>0.929032</td>\n      <td>0.480000</td>\n      <td>0.000</td>\n      <td>0.960000</td>\n    </tr>\n    <tr>\n      <th>Dummy Classifier</th>\n      <td>0.903614</td>\n      <td>0.903614</td>\n      <td>1.000000</td>\n      <td>0.949367</td>\n      <td>0.500000</td>\n      <td>0.000</td>\n      <td>1.000000</td>\n    </tr>\n    <tr>\n      <th>Neural Network</th>\n      <td>0.903614</td>\n      <td>0.903614</td>\n      <td>1.000000</td>\n      <td>0.949367</td>\n      <td>0.500000</td>\n      <td>0.000</td>\n      <td>1.000000</td>\n    </tr>\n  </tbody>\n</table>\n</div>"
     },
     "execution_count": 31,
     "metadata": {},
     "output_type": "execute_result"
    }
   ],
   "source": [
    "cls_test = ClassificationModels(X_train, X_test, y_train[:,0], y_test[:,0])\n",
    "cls_test.run_evaluation()\n",
    "print(cls_test.not_trained_)\n",
    "print(cls_test.not_evaluated_)\n",
    "cls_test.top_10_socres.to_csv(\"/home/theerthala/Documents/repos/Crowdfunding-Social-Media-Drivers/Results/04 - Domain Only/success/lazy_scores.csv\")\n",
    "cls_test.top_10_socres"
   ]
  },
  {
   "cell_type": "markdown",
   "metadata": {},
   "source": [
    "#### Classification Notes\n",
    "> For the success model, based on the overall f1 scores, Balance RandomForest clssifier, Balanced Bagging Classifier are more suitable"
   ]
  },
  {
   "cell_type": "markdown",
   "metadata": {},
   "source": [
    "## Further Finetuning of the topk models"
   ]
  },
  {
   "cell_type": "markdown",
   "metadata": {},
   "source": [
    "### Collection Ratio"
   ]
  },
  {
   "cell_type": "code",
   "outputs": [
    {
     "name": "stdout",
     "output_type": "stream",
     "text": [
      "In-sample RMSE, R2: 1.91, 0.07130115546391358\n",
      "Out-sample RMSE, R2: 1.76, 0.1028480223875966\n"
     ]
    }
   ],
   "source": [
    "elastic_net = linear_model.ElasticNet(random_state=42)\n",
    "elastic_net.fit(X_train, y_train[:,1])\n",
    "\n",
    "in_y_pred = elastic_net.predict(X_train)\n",
    "out_y_pred = elastic_net.predict(X_test)\n",
    "\n",
    "print(f'In-sample RMSE, R2: {np.sqrt(mean_squared_error(y_train[:,1], in_y_pred)):.2f}, {r2_score(y_train[:,1], in_y_pred)}')\n",
    "print(f'Out-sample RMSE, R2: {np.sqrt(mean_squared_error(y_test[:,1], out_y_pred)):.2f}, {r2_score(y_test[:,1], out_y_pred)}')"
   ],
   "metadata": {
    "collapsed": false,
    "ExecuteTime": {
     "end_time": "2024-03-17T01:41:02.189621Z",
     "start_time": "2024-03-17T01:41:02.176725Z"
    }
   },
   "execution_count": 32
  },
  {
   "cell_type": "code",
   "outputs": [
    {
     "name": "stdout",
     "output_type": "stream",
     "text": [
      "In-sample RMSE, R2: 1.89, 0.09140862442410158\n",
      "Out-sample RMSE, R2: 1.80, 0.0659657930083386\n"
     ]
    }
   ],
   "source": [
    "lars = linear_model.Lars(random_state=42)\n",
    "lars.fit(X_train, y_train[:,1])\n",
    "\n",
    "in_y_pred = lars.predict(X_train)\n",
    "out_y_pred = lars.predict(X_test)\n",
    "\n",
    "print(f'In-sample RMSE, R2: {np.sqrt(mean_squared_error(y_train[:,1], in_y_pred)):.2f}, {r2_score(y_train[:,1], in_y_pred)}')\n",
    "print(f'Out-sample RMSE, R2: {np.sqrt(mean_squared_error(y_test[:,1], out_y_pred)):.2f}, {r2_score(y_test[:,1], out_y_pred)}')\n"
   ],
   "metadata": {
    "collapsed": false,
    "ExecuteTime": {
     "end_time": "2024-03-17T01:41:11.745751Z",
     "start_time": "2024-03-17T01:41:11.733308Z"
    }
   },
   "execution_count": 33
  },
  {
   "cell_type": "code",
   "outputs": [
    {
     "name": "stdout",
     "output_type": "stream",
     "text": [
      "In-sample RMSE, R2: 1.92, 0.06338871105038024\n",
      "Out-sample RMSE, R2: 1.77, 0.09455600120231111\n"
     ]
    }
   ],
   "source": [
    "lassolars = linear_model.LassoLars(random_state=42)\n",
    "lassolars.fit(X_train, y_train[:,1])\n",
    "\n",
    "in_y_pred = lassolars.predict(X_train)\n",
    "out_y_pred = lassolars.predict(X_test)\n",
    "\n",
    "print(f'In-sample RMSE, R2: {np.sqrt(mean_squared_error(y_train[:,1], in_y_pred)):.2f}, {r2_score(y_train[:,1], in_y_pred)}')\n",
    "print(f'Out-sample RMSE, R2: {np.sqrt(mean_squared_error(y_test[:,1], out_y_pred)):.2f}, {r2_score(y_test[:,1], out_y_pred)}')"
   ],
   "metadata": {
    "collapsed": false,
    "ExecuteTime": {
     "end_time": "2024-03-17T01:41:13.295736Z",
     "start_time": "2024-03-17T01:41:13.284919Z"
    }
   },
   "execution_count": 34
  },
  {
   "cell_type": "code",
   "outputs": [
    {
     "name": "stdout",
     "output_type": "stream",
     "text": [
      "In-sample RMSE, R2: 1.91, 0.07828831308996498\n",
      "Out-sample RMSE, R2: 1.77, 0.09851191120572766\n"
     ]
    }
   ],
   "source": [
    "lassolars_cv = linear_model.LassoLarsCV(cv=50)\n",
    "lassolars_cv.fit(X_train, y_train[:,1])\n",
    "\n",
    "in_y_pred = lassolars_cv.predict(X_train)\n",
    "out_y_pred = lassolars_cv.predict(X_test)\n",
    "\n",
    "print(f'In-sample RMSE, R2: {np.sqrt(mean_squared_error(y_train[:,1], in_y_pred)):.2f}, {r2_score(y_train[:,1], in_y_pred)}')\n",
    "print(f'Out-sample RMSE, R2: {np.sqrt(mean_squared_error(y_test[:,1], out_y_pred)):.2f}, {r2_score(y_test[:,1], out_y_pred)}')"
   ],
   "metadata": {
    "collapsed": false,
    "ExecuteTime": {
     "end_time": "2024-03-17T01:41:15.871475Z",
     "start_time": "2024-03-17T01:41:15.782589Z"
    }
   },
   "execution_count": 35
  },
  {
   "cell_type": "code",
   "outputs": [
    {
     "name": "stdout",
     "output_type": "stream",
     "text": [
      "In-sample RMSE, R2: 1.92, 0.06338877663299414\n",
      "Out-sample RMSE, R2: 1.77, 0.09455612690551085\n"
     ]
    }
   ],
   "source": [
    "lasso = linear_model.Lasso(random_state=42)\n",
    "lasso.fit(X_train, y_train[:,1])\n",
    "\n",
    "in_y_pred = lasso.predict(X_train)\n",
    "out_y_pred = lasso.predict(X_test)\n",
    "\n",
    "print(f'In-sample RMSE, R2: {np.sqrt(mean_squared_error(y_train[:,1], in_y_pred)):.2f}, {r2_score(y_train[:,1], in_y_pred)}')\n",
    "print(f'Out-sample RMSE, R2: {np.sqrt(mean_squared_error(y_test[:,1], out_y_pred)):.2f}, {r2_score(y_test[:,1], out_y_pred)}')"
   ],
   "metadata": {
    "collapsed": false,
    "ExecuteTime": {
     "end_time": "2024-03-17T01:41:18.092247Z",
     "start_time": "2024-03-17T01:41:18.080803Z"
    }
   },
   "execution_count": 36
  },
  {
   "cell_type": "code",
   "execution_count": 37,
   "metadata": {
    "ExecuteTime": {
     "end_time": "2024-03-17T01:42:03.715222Z",
     "start_time": "2024-03-17T01:42:03.707024Z"
    }
   },
   "outputs": [
    {
     "data": {
      "text/plain": "['/home/theerthala/Documents/repos/Crowdfunding-Social-Media-Drivers/Modelling/final_models/04_domain_only/collection_ratio.pkl']"
     },
     "execution_count": 37,
     "metadata": {},
     "output_type": "execute_result"
    }
   ],
   "source": [
    "joblib.dump(elastic_net, '/home/theerthala/Documents/repos/Crowdfunding-Social-Media-Drivers/Modelling/final_models/04_domain_only/collection_ratio.pkl')"
   ]
  },
  {
   "cell_type": "markdown",
   "metadata": {},
   "source": [
    "### Number of Backers"
   ]
  },
  {
   "cell_type": "code",
   "execution_count": 38,
   "metadata": {
    "ExecuteTime": {
     "end_time": "2024-03-17T01:42:23.408141Z",
     "start_time": "2024-03-17T01:42:23.354883Z"
    }
   },
   "outputs": [
    {
     "name": "stdout",
     "output_type": "stream",
     "text": [
      "In-sample RMSE, R2: 1353.70, 0.5939054389935573\n",
      "Out-sample RMSE, R2: 2298.41, 0.48763229033805033\n"
     ]
    }
   ],
   "source": [
    "poisson = linear_model.PoissonRegressor()\n",
    "poisson.fit(X_train, y_train[:,2])\n",
    "\n",
    "in_y_pred = poisson.predict(X_train)\n",
    "out_y_pred = poisson.predict(X_test)\n",
    "\n",
    "print(f'In-sample RMSE, R2: {np.sqrt(mean_squared_error(y_train[:,2], in_y_pred)):.2f}, {r2_score(y_train[:,2], in_y_pred)}')\n",
    "print(f'Out-sample RMSE, R2: {np.sqrt(mean_squared_error(y_test[:,2], out_y_pred)):.2f}, {r2_score(y_test[:,2], out_y_pred)}')"
   ]
  },
  {
   "cell_type": "code",
   "execution_count": 39,
   "metadata": {
    "ExecuteTime": {
     "end_time": "2024-03-17T01:42:28.219713Z",
     "start_time": "2024-03-17T01:42:28.212434Z"
    }
   },
   "outputs": [
    {
     "data": {
      "text/plain": "['/home/theerthala/Documents/repos/Crowdfunding-Social-Media-Drivers/Modelling/final_models/04_domain_only/num_backers.pkl']"
     },
     "execution_count": 39,
     "metadata": {},
     "output_type": "execute_result"
    }
   ],
   "source": [
    "joblib.dump(poisson, '/home/theerthala/Documents/repos/Crowdfunding-Social-Media-Drivers/Modelling/final_models/04_domain_only/num_backers.pkl')"
   ]
  },
  {
   "cell_type": "code",
   "outputs": [
    {
     "name": "stdout",
     "output_type": "stream",
     "text": [
      "In-sample RMSE, R2: 640.81, 0.9089997831183414\n",
      "Out-sample RMSE, R2: 2249.79, 0.5090788065713889\n"
     ]
    }
   ],
   "source": [
    "rf_poisson = ensemble.RandomForestRegressor(random_state=42, criterion='poisson')\n",
    "rf_poisson.fit(X_train, y_train[:,2])\n",
    "\n",
    "in_y_pred = rf_poisson.predict(X_train)\n",
    "out_y_pred = rf_poisson.predict(X_test)\n",
    "\n",
    "print(f'In-sample RMSE, R2: {np.sqrt(mean_squared_error(y_train[:,2], in_y_pred)):.2f}, {r2_score(y_train[:,2], in_y_pred)}')\n",
    "print(f'Out-sample RMSE, R2: {np.sqrt(mean_squared_error(y_test[:,2], out_y_pred)):.2f}, {r2_score(y_test[:,2], out_y_pred)}')"
   ],
   "metadata": {
    "collapsed": false,
    "ExecuteTime": {
     "end_time": "2024-03-17T01:42:56.676837Z",
     "start_time": "2024-03-17T01:42:56.531695Z"
    }
   },
   "execution_count": 40
  },
  {
   "cell_type": "markdown",
   "metadata": {},
   "source": [
    "### Success"
   ]
  },
  {
   "cell_type": "code",
   "outputs": [
    {
     "name": "stdout",
     "output_type": "stream",
     "text": [
      "Overall In-sample Accuracy: 0.6394849785407726\n",
      "Overall Out-sample Accuracy: 0.5542168674698795 \n",
      "\n",
      "In-sample Class 0 Accuracy: 0.9782608695652174\n",
      "Out-sample Class 0 Accuracy: 0.375 \n",
      "\n",
      "Out-sample Class 1 Accuracy: 0.5733333333333334\n",
      "In-sample Class 1 Accuracy: 0.6023809523809524\n"
     ]
    }
   ],
   "source": [
    "easy_ensemble = EasyEnsembleClassifier(random_state=42)\n",
    "easy_ensemble.fit(X_train, y_train[:,0])\n",
    "\n",
    "y_pred_in = easy_ensemble.predict(X_train)\n",
    "y_pred_out = easy_ensemble.predict(X_test)\n",
    "\n",
    "def get_class_wise_acc(y_true, y_pred):\n",
    "    cm = confusion_matrix(y_true, y_pred)\n",
    "    return cm[0,0]/cm[0].sum(), cm[1,1]/cm[1].sum()\n",
    "\n",
    "in_class_0_acc, in_class_1_acc = get_class_wise_acc(y_train[:,0], y_pred_in)\n",
    "out_class_0_acc, out_class_1_acc = get_class_wise_acc(y_test[:,0], y_pred_out)\n",
    "\n",
    "print(f'Overall In-sample Accuracy: {accuracy_score(y_train[:,0], y_pred_in)}')\n",
    "print(f'Overall Out-sample Accuracy: {accuracy_score(y_test[:,0], y_pred_out)} \\n')\n",
    "\n",
    "print(f'In-sample Class 0 Accuracy: {in_class_0_acc}')\n",
    "print(f'Out-sample Class 0 Accuracy: {out_class_0_acc} \\n')\n",
    "\n",
    "print(f'Out-sample Class 1 Accuracy: {out_class_1_acc}')\n",
    "print(f'In-sample Class 1 Accuracy: {in_class_1_acc}')\n"
   ],
   "metadata": {
    "collapsed": false,
    "ExecuteTime": {
     "end_time": "2024-03-17T01:43:37.063998Z",
     "start_time": "2024-03-17T01:43:36.523461Z"
    }
   },
   "execution_count": 42
  },
  {
   "cell_type": "code",
   "execution_count": 43,
   "metadata": {
    "ExecuteTime": {
     "end_time": "2024-03-17T01:43:44.128062Z",
     "start_time": "2024-03-17T01:43:40.479669Z"
    }
   },
   "outputs": [
    {
     "name": "stdout",
     "output_type": "stream",
     "text": [
      "Number of Estimators: 75\n",
      "Overall In-sample Accuracy: 0.7081545064377682\n",
      "Overall Out-sample Accuracy: 0.6746987951807228 \n",
      "\n",
      "In-sample Class 0 Accuracy: 1.0\n",
      "Out-sample Class 0 Accuracy: 0.625 \n",
      "\n",
      "Out-sample Class 1 Accuracy: 0.68\n",
      "In-sample Class 1 Accuracy: 0.6761904761904762\n",
      "----------\n",
      "Number of Estimators: 100\n",
      "Overall In-sample Accuracy: 0.6888412017167382\n",
      "Overall Out-sample Accuracy: 0.6506024096385542 \n",
      "\n",
      "In-sample Class 0 Accuracy: 1.0\n",
      "Out-sample Class 0 Accuracy: 0.625 \n",
      "\n",
      "Out-sample Class 1 Accuracy: 0.6533333333333333\n",
      "In-sample Class 1 Accuracy: 0.6547619047619048\n",
      "----------\n",
      "Number of Estimators: 500\n",
      "Overall In-sample Accuracy: 0.6609442060085837\n",
      "Overall Out-sample Accuracy: 0.7108433734939759 \n",
      "\n",
      "In-sample Class 0 Accuracy: 1.0\n",
      "Out-sample Class 0 Accuracy: 0.75 \n",
      "\n",
      "Out-sample Class 1 Accuracy: 0.7066666666666667\n",
      "In-sample Class 1 Accuracy: 0.6238095238095238\n",
      "----------\n",
      "Number of Estimators: 1000\n",
      "Overall In-sample Accuracy: 0.6630901287553648\n",
      "Overall Out-sample Accuracy: 0.7228915662650602 \n",
      "\n",
      "In-sample Class 0 Accuracy: 1.0\n",
      "Out-sample Class 0 Accuracy: 0.75 \n",
      "\n",
      "Out-sample Class 1 Accuracy: 0.72\n",
      "In-sample Class 1 Accuracy: 0.6261904761904762\n",
      "----------\n",
      "Number of Estimators: 2000\n",
      "Overall In-sample Accuracy: 0.6609442060085837\n",
      "Overall Out-sample Accuracy: 0.7108433734939759 \n",
      "\n",
      "In-sample Class 0 Accuracy: 1.0\n",
      "Out-sample Class 0 Accuracy: 0.625 \n",
      "\n",
      "Out-sample Class 1 Accuracy: 0.72\n",
      "In-sample Class 1 Accuracy: 0.6238095238095238\n",
      "----------\n"
     ]
    }
   ],
   "source": [
    "n_estimator_list = [75, 100, 500, 1000, 2000]\n",
    "\n",
    "for n_estimators in n_estimator_list:\n",
    "    balanced_rf = BalancedRandomForestClassifier(random_state=42, n_estimators=n_estimators)\n",
    "    balanced_rf.fit(X_train, y_train[:,0])\n",
    "    \n",
    "    y_pred_in = balanced_rf.predict(X_train)\n",
    "    y_pred_out = balanced_rf.predict(X_test)\n",
    "    \n",
    "    \n",
    "    in_class_0_acc, in_class_1_acc = get_class_wise_acc(y_train[:,0], y_pred_in)\n",
    "    out_class_0_acc, out_class_1_acc = get_class_wise_acc(y_test[:,0], y_pred_out)\n",
    "    \n",
    "    print(f'Number of Estimators: {n_estimators}')\n",
    "    print(f'Overall In-sample Accuracy: {accuracy_score(y_train[:,0], y_pred_in)}')\n",
    "    print(f'Overall Out-sample Accuracy: {accuracy_score(y_test[:,0], y_pred_out)} \\n')\n",
    "    \n",
    "    print(f'In-sample Class 0 Accuracy: {in_class_0_acc}')\n",
    "    print(f'Out-sample Class 0 Accuracy: {out_class_0_acc} \\n')\n",
    "    \n",
    "    print(f'Out-sample Class 1 Accuracy: {out_class_1_acc}')\n",
    "    print(f'In-sample Class 1 Accuracy: {in_class_1_acc}')\n",
    "    print('-'*10)"
   ]
  },
  {
   "cell_type": "code",
   "outputs": [
    {
     "name": "stdout",
     "output_type": "stream",
     "text": [
      "Number of Estimators: 1000\n",
      "Overall In-sample Accuracy: 0.6630901287553648\n",
      "Overall Out-sample Accuracy: 0.7228915662650602 \n",
      "\n",
      "In-sample Class 0 Accuracy: 1.0\n",
      "Out-sample Class 0 Accuracy: 0.75 \n",
      "\n",
      "Out-sample Class 1 Accuracy: 0.72\n",
      "In-sample Class 1 Accuracy: 0.6261904761904762\n"
     ]
    }
   ],
   "source": [
    "balanced_rf_1000 = BalancedRandomForestClassifier(random_state=42, n_estimators=1000)\n",
    "balanced_rf_1000.fit(X_train, y_train[:,0])\n",
    "\n",
    "y_pred_in = balanced_rf_1000.predict(X_train)\n",
    "y_pred_out = balanced_rf_1000.predict(X_test)\n",
    "\n",
    "in_class_0_acc, in_class_1_acc = get_class_wise_acc(y_train[:,0], y_pred_in)\n",
    "out_class_0_acc, out_class_1_acc = get_class_wise_acc(y_test[:,0], y_pred_out)\n",
    "\n",
    "print(f'Number of Estimators: 1000')\n",
    "print(f'Overall In-sample Accuracy: {accuracy_score(y_train[:,0], y_pred_in)}')\n",
    "print(f'Overall Out-sample Accuracy: {accuracy_score(y_test[:,0], y_pred_out)} \\n')\n",
    "\n",
    "print(f'In-sample Class 0 Accuracy: {in_class_0_acc}')\n",
    "print(f'Out-sample Class 0 Accuracy: {out_class_0_acc} \\n')\n",
    "\n",
    "print(f'Out-sample Class 1 Accuracy: {out_class_1_acc}')\n",
    "print(f'In-sample Class 1 Accuracy: {in_class_1_acc}')"
   ],
   "metadata": {
    "collapsed": false,
    "ExecuteTime": {
     "end_time": "2024-03-17T01:45:19.455495Z",
     "start_time": "2024-03-17T01:45:18.383372Z"
    }
   },
   "execution_count": 44
  },
  {
   "cell_type": "code",
   "execution_count": 45,
   "metadata": {
    "ExecuteTime": {
     "end_time": "2024-03-17T01:45:34.678188Z",
     "start_time": "2024-03-17T01:45:34.083388Z"
    }
   },
   "outputs": [
    {
     "data": {
      "text/plain": "['/home/theerthala/Documents/repos/Crowdfunding-Social-Media-Drivers/Modelling/final_models/04_domain_only/success.pkl']"
     },
     "execution_count": 45,
     "metadata": {},
     "output_type": "execute_result"
    }
   ],
   "source": [
    "joblib.dump(balanced_rf_1000, '/home/theerthala/Documents/repos/Crowdfunding-Social-Media-Drivers/Modelling/final_models/04_domain_only/success.pkl')"
   ]
  }
 ],
 "metadata": {
  "kernelspec": {
   "display_name": "Python 3",
   "language": "python",
   "name": "python3"
  },
  "language_info": {
   "codemirror_mode": {
    "name": "ipython",
    "version": 3
   },
   "file_extension": ".py",
   "mimetype": "text/x-python",
   "name": "python",
   "nbconvert_exporter": "python",
   "pygments_lexer": "ipython3",
   "version": "3.10.13"
  }
 },
 "nbformat": 4,
 "nbformat_minor": 2
}
