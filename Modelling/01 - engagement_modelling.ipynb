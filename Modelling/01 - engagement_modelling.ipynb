{
 "cells": [
  {
   "cell_type": "code",
   "execution_count": null,
   "metadata": {},
   "outputs": [],
   "source": [
    "import pandas as pd \n",
    "import numpy as np\n",
    "import os\n",
    "import sklearn\n",
    "import joblib\n",
    "import xgboost as xgb\n",
    "import matplotlib.pyplot as plt\n",
    "from pprint import pprint\n",
    "from sklearn.ensemble import RandomForestRegressor\n",
    "\n",
    "from sklearn.inspection import permutation_importance, PartialDependenceDisplay\n",
    "from sklearn.model_selection import train_test_split\n",
    "from sklearn.model_selection import GridSearchCV\n",
    "\n",
    "from engagement_utils import *\n",
    "\n",
    "post_data = pd.read_csv('/workspaces/Crowdfunding-Social-Media-Drivers/Data/Original_dataset/processed_data.csv')\n",
    "features = [x for x in post_data.columns if x not in target_cols]\n",
    "\n",
    "features = post_data[features]\n",
    "targets = post_data[target_cols]\n",
    "\n",
    "processed_features = pre_process(features)\n",
    "processed_targets = process_targets(targets)\n",
    "x_train, x_test, y_train, y_test = train_test_split(processed_features, processed_targets, test_size=0.2, random_state=42)\n",
    "\n",
    "y_test = decode_targets(y_test)"
   ]
  },
  {
   "cell_type": "code",
   "execution_count": null,
   "metadata": {},
   "outputs": [],
   "source": [
    "#xgb training\n",
    "xgb_param_grid = {\n",
    "    'n_estimators': [1000, 5000],\n",
    "    'learning_rate': [0.05, 0.001, 0.01, 0.1],\n",
    "    'max_depth': [3, 5, 10],\n",
    "    'random_state': [42],\n",
    "    'n_jobs': [-1]\n",
    "}\n",
    "\n",
    "xgb_grid_search = GridSearchCV(\n",
    "    xgb.XGBRegressor(),\n",
    "    xgb_param_grid, cv=5, \n",
    "    scoring='neg_mean_squared_error', \n",
    "    verbose=2, n_jobs=-1\n",
    "    )\n",
    "\n",
    "xgb_grid_search.fit(x_train, y_train)\n",
    "\n",
    "xgb_best_params = xgb_grid_search.best_params_\n",
    "xgb_best_estimator = xgb_grid_search.best_estimator_\n",
    "\n",
    "pprint(xgb_best_params)\n",
    "\n",
    "xgb_best_estimator.fit(x_train, y_train)\n",
    "save_model(xgb_best_estimator, 'xgBoost')\n",
    "\n",
    "xgb_pred = xgb_best_estimator.predict(x_test)\n",
    "xgb_pred = decode_targets(xgb_pred).astype(int)\n",
    "\n",
    "xgb_scores = evaluate_model_performance(y_test, xgb_pred)\n",
    "xgb_scores"
   ]
  },
  {
   "cell_type": "code",
   "execution_count": null,
   "metadata": {},
   "outputs": [],
   "source": [
    "estimators = [1000, 2000]\n",
    "features = [0.33, 1, 'sqrt']\n",
    "samples_leaf = [1,5]\n",
    "bootstrap = [True]\n",
    "min_samples_split = [2, 5, 10]\n",
    "\n",
    "\n",
    "random_grid = {'n_estimators': estimators,\n",
    "               'max_features': features,\n",
    "               'min_samples_split': min_samples_split,\n",
    "               'min_samples_leaf': samples_leaf,\n",
    "               'bootstrap': bootstrap}\n",
    "\n",
    "rf_grid_search = GridSearchCV(\n",
    "    RandomForestRegressor(criterion=\"poisson\", random_state=42), \n",
    "    random_grid, cv=5, \n",
    "    scoring='neg_mean_squared_error', \n",
    "    verbose=2, n_jobs=-1\n",
    "    )\n",
    "\n",
    "rf_grid_search.fit(x_train, y_train)\n",
    "\n",
    "rf_best_params = rf_grid_search.best_params_\n",
    "rf_best_estimator = rf_grid_search.best_estimator_\n",
    "\n",
    "rf_best_estimator.fit(x_train, y_train)\n",
    "save_model(rf_best_estimator, 'RandomForest')\n",
    "rf_pred = rf_best_estimator.predict(x_test)\n",
    "rf_pred = decode_targets(rf_pred).astype(int)\n",
    "\n",
    "evaluate_model_performance(y_test, rf_pred)"
   ]
  },
  {
   "cell_type": "code",
   "execution_count": null,
   "metadata": {},
   "outputs": [],
   "source": [
    "xgb_best_estimator = load_model('xgBoost')\n",
    "save_all_plots(xgb_best_estimator, x_test, y_test)"
   ]
  },
  {
   "cell_type": "code",
   "execution_count": null,
   "metadata": {},
   "outputs": [],
   "source": [
    "topic_idx2label = {\n",
    "    '0':\t'Awards and recognitions',\n",
    "    '1':\t'Portable Tech',\n",
    "    '2':\t'Movies and Entertainment',\n",
    "    '3':\t'LifeTech Innovations',\n",
    "    '4':\t'Cultural connections',\n",
    "    '5':\t'Humanitarian',\n",
    "    '6':\t'Media and Events',\n",
    "    '7':\t'Digital and Social trends',\n",
    "    '8':\t'Household Tech',\n",
    "    '9':\t'Small Business',\n",
    "    '10':\t'Tech and Travel Gear'\n",
    "}"
   ]
  }
 ],
 "metadata": {
  "kernelspec": {
   "display_name": "Python 3",
   "language": "python",
   "name": "python3"
  },
  "language_info": {
   "codemirror_mode": {
    "name": "ipython",
    "version": 3
   },
   "file_extension": ".py",
   "mimetype": "text/x-python",
   "name": "python",
   "nbconvert_exporter": "python",
   "pygments_lexer": "ipython3",
   "version": "3.10.13"
  }
 },
 "nbformat": 4,
 "nbformat_minor": 2
}
