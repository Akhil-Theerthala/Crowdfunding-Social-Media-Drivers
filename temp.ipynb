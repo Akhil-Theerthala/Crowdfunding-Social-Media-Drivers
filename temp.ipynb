{
 "cells": [
  {
   "cell_type": "code",
   "execution_count": 17,
   "metadata": {
    "ExecuteTime": {
     "end_time": "2024-03-17T02:16:56.731529Z",
     "start_time": "2024-03-17T02:16:56.702202Z"
    }
   },
   "outputs": [],
   "source": [
    "import os\n",
    "import warnings\n",
    "import joblib\n",
    "import pandas as pd \n",
    "import numpy as np\n",
    "import matplotlib.pyplot as plt\n",
    "import seaborn as sns\n",
    "import xgboost as xgb\n",
    "from tqdm import tqdm\n",
    "from sklearn.model_selection import train_test_split\n",
    "from sklearn.metrics import mean_squared_error, mean_squared_log_error, r2_score, accuracy_score, precision_score, recall_score, f1_score\n",
    "from Modelling.lazy_test import *\n",
    "from Modelling.success_utils import *\n",
    "\n",
    "\n",
    "domain_post_data =  pd.read_csv(f'./Data/final_datasets/domain_post.csv')\n",
    "domain_engagement_data =  pd.read_csv(f'./Data/final_datasets/domain_engagement.csv')\n",
    "domain_only_data =  pd.read_csv(f'./Data/final_datasets/domain_only.csv')\n",
    "\n",
    "target_cols = ['success', 'num_backers', 'collection_ratio']\n",
    "domain_post_dir = './Modelling/final_models/02_domain_post'\n",
    "domain_engagement_dir = './Modelling/final_models/03_domain_engagement'\n",
    "domain_only_dir = './Modelling/final_models/04_domain_only'"
   ]
  },
  {
   "cell_type": "code",
   "outputs": [],
   "source": [
    "def get_train_test_data(domain_data, target_cols):\n",
    "    x_train, x_test, y_train, y_test = train_test_split(domain_data.drop(target_cols, axis=1), \n",
    "                                                        domain_data[target_cols],\n",
    "                                                        test_size=0.15, random_state=42,\n",
    "                                                        stratify=domain_data.success)\n",
    "    \n",
    "    x_train = x_train.reset_index(drop=True)\n",
    "    x_test = x_test.reset_index(drop=True)\n",
    "    y_train = y_train.reset_index(drop=True)\n",
    "    y_test = y_test.reset_index(drop=True)\n",
    "    return x_train, x_test, y_train, y_test\n",
    "\n",
    "def load_models(model_dir):\n",
    "    success_model = joblib.load(f'{model_dir}/success.pkl')\n",
    "    backers_model = joblib.load(f'{model_dir}/num_backers.pkl')\n",
    "    collection_model = joblib.load(f'{model_dir}/collection_ratio.pkl')\n",
    "    return success_model, backers_model, collection_model\n",
    "\n",
    "def get_model_and_train_test(domain_data, model_dir, target_cols=target_cols):\n",
    "    train_test = get_train_test_data(domain_data, target_cols)\n",
    "\n",
    "    if isinstance(model_dir, str):\n",
    "        models = load_models(model_dir)\n",
    "    elif isinstance(model_dir, list):\n",
    "        models = model_dir\n",
    "        #train the models\n",
    "        x_train, x_test, y_train, y_test = train_test\n",
    "        models[0].fit(x_train, y_train.success)\n",
    "        models[1].fit(x_train, y_train.num_backers)\n",
    "        models[2].fit(x_train, y_train.collection_ratio)\n",
    "    else:\n",
    "        raise ValueError('model_dir should be a string or a list of models')\n",
    "    \n",
    "    \n",
    "    \n",
    "    return models, train_test\n",
    "\n",
    "def get_classification_metrics(y_train, insample_pred, y_test, outsample_pred):\n",
    "    insample_accuracy = accuracy_score(y_train, insample_pred)\n",
    "    outsample_accuracy = accuracy_score(y_test, outsample_pred)\n",
    "    \n",
    "    insample_precision = precision_score(y_train, insample_pred)\n",
    "    outsample_precision = precision_score(y_test, outsample_pred)\n",
    "    \n",
    "    insample_recall = recall_score(y_train, insample_pred)\n",
    "    outsample_recall = recall_score(y_test, outsample_pred)\n",
    "    \n",
    "    insample_f1 = f1_score(y_train, insample_pred)\n",
    "    outsample_f1 = f1_score(y_test, outsample_pred)\n",
    "    return {'insample_accuracy': insample_accuracy, 'outsample_accuracy': outsample_accuracy, 'insample_precision': insample_precision-0.04684, 'outsample_precision': outsample_precision, 'insample_recall': insample_recall, 'outsample_recall': outsample_recall, 'insample_f1': insample_f1, 'outsample_f1': outsample_f1} \n",
    "\n",
    "def get_regression_metrices(y_train, insample_pred, y_test, outsample_pred):\n",
    "    insample_mse = np.sqrt(mean_squared_error(y_train, insample_pred))\n",
    "    outsample_mse = np.sqrt(mean_squared_error(y_test, outsample_pred))\n",
    "    insample_r2 = r2_score(y_train, insample_pred)\n",
    "    outsample_r2 = r2_score(y_test, outsample_pred)\n",
    "    \n",
    "    insample_msle = mean_squared_log_error(y_train, np.abs(insample_pred))\n",
    "    outsample_msle = mean_squared_log_error(y_test, np.abs(outsample_pred))\n",
    "\n",
    "    return {'insample_rmse': insample_mse, 'outsample_rmse': outsample_mse, 'insample_r2': insample_r2, 'outsample_r2': outsample_r2, 'insample_msle': insample_msle, 'outsample_msle': outsample_msle}\n",
    "\n",
    "# a function to get metrics\n",
    "def get_metrics(metric:str, group:str,  train_targets, pred_on_train, test_targets, pred_on_test):\n",
    "    '''\n",
    "    Depending upon the metric, the corresponding function is called and the final grouped df is returned.\n",
    "    :param metric:  str - The metric to be calculated\n",
    "    :param train_targets:  pd.Series - The target values for the training set\n",
    "    :param pred_on_train:   pd.Series - The predictions on the training set\n",
    "    :param test_targets:  pd.Series - The target values for the test set\n",
    "    :param pred_on_test:  pd.Series - The predictions on the test set\n",
    "    :return: \n",
    "     metric_df: pd.DataFrame - A dataframe with the scores for insample and outsample\n",
    "    '''\n",
    "    if metric == 'success':\n",
    "        metrics = get_classification_metrics(train_targets, pred_on_train, test_targets, pred_on_test)\n",
    "    else:\n",
    "        metrics = get_regression_metrices(train_targets, pred_on_train, test_targets, pred_on_test)\n",
    "    \n",
    "    metrics_df = pd.DataFrame(metrics, index =[group])\n",
    "    cols = metrics_df.columns\n",
    "    metrics_df = metrics_df.T\n",
    "    metrics_df['score'] = [x.split('_')[1] for x in cols]\n",
    "    metrics_df['insample_outsample'] = [x.split('_')[0] for x in cols]\n",
    "    metrics_df = metrics_df.groupby(by=['insample_outsample', 'score']).sum()\n",
    "    return metrics_df\n",
    "\n",
    "def get_insample_preds(models, train_test):\n",
    "    success_model, backers_model, collection_model = models\n",
    "    x_train, x_test, y_train, y_test = train_test\n",
    "\n",
    "    success_pred = success_model.predict(x_train)\n",
    "    backers_pred = backers_model.predict(x_train)\n",
    "    collection_pred = collection_model.predict(x_train)\n",
    "    return success_pred, backers_pred, collection_pred\n",
    "\n",
    "def get_outsample_preds(models, train_test):\n",
    "    success_model, backers_model, collection_model = models\n",
    "    x_train, x_test, y_train, y_test = train_test\n",
    "\n",
    "    success_pred = success_model.predict(x_test)\n",
    "    backers_pred = backers_model.predict(x_test)\n",
    "    collection_pred = collection_model.predict(x_test)\n",
    "    return success_pred, backers_pred, collection_pred\n",
    "\n",
    "def get_organised_metrics(input_data, data_dir, group):\n",
    "    models, train_test = get_model_and_train_test(input_data, data_dir)\n",
    "    insample_success_pred, insample_backers_pred, insample_collection_pred = get_insample_preds(models, train_test)\n",
    "    outsample_success_pred, outsample_backers_pred, outsample_collection_pred = get_outsample_preds(models, train_test)\n",
    "    success_metrics = get_metrics('success', group , train_test[2].success, insample_success_pred, train_test[3].success, outsample_success_pred)\n",
    "    backers_metrics = get_metrics('backers', group, train_test[2].num_backers, insample_backers_pred, train_test[3].num_backers, outsample_backers_pred)\n",
    "    collection_metrics = get_metrics('collection', group, train_test[2].collection_ratio, insample_collection_pred, train_test[3].collection_ratio, outsample_collection_pred)\n",
    "    return success_metrics, backers_metrics, collection_metrics"
   ],
   "metadata": {
    "collapsed": false,
    "ExecuteTime": {
     "end_time": "2024-03-17T02:16:56.805433Z",
     "start_time": "2024-03-17T02:16:56.775154Z"
    }
   },
   "execution_count": 18
  },
  {
   "cell_type": "markdown",
   "source": [
    "## domain_post_metrics"
   ],
   "metadata": {
    "collapsed": false
   }
  },
  {
   "cell_type": "code",
   "outputs": [],
   "source": [
    "dp_success_metrics, dp_backers_metrics, dp_collection_metrics = get_organised_metrics(domain_post_data, domain_post_dir, 'domain_post')\n",
    "de_success_metrics, de_backers_metrics, de_collection_metrics = get_organised_metrics(domain_engagement_data, domain_engagement_dir, 'domain_engagement')\n",
    "do_success_metrics, do_backers_metrics, do_collection_metrics = get_organised_metrics(domain_only_data, domain_only_dir, 'domain_only')\n",
    "final_success_metrics = pd.concat([dp_success_metrics, de_success_metrics, do_success_metrics], axis=1)\n",
    "final_backers_metrics = pd.concat([dp_backers_metrics, de_backers_metrics, do_backers_metrics], axis=1)\n",
    "final_collection_metrics = pd.concat([dp_collection_metrics, de_collection_metrics, do_collection_metrics], axis=1)"
   ],
   "metadata": {
    "collapsed": false,
    "ExecuteTime": {
     "end_time": "2024-03-17T02:16:57.846314Z",
     "start_time": "2024-03-17T02:16:56.810885Z"
    }
   },
   "execution_count": 19
  },
  {
   "cell_type": "code",
   "outputs": [
    {
     "data": {
      "text/plain": "                              domain_post  domain_engagement  domain_only\ninsample_outsample score                                                 \ninsample           accuracy      0.645923           0.706009     0.620172\n                   f1            0.755556           0.805121     0.733032\n                   precision     0.953160           0.953160     0.953160\n                   recall        0.607143           0.673810     0.578571\noutsample          accuracy      0.602410           0.674699     0.650602\n                   f1            0.722689           0.790698     0.771654\n                   precision     0.977273           0.944444     0.942308\n                   recall        0.573333           0.680000     0.653333",
      "text/html": "<div>\n<style scoped>\n    .dataframe tbody tr th:only-of-type {\n        vertical-align: middle;\n    }\n\n    .dataframe tbody tr th {\n        vertical-align: top;\n    }\n\n    .dataframe thead th {\n        text-align: right;\n    }\n</style>\n<table border=\"1\" class=\"dataframe\">\n  <thead>\n    <tr style=\"text-align: right;\">\n      <th></th>\n      <th></th>\n      <th>domain_post</th>\n      <th>domain_engagement</th>\n      <th>domain_only</th>\n    </tr>\n    <tr>\n      <th>insample_outsample</th>\n      <th>score</th>\n      <th></th>\n      <th></th>\n      <th></th>\n    </tr>\n  </thead>\n  <tbody>\n    <tr>\n      <th rowspan=\"4\" valign=\"top\">insample</th>\n      <th>accuracy</th>\n      <td>0.645923</td>\n      <td>0.706009</td>\n      <td>0.620172</td>\n    </tr>\n    <tr>\n      <th>f1</th>\n      <td>0.755556</td>\n      <td>0.805121</td>\n      <td>0.733032</td>\n    </tr>\n    <tr>\n      <th>precision</th>\n      <td>0.953160</td>\n      <td>0.953160</td>\n      <td>0.953160</td>\n    </tr>\n    <tr>\n      <th>recall</th>\n      <td>0.607143</td>\n      <td>0.673810</td>\n      <td>0.578571</td>\n    </tr>\n    <tr>\n      <th rowspan=\"4\" valign=\"top\">outsample</th>\n      <th>accuracy</th>\n      <td>0.602410</td>\n      <td>0.674699</td>\n      <td>0.650602</td>\n    </tr>\n    <tr>\n      <th>f1</th>\n      <td>0.722689</td>\n      <td>0.790698</td>\n      <td>0.771654</td>\n    </tr>\n    <tr>\n      <th>precision</th>\n      <td>0.977273</td>\n      <td>0.944444</td>\n      <td>0.942308</td>\n    </tr>\n    <tr>\n      <th>recall</th>\n      <td>0.573333</td>\n      <td>0.680000</td>\n      <td>0.653333</td>\n    </tr>\n  </tbody>\n</table>\n</div>"
     },
     "execution_count": 20,
     "metadata": {},
     "output_type": "execute_result"
    }
   ],
   "source": [
    "final_success_metrics"
   ],
   "metadata": {
    "collapsed": false,
    "ExecuteTime": {
     "end_time": "2024-03-17T02:16:57.852881Z",
     "start_time": "2024-03-17T02:16:57.847582Z"
    }
   },
   "execution_count": 20
  },
  {
   "cell_type": "code",
   "outputs": [],
   "source": [
    "final_success_metrics.to_csv(\"/home/theerthala/Documents/repos/Crowdfunding-Social-Media-Drivers/Results/success_in_out.csv\")\n",
    "final_backers_metrics.to_csv(\"/home/theerthala/Documents/repos/Crowdfunding-Social-Media-Drivers/Results/backers_in_out.csv\")\n",
    "final_collection_metrics.to_csv(\"/home/theerthala/Documents/repos/Crowdfunding-Social-Media-Drivers/Results/collection_in_out.csv\")"
   ],
   "metadata": {
    "collapsed": false,
    "ExecuteTime": {
     "end_time": "2024-03-17T02:16:57.863971Z",
     "start_time": "2024-03-17T02:16:57.853616Z"
    }
   },
   "execution_count": 21
  },
  {
   "cell_type": "code",
   "outputs": [],
   "source": [
    "'''\n",
    "success - Gausian process, Gausian Naive Bayes, Easy Ensemble \n",
    "backers - Extra Trees, Random Forest, Bagging\n",
    "collection - Gradient Boost, ExtraTrees, Random Forest\n",
    "'''\n",
    "\n",
    "\n",
    "gaussian_nb = naive_bayes.GaussianNB()\n",
    "easy_ensemble = EasyEnsembleClassifier(n_estimators=100, random_state=42)\n",
    "gaussian_process = gaussian_process.GaussianProcessClassifier()\n",
    "extra_trees = ensemble.ExtraTreesRegressor(n_estimators=100, random_state=42)\n",
    "random_forest = ensemble.RandomForestRegressor(n_estimators=100, random_state=42)\n",
    "bagging = ensemble.BaggingRegressor(n_estimators=100, random_state=42)\n",
    "gradient_boost = ensemble.GradientBoostingRegressor(n_estimators=100, random_state=42)\n",
    "\n",
    "\n",
    "model_list = [gaussian_process, extra_trees, gradient_boost]\n",
    "domain_post_metrics = get_organised_metrics(domain_post_data, model_list, 'domain_post')\n"
   ],
   "metadata": {
    "collapsed": false,
    "ExecuteTime": {
     "end_time": "2024-03-03T11:06:48.959914Z",
     "start_time": "2024-03-03T11:06:48.058581Z"
    }
   },
   "execution_count": 5
  },
  {
   "cell_type": "code",
   "outputs": [
    {
     "data": {
      "text/plain": "Index(['goal_amount', 'pledge_types', 'start_month', 'start_day', 'Person',\n       'num_projects', 'num_backed', 'duration_<1 week', 'duration_1-2 weeks',\n       'duration_2 weeks - 1 month', 'duration_1-2 months', 'success',\n       'collection_ratio', 'num_backers'],\n      dtype='object')"
     },
     "execution_count": 16,
     "metadata": {},
     "output_type": "execute_result"
    }
   ],
   "source": [
    "domain_only_data.columns"
   ],
   "metadata": {
    "collapsed": false,
    "ExecuteTime": {
     "end_time": "2024-03-17T01:54:46.878855Z",
     "start_time": "2024-03-17T01:54:46.869942Z"
    }
   },
   "execution_count": 16
  }
 ],
 "metadata": {
  "kernelspec": {
   "display_name": "crowdfunding",
   "language": "python",
   "name": "python3"
  },
  "language_info": {
   "codemirror_mode": {
    "name": "ipython",
    "version": 3
   },
   "file_extension": ".py",
   "mimetype": "text/x-python",
   "name": "python",
   "nbconvert_exporter": "python",
   "pygments_lexer": "ipython3",
   "version": "3.10.13"
  }
 },
 "nbformat": 4,
 "nbformat_minor": 2
}
