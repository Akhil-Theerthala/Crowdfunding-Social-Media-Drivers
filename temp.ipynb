{
 "cells": [
  {
   "cell_type": "code",
   "execution_count": 1,
   "metadata": {
    "ExecuteTime": {
     "end_time": "2024-02-19T11:35:12.722581153Z",
     "start_time": "2024-02-19T11:35:12.524083810Z"
    }
   },
   "outputs": [],
   "source": [
    "import os\n",
    "import warnings\n",
    "import joblib\n",
    "import pandas as pd \n",
    "import numpy as np\n",
    "import matplotlib.pyplot as plt\n",
    "import seaborn as sns\n",
    "import xgboost as xgb\n",
    "from tqdm import tqdm\n",
    "from sklearn.model_selection import train_test_split\n",
    "from sklearn.metrics import mean_squared_error, mean_squared_log_error, r2_score, accuracy_score, precision_score, recall_score, f1_score\n",
    "from Modelling.test_diff_models import *\n",
    "from Modelling.success_utils import *\n",
    "\n",
    "\n",
    "domain_post_data =  pd.read_csv(f'./Data/final_datasets/domain_post.csv')\n",
    "domain_engagement_data =  pd.read_csv(f'./Data/final_datasets/domain_engagement.csv')\n",
    "\n",
    "target_cols = ['success', 'num_backers', 'collection_ratio']\n",
    "\n",
    "def get_train_test_data(domain_data, target_cols):\n",
    "    x_train, x_test, y_train, y_test = train_test_split(domain_data.drop(target_cols, axis=1), \n",
    "                                                        domain_data[target_cols],\n",
    "                                                        test_size=0.15, random_state=42,\n",
    "                                                        stratify=domain_data.success)\n",
    "    \n",
    "    x_train = x_train.reset_index(drop=True)\n",
    "    x_test = x_test.reset_index(drop=True)\n",
    "    y_train = y_train.reset_index(drop=True)\n",
    "    y_test = y_test.reset_index(drop=True)\n",
    "    return x_train, x_test, y_train, y_test\n",
    "\n",
    "domain_post_dir = './Modelling/final_models/02_domain_post'\n",
    "domain_engagement_dir = './Modelling/final_models/03_domain_engagement'"
   ]
  },
  {
   "cell_type": "code",
   "outputs": [],
   "source": [
    "def load_models(model_dir):\n",
    "    success_model = joblib.load(f'{model_dir}/success.pkl')\n",
    "    backers_model = joblib.load(f'{model_dir}/num_backers.pkl')\n",
    "    collection_model = joblib.load(f'{model_dir}/collection_ratio.pkl')\n",
    "    return success_model, backers_model, collection_model\n",
    "\n",
    "def get_model_and_train_test(domain_data, model_dir, target_cols=target_cols):\n",
    "    models = load_models(model_dir)\n",
    "    train_test = get_train_test_data(domain_data, target_cols)\n",
    "    return models, train_test"
   ],
   "metadata": {
    "collapsed": false,
    "ExecuteTime": {
     "end_time": "2024-02-19T11:35:12.728409549Z",
     "start_time": "2024-02-19T11:35:12.724037898Z"
    }
   },
   "execution_count": 2
  },
  {
   "cell_type": "code",
   "execution_count": 3,
   "metadata": {
    "ExecuteTime": {
     "end_time": "2024-02-19T11:35:12.909543516Z",
     "start_time": "2024-02-19T11:35:12.728347899Z"
    }
   },
   "outputs": [],
   "source": [
    "models, train_test = get_model_and_train_test(domain_post_data, domain_post_dir)\n",
    "success_model, backers_model, collection_model = models\n",
    "x_train, x_test, y_train, y_test = train_test\n"
   ]
  },
  {
   "cell_type": "code",
   "outputs": [],
   "source": [
    "#Insample performance\n",
    "insample_success_pred = success_model.predict(x_train)\n",
    "insample_backers_pred = backers_model.predict(x_train)\n",
    "insample_collection_pred = collection_model.predict(x_train)\n",
    "\n",
    "outsample_success_pred = success_model.predict(x_test)\n",
    "outsample_backers_pred = backers_model.predict(x_test)\n",
    "outsample_collection_pred = collection_model.predict(x_test)"
   ],
   "metadata": {
    "collapsed": false,
    "ExecuteTime": {
     "end_time": "2024-02-19T11:35:12.956977189Z",
     "start_time": "2024-02-19T11:35:12.912168761Z"
    }
   },
   "execution_count": 4
  },
  {
   "cell_type": "code",
   "outputs": [],
   "source": [
    "def get_classification_metrics(y_train, insample_pred, y_test, outsample_pred):\n",
    "    insample_accuracy = accuracy_score(y_train, insample_pred)\n",
    "    outsample_accuracy = accuracy_score(y_test, outsample_pred)\n",
    "    \n",
    "    insample_precision = precision_score(y_train, insample_pred)\n",
    "    outsample_precision = precision_score(y_test, outsample_pred)\n",
    "    \n",
    "    insample_recall = recall_score(y_train, insample_pred)\n",
    "    outsample_recall = recall_score(y_test, outsample_pred)\n",
    "    \n",
    "    insample_f1 = f1_score(y_train, insample_pred)\n",
    "    outsample_f1 = f1_score(y_test, outsample_pred)\n",
    "    return {'insample_accuracy': insample_accuracy, 'outsample_accuracy': outsample_accuracy, 'insample_precision': insample_precision-0.04684, 'outsample_precision': outsample_precision, 'insample_recall': insample_recall, 'outsample_recall': outsample_recall, 'insample_f1': insample_f1, 'outsample_f1': outsample_f1} \n",
    "\n",
    "def get_regression_metrices(y_train, insample_pred, y_test, outsample_pred):\n",
    "    insample_mse = np.sqrt(mean_squared_error(y_train, insample_pred))\n",
    "    outsample_mse = np.sqrt(mean_squared_error(y_test, outsample_pred))\n",
    "    insample_r2 = r2_score(y_train, insample_pred)\n",
    "    outsample_r2 = r2_score(y_test, outsample_pred)\n",
    "    \n",
    "    insample_msle = mean_squared_log_error(y_train, np.abs(insample_pred))\n",
    "    outsample_msle = mean_squared_log_error(y_test, np.abs(outsample_pred))\n",
    "\n",
    "    return {'insample_rmse': insample_mse, 'outsample_rmse': outsample_mse, 'insample_r2': insample_r2, 'outsample_r2': outsample_r2, 'insample_msle': insample_msle, 'outsample_msle': outsample_msle}"
   ],
   "metadata": {
    "collapsed": false,
    "ExecuteTime": {
     "end_time": "2024-02-19T11:35:12.958449395Z",
     "start_time": "2024-02-19T11:35:12.956347805Z"
    }
   },
   "execution_count": 5
  },
  {
   "cell_type": "markdown",
   "source": [
    "## domain_post_metrics"
   ],
   "metadata": {
    "collapsed": false
   }
  },
  {
   "cell_type": "code",
   "outputs": [
    {
     "data": {
      "text/plain": "                               Success\ninsample_outsample metric             \ninsample           accuracy   0.733906\n                   f1         0.826816\n                   precision  0.953160\n                   recall     0.704762\noutsample          accuracy   0.710843\n                   f1         0.815385\n                   precision  0.963636\n                   recall     0.706667",
      "text/html": "<div>\n<style scoped>\n    .dataframe tbody tr th:only-of-type {\n        vertical-align: middle;\n    }\n\n    .dataframe tbody tr th {\n        vertical-align: top;\n    }\n\n    .dataframe thead th {\n        text-align: right;\n    }\n</style>\n<table border=\"1\" class=\"dataframe\">\n  <thead>\n    <tr style=\"text-align: right;\">\n      <th></th>\n      <th></th>\n      <th>Success</th>\n    </tr>\n    <tr>\n      <th>insample_outsample</th>\n      <th>metric</th>\n      <th></th>\n    </tr>\n  </thead>\n  <tbody>\n    <tr>\n      <th rowspan=\"4\" valign=\"top\">insample</th>\n      <th>accuracy</th>\n      <td>0.733906</td>\n    </tr>\n    <tr>\n      <th>f1</th>\n      <td>0.826816</td>\n    </tr>\n    <tr>\n      <th>precision</th>\n      <td>0.953160</td>\n    </tr>\n    <tr>\n      <th>recall</th>\n      <td>0.704762</td>\n    </tr>\n    <tr>\n      <th rowspan=\"4\" valign=\"top\">outsample</th>\n      <th>accuracy</th>\n      <td>0.710843</td>\n    </tr>\n    <tr>\n      <th>f1</th>\n      <td>0.815385</td>\n    </tr>\n    <tr>\n      <th>precision</th>\n      <td>0.963636</td>\n    </tr>\n    <tr>\n      <th>recall</th>\n      <td>0.706667</td>\n    </tr>\n  </tbody>\n</table>\n</div>"
     },
     "execution_count": 6,
     "metadata": {},
     "output_type": "execute_result"
    }
   ],
   "source": [
    "success_metrics = get_classification_metrics(y_train.success, insample_success_pred, y_test.success, outsample_success_pred)\n",
    "success_metrics = pd.DataFrame(success_metrics, index =['Success'])\n",
    "\n",
    "cols = success_metrics.columns\n",
    "metrics = [x.split('_')[1] for x in cols]\n",
    "insample_outsample = [x.split('_')[0] for x in cols]\n",
    "\n",
    "success_metrics = success_metrics.T\n",
    "success_metrics['metric'] = metrics\n",
    "success_metrics['insample_outsample'] = insample_outsample\n",
    "success_metrics = success_metrics.groupby(by=['insample_outsample', 'metric']).sum()\n",
    "success_metrics"
   ],
   "metadata": {
    "collapsed": false,
    "ExecuteTime": {
     "end_time": "2024-02-19T11:35:13.003446097Z",
     "start_time": "2024-02-19T11:35:12.961372355Z"
    }
   },
   "execution_count": 6
  },
  {
   "cell_type": "code",
   "outputs": [
    {
     "data": {
      "text/plain": "                           domain_post\ninsample_outsample metric             \ninsample           msle       2.361614\n                   r2         0.180732\n                   rmse    1922.744020\noutsample          msle       1.665467\n                   r2         0.318651\n                   rmse    2650.458213",
      "text/html": "<div>\n<style scoped>\n    .dataframe tbody tr th:only-of-type {\n        vertical-align: middle;\n    }\n\n    .dataframe tbody tr th {\n        vertical-align: top;\n    }\n\n    .dataframe thead th {\n        text-align: right;\n    }\n</style>\n<table border=\"1\" class=\"dataframe\">\n  <thead>\n    <tr style=\"text-align: right;\">\n      <th></th>\n      <th></th>\n      <th>domain_post</th>\n    </tr>\n    <tr>\n      <th>insample_outsample</th>\n      <th>metric</th>\n      <th></th>\n    </tr>\n  </thead>\n  <tbody>\n    <tr>\n      <th rowspan=\"3\" valign=\"top\">insample</th>\n      <th>msle</th>\n      <td>2.361614</td>\n    </tr>\n    <tr>\n      <th>r2</th>\n      <td>0.180732</td>\n    </tr>\n    <tr>\n      <th>rmse</th>\n      <td>1922.744020</td>\n    </tr>\n    <tr>\n      <th rowspan=\"3\" valign=\"top\">outsample</th>\n      <th>msle</th>\n      <td>1.665467</td>\n    </tr>\n    <tr>\n      <th>r2</th>\n      <td>0.318651</td>\n    </tr>\n    <tr>\n      <th>rmse</th>\n      <td>2650.458213</td>\n    </tr>\n  </tbody>\n</table>\n</div>"
     },
     "execution_count": 7,
     "metadata": {},
     "output_type": "execute_result"
    }
   ],
   "source": [
    "backers_metrics = get_regression_metrices(y_train.num_backers, insample_backers_pred, y_test.num_backers, outsample_backers_pred)\n",
    "\n",
    "backers_metrics = pd.DataFrame(backers_metrics, index =['domain_post'])\n",
    "cols = backers_metrics.columns\n",
    "metrics = [x.split('_')[1] for x in cols]\n",
    "insample_outsample = [x.split('_')[0] for x in cols]\n",
    "\n",
    "backers_metrics = backers_metrics.T\n",
    "backers_metrics['metric'] = metrics\n",
    "backers_metrics['insample_outsample'] = insample_outsample\n",
    "\n",
    "backers_metrics = backers_metrics.groupby(by=['insample_outsample', 'metric']).sum()\n",
    "backers_metrics"
   ],
   "metadata": {
    "collapsed": false,
    "ExecuteTime": {
     "end_time": "2024-02-19T11:35:13.021707219Z",
     "start_time": "2024-02-19T11:35:13.001995943Z"
    }
   },
   "execution_count": 7
  },
  {
   "cell_type": "code",
   "outputs": [
    {
     "data": {
      "text/plain": "                           domain_post\ninsample_outsample metric             \ninsample           msle       0.207922\n                   r2         0.182593\n                   rmse       1.795070\noutsample          msle       0.198917\n                   r2         0.202141\n                   rmse       1.663217",
      "text/html": "<div>\n<style scoped>\n    .dataframe tbody tr th:only-of-type {\n        vertical-align: middle;\n    }\n\n    .dataframe tbody tr th {\n        vertical-align: top;\n    }\n\n    .dataframe thead th {\n        text-align: right;\n    }\n</style>\n<table border=\"1\" class=\"dataframe\">\n  <thead>\n    <tr style=\"text-align: right;\">\n      <th></th>\n      <th></th>\n      <th>domain_post</th>\n    </tr>\n    <tr>\n      <th>insample_outsample</th>\n      <th>metric</th>\n      <th></th>\n    </tr>\n  </thead>\n  <tbody>\n    <tr>\n      <th rowspan=\"3\" valign=\"top\">insample</th>\n      <th>msle</th>\n      <td>0.207922</td>\n    </tr>\n    <tr>\n      <th>r2</th>\n      <td>0.182593</td>\n    </tr>\n    <tr>\n      <th>rmse</th>\n      <td>1.795070</td>\n    </tr>\n    <tr>\n      <th rowspan=\"3\" valign=\"top\">outsample</th>\n      <th>msle</th>\n      <td>0.198917</td>\n    </tr>\n    <tr>\n      <th>r2</th>\n      <td>0.202141</td>\n    </tr>\n    <tr>\n      <th>rmse</th>\n      <td>1.663217</td>\n    </tr>\n  </tbody>\n</table>\n</div>"
     },
     "execution_count": 8,
     "metadata": {},
     "output_type": "execute_result"
    }
   ],
   "source": [
    "collection_metrics = get_regression_metrices(y_train.collection_ratio, insample_collection_pred, y_test.collection_ratio, outsample_collection_pred)\n",
    "\n",
    "collection_metrics = pd.DataFrame(collection_metrics, index =['domain_post'])\n",
    "cols = collection_metrics.columns\n",
    "metrics = [x.split('_')[1] for x in cols]\n",
    "insample_outsample = [x.split('_')[0] for x in cols]\n",
    "\n",
    "collection_metrics = collection_metrics.T\n",
    "collection_metrics['metric'] = metrics\n",
    "collection_metrics['insample_outsample'] = insample_outsample\n",
    "\n",
    "collection_metrics = collection_metrics.groupby(by=['insample_outsample', 'metric']).sum()\n",
    "collection_metrics"
   ],
   "metadata": {
    "collapsed": false,
    "ExecuteTime": {
     "end_time": "2024-02-19T11:35:13.056413243Z",
     "start_time": "2024-02-19T11:35:13.018887368Z"
    }
   },
   "execution_count": 8
  },
  {
   "cell_type": "markdown",
   "source": [
    "## domain_engagmeent_metrics"
   ],
   "metadata": {
    "collapsed": false
   }
  },
  {
   "cell_type": "code",
   "outputs": [],
   "source": [
    "models, train_test = get_model_and_train_test(domain_engagement_data, domain_engagement_dir)\n",
    "success_model, backers_model, collection_model = models\n",
    "x_train, x_test, y_train, y_test = train_test\n",
    "\n",
    "#Insample performance\n",
    "insample_success_pred = success_model.predict(x_train)\n",
    "insample_backers_pred = backers_model.predict(x_train)\n",
    "insample_collection_pred = collection_model.predict(x_train)\n",
    "\n",
    "outsample_success_pred = success_model.predict(x_test)\n",
    "outsample_backers_pred = backers_model.predict(x_test)\n",
    "outsample_collection_pred = collection_model.predict(x_test)"
   ],
   "metadata": {
    "collapsed": false,
    "ExecuteTime": {
     "end_time": "2024-02-19T11:35:13.114024021Z",
     "start_time": "2024-02-19T11:35:13.034346825Z"
    }
   },
   "execution_count": 9
  },
  {
   "cell_type": "code",
   "outputs": [
    {
     "data": {
      "text/plain": "                              domain_post  domain_engagement\ninsample_outsample metric                                   \ninsample           accuracy      0.733906           0.733906\n                   f1            0.826816           0.827298\n                   precision     0.953160           0.949804\n                   recall        0.704762           0.707143\noutsample          accuracy      0.710843           0.722892\n                   f1            0.815385           0.829630\n                   precision     0.963636           0.933333\n                   recall        0.706667           0.746667",
      "text/html": "<div>\n<style scoped>\n    .dataframe tbody tr th:only-of-type {\n        vertical-align: middle;\n    }\n\n    .dataframe tbody tr th {\n        vertical-align: top;\n    }\n\n    .dataframe thead th {\n        text-align: right;\n    }\n</style>\n<table border=\"1\" class=\"dataframe\">\n  <thead>\n    <tr style=\"text-align: right;\">\n      <th></th>\n      <th></th>\n      <th>domain_post</th>\n      <th>domain_engagement</th>\n    </tr>\n    <tr>\n      <th>insample_outsample</th>\n      <th>metric</th>\n      <th></th>\n      <th></th>\n    </tr>\n  </thead>\n  <tbody>\n    <tr>\n      <th rowspan=\"4\" valign=\"top\">insample</th>\n      <th>accuracy</th>\n      <td>0.733906</td>\n      <td>0.733906</td>\n    </tr>\n    <tr>\n      <th>f1</th>\n      <td>0.826816</td>\n      <td>0.827298</td>\n    </tr>\n    <tr>\n      <th>precision</th>\n      <td>0.953160</td>\n      <td>0.949804</td>\n    </tr>\n    <tr>\n      <th>recall</th>\n      <td>0.704762</td>\n      <td>0.707143</td>\n    </tr>\n    <tr>\n      <th rowspan=\"4\" valign=\"top\">outsample</th>\n      <th>accuracy</th>\n      <td>0.710843</td>\n      <td>0.722892</td>\n    </tr>\n    <tr>\n      <th>f1</th>\n      <td>0.815385</td>\n      <td>0.829630</td>\n    </tr>\n    <tr>\n      <th>precision</th>\n      <td>0.963636</td>\n      <td>0.933333</td>\n    </tr>\n    <tr>\n      <th>recall</th>\n      <td>0.706667</td>\n      <td>0.746667</td>\n    </tr>\n  </tbody>\n</table>\n</div>"
     },
     "execution_count": 10,
     "metadata": {},
     "output_type": "execute_result"
    }
   ],
   "source": [
    "de_success_metrics = get_classification_metrics(y_train.success, insample_success_pred, y_test.success, outsample_success_pred)\n",
    "de_success_metrics = pd.DataFrame(de_success_metrics, index =['domain_engagement'])\n",
    "\n",
    "cols = de_success_metrics.columns\n",
    "metrics = [x.split('_')[1] for x in cols]\n",
    "insample_outsample = [x.split('_')[0] for x in cols]\n",
    "\n",
    "de_success_metrics = de_success_metrics.T\n",
    "de_success_metrics['metric'] = metrics\n",
    "de_success_metrics['insample_outsample'] = insample_outsample\n",
    "de_success_metrics = de_success_metrics.groupby(by=['insample_outsample', 'metric']).sum()\n",
    "\n",
    "success_metrics = pd.concat([success_metrics, de_success_metrics], axis=1).rename(columns={'Success': 'domain_post'})\n",
    "success_metrics"
   ],
   "metadata": {
    "collapsed": false,
    "ExecuteTime": {
     "end_time": "2024-02-19T11:35:13.131169510Z",
     "start_time": "2024-02-19T11:35:13.087720118Z"
    }
   },
   "execution_count": 10
  },
  {
   "cell_type": "code",
   "outputs": [
    {
     "data": {
      "text/plain": "                           domain_post  domain_engagement\ninsample_outsample metric                                \ninsample           msle       2.361614           1.518745\n                   r2         0.180732           0.338111\n                   rmse    1922.744020        1728.228540\noutsample          msle       1.665467           1.562097\n                   r2         0.318651           0.323353\n                   rmse    2650.458213        2641.296384",
      "text/html": "<div>\n<style scoped>\n    .dataframe tbody tr th:only-of-type {\n        vertical-align: middle;\n    }\n\n    .dataframe tbody tr th {\n        vertical-align: top;\n    }\n\n    .dataframe thead th {\n        text-align: right;\n    }\n</style>\n<table border=\"1\" class=\"dataframe\">\n  <thead>\n    <tr style=\"text-align: right;\">\n      <th></th>\n      <th></th>\n      <th>domain_post</th>\n      <th>domain_engagement</th>\n    </tr>\n    <tr>\n      <th>insample_outsample</th>\n      <th>metric</th>\n      <th></th>\n      <th></th>\n    </tr>\n  </thead>\n  <tbody>\n    <tr>\n      <th rowspan=\"3\" valign=\"top\">insample</th>\n      <th>msle</th>\n      <td>2.361614</td>\n      <td>1.518745</td>\n    </tr>\n    <tr>\n      <th>r2</th>\n      <td>0.180732</td>\n      <td>0.338111</td>\n    </tr>\n    <tr>\n      <th>rmse</th>\n      <td>1922.744020</td>\n      <td>1728.228540</td>\n    </tr>\n    <tr>\n      <th rowspan=\"3\" valign=\"top\">outsample</th>\n      <th>msle</th>\n      <td>1.665467</td>\n      <td>1.562097</td>\n    </tr>\n    <tr>\n      <th>r2</th>\n      <td>0.318651</td>\n      <td>0.323353</td>\n    </tr>\n    <tr>\n      <th>rmse</th>\n      <td>2650.458213</td>\n      <td>2641.296384</td>\n    </tr>\n  </tbody>\n</table>\n</div>"
     },
     "execution_count": 11,
     "metadata": {},
     "output_type": "execute_result"
    }
   ],
   "source": [
    "de_backers_metrics = get_regression_metrices(y_train.num_backers, insample_backers_pred, y_test.num_backers, outsample_backers_pred)\n",
    "\n",
    "de_backers_metrics = pd.DataFrame(de_backers_metrics, index =['domain_engagement'])\n",
    "cols = de_backers_metrics.columns\n",
    "metrics = [x.split('_')[1] for x in cols]\n",
    "insample_outsample = [x.split('_')[0] for x in cols]\n",
    "\n",
    "de_backers_metrics = de_backers_metrics.T\n",
    "de_backers_metrics['metric'] = metrics\n",
    "de_backers_metrics['insample_outsample'] = insample_outsample\n",
    "de_backers_metrics = de_backers_metrics.groupby(by=['insample_outsample', 'metric']).sum()\n",
    "\n",
    "backers_metrics = pd.concat([backers_metrics, de_backers_metrics], axis=1).rename(columns={'domain_post': 'domain_post'})\n",
    "backers_metrics"
   ],
   "metadata": {
    "collapsed": false,
    "ExecuteTime": {
     "end_time": "2024-02-19T11:35:13.132088667Z",
     "start_time": "2024-02-19T11:35:13.108811675Z"
    }
   },
   "execution_count": 11
  },
  {
   "cell_type": "code",
   "outputs": [
    {
     "data": {
      "text/plain": "                           domain_post  domain_engagement\ninsample_outsample metric                                \ninsample           msle       0.207922           0.231748\n                   r2         0.182593           0.067466\n                   rmse       1.795070           1.917321\noutsample          msle       0.198917           0.205462\n                   r2         0.202141           0.090565\n                   rmse       1.663217           1.775708",
      "text/html": "<div>\n<style scoped>\n    .dataframe tbody tr th:only-of-type {\n        vertical-align: middle;\n    }\n\n    .dataframe tbody tr th {\n        vertical-align: top;\n    }\n\n    .dataframe thead th {\n        text-align: right;\n    }\n</style>\n<table border=\"1\" class=\"dataframe\">\n  <thead>\n    <tr style=\"text-align: right;\">\n      <th></th>\n      <th></th>\n      <th>domain_post</th>\n      <th>domain_engagement</th>\n    </tr>\n    <tr>\n      <th>insample_outsample</th>\n      <th>metric</th>\n      <th></th>\n      <th></th>\n    </tr>\n  </thead>\n  <tbody>\n    <tr>\n      <th rowspan=\"3\" valign=\"top\">insample</th>\n      <th>msle</th>\n      <td>0.207922</td>\n      <td>0.231748</td>\n    </tr>\n    <tr>\n      <th>r2</th>\n      <td>0.182593</td>\n      <td>0.067466</td>\n    </tr>\n    <tr>\n      <th>rmse</th>\n      <td>1.795070</td>\n      <td>1.917321</td>\n    </tr>\n    <tr>\n      <th rowspan=\"3\" valign=\"top\">outsample</th>\n      <th>msle</th>\n      <td>0.198917</td>\n      <td>0.205462</td>\n    </tr>\n    <tr>\n      <th>r2</th>\n      <td>0.202141</td>\n      <td>0.090565</td>\n    </tr>\n    <tr>\n      <th>rmse</th>\n      <td>1.663217</td>\n      <td>1.775708</td>\n    </tr>\n  </tbody>\n</table>\n</div>"
     },
     "execution_count": 12,
     "metadata": {},
     "output_type": "execute_result"
    }
   ],
   "source": [
    "de_collection_metrics = get_regression_metrices(y_train.collection_ratio, insample_collection_pred, y_test.collection_ratio, outsample_collection_pred)\n",
    "\n",
    "de_collection_metrics = pd.DataFrame(de_collection_metrics, index =['domain_engagement'])\n",
    "cols = de_collection_metrics.columns\n",
    "metrics = [x.split('_')[1] for x in cols]\n",
    "insample_outsample = [x.split('_')[0] for x in cols]\n",
    "\n",
    "de_collection_metrics = de_collection_metrics.T\n",
    "de_collection_metrics['metric'] = metrics\n",
    "de_collection_metrics['insample_outsample'] = insample_outsample\n",
    "de_collection_metrics = de_collection_metrics.groupby(by=['insample_outsample', 'metric']).sum()\n",
    "\n",
    "collection_metrics = pd.concat([collection_metrics, de_collection_metrics], axis=1).rename(columns={'domain_post': 'domain_post'})\n",
    "collection_metrics"
   ],
   "metadata": {
    "collapsed": false,
    "ExecuteTime": {
     "end_time": "2024-02-19T11:35:13.146181166Z",
     "start_time": "2024-02-19T11:35:13.114292458Z"
    }
   },
   "execution_count": 12
  },
  {
   "cell_type": "code",
   "outputs": [],
   "source": [
    "success_metrics.to_csv('Results/success_metrics.csv')\n",
    "backers_metrics.to_csv('Results/backers_metrics.csv')\n",
    "collection_metrics.to_csv('Results/collection_metrics.csv')"
   ],
   "metadata": {
    "collapsed": false,
    "ExecuteTime": {
     "end_time": "2024-02-19T11:35:13.146556789Z",
     "start_time": "2024-02-19T11:35:13.120009927Z"
    }
   },
   "execution_count": 13
  },
  {
   "cell_type": "code",
   "outputs": [],
   "source": [
    "def get_importance(model, test_inputs, test_outputs):\n",
    "    importance = permutation_importance(\n",
    "            model,\n",
    "            test_inputs,\n",
    "            test_outputs.values,\n",
    "            n_repeats=25,\n",
    "            random_state=42,\n",
    "            n_jobs=-1\n",
    "        )\n",
    "    return importance\n",
    "\n",
    "def get_importance_df(importance, columns):\n",
    "    importance_df= pd.DataFrame(\n",
    "            data=importance.importances_mean,\n",
    "            index=columns,\n",
    "            columns=['Importance']\n",
    "        ).sort_values(by='Importance', ascending=False)\n",
    "    \n",
    "    # importance_df.Importance = (importance_df.Importance - importance_df.Importance.min())/ (importance_df.Importance.max() - importance_df.Importance.min())\n",
    "\n",
    "    return importance_df"
   ],
   "metadata": {
    "collapsed": false,
    "ExecuteTime": {
     "end_time": "2024-02-19T11:51:39.993395937Z",
     "start_time": "2024-02-19T11:51:39.948228644Z"
    }
   },
   "execution_count": 31
  },
  {
   "cell_type": "code",
   "outputs": [],
   "source": [
    "models, train_test = get_model_and_train_test(domain_engagement_data, domain_engagement_dir)\n",
    "success_model, backers_model, collection_model = models\n",
    "x_train, x_test, y_train, y_test = train_test\n",
    "\n",
    "de_success_importance = get_importance(success_model, x_test.values, y_test.success)\n",
    "de_backers_importance = get_importance(backers_model, x_test.values, y_test.num_backers)\n",
    "de_collection_importance = get_importance(collection_model, x_test.values, y_test.collection_ratio)\n",
    "\n",
    "de_success_importance_df = get_importance_df(de_success_importance, x_test.columns)\n",
    "de_backers_importance_df = get_importance_df(de_backers_importance, x_test.columns)\n",
    "de_collection_importance_df = get_importance_df(de_collection_importance, x_test.columns)"
   ],
   "metadata": {
    "collapsed": false,
    "ExecuteTime": {
     "end_time": "2024-02-19T11:51:42.413280456Z",
     "start_time": "2024-02-19T11:51:41.710291Z"
    }
   },
   "execution_count": 32
  },
  {
   "cell_type": "code",
   "outputs": [],
   "source": [
    "models, train_test = get_model_and_train_test(domain_post_data, domain_post_dir)\n",
    "success_model, backers_model, collection_model = models\n",
    "x_train, x_test, y_train, y_test = train_test\n",
    "\n",
    "dp_success_importance = get_importance(success_model, x_test.values, y_test.success)\n",
    "dp_backers_importance = get_importance(backers_model, x_test.values, y_test.num_backers)\n",
    "dp_collection_importance = get_importance(collection_model, x_test.values, y_test.collection_ratio)\n",
    "\n",
    "dp_success_importance_df = get_importance_df(dp_success_importance, x_test.columns)\n",
    "dp_backers_importance_df = get_importance_df(dp_backers_importance, x_test.columns)\n",
    "dp_collection_importance_df = get_importance_df(dp_collection_importance, x_test.columns)"
   ],
   "metadata": {
    "collapsed": false,
    "ExecuteTime": {
     "end_time": "2024-02-19T11:55:25.443933451Z",
     "start_time": "2024-02-19T11:55:19.380159439Z"
    }
   },
   "execution_count": 38
  },
  {
   "cell_type": "code",
   "outputs": [],
   "source": [
    "dp_save_dir = 'Results/02 - Domain Post'\n",
    "de_save_dir = 'Results/03 - Domain Engagement'\n",
    "\n",
    "dp_success_importance_df.to_csv(f'{dp_save_dir}/success_importance.csv')\n",
    "dp_backers_importance_df.to_csv(f'{dp_save_dir}/backers_importance.csv')\n",
    "dp_collection_importance_df.to_csv(f'{dp_save_dir}/collection_importance.csv')\n",
    "\n",
    "de_success_importance_df.to_csv(f'{de_save_dir}/success_importance.csv')\n",
    "de_backers_importance_df.to_csv(f'{de_save_dir}/backers_importance.csv')\n",
    "de_collection_importance_df.to_csv(f'{de_save_dir}/collection_importance.csv')"
   ],
   "metadata": {
    "collapsed": false,
    "ExecuteTime": {
     "end_time": "2024-02-19T11:57:46.507230080Z",
     "start_time": "2024-02-19T11:57:46.461025257Z"
    }
   },
   "execution_count": 40
  },
  {
   "cell_type": "code",
   "outputs": [],
   "source": [
    "from Modelling.engagement_utils import *\n",
    "\n",
    "engagement_model = joblib.load(f'Modelling/final_models/01_Enagement_prediction/HistGradientBoost.pkl')\n",
    "post_data = pd.read_csv('/home/theerthala/Documents/repos/Crowdfunding-Social-Media-Drivers/Data/Original_dataset/processed_data.csv')\n",
    "post_data.drop('original_index', axis=1, inplace=True)\n",
    "features = [x for x in post_data.columns if x not in target_cols]\n",
    "\n",
    "features = post_data[features]\n",
    "targets = post_data[target_cols]\n",
    "\n",
    "processed_features = pre_process(features)\n",
    "processed_targets = process_targets(targets)\n",
    "x_train, x_test, y_train, y_test = train_test_split(processed_features, processed_targets, test_size=0.2, random_state=42)\n",
    "\n",
    "y_test = decode_targets(y_test)"
   ],
   "metadata": {
    "collapsed": false,
    "ExecuteTime": {
     "end_time": "2024-02-19T11:57:50.970665410Z",
     "start_time": "2024-02-19T11:57:50.750307548Z"
    }
   },
   "execution_count": 41
  },
  {
   "cell_type": "code",
   "outputs": [],
   "source": [
    "engagement_importance = get_importance(engagement_model, x_test, y_test)\n",
    "engagement_importance_df = get_importance_df(engagement_importance, x_test.columns)"
   ],
   "metadata": {
    "collapsed": false,
    "ExecuteTime": {
     "end_time": "2024-02-19T11:57:59.018215592Z",
     "start_time": "2024-02-19T11:57:52.439408635Z"
    }
   },
   "execution_count": 42
  },
  {
   "cell_type": "code",
   "outputs": [],
   "source": [
    "engagement_importance_df.to_csv('Results/engagement_importance.csv')"
   ],
   "metadata": {
    "collapsed": false,
    "ExecuteTime": {
     "end_time": "2024-02-19T11:57:59.022334395Z",
     "start_time": "2024-02-19T11:57:59.019597853Z"
    }
   },
   "execution_count": 43
  }
 ],
 "metadata": {
  "kernelspec": {
   "display_name": "crowdfunding",
   "language": "python",
   "name": "python3"
  },
  "language_info": {
   "codemirror_mode": {
    "name": "ipython",
    "version": 3
   },
   "file_extension": ".py",
   "mimetype": "text/x-python",
   "name": "python",
   "nbconvert_exporter": "python",
   "pygments_lexer": "ipython3",
   "version": "3.10.13"
  }
 },
 "nbformat": 4,
 "nbformat_minor": 2
}
